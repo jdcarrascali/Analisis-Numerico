{
  "nbformat": 4,
  "nbformat_minor": 0,
  "metadata": {
    "colab": {
      "provenance": [],
      "include_colab_link": true
    },
    "kernelspec": {
      "name": "python3",
      "display_name": "Python 3"
    },
    "language_info": {
      "name": "python"
    }
  },
  "cells": [
    {
      "cell_type": "markdown",
      "metadata": {
        "id": "view-in-github",
        "colab_type": "text"
      },
      "source": [
        "<a href=\"https://colab.research.google.com/github/jdcarrascali/Numerical-Analysis/blob/main/Sistemas_ecuaciones.ipynb\" target=\"_parent\"><img src=\"https://colab.research.google.com/assets/colab-badge.svg\" alt=\"Open In Colab\"/></a>"
      ]
    },
    {
      "cell_type": "markdown",
      "metadata": {
        "id": "xpYVGLKCEsoc"
      },
      "source": [
        "## Prerequisitos\n",
        "Usarememos numpy y linalg de scipy (que incluye mucho de numpy.linalg)"
      ]
    },
    {
      "cell_type": "code",
      "metadata": {
        "id": "96Iru7rGEgfh"
      },
      "source": [
        "import matplotlib.pyplot as plt\n",
        "import numpy as np\n",
        "import scipy.linalg as la\n",
        "import scipy.io as io\n",
        "import scipy.sparse as sp\n",
        "np.set_printoptions(formatter={'float': '{: 0.4f}'.format})\n",
        "import pprint\n",
        "import urllib.request"
      ],
      "execution_count": null,
      "outputs": []
    },
    {
      "cell_type": "markdown",
      "metadata": {
        "id": "TTdPrYh2Fawu"
      },
      "source": [
        " **scipy.linalg**  contiene todas las funciones de **numpy.linalg** y algunas otras. **scipy.linalg** usa BLAS/LAPACK por defecto. Se aconseja\n",
        "usar **scipy.linalg** a menos que se tenga una razón de peso para no hacerlo.\n"
      ]
    },
    {
      "cell_type": "markdown",
      "metadata": {
        "id": "hf2Hzz92_3Ni"
      },
      "source": [
        "## Métodos directos\n",
        "Presentamos algunos comandos relacionados con la solución de sistemas lineales por métodos directos."
      ]
    },
    {
      "cell_type": "markdown",
      "metadata": {
        "id": "-alj3AwHLFqQ"
      },
      "source": [
        "### Normas"
      ]
    },
    {
      "cell_type": "code",
      "source": [
        "x=np.array([1,2,3,-4])\n",
        "la.norm(x,1)"
      ],
      "metadata": {
        "colab": {
          "base_uri": "https://localhost:8080/"
        },
        "id": "bHqq68Y7Oxup",
        "outputId": "b70be4ce-01ed-4c0b-fdf3-f930e66279c2"
      },
      "execution_count": null,
      "outputs": [
        {
          "output_type": "execute_result",
          "data": {
            "text/plain": [
              "10.0"
            ]
          },
          "metadata": {},
          "execution_count": 2
        }
      ]
    },
    {
      "cell_type": "code",
      "source": [
        "la.norm(x,2) #Euclidiana"
      ],
      "metadata": {
        "colab": {
          "base_uri": "https://localhost:8080/"
        },
        "id": "5zfQyX0yRcbh",
        "outputId": "c504a967-2f30-476d-9387-b998cd7495f5"
      },
      "execution_count": null,
      "outputs": [
        {
          "output_type": "execute_result",
          "data": {
            "text/plain": [
              "5.477225575051661"
            ]
          },
          "metadata": {},
          "execution_count": 25
        }
      ]
    },
    {
      "cell_type": "code",
      "source": [
        "la.norm(x,np.Inf)"
      ],
      "metadata": {
        "colab": {
          "base_uri": "https://localhost:8080/"
        },
        "id": "H7wE5B5mRkkX",
        "outputId": "af238a64-7d99-41d2-fe7c-f40dd9ef74d0"
      },
      "execution_count": null,
      "outputs": [
        {
          "output_type": "execute_result",
          "data": {
            "text/plain": [
              "4.0"
            ]
          },
          "metadata": {},
          "execution_count": 26
        }
      ]
    },
    {
      "cell_type": "code",
      "metadata": {
        "colab": {
          "base_uri": "https://localhost:8080/"
        },
        "id": "W7TxbVj1LJNb",
        "outputId": "48475c8e-cce1-4d48-b929-dada66b83ed6"
      },
      "source": [
        "A=np.array([[0, 0, 1],\n",
        "       [-1,  2,  2],\n",
        "       [ 1, 2,  1]])\n",
        "print(A)\n",
        "print('La norma  2 de la matrix extendida a vector  es = ',la.norm(A)) #máximo valor singular\n",
        "print('La norma de Frobenious es = ',la.norm(A,'fro')) # Frobenius\n",
        "print('La norma subordinada 1 es = ',la.norm(A,1))\n",
        "print('La norma subordinada 2 es = ', la.norm(A,2))\n",
        "print('La norma subordinada Inf es = ', la.norm(A,np.Inf))"
      ],
      "execution_count": null,
      "outputs": [
        {
          "output_type": "stream",
          "name": "stdout",
          "text": [
            "[[ 0  0  1]\n",
            " [-1  2  2]\n",
            " [ 1  2  1]]\n",
            "La norma  2 de la matrix extendida a vector  es =  4.0\n",
            "La norma de Frobenious es =  4.0\n",
            "La norma subordinada 1 es =  4.0\n",
            "La norma subordinada 2 es =  3.622222345931449\n",
            "La norma subordinada Inf es =  5.0\n"
          ]
        }
      ]
    },
    {
      "cell_type": "markdown",
      "metadata": {
        "id": "WeqXAN6rE5B1"
      },
      "source": [
        "### Factorización $A=PLU$ y Cholesky"
      ]
    },
    {
      "cell_type": "markdown",
      "metadata": {
        "id": "Q84YMaKV9qZ6"
      },
      "source": [
        "Calculemos la factorización $A=PLU$ de una matriz $4\\times 4$."
      ]
    },
    {
      "cell_type": "code",
      "metadata": {
        "colab": {
          "base_uri": "https://localhost:8080/"
        },
        "id": "7JbMg460E99G",
        "outputId": "07bbd542-49ac-430d-93e6-95aa363425a8"
      },
      "source": [
        "A = np.array([[2, 5, 8, 7], [5, 2, 2, 8], [7, 5, 6, 6], [5, 4, 4, 8]])\n",
        "p, l, u = la.lu(A)\n",
        "print('Matriz de permutación:\\n',p,'\\n')\n",
        "print('Matriz triangular inferior\\n',l,'\\n')\n",
        "print('Matriz triangular superior\\n',u,'\\n')"
      ],
      "execution_count": null,
      "outputs": [
        {
          "output_type": "stream",
          "name": "stdout",
          "text": [
            "Matriz de permutación:\n",
            " [[ 0.0000  1.0000  0.0000  0.0000]\n",
            " [ 0.0000  0.0000  0.0000  1.0000]\n",
            " [ 1.0000  0.0000  0.0000  0.0000]\n",
            " [ 0.0000  0.0000  1.0000  0.0000]] \n",
            "\n",
            "Matriz triangular inferior\n",
            " [[ 1.0000  0.0000  0.0000  0.0000]\n",
            " [ 0.2857  1.0000  0.0000  0.0000]\n",
            " [ 0.7143  0.1200  1.0000  0.0000]\n",
            " [ 0.7143 -0.4400 -0.4615  1.0000]] \n",
            "\n",
            "Matriz triangular superior\n",
            " [[ 7.0000  5.0000  6.0000  6.0000]\n",
            " [ 0.0000  3.5714  6.2857  5.2857]\n",
            " [ 0.0000  0.0000 -1.0400  3.0800]\n",
            " [ 0.0000  0.0000  0.0000  7.4615]] \n",
            "\n"
          ]
        }
      ]
    },
    {
      "cell_type": "markdown",
      "metadata": {
        "id": "bCqKO0YT-Ovo"
      },
      "source": [
        "Ahora calculemos la factorización para la matriz de Hilbert."
      ]
    },
    {
      "cell_type": "code",
      "metadata": {
        "colab": {
          "base_uri": "https://localhost:8080/"
        },
        "id": "a7sBO26YGfmj",
        "outputId": "0a3c3d54-fd3f-4951-d0b8-312c2fae6efd"
      },
      "source": [
        "H=la.hilbert(9)\n",
        "print('H=\\n',H)"
      ],
      "execution_count": null,
      "outputs": [
        {
          "output_type": "stream",
          "name": "stdout",
          "text": [
            "H=\n",
            " [[ 1.0000  0.5000  0.3333  0.2500  0.2000  0.1667  0.1429  0.1250  0.1111]\n",
            " [ 0.5000  0.3333  0.2500  0.2000  0.1667  0.1429  0.1250  0.1111  0.1000]\n",
            " [ 0.3333  0.2500  0.2000  0.1667  0.1429  0.1250  0.1111  0.1000  0.0909]\n",
            " [ 0.2500  0.2000  0.1667  0.1429  0.1250  0.1111  0.1000  0.0909  0.0833]\n",
            " [ 0.2000  0.1667  0.1429  0.1250  0.1111  0.1000  0.0909  0.0833  0.0769]\n",
            " [ 0.1667  0.1429  0.1250  0.1111  0.1000  0.0909  0.0833  0.0769  0.0714]\n",
            " [ 0.1429  0.1250  0.1111  0.1000  0.0909  0.0833  0.0769  0.0714  0.0667]\n",
            " [ 0.1250  0.1111  0.1000  0.0909  0.0833  0.0769  0.0714  0.0667  0.0625]\n",
            " [ 0.1111  0.1000  0.0909  0.0833  0.0769  0.0714  0.0667  0.0625  0.0588]]\n"
          ]
        }
      ]
    },
    {
      "cell_type": "code",
      "metadata": {
        "colab": {
          "base_uri": "https://localhost:8080/"
        },
        "id": "_usuSB5dHjp2",
        "outputId": "9ad30003-355b-4b4c-992b-70cc302a0bd2"
      },
      "source": [
        "p, l, u = la.lu(H)\n",
        "res=H-p@l@u\n",
        "print('pA-LU=\\n',res)\n",
        "print('La norma Inf del residuo es ',la.norm(res,np.Inf))\n",
        "print('La norma 2 del residuo es ', la.norm(res,2))"
      ],
      "execution_count": null,
      "outputs": [
        {
          "output_type": "stream",
          "name": "stdout",
          "text": [
            "pA-LU=\n",
            " [[ 0.0000  0.0000  0.0000  0.0000  0.0000  0.0000  0.0000  0.0000  0.0000]\n",
            " [ 0.0000  0.0000  0.0000  0.0000  0.0000 -0.0000  0.0000  0.0000 -0.0000]\n",
            " [ 0.0000  0.0000  0.0000  0.0000  0.0000  0.0000  0.0000  0.0000  0.0000]\n",
            " [ 0.0000  0.0000 -0.0000  0.0000  0.0000 -0.0000  0.0000 -0.0000  0.0000]\n",
            " [ 0.0000  0.0000  0.0000  0.0000  0.0000  0.0000  0.0000  0.0000  0.0000]\n",
            " [ 0.0000  0.0000  0.0000  0.0000  0.0000  0.0000  0.0000  0.0000  0.0000]\n",
            " [ 0.0000  0.0000  0.0000  0.0000  0.0000  0.0000  0.0000 -0.0000  0.0000]\n",
            " [ 0.0000  0.0000 -0.0000  0.0000 -0.0000  0.0000  0.0000  0.0000  0.0000]\n",
            " [ 0.0000  0.0000  0.0000  0.0000  0.0000  0.0000  0.0000  0.0000 -0.0000]]\n",
            "La norma Inf del residuo es  5.551115123125783e-17\n",
            "La norma 2 del residuo es  4.3091695835249104e-17\n"
          ]
        }
      ]
    },
    {
      "cell_type": "markdown",
      "metadata": {
        "id": "b4xUEDnzOygd"
      },
      "source": [
        "Calculemos la permutación de la factorización $A=PLU$ para una matriz diagonal dominante."
      ]
    },
    {
      "cell_type": "code",
      "metadata": {
        "id": "pRrx8ByPIKVn",
        "colab": {
          "base_uri": "https://localhost:8080/"
        },
        "outputId": "584b85e6-2902-4633-eb70-7355e5034050"
      },
      "source": [
        "A = np.array([[5, -1, 2, -1], [-1, 5, 0, 1], [0, -1, 4, 2], [1, 1, 1, 5]])\n",
        "p, l, u = la.lu(A)\n",
        "print(p)"
      ],
      "execution_count": null,
      "outputs": [
        {
          "output_type": "stream",
          "name": "stdout",
          "text": [
            "[[ 1.0000  0.0000  0.0000  0.0000]\n",
            " [ 0.0000  1.0000  0.0000  0.0000]\n",
            " [ 0.0000  0.0000  1.0000  0.0000]\n",
            " [ 0.0000  0.0000  0.0000  1.0000]]\n"
          ]
        }
      ]
    },
    {
      "cell_type": "markdown",
      "metadata": {
        "id": "J9OS-PF3_Kgp"
      },
      "source": [
        "Calculemos ahora la factorización de Cholesky de una matri de la forma $A^TA$ con $A$ aleatoria."
      ]
    },
    {
      "cell_type": "code",
      "metadata": {
        "colab": {
          "base_uri": "https://localhost:8080/"
        },
        "id": "ejshwODcOuYF",
        "outputId": "d7b77640-ce63-4788-e130-dbea5a909192"
      },
      "source": [
        "A=np.random.rand(4,4)\n",
        "B=A.transpose()@A\n",
        "r=la.cholesky(B)\n",
        "print(r)"
      ],
      "execution_count": null,
      "outputs": [
        {
          "output_type": "stream",
          "name": "stdout",
          "text": [
            "[[ 1.3744  1.1409  1.3500  0.9764]\n",
            " [ 0.0000  0.1760  0.1104  0.0251]\n",
            " [ 0.0000  0.0000  0.1187 -0.0531]\n",
            " [ 0.0000  0.0000  0.0000  0.4343]]\n"
          ]
        }
      ]
    },
    {
      "cell_type": "markdown",
      "metadata": {
        "id": "lRFppWvXQrym"
      },
      "source": [
        "### Sistemas lineales"
      ]
    },
    {
      "cell_type": "markdown",
      "metadata": {
        "id": "c-W953fD_WcZ"
      },
      "source": [
        "Resolver un sistema lineal general."
      ]
    },
    {
      "cell_type": "code",
      "metadata": {
        "colab": {
          "base_uri": "https://localhost:8080/"
        },
        "id": "bzSP0QJ_QtPl",
        "outputId": "8c344942-dc94-4a4a-9517-f82d0a296b93"
      },
      "source": [
        "A = np.array([[3, 2, 0], [1, -1, 0], [0, 5, 1]])\n",
        "b = np.array([2, 4, -1])\n",
        "x = la.solve(A, b)\n",
        "res=b-A@x\n",
        "print('x=',x.transpose())\n",
        "print('res=',la.norm(res))\n"
      ],
      "execution_count": null,
      "outputs": [
        {
          "output_type": "stream",
          "name": "stdout",
          "text": [
            "x= [ 2.0000 -2.0000  9.0000]\n",
            "res= 0.0\n"
          ]
        }
      ]
    },
    {
      "cell_type": "markdown",
      "metadata": {
        "id": "GnBnFCc1_bF0"
      },
      "source": [
        "Otro sistema lineal con una matriz mal condicionada es el siguiente."
      ]
    },
    {
      "cell_type": "code",
      "metadata": {
        "colab": {
          "base_uri": "https://localhost:8080/"
        },
        "id": "L0nQcGXxQ2mm",
        "outputId": "6348b1cf-4575-44c7-887a-873b96f13950"
      },
      "source": [
        "A=la.hilbert(15)\n",
        "b=np.ones([15,1])\n",
        "x=la.solve(A,b)\n",
        "res=b-A@x\n",
        "la.norm(res)"
      ],
      "execution_count": null,
      "outputs": [
        {
          "output_type": "stream",
          "name": "stderr",
          "text": [
            "/usr/local/lib/python3.7/dist-packages/ipykernel_launcher.py:3: LinAlgWarning: Ill-conditioned matrix (rcond=8.18724e-19): result may not be accurate.\n",
            "  This is separate from the ipykernel package so we can avoid doing imports until\n"
          ]
        },
        {
          "output_type": "execute_result",
          "data": {
            "text/plain": [
              "1.8515526644951704e-08"
            ]
          },
          "metadata": {},
          "execution_count": 33
        }
      ]
    },
    {
      "cell_type": "markdown",
      "metadata": {
        "id": "-UJTq-m5Ssoj"
      },
      "source": [
        "Recuerde que $rcond=8.18724e-19$ es un estimado del recíproco del número de condición de la matriz del sistema lineal. En esta caso\n",
        "$\\kappa(A)\\approx 10^{19}$. Tenemos un residuo del orden de $1.85\\times 10^{-8}."
      ]
    },
    {
      "cell_type": "code",
      "source": [
        "A = np.array([[2.0,1.0],[5.0,7.0]])\n",
        "print(A)\n",
        "print(\"\\n\", A[0])\n",
        "x=np.zeros(len(A[0]))\n",
        "print(\"\\n\", x)\n",
        "D = np.diag([3,2,6])\n",
        "print(\"\\n\", D)"
      ],
      "metadata": {
        "colab": {
          "base_uri": "https://localhost:8080/"
        },
        "id": "Sb18kzAi3VaW",
        "outputId": "72aede84-683e-4d77-8f56-8c8a973b5e75"
      },
      "execution_count": null,
      "outputs": [
        {
          "output_type": "stream",
          "name": "stdout",
          "text": [
            "[[ 2.0000  1.0000]\n",
            " [ 5.0000  7.0000]]\n",
            "\n",
            " [ 2.0000  1.0000]\n",
            "\n",
            " [ 0.0000  0.0000]\n",
            "\n",
            " [[3 0 0]\n",
            " [0 2 0]\n",
            " [0 0 6]]\n"
          ]
        }
      ]
    },
    {
      "cell_type": "markdown",
      "metadata": {
        "id": "5xVNvY8OAArC"
      },
      "source": [
        "##Iteraciones"
      ]
    },
    {
      "cell_type": "code",
      "metadata": {
        "id": "vXLB7R_xDzFj",
        "colab": {
          "base_uri": "https://localhost:8080/"
        },
        "outputId": "4dadab78-002d-4acf-9a67-b30ad4bb8ccf"
      },
      "source": [
        "def jacobisolver(A,b,tol,Maxiter=25,x=None):\n",
        "    # x inicial en caso no se tenga\n",
        "    if x is None:\n",
        "        x = zeros(len(A[0]))\n",
        "    #A=D-L-U y R=A-D=-L-U;\n",
        "    D = np.diag(np.diag(A))\n",
        "\n",
        "    #Iteration\n",
        "    for i in range(Maxiter):\n",
        "        r=b-np.dot(A,x)\n",
        "        nr=la.norm(r)\n",
        "        print('norm(r(',i,'))=',nr)\n",
        "        if nr<tol:\n",
        "          break\n",
        "        delta=la.solve(D, r)\n",
        "        x = x+delta\n",
        "    return x\n",
        "\n",
        "A = np.array([[2.0,1.0],[5.0,7.0]])\n",
        "b = np.array([11.0,13.0])\n",
        "guess = np.array([1.0,1.0])\n",
        "\n",
        "sol = jacobisolver(A,b,0.00001,Maxiter=100,x=guess)\n",
        "\n",
        "print(\"A:\")\n",
        "print(A)\n",
        "\n",
        "print(\"b:\")\n",
        "print(b)\n",
        "\n",
        "print (\"x:\")\n",
        "print(sol)"
      ],
      "execution_count": null,
      "outputs": [
        {
          "output_type": "stream",
          "name": "stdout",
          "text": [
            "norm(r( 0 ))= 8.06225774829855\n",
            "norm(r( 1 ))= 20.000510197574094\n",
            "norm(r( 2 ))= 2.879377767249482\n",
            "norm(r( 3 ))= 7.143039356276458\n",
            "norm(r( 4 ))= 1.0283492025890997\n",
            "norm(r( 5 ))= 2.551085484384443\n",
            "norm(r( 6 ))= 0.3672675723532472\n",
            "norm(r( 7 ))= 0.9111019587087231\n",
            "norm(r( 8 ))= 0.13116699012615815\n",
            "norm(r( 9 ))= 0.32539355668168024\n",
            "norm(r( 10 ))= 0.04684535361648392\n",
            "norm(r( 11 ))= 0.1162119845291715\n",
            "norm(r( 12 ))= 0.016730483434458102\n",
            "norm(r( 13 ))= 0.041504280188990335\n",
            "norm(r( 14 ))= 0.0059751726551629785\n",
            "norm(r( 15 ))= 0.014822957210348608\n",
            "norm(r( 16 ))= 0.002133990233986526\n",
            "norm(r( 17 ))= 0.0052939132894127576\n",
            "norm(r( 18 ))= 0.0007621393692816576\n",
            "norm(r( 19 ))= 0.0018906833176474099\n",
            "norm(r( 20 ))= 0.0002721926318847325\n",
            "norm(r( 21 ))= 0.0006752440420128702\n",
            "norm(r( 22 ))= 9.721165424278468e-05\n",
            "norm(r( 23 ))= 0.00024115858643062216\n",
            "norm(r( 24 ))= 3.471844794275002e-05\n",
            "norm(r( 25 ))= 8.61280665757637e-05\n",
            "norm(r( 26 ))= 1.2399445693902245e-05\n",
            "norm(r( 27 ))= 3.0760023781116796e-05\n",
            "norm(r( 28 ))= 4.4283734631151675e-06\n",
            "A:\n",
            "[[ 2.0000  1.0000]\n",
            " [ 5.0000  7.0000]]\n",
            "b:\n",
            "[ 11.0000  13.0000]\n",
            "x:\n",
            "[ 7.1111 -3.2222]\n"
          ]
        }
      ]
    },
    {
      "cell_type": "markdown",
      "metadata": {
        "id": "vvZ6CrVh6-6y"
      },
      "source": [
        "## Matrices dispersas"
      ]
    },
    {
      "cell_type": "markdown",
      "metadata": {
        "id": "yEYPWKBML3Lu"
      },
      "source": [
        "Consideremos un ejemplo de una matriz dispersa en https://suitesparse-collection-website.herokuapp.com/. En particular la matriz correspondiente a: *HB/1138_bus\n",
        "S ADMITTANCE MATRIX 1138 BUS POWER SYSTEM, D.J.TYLAVSKY, JULY 1985.*"
      ]
    },
    {
      "cell_type": "code",
      "metadata": {
        "colab": {
          "base_uri": "https://localhost:8080/"
        },
        "id": "CL7bCp6l7A8k",
        "outputId": "143e07dc-9626-4aaa-d4b3-8aaa14c57388"
      },
      "source": [
        "import requests\n",
        "# Import to a python dictionary\n",
        "url = \"https://suitesparse-collection-website.herokuapp.com/mat/HB/494_bus.mat\"\n",
        "file = requests.get(url, allow_redirects=True)\n",
        "print(file.content)\n",
        "open('bus494.mat', 'wb').write(file.content)\n"
      ],
      "execution_count": null,
      "outputs": [
        {
          "output_type": "stream",
          "name": "stdout",
          "text": [
            "b'MATLAB 5.0 MAT-file, Platform: GLNXA64, Created on: Sat Sep  6 04:04:21 2008                                                \\x00\\x01IM\\x0f\\x00\\x00\\x00\\x901\\x00\\x00x\\x9cl\\x99\\t\\x98\\xcf\\xd5\\x1a\\xc7\\xcf\\x99\"\\xcb\\xb5\\x94+*\\xcb\\xdf\\x12e\\xcb\\xd6X\\x8a\\xcc0\\xf6a\\x98\\xb1\\x8c\\x16\\xfb\\x96]C\\x08\\xe5RH\\xc8\\x92\\ne\\xab\\xe4\\xda\\x97H\\\\K\\x91\\xb1\\x14\\xb2\\x8c\\xdc\\x9a\\xac\\xc9ruo\\xe5\\xb6\\\\\\xe9~\\xbf\\xde\\xf7}~\\xe7z\\xee<\\xcf\\xe79\\xeb\\xef\\xf7;\\xffs\\xde\\xf5L~\\xe7\\\\fG\\xe7r\\xa2\\xcc\\x05\\xe2\\x9c\\xfc\\xe5\\xd0\\xb6\\x0f\\xb8\\x03\\xa4\\x0c\\x1d\\xd4\\xad\\x7f\\xcf\\x01\\x18\\xbf\\xfdf\\x9b\\xfd\\xb5AF\\xdf\\x8c\\xfe=\\x9dK\\x90\\xa7\\x07v\\x1d\\x80\\x86\\xeb\\xdb\\xe3f\\xabG\\xd7\\x0c\\xb6\\xba\\x0e\\xcb\\xe83h\\xa8\\xeb)\\x9d\\xfd\\xfa\\x0ed%?\\x18\\xe1\\xa2\\xef\\xdf\\xfe\\x7f\\xbe\\xdfPK\\xfe\\x15\\xd4vj,\\xa1Qr\\xb3\\xb4\\xb4\\x84V\\r\\x93b\\xc9\\tim\\x9bu\\x8c\\xc5j\\xd6\\xa9\\x19Kl\\x97\\x1aKi\\xdd!\\xa9m,5=5-)\\xb9R\\xacQ\\x95\\xe6U\\xd2\\xd2[&\\xb4Om\\x91^)\\xd6\\xbc]\\xcb\\xf4X\\xb5:\\xb5\\x1f\\xaer\\xf3}\\xfc~\\xac}\\xf4\\xfd\\x1c\\xf8\\xc0\\xf8\\x9c\\xd1\\xf7\\xafz\\xc1\\x07\\xeb\\xfa\\xd3\\xbdR/\\x00*\\x83<:~\\x9b\\xee_\\r\\xb0\\xd9E}\\xdc\\xa7g\\xc1[`\\x05:W{\\xf9\\x9dC\\xf5}\\xaf\\x815^\\xd6p\\'x\\x87;\\x88\\xf62\\x1f=\\xcf\\xb5\\xbc\\x8bvn\\x94\\x07\\xc0\\x9fQ\\xcf\\x83r\\x1e\\xca\\xf5 /\\xd7\\x05\\xf2\\xe9\\xba\\xac\\x9dW\\xfb\\xf2k\\xbf\\xd3>ks?\\xef\\xd23\\xb4v!\\xbe\\x1f\\x14\\xc5{\\x93\\x83u\\x15\\xd0\\xb96\\xa7\\xa0\\xce+\\x0c\\xee\\x06Sn\\xa9\\xcf\\x05\\xbb@\\x11\\xbe+(\\xe7\\x83e\\xe0\\x1e\\xd0\\r\\xbc\\x8fopK\\xefsQ\\x99\\xc6\\xbd\\x02\\xc5@u\\x8c?\\x02\\x8a\\xa3^\\xc2E\\xe5\\x07\\xba\\xcf%\\xb9\\xbf\\x18\\xdf\\x02b\\xa8\\x97\\xe2\\xb9\\xb9\\xa8^\\x1a|\\r\\xca\\x80F\\x98\\xb3\\x18\\x94E}&\\xf7\\x1f\\xf5\\xfbQ\\x96\\x03S\\x83zy\\xfd\\xfdV_\\x88\\xfa\\x03()5MP\\x9f\\x0f\\x1eD}\\xb9\\xb6+\\xa0\\\\\\x05*\\x02\\n{q\\xf4UB\\xb9\\x12\\xec\\xe3\\x19\\xa2]L\\x85\\x882s\\xddE\\xef{\\xc3\\xc9\\xd8Cz\\xb6\\xf9\\xb9\\x1f\\xa0\\x1a\\xa8\\x8av50\\x04|\\x1a\\xb4\\xff\\x01\\x9a\\xa3\\xbd\\x19TG\\xbd\\r\\xdf\\xe3#\\xf9{\\x05\\xf5\\x9a\\xfa\\xae\\x87\\t\\xea\\x8b(k\\xa8\\xc7S6P>\\rj\\xa1\\xfe\\x1c\\xf8F\\xcf\\x97r\\x90\\n\\xea\\x80\\xba\\xe0\\x91\\xa0\\xde\\t\\xf3Gxi\\xb3\\xffQ\\xd0\\x02\\xedE\\xa0\\x1e\\xcf\\x03e}\\x94\\x8f\\x01\\x98\\x14\\xf7709\\xe8k\\xe0\\xc4@,W\\x99\\xb5v\"\\xcf\\x05$\\x81\\xc6N\\xf4\\x9b\\xf5&\\xa0)8\\x16\\xccI\\x0c\\xc6\\x1b\\xeb\\x9c\\xa9 \\x1e\\xef{\\xcc\\xcb\\xb8\\x8d5\\xe3\\x1eq\\x8d\\\\;\\xe8\\xe2\\xff\\xf7\\xddG\\xc0Q\\xb0\\t\\xfd\\x07u\\xaci\\xf0lc}\\xbe\\xb1\\xbe\\xa3%H\\x06\\x1f\\xe9yZ{\\x14\\xc8\\x85v+\\x94\\xadu\\xbd\\xef\\x04m\\xca\\xd9\\x7f@7\\xf4M\\x02\\x1b@\\n\\xdaSPf\\x06\\xe7W\\x02\\xf5\\xb6(\\xff\\x82\\xf2=\\x1f\\x9d\\x05\\xf5\\xc0t\\xa2\\x03x\\x06\\xdc\\x85\\xf1\\xdd\\xa0\\x9d\\xf6\\xb5\\xd7\\xf2\\xb2\\xcek\\x17\\xf4\\xd5\\xd7\\xf3H\\xc2\\xfct\\xdd\\x8bq^~\\x97\\xb5\\x9f\\x00O\\x82\\xa7\\xc0P\\x8c=\\xaeu\\xae\\xc5\\xc6;\\xe9\\x1c\\x966\\xde9(\\xbb\\xe87h\\xa7\\xba:\\xb1k\\xf3\\\\\\xa4\\xe7\\x94\\xb1\\xeeN\\xec\\xe0\\xdf\\xc1K\\x98G\\x1f@}\\xa1\\xdeX}-\\xf8\\xce\\x89\\x0e\\xf5r\\xa2\\x07\\xb4\\x9b\\xbdQ\\xef\\x03\\xb6\\x01\\x1a\\xd7\\x9cA__p\\x03<\\r\\xae9\\xb1[\\xfdt\\xees\\xa8\\xf7G9\\x08\\x0c\\xd0r\\xa0\\x96\\xfd\\xb5\\xcf\\xda<\\xcbu\\xe0A<3\\xd8\\xc97R\\xc0H\\xb0@\\xf5\\x8f\\xbaH\\xdb]L\\xed\\xb8\\xb5\\xbbz\\xd9{\\x9eOFP\\x0e\\x07\\xc3\\x9c\\xe8Y\\xba\\x8f\\xfa\\xd2\\xd5\\xbe\\xd37\\xf0\\xf7\\x8d\\xd0\\xef\\x8f\\xd4\\xd2\\xe4\\xec\\x01/r\\xc6\\xf5\\x8d\\x08\\xc6\\xd7\\xa9\\xdc\\xd5\\n\\xde?\\x1a\\x8c\\t\\xca\\x170>\\x96%8\\r\\x9e\\x07\\xa7\\x9c\\xe8\\xaa\\xf5\\x8f\\x03\\xaf\\xf0\\xac\\xb5\\x1c\\xaf\\xe5\\x04\\'\\xba\\xf5\"\\x98\\xc6\\xf3rb\\xd7\\'\\xea8\\xc7\\xa6\\x83IA\\xfbU0\\x19|\\nR\\xf1\\x8d\\x97\\x9d\\xc8\\xbf\\xf9\\x05{\\xc78\\xfd\\xdex}\\x9f\\xbd#I\\xbfk}S\\xf5\\xdb\\'\\xf0\\xae\\xaf\\xc1\\xb7^\\xd6c\\xfd\\xff\\xd2\\xb9\\xb6\\x0e~\\x7f\\x06\\xd8\\x08~\\x02m\\xd5\\xd6S\\x0fm-\\xb3\\xc0Z\\xf4\\x7f\\x04f;\\x91\\xd3\\x13N|1\\xe5\\xd6\\xfahC\\xe78\\xb1\\xcfo:\\xf1g\\xaf\\xdf\\xd2\\xa6\\xfd\\x9e\\x13\\xf4\\xef\\x0b\\xdao\\xeao\\xb66\\xe7\\xffS\\xbfA\\xbd\\xa0\\x1f,\\x1a\\xd4)\\x0b\\xa6\\x1fo\\x83\\x05\\xfa;~\\xe6>a-\\x13}\\xd4?\\x18\\xf5i`!\\xbf\\x13\\xd8w\\xda\\x98\\xc5(\\xdfs\\xa2\\x07K\\xb4\\xfe\\xad\\x13\\x1fvL\\xfd9c\\x8cwA\\x9a\\xda\\x9a\\xc5\\xc1\\xdc\\xa5\\xe0\\xfd\\xa0\\xec\\x80\\xf1\\xe9^\\xd6J\\xbfM\\x1f\\xfaW\\'\\xbe\\x8f>\\xd0\\xea\\xb4Qf\\xaf\\xf6\\xba\\xc8\\xff\\xd1/\\x16S\\x1fi\\xed\\xd5Nl\\xee\\x1a\\'rizO\\x99\\t\\xf5p=\\xd8\\x10\\x94\\xb4\\x0b\\xe6\\xfbg\\xe8>q\\x8f6\\x81\\x0fu\\xaf\\xac\\xbdQ\\xfb\\xe2\\xf4\\x19\\xc6\\n\\xb4\\xd9\\xd4\\x1f\\xea\\xd6\\x16\\xb0\\xdb\\x89\\x1f\\xd8\\xea\\xc4_\\xd5\\x0f\\xea\\xaf\\xaa}1;\\xb2\\x1d|\\x0c>\\x01\\xc3\\xbc\\xd8\\x15\\xda\\x04\\x1b\\xdb\\x01v\\x06\\xf5\\xed\\xda\\xde\\xa6\\xcfm\\xd3g)\\x13\\x8c\\x8b\\x0e\\xf9h\\r\\x99.\\xd2\\x9b~\\xe8\\xdf\\x83\\xb2\\x88\\x8f\\xc6lO\\xff\\xad\\xfbj\\xb2F\\xdb\\xb0\\xdfI\\xdc\\xf0\\x19\\xf8\\xdcI\\x8c\\xc8X\\xc2\\xfa\\x0f:\\x89\\'zx\\x91\\x9b\\xfd:w\\xbf\\xce/\\xec\\xa3y\\x87\\x82\\xf20\\xf8\"(\\xe9\\xab\\xb8\\xe6&\\xbaw\\xdc7\\xd6\\xe9C\\xb7\\xa8\\xff\\xa4\\xcf\\xa3\\xff;\\x0e^\\xf4\\xe2[\\xb3\\x9c\\xe8\\xd7\\x97\\xe0\\xa4\\x13\\xfd\\xb2>\\xc6\\xb1\\xc5\\xd5\\xbeg\\xe9\\x9c,\\x9dw\\xc9\\x89>\\xd0W0\\x8e\\xd9\\x01\\xber\\x12\\x1bSv,\\xae\\xfb\\xdeI<\\x91\\x8d\\xb2\\xa3\\x978n\\x8e\\xdaE\\xf3;#\\xd4_\\x9a\\xfd\\xa3\\xcc\\xdd\\xa3\\xf1\\x0c\\xed\\xe0\\x9a\\xa0\\xff\\x0c8\\x1b\\x94K0\\xe7\\x1c\\xca\\xf3.*\\xebj\\x0cC\\x9d\\xa1n\\xd1\\x9f\\xd2F]p\"\\xa3\\x17u\\xfd\\x94k\\xca\\xad\\xf5_\\xd0\\xb1\\x93Z\\xe7\\x1c\\xfai\\xfa\\xedJ\\xaa\\xd3WP\\xaf\\x88\\xb2\\x86\\x8fb\\xbd\\xfb\\xbd\\xc4\\xb3\\x8ck\\x13|\\xf4\\xbb\\xe9k\\xcd\\xae4\\xf5\\x91M\\xf4\\xa8\\xaf\\x02\\xdf\\x80\\x1f\\xd0\\xfe\\x11\\xd4\\x0c\\xea\\xd4\\x9d\\x9f\\xf4;\\xf4\\x99\\xd4\\xffk\\x81\\x8c\\xb5\\xf4\\x91nQ\\xa7~\\t\\xca_\\xc1oA\\xfd\\x17m\\xd3\\xc62\\xcea\\\\i1\\xee\\x1f\\xe0w-\\xcdG\\xb3N\\xbft]\\xc7\\xac\\x8f\\xbaF\\xbf\\x9e\\x1b\\xb4\\x063hg|\\xf4{\\xe2\\xe8/\\xe9s\\xf5\\xb7\\x1d\\xf6Q\\xbf\\xd71\\xaf\\xe3\\xb4\\xf99\\xd4\\xc6\\xf3\\xbd\\xe6\\xcb[\\xab/\\xa7\\x0e\\x99-\\xa0\\x8f\\xcd\\xe5\\xa3X\\xce\\xda\\xb6\\x16\\xfe\\xe5Q\\x99\\xca\\xeb%vf\\x0cmu\\x9eA>\\xf0\\x0c\\x98\\xe5E\\xf7j\\x06r[\\xc0K\\x0cNY\\xb3vApgP/\\xa0m\\xc6\\x0f\\x8c\\xed(\\xc7\\xc3\\xf5\\x9b\\x85\\xbc\\xc8\\x1bc\\xe9\\xdc\\x81\\xde0\\x8f4\\xfd\\xbd[\\xf7$\\xdbGm\\xb3!\\xccc\\x98\\xab\\x95\\x0b\\xda\\xa7T\\xfe-\\xe7\\xa0}\\xb8\\xcf\\x8b\\x9df\\x1cZR\\xf7\\x88\\xfe\\x8d\\xf1\\r\\xed\\xb6\\x8d\\xc7@)\\x1f\\xe5:\\\\O\\xf1\\xa0\\xbf\\x8d\\xce-\\xa1\\xef,\\xa9\\xcf\\xd9\\x9c\\xd2A\\x9b\\xf3\\xcb\\x04\\xfd\\xd6.\\xebE\\xe6)\\xfbVg\\xdeV\\x0el\\x03\\xe5\\xbd\\xd8>\\xc6i\\x15\\xbc\\x9c#\\xed\\xa1\\xf5\\xef\\xf1\\xe2G\\xca\\xeb\\x9c\\xf2:\\xefJ \\xf7</\\xd3\\xbb\\xca\\xdc\\x0b/\\xb1&\\xcf*\\xd1\\x8bM\\xb2\\xb1*|6\\xa8W\\xd2\\xf9U\\xb9\\xc6\\xa0\\xce\\xfd\\xec\\xa5\\xef\\xb4wY\\x0e\\xbbV\\xbfO\\xbd\\xce\\xf0\\xa2\\x8b\\xd4I\\xe6m\\x96\\xab\\x85\\xcf=\\n\\xea\\x81\\xfa^be\\xc6F\\xf1\\xb7\\xf43\\xe7\\xa9\\xa5}\\xb5\\xb5\\xbf\\x8e\\x8e\\xd1N\\x99\\xecp\\r\\xcc\\xa1\\x97\\xeb\\xbb\\xe3\\x83\\xe7\\xacm\\xcf[\\xdb\\xdec\\xdf\\xe5\\xb7\\x1a\\x04%\\xfd\\xa3\\xd9\\xa3D]\\xbb\\xd5\\xe9\\xc7\\xd7\\x81\\x86^\\xe2\\x05\\xe6\\xde\\x8c\\x1d\\xac\\xcd|\\xa4\\x8b\\x93|\\xa1\\xb1\\x97\\x1c\\x9a\\xf90\\xe3\\tk\\x9bMc\\x9e\\xd4\\xccK\\xbeK{hu\\xcb?[\\xf9\\xc8f1F\\xa2\\xac\\xd3\\xa61\\x07\\xb0q\\xee\\xbd\\xe5\\x0c\\xb4\\x01\\xb4\\x07\\x8c\\xeb\\xdb\\x836^t\\x8b6\\x91\\xf1b;/\\xbe\\x98\\xf1\\x88\\xfd\\x960V\\xb29\\xf6<c\\x00\\x8b\\x93\\xb2\\x03\\xfd}\\x1c<\\t:{\\xc9=\\x19\\xa3[\\xdc\\xcf\\\\\\xfa\\t\\xf0\\x94\\x8eQ\\xd7\\xeb\\x06c\\xf6|\\xba\\xce\\xeb\\xa8\\xefJ\\xd7g:\\xea{_\\xf6\\x92\\xc7u\\xd41\\xbek\\xa6\\x8f\\xf2\\x11\\xfa.\\xda\\xe5ENb\\xc3\\xee^l/u\\x9e\\xf1@O\\xd0\\x0b\\xf4\\xf1\\xe2{\\xac\\xaf7\\xe8\\xab\\xed^A_\\x0f\\x9d\\xdbS\\xc7\\xe3\\x03\\x9bo\\xb1K\\x7f/\\xf9\\xc5\\x00/\\xbe\\x9a\\xf1&\\xfd\\xb6\\xb5yW\\xc3\\xbb\\xadA^\\xe2\\x91!^r\\xce\\x05j\\x8b\\xac\\x9f\\xfa\\x99\\xa1\\xf38\\xa7\\x93\\x8eq.\\xedm\\xc5`^\\r\\xadg\\xa8\\x0c0\\xd6b\\x8c\\xf6\\xba\\x97\\xf3H\\xd7=\\xe6]\\x91\\xad\\x81\\xfb\\xcd\\xd8\\xe0\\x94\\xea\\xde\\x08\\xddO\\xf3\\x15\\xf4\\x13\\xa3\\xbc\\xc4y\\xa3\\xc1X\\x1f\\xc5\\x82\\xd6\\xff\\xbc\\xce\\xe18\\xe3\\xeb\\x95`L\\xd0?V\\xe7Y\\xdf\\x18\\xf5wv\\x0e\\xcc\\xbf-~`\\xee\\xcf\\xbc\\x9a97}/c\\xfe\\t>*-\\xa6\\xda\\xe8%.\\xa2\\x9e\\xbe\\xa4s[\\x06\\xbf}\\x96\\x9e\\xf9$\\x9d[_\\xed\\x80\\xc9y\\xe7\\xe0\\xb7\\xa6\\x04:f\\xf1\\x1d\\xef\\x8f,\\xff\\xe1}\\x18ez\\xaa\\x9e\\xcfe\\x95\\x1b\\xca\\ne\\x9ey\\x01\\xef\\xa0\\x18/\\x9bM\\xa0\\x9e\\xcdP9\\xec\\x12\\xd4\\xf3\\x05\\xeb\\x9b\\xed\\xe5.\\x8ay\\x8b\\xd5\\xb3\\xd5\\xcf\\xf2\\xbc\\xe8\\xf7\\xec\\xfc\\x18\\x03T\\x0fl\\xe5B\\'9\\x0f\\xef\\x9d\\xe6z\\xb9\\x03\\xe5]\\xa8\\xd5y\\xbfB[\\xc2;\\xba\\xb7\\xb8?^tta\\xd0\\x1e\\xac\\xe7\\xd8^\\xfb8\\xce{>\\xc6s\\xa3\\xb5\\x8f\\xf3\\x1f\\r\\xbeE\\x1bf~\\xe8l\\xa0_K\\xbd\\xc4\\xbd\\xbc\\xf3a,@\\xbb\\x97K\\xed\\x1bc4\\xc6\\x086\\xc63\\x0em\\x89=\\xcf;\\x12\\xde\\x83\\xe6t\\xd1\\xdd\\xaf\\x0b~\\x7f\\x83\\xc0~\\xdf\\xa6>\\xe6Y\\xf5\\xbd\\xb4\\xbb\\xf4U\\xabT\\x0eWj\\xdd\\xe2\\xa6\\xc2:n\\xfd|\\xde\\xe2\\x07\\xe6\\xbc\\xbc{\\x9e\\xa5>\\xcal%\\xf70Q\\xd7\\xcd\\xdf\\xb3^\\xf7\\x98\\xeb`\\xecI\\xdfb\\xfd\\x94\\xb5y\\xc1s\\xbc\\x0bd\\x9cmv\\x802k\\xb2\\xc8|\\x81r\\xcc\\xbc\\xe0C\\x95\\x9dj*G\\xd6\\xe6Z,v\\xa3\\xbeZ~\\xb1\\x95r\\xe6\\xc5\\xff\\xef\\x08\\xda;\\xbd\\xdc\\x8d\\x96\\xd3\\xbem\\xda\\xde\\xaec\\x8c\\xc3\\xb6\\xea3\\x1f\\x83O\\xc0.}\\xd6\\xe6\\xd8\\xd8\\x0e\\x1d\\xdf\\xa1s\\xd2\\xd4F\\xec\\xf6\\xd1\\xfd\\xab\\xad\\xc1\\xfa,\\xde\\xa0\\xfe\\xec\\xf5\\xa2S\\xcc\\x97\\xa6\\x04\\xfd\\xfb\\xc0~p\\x00|\\x06>\\xd7\\xb1\\xbd\\xc1x\\xa6\\xce\\xc9\\xd4y\\x99:7S\\xe7s\\xefV\\xab-e\\xfe\\xb3+\\xf8\\x0e\\xf5\\x96g\\xcd\\x98\\xf8\\x0b/q\\xbf\\xd5O\\x81# \\xcb\\xcb\\x1d\\xcaQ\\x1f\\xdd\\xa7P\\xdey\\'p\\xdcGe\\x96\\xce\\xb7\\xfaT\\xb5Q\\xf6\\xdc\\x97\\xe0$\\xf7\\x15|\\x15\\xf4\\x9d\\xd0\\xfe\\x13:vB\\xc7\\xf9\\xfc\\x11\\xfd.\\xbfIyd\\x9cJ\\xf9<\\xack\\xe5\\x1a\\xcf\\x04kg\\xfb\\xb4\\xf6\\x9d\\x0f\\xda\\xe7o\\x99\\x7f\\x16\\x9c\\x0b\\xeag\\xb4\\x1d\\xce\\xbf\\xb9~\\x94\\x17\\xc0E/q\\x1cc\\xb6\\xef\\xb4}I\\xc7\\xac}Y\\xeb\\x97\\x82ve\\x9d\\xc3g\\x1f\\xd2:\\xdfa\\x7f\\xd4\\xa3\\xadwH\\x9dw\\x82\\xd4c\\xc6\\xea\\xf6\\xff\\x15\\xde\\x7f\\xf1\\x7f\\x1b\\x8c\\xc3x\\x17Q\\xcaI\\x8eB;\\xc5{\\x11\\x8b\\xb5i\\x0fy\\xb7N\\x1d\\xe2\\x9dy\\x82\\x93\\xbc\\xda\\xee\\xa0\\x99\\xa30\\xbe\\xa6\\\\2o\\xb4;Y\\xde\\xbfvW\\xbb\\xc0<\\x8b~\\x8a\\xf7\\x9a\\xb4s\\xbc\\x87d\\xdc\\xc1\\xdc\\x86\\xfeg\\x9c\\x93;6\\xde\\xc51\\xcea\\xce\\xc8\\xd8\\x876\\x9f\\xb9\\xe4\\xdb.\\xba\\x0bb\\xcc\\xb6B\\xe5\\x8e\\xf71\\xbcw\\xe1\\x9d\\n\\xf3\\x7f\\xbb\\xdf\\xa0\\x1c\\xd2\\xf7\\xdb\\xbd\\x02\\xef\\x0bx7\\x90\\xa5\\xb2\\x9a\\xad\\xf2\\xc3X\\x919&\\xf3H\\xe6\\x8d\\x8c\\x1b~W\\x1bE}g\\xae\\xc5\\\\\\x88\\xbe\\x8a\\xf9\\x0b\\xf3\\x13\\xe6\\t\\xcc\\x0b\\x98\\x030\\x86\\xa7\\xcfg\\xfc\\xcd\\x18\\x99\\xf1*m\"cV\\xc6\\xa4\\x8c-\\x19O\\xd2\\x9fY\\xdc\\xc7X\\x8d\\xb6\\x961\\x15\\xe3\\'\\xc6@\\x16\\xd30~\\xa1\\x8d\\xa2\\xbde\\xec\\xc0\\xb8\\x82>\\x9f>\\x9b>\\x98\\xbe\\x95\\xfe\\x92~\\x90\\xf6\\x89>\\x8c~\\x8a6\\x99\\xbe\\x85\\xb6\\x9b6\\x9cv\\x9bv\\x99\\xb6\\x956\\x906\\x91v\\x8f6\\x8e\\xf6\\x8c\\xb6\\xcbl\\rm\\x0b\\xf5\\x9e\\xfaN\\x1d\\xa7\\xde\\x1eW\\x99>\\xab\\xf2zAe\\xee{\\xf0\\x03\\xb8\\x06~\\x037@\\\\\\x1c\\xf2S\\x90\\x07\\x14\\x00w\\x81\\xc2\\xa0((\\x01J\\x83\\xb2\\xa0<\\xa8\\x00\\x1e\\x02\\xd5@MP\\x0b\\xd4\\x01\\xf5@\\x03\\x90\\x08\\x92@3\\x90\\x0cR@[\\x90\\x06:\\x80N\\xe0\\t\\xd0\\x19t\\x05\\xbdA_\\xd0\\x0f\\x0c\\x04C@\\x06\\x18\\x0eF\\x81\\xf1`\"\\x98\\x0c\\xa6\\x80\\xa9`:\\x98\\t^\\x03o\\x80\\xb9`>X\\x00\\x96\\x80\\xa5`5X\\x0b6\\x80M`3\\xd8\\x02\\xb6\\x83\\x8f\\xc1n\\x90\\t\\xf6\\x83\\x83\\xe0\\x18\\xc8\\x02\\'A68\\r\\xce\\x83\\x8b\\xe0*\\xf8\\x11\\xfc\\x0c~\\x05\\xd7\\xc1\\r\\x10\\x07\\xa7\\x97\\x13\\xe4\\x01\\xf9AAP\\x08\\x14\\x01\\xf7\\x82\\xe2 \\x06\\xca\\x80r\\xa0\"\\xa8\\x02\\xaa\\x82\\x1a \\x1e\\xd4\\x01\\xf5@\\x02h\\x08\\x92@S\\xd0\\x02$\\x836\\xa0\\x1dx\\x1ct\\x03=@/\\xd0\\x07\\xf4\\x03\\x83\\xc100\\x12<\\x07\\xc6\\x82\\x17\\xc0\\x040\\x11L\\x033\\xc1l0\\x07\\xcc\\x03o\\x83\\xc5`)X\\x06V\\x805`\\x1d\\xf8\\x00l\\x06;\\xc1\\x1e\\xb0\\x0f\\x1c\\x00\\x87\\xc0Qp\\x1c\\x9c\\x00\\'A68\\x05\\xce\\x81\\x8b\\xe0\\n\\xb8\\n\\xfe\\x0b\\x00\\x00\\xff\\xfft\\x99\\x078\\x97]\\xfc\\xff)\\xa3(\\x19!d\\xaf\\xf0\\xb5IV\\xdf\\x93=2\\xfa\\xda+\\xe3A\\t\\x85\\x904\\x84\\x8a\\xca\\xcah\\xd1\\x9e\\xb4w$>*\\xf5\\xb44\\xe4A\\xf5\\xa0\\xe7iO4\\xf44\\xff\\x9f/\\xf7\\xb9\\xaf\\xff\\xaf\\xdf\\xf5\\xeb\\xeau\\xbd\\xafs\\xees\\xee\\xfb|\\xef\\xfb\\x9c\\xcf28Z@\\xe0+\\xf2\\x13\\x11\\x10\\xc2\\xff\\x88\\x08\"\\x8eH R\\xc8DD\\x19\\xd1D\\xb4\\x11]D\\x0f\\xe1 \\xc6\\x889b\\x85\\xd8\"\\\\\\xc4\\x01qF<\\x90\\x99\\x88/\\xe2\\x87\\x04 !H82\\x1b\\x89Fb\\x919\\xc8<$\\x19IA\\x16\"\\x19H\\x16\\xb2\\x14\\xc9Ar\\x91\\x95\\xc8j\\xa4\\x18\\xa9B6![\\x90\\x1ad\\x1b\\xb2\\x03\\xd9\\x8d\\x1c@\\x0e\"G\\x90c\\xc8\\x19\\xa4\\x01iD\\x9a\\x10@.\"\\xad\\xc8U\\xe4\\x1ar\\x03\\xb9\\x8bt \\x0f\\x91\\xbf\\x91>\\xe4\\t\\xf2\\x02y\\x8d\\xbcC\\x06\\x90!\\xe4+\\xf2\\x13\\x19-,  \\x8a\\x8cE\\xc4\\x11\\tD\\x1a\\x91E&!J\\x882\\xa2\\x86h\"S\\x10\\x03\\xc4\\x181C\\xac\\x10\\x1b\\xc4\\x1e\\x99\\x818!\\xae\\x88\\x07\\xe2\\x85\\xf8\"<$\\x00\\tA\\xc2\\x91H$\\x06\\x89E\\xe6\"\\xf3\\x90\\xf9H\\n\\x92\\x81d#\\xcb\\x90\\x15\\xc8J\\xa4\\x10)A\\xca\\x91Jd\\x03\\xb2\\x19\\xa9A\\xb6#\\xfb\\x90Z\\xe4(r\\x029\\x85\\xd4#\\x17\\x90K\\xc8U\\xe4\\x06\\xd2\\x86\\xdcE\\xda\\x91N\\xe4\\x01\\xf27\\xf2\\x18y\\x8a\\xbcD^#\\x03\\xc8G\\xe43\\xf2\\x05\\xf9\\x8a\\xfcDF\\x8b\\xe0\\xbbB\\xa4\\x10\\x19D\\x16\\x91G\\x14\\x10%D\\x19QG\\xb4\\x11=\\x84\\x83\\x18#f\\x88%2\\r\\xb1E\\x1c\\x11g\\xc4\\x15qG<\\x11\\x1fd\\x16\\x12\\x88\\x84#\\x91H,\\x12\\x8f\\xccE\\x12\\x91d$\\x15IG\\xb2\\x90ld)\\x92\\x83\\xe4!\\xfc\\x7fc\\x11I\\x0b\\x9c\\xb3\\xfe\\xed\\xd2\\xe6\\x90\\x9d\\xa4\\xe4u\\xef\\xa7\\xcd\\xaf5!\\xadw\\xde\\xd6s\\xb1j\\xf0,L\\xf5/%KI\\x98x\\xc3\\xf0\\xf0\\xea=\\xb2\\x84Q\\x98g2\\xfe\\x92\\xab\\x96\\x019v\\xd5\\xc9\\xe3d\\xad\\x1c\\xec_4\\xb0\\xfc\\xd16U:\\x0e\\x92\\xb2\\xb2\\xf7r\\xfc\\xf2I\\x9a\\xdc\\xe7S\\x97~\\x05\\xc2\\xc8\\xd3B@w\\xc7\\x9ac\\x8f\\xa3\\xd3\\xc0t\\xb3\\xfe\\xa4*\\xf0\\x80\\xb9\\\\\\x9e\\xd3\\xea \\x1es]\\x8d0\\n!\\x85\\x12\\xb9\\x9a\\x82\\xb2\\xe4\\xf4\\xfc\\xfc\\x07\\x0b\\x92\\xbf4G\\xc8\\xc9T\\x97\\xde\\x18\\x0fC\\xc1_\\xef\\x08\\x0b\\xeb1\\xe3\\xfa\\x9a\\xcb\\xafO\\\\(\\xf9Q\\x08\\xfe\\xea[\\x16`t\\x7f\\x1c\\\\\\x1c\\xfa)\\xf2V[\\x1e\\xe8s\\x19%\\xcf\\xbf\\xd5\\x0e\\xdcK\\xd6\\xa2\\nW\\x1b\\xce\\x15\\x8b\\x04\\xa6\\x92\\xbb\\x1a\\x0f\\xff[\\xde\\x16\\t:O\\xf2\\xb7\\xdd\\xba\\x1c\\x03e\\x89\\x8e\\xad\\xd3>\\xf8\\x91\\xb5\\xb7\\xae\\x9e\\xde\\xa9\\xe3\\x0e\\x062\\xcbk\\xb7\\xe7\\xd8\\xc3\\xe0\\xa6\\xdc\\xeb_D\\xf5\\t\\xaf\\xf3\\xc17\\xff\\x80O\\xcd\\xb1\\xcf\\x93\\x932\\x9d\\x04!\\xe5d\\xd6q\\x93q\\x9a@\\xfb\\x19\\xe5\\xd2\\xeb\\x8c\\x92\\xba\\xd3&\\xe2o\\xc7M\\xa6\\n\\xf4=\\xd3\\xf9l\\x7fy\\xd0\\xf3I\\x92\\xde\\xa4hg\\xcd\\xdc\\xa0k\\x96\\xb0\\xf7\\xe3LcS\\x9d\\xc9\\xf0Y[i\\xc2\\x99i2@\\xfb\\x07g\\xdc\\x8e\\xef\\x10\\r!\\xdf\\x16\\xfb\\xad\\x17\\xab6\\x05\\xaa\\xdc\\xa0\\xb0\\xe3\\xcd5\\x1cpJX\\xd0\\xbf\\xea\\xae\\x1d\\xd0\\xf7\\xc4(\\x97\\xde\\x8f\\xd1\\xdf\\xe7\\xff\\xaf\\xf6\\x18\\xfb\\xea\\x80\\xed\\x0bC\\xc9\\xab\\xebs\\x16\\xab\\x1cp\\x80\\x05\\xb9B\\xad\\xa5\\xaa\\xb3\\x80\\xb65J2R\\x95Z\\x93I\\xd4\\xa8\\xb3\\xef\\x9e-\\xf3\\x07\\xee\\x95G\\xa7Wr\\xc2\\xe0\\xc8\\x99\\x98\\x9c\\xee\\x08-\\xf08\\xab\\x9d\\xd6b\\xadJ\\x18\\xa5m\\xf8R\\xb8I\\xda}\\x9c5)\\x1a\\xbcy#zH\\x9aY\\xa7\\x1e\\xdct^\\xaa\\x1b\\xaf\\xcd#\\xa5u:\\x85\\r\\xc6\\xce }qw\\xb1\\xe6\\xd4\\xe9`\\x16`\\xa2_\\xbb$\\x9b0J\\xdb\\xa0\\x1c\\x1ak\\xdb\\xfb\\xa9\\x94\\x08_\\xd6\\n\\xffSS\\x02\\x92\\xc6\\xfe\\xb7\\xe3\\xf9\\xe6<X\\xd2\\x14_\\x9f\\x94\\xaeB\\xb6\\xbf\\xd4\\xbebV,\\x05\\'\\xdf\\xb8G-l\\x1b\\x0b\\xde\\x91\\xb7;9ge\\t\\xa3\\xb4\\r[\\xce\\xe4\\xc4\\xed}iGV\\x18t\\x1f\\x97\\x9ad\\nU\\xef\\x8e\\x9cT/U\\x80\\x9a\\xfd6O\\xe2\\xa3L\\x98\\xfd6\\x11j?\\xbf\\xcc\\xba\\t:p8\\xa1\\'u\\xed\\xdaPr\\xa4+2\\xd3G\\xc2\\x07Tw\\xddU\\xbe,\\xe2\\x02\\xb4\\xcd(\\x99\\x13\\xedc\\xfb\\xdd\\xd2\\x80*\\x04J\\x18\\x9e\\xd8\\xban=I\\xc6\\x8d\\x98\\x1a\\xbe\\x1e\\x8c\\xe7\\xef\\x16l\\xac\\xd2\\x85>\\xc3\\xb2\\x1d_\\xa4\\xe6\\x11\\xee\\x8f9\\xb7JU\\xd5\\x99\\xf7\\x91\\x00[\\x1c\\x9e[f\\xba\\x9b\\x93q\\xaf\\xc2\\x9e\\xa5+\\xe8\\x80\\xb2\\xfa\\xe8\\xc5\\x99\\x8b\\xd5\\x80\\xb6-\\x9a\\xb7\\x8c\\x16\\xb2r\\'\\xfb:\\xca\\xce]-\\x9f\\n\\xe9\\xa2\\xc7\\xcdW\\xb5\\x99\\x00mw\\x8c\\x9d\\xab\\x91t?\\x94y\\x9f\\x01ph2\\xbe\\xb0\\xaa\\xf5DE)7+\\xc2G\\x17\\xe8:\\x16\\xee\\x1c<\\xfa4@\\x08\\xae\\xf8z\\x9f:\\xe8\\xebD\"~:~}\\x9b8\\x83=O\\xfd\\xe6F\\x93\\xc7\\xa8\\x13\\xc2(\\xac\\xeb\\xcb1\\xe8\\xb6v\\'\\x0e\\x8e\\xbf\\x84\\xe4\\xbf\\xe9B\\xcfS\\x8d&\\x19[G8\\xd1y\\x9e\\xdb\\xf3\\xaf%IV\\x9e\\xfc\\xc6\\x8b\\xa3\\x00\\xf0b\\xf0Y\\xca\\x0f\\x19\\x98?\\xf7\\xba77X\\x16\\x94\\xea\\xe7{,\\x1e/\\xcb\\xda\\x97\\xfa\\xab\\xf7\\n\\x8c^\\x18\\x92B\\x99M\\xde\\xafE\\x94\\x80\\xae\\xcb\\x86\\x98\\xb8\\x96\\xba\\xda\\x93K\\xdb\\x1f\\xdfR\\x0c\\x17\\x07\\xbd\\x1b\\x92W\\x1b\\xe6r\\x86\\xd7;\\xe0\\xb9\\x85x\\xfe)j_\\x9d\\x1b\\x0e.g>\\xfc\\xf0\\xef\\xa8\\x84\\x03A\\xd7\\xcd.\\xaf\\x8a\\x07\\xab\\x92\\xe0u>\\xf5\\x9eP\\xe6\\x1d\\xf1\\x1f\\'\\xc4\\x97\\xcc\\xe6\\x0f\\xbc\\xed\\nN\\x16\\r\\xf9]c\\'\\x01\\xff\\xf3\\x16\\x16\\xe8\\x02\\xed7\\xe7\\xff\\x1b\\x1fG\\xd0Z9N\\xbe\\x1a\\x06K\\xe6\\xaa\\x1a|\\xf1\\x9a8\\xb2\\xbe$ix\\xe9f\\xf4K\\xbd\\xde\\x91\\xecl\\x8a\\xf3\\xde\\xe8<\\r\\xa2\\xf7\\xbd\\x8d\\x0c\\t1\\x02j\\xf7\\xce\\xa9\\xacz=\\xeb\\x8b\\x16\\x81\\x8c\\xd6\\xa2~\\x17\\x19\\xe8\\xfd\\xf2\\xc0\\xdc\\xd3#\\x90\\xec\\x16i7Y\\xda\\xef\\x00\\x93_\\xff3Uq\\x8f;\\xb8\\xa6\\xfd7\\xe1\\xe5\\x1cC\\xe2\\xbb\\xdf\\xaeAj\\x83\\x12{\\x0eJD\\xfa\\xe5\\xdc\\x92\\x9c\\xc8\\xd2\\x8e\\xeb+#\\xbfZ\\xc2\\x0e+\\xd9Z\\x93\\x1e3\\xe8\\xa8\\xba=h\\xd7eA\\xacu\\xd6}+u\\xd2\\x04\\xad\\x1a\\xb9\\xc6\\x17\\x89:\\xac\\x1d\\x18\\x15\\xe7w\\xa4\\x7f\\xaa9\\xf9\\xd1X\\xeb\\xb6\\xea.\\x07j\\xbcOt<\\xad\\xa4\\xf6S\\x01Rm\\xae\\x05n\\xf4\\x13\\x00\\xda\\xae\\xef\\xdd9\\xe5\\xce/\\x1f\\xb2m\\xc9\\x84\\x8d\\x93\\xaf\\x1a\\xc0=\\x81\\x9eQc\\xdf9\\xb3\\xe3\\x18%a\\xda\\xc1\\x93\\xdbNY\\x13\\xdb\\x8b\\t-\\xeb\\x8c\\xcc`\\xdcS\\xa7\\xf3b\\n*\\xe0\\xfa\\xafo\\xb3\\xb8\\x81\\x1aa\\x14\\x02zJRB\\x05LI\\xf6\\x99\\x1f\\x8f\\xb7\\xa6=m\\xbe\\xbb\\xb88bW\\x83\\x18k\\xcf2\\x94\\xeb\\xf4\\xae5\\x88\\x03\\xbd\\xce(\\xd7\\xa23a\\xcf\\xde)\\xb3\\xc85\\xbbA\\xd1\\xd1\\xf23A\\xef\\xd4\\xa1oW\\xcb\\xe5\\xa0\\xbdk\\xb6x6W\\th?\\xa3\\xa4f\\x97f\\xfd\\xd2\\xf6B\\xb2&\\xf2\\xf8\\xeau\\xe9\\x9aPQ\\x9b7\\xcb\\x9d\\xb7zd]\\xd5\\xb3@~\\xcbk\\x8b{=>\\xe4\\xe4\\x92\\xc1c\\xbe\\x89Vp\\xbec\\xe1\\xbdo:F\\xb0`|RUT\\xae6p-g7\\xb8\\x7f\\xe7\\x00\\x9d\\xcf(\\xa1\\xf7\\xa1\\xf3\\x8eV\\xc6\\x15\\xfe!UD\\xb8\\xff^\\xcc-\\x13\\xf1\\x05G;ic\\x9f\\xf7j\\xd0\\x1ce\\x95\\x14v\\xc7\\r\\xfe\\xb2\\x16\\x89=*j\\x04\\xd1?\\xb6_Z:\\xc3\\x8a}>\\x1d\\xcf?\\xc6\\xc2\\xe1\\x0b\\xc9\\xca\\xdc\\xe7=\\x97VM\\x05\\xaa\\xd7F\\xe9\\xa4\\xbc\\x16\\xb1\\x85G\\x1f\\xe7py\\x8d3\\xe1\\x83\\xdd9\\xdb\\xc4N\\x17v\\x9d\\xf49u\\x12\\xf5\\n\\xf3\\xfd]\\xc8wE\\xf7\\xbc\\x94*5\\x88\\xbe\\xd4n\\x10\\xd7\\xad\\x06\\x8e7\\x1ar8\\xb1\\x82\\xf0\\xb3\\xb3>\\xc1\\xbcM\\x90\\xfd]\\x8c\\xfe\\xfe\\xbc\\xff\\xd5\\xa6\\xcfg\\x94\\xd4\\x9a\\x9c\\x91|\\xb2\\xc3\\x99\\x1c\\xa8\\x8dK\\\\6C\\x17HK\\xebZ\\xc5=\\xd6 \\xbc\\x7fzY\\xe3\\x07y\\xa0\\xfd1+\\xfb\\xe7\\xfe\\x8b\\xe7r\\xcd\\xdbw\\x82\\r\\xc6\\x9f\\x9a\\x9dc\\xf2\\x14\\x9b\\x84\\x05 \\xa71\\xe8\\xf0\\xcc\\'^\\xc4cI\\xbe\\xf1\\xcc\\x9ff\\x90\\xc0\\x13k\\xb8\\xb0\\xd2\\x0c<\\x0f\\xaa\\xa7\\x96:O\\x05\\xda\\xdf9\\xabCh\\x16\\xd7od?\\x16j\\xc2\\xa8\\x0ena\\xec\\x011\\xc8\\xdf)a\\xf0\\x88\\xa7\\t\\xc9\\xd6\\x1b\\xff\\xa9\\xab#\\x90\\xdc\\xfa\\xf3\\xc4\\x92\\xb4\\x9f\\xcdocS*\\x1b\\xe7{\\x92a?\\xaf:\\x03T\\xb76\\x0c\\x86l\\xb3\\x00z\\xee\\x16\\x19\\xaa\\xab~\\xf4\\x8f\"\\xc5\\x1b\\xe7K\\xe7o\\n\\x85\\xb5\\x81\\xef\\x84\\xe3\\xbd\\xd4\\xc9\\xf0sW\\xc9@\\xf9\\xe8L\\xcb\\xc5\\xfa\\x12@\\xcfC\\xee\\x9bO\\xefJ\\x0b\\xccH\\x86F\\x8b\\xbf\\xf9\\x12I\\xa0\\xfe\\xc1K\\xb6\\xc8\\xe3\\xd5\\xf3\\x85\\x84\\xc6!\\xc7\\xd20\\xf2\\x19\\xc7\\x81\\x07O1\\xd0\\t\\x1b\\x07\\x05\\xbd^g\\xdf\\xf8\\x8e\\x01\\x1d?\\xe1\\xdd\\xe56\\xba\\x84QX\\x11U\\xa2\\xd2\\xfc\\xde\\x939_N0*\\xcf:\\xfb{\\x931\\x1b\\xcf\\xd0q\\xf4zr\\xe0\\xb2#g\\xaa3\\x08=\\x17\\x9bw\\xac^\\x10\\xed\\xa5Fn\\xc6\\xc4|H\\xb5\\x97\\x81\\xfb\\x06q\\n\\xff\\xfc3o\\xe4~$\\x92\\xb1_\\x81\\xec>\\xa1\\xfdQO\\xefh<\\xccL#\\x15E5\\xab\\xec\\xa3\\x1dA?(k\\xe3\\xbatGX\\xa0\\xcf\\x8bN\\x92\\xd2\\x85\\x9c\\x1e\\xff=\\x17\\xc1\\n\\xdazW:\\x08\\r\\xfa\\x91\\xef\\x96!\\xbbU\\x0e\\xf0`k\\xd3\\xb6\\xa3!\\xdb&\\x02\\x9d\\xc7(\\xa1\\xf3\\x19%\\xf4>t\\xde\\x1b\\xf97\\xab\\x93\\xf3\\x83\\x88\\xc2\\xf55\\x99\\xb2\\xe5\\xaa\\xf0\\x9b\\x92&\\xaf\\x9c\\xcf\\x9a\\xc5\\xa6\\xa4\\xbd\\xfbZ\\xdf\\x94\\xcd\\xda\\x10\\xf1\\xa3K\\x8b;Ji$\\x8e\\xd36&*-\\xc5\\x95\\x86\\xe5\\xf2\\xd0\\xab\\xe4(\\x90\\x12\\xae\\t\\xd4\\x8fk\\x13/\\xc30)?\\xb2\\xf1W\\xd9\\xf2o\\x83\\x04F\\x19\\x14\\xc8\\x85XW\\x10\\xe9\\x89\\x181HE@\\xe0\\xf6\\x83\\x87\\xbb\\xc6\\x16\\xc2Y\\x0c\\x1b\\xec\\x8b3F\\xf6\\x87\\x98\\ra\\x14\\xa8\\x9f\\xa1\\xed\\xb3\\xd9\\xde\\xd9\\xbd\\xaf\\xfc\\xc8\\x95\\xfd\\x02\\x93ngMe\\xde\\xbb\\x16tm}g7\\xe0\\xaf\\x01<\\xbeaV\\x08\\x1dy\\xde=O@o\\xd2\\xfb0\\xca\\r\\n\\x1ek\\xc6x\\xc4\\x04\\x90\\x87\\t\\x89N&=\\xd2\\xd02\\xbf\\xeb\\xcc\\x94\\x1b\\xa6\\xccw4\\x03\\xb1\\x8fk\\xec\\xdcy.@\\xaf3J\\xed,ko\\x13\\x040\\x12Z\\xefD\\xbeL\\xfd\\xd1]:\\xd1\\x02\\x1e\\xe0\\xebX<\\xde\\x12\\xee\\n\\x7f2\\\\\\xf8&\\x90$\\x9e\\x8d\\x98{D\\x99\\xc7\\xf8Esx\\xf8\\xbd\\xf9\\xd5\\x9f\\xeb5\\t\\xa3P`\\xe6\\xdf\\xea\\x9f\\xdd\\xcfe\\xb4\\xd9q\\xf4\\xf1\\xa4g\\xbe\\x82\\x84Q\\xf8m\\x1c\\xbd\\x0e\\xfeE\\x1f\\xacv\\x1e\\xb3!?\\xdd\\xa4\\x14\\x02\\x07\\xc4\\xe1\\x157q\\xf9wK%\\xf8f\\x93\\xd2V\\xc8\\x13\\x87\\x03W<\\xad\\xd6\\xe4G\\x13\\xcf\\xcc$\\xa1\\x7f\\xa2\\x1d\\xd88\\xad}\\x9e\\xdb\\xa3?\\x16\\xbbBhW\\xbbD\\x8e\\xac9\\xeb\\x0f?k:\\xc7\\x06\\x0bsHP\\xa5t^@\\x87\\x10\\xa4\\xf9\\x04-\\xe2l\\x90\\xa5\\xf18\\xd0~W{\\xa7\\xdd\\xb6_\\x0c\\xc8\\xe5\\xa8\\x9fb\\x9b\\xc5\\xc5\\xd9s\\xb3\\xbd\\xa2\\xc7\\xaaI\\x85\\x10\\xce\\x966o\\x11+3\\xa0\\x1a\\xdc\\xaa\\xb4\\xd95\\xc6\\x81\\xdc\\xa81Z\\xb7\\xa6\\xd8\\x0c\\xee}\\xbb\\xd2\\xb9\\xad\\xc5\\x9e\\xd0\\xe7\\x0f\\xb8<[\\xcf\\r\\xd6\\x06z\\x9d3\\xb0\\xe2\\x84\\xdeY;\\xd2r`\\x8f7\\xf1\\xd3b\\xf3\\x05AtSk\\x95\\xe3\\xc9\\xcdl\\xd3J\\x19[?\\x18\\xd9?&\\xcc>2\\x81\\x01)S\\xed\\xf2/\\x84L\\xba\\xbdcg\\x8e\\x86<\\xd8\\x15n\\xd5Ko\\xd3\\x03\\xea7\\xab\\xb6\\xd8\\xdf\\x11[*\\x07\\xd4\\x8e\\xd1\\xf7F\\xe7\\xd3y\\x1fJ\\xfc\\xd2\\xb5\\xc4\\x1d\\x89\\xf5\\xf8Y\\xab\\xb82*\\xf0\\xf4~\\x9b\\xc9i\\xed1\\xec}\\xe8\\xba\\xffB\\xb3}\\x05\\xd7\\xf9\\xbd8\\xf3Q\\x7f\\x98\\x18U\\xa0z\\xe5\\xf1\\xcd\\xa3\\xcf\\xca\\xb4\\xc8\\xa6\\xcf\\xb7~t|P\\x02q=n\\xed\\xe7b\\xc7\\x91x\\xab\\xd3\\x1c\\x86\\xf7\\x8b\\x939x\\xd7_<\\x1f\\xae6\\x93\\xe4\\x98\\xf4?Z\\xd2o\\xc6~\\':\\x8eQ\"\\x7f\\xff\\xec\\xcd\\x97\\x83\\xc6T\\xe1\\xf76\\xb3o\\t\\xdd\\xbf4\\xee\\xa4q\\xe8\\xea\\xb4]\\x11\\xab8\\x9e\\x84Q\\x1a\\x17\\xb2\\xf1\\xa2\\xd2x\\x8c<\\xc3\\x17\\x93\\xc9K\\xa3\\xcd\\x02:\\xd2\\x01\\xa3\\x9d\\x1f\\x9f\\xab\\xbc\\xc0\\x06\\xdd\\xdd\\xa2R}89.\\xf5\\xd0:XB\\x84\\x9e\\x17My\\xab\\xbd\\x08\\xd2\\xf9\\x1fR\\xc5\\x1b\\x86\\xd7\\xdd\\xa5\\x0f\\x1fT\\xef-\\x88\\x8c\\x8c$\\xe3ne(&$xAX\\xdb\\xdesuu\\xbe\\x904\\xfd\\xc8xYM\\x03\\xc2(\\x9b7\\xd0<\\x81>\\x7fT\\xa3\\xb0\\xf4\\xc4\\x9dq\\xbf\\xff>\\xf6<\\xd2u\\xd1\\xe7\\x8b\\x9f\\xde\\xb7\\xd8\\xb5\\xac\\x80P\\xbfL\\x7f\\']7]\\xdfp\\xfe\\xa3\\xb8\\x92\\x8c\\xc4\\xd7s\\x80j\\xf8\\xb3\\xf4\\x90\\x99\\xe1S \\xcd\\xf7\\xe2\\xcc\\x87\\xdb\\xa7\\xd2\\xf7\\xc3^oj\\x91\\xd7\\xf1\\xd3K%h\\x15N\\xce(\\xe1\\xb2\\xef\\x81QB\\x7f7\\xa3$H\\xe7;\\x8f\\xbb.\\x80\\x88.\\xb6\\xdf4QW\\x1d\\x9e4\\x13I\\xb5|%P\\xd3\\xd3\\xb8\\xa4\\x7f\\x04\\xe3\\x83\\xff?\\x9eG?H\\xdf\\xc7\"Y\\xder\\xdeS.\\x890\\xff/\\xbe\\xba\\xda\\x9c\\xf4I\\xc9\\xd6UWk\\x02U\\xd16\\x85Y\\x0fD\\x1d\\xc8\\xd7\\x8e\\xc9j\\x9b\\xaa-@\\xbf\\xc8P\\xc8\\xfa\\x85\\x11\\xd0|\\x98\\xdaYz}^A\\xb3N\\xa2\\xa4#\\xf1\\xd14\\xac:k\\xae\\x05\\x0b\\xb7\\xba\\x84\\xea/\\xf0 \\xfc4!d\\xa9,L\\xb8\\xb3\\xcc\\xfa\\xe4\\xd6\\xd1\\x8c\\x9fq\\x81\\x9bw\\xff\\x1d\\x9a\\xda\\xe2I\\xa2\\x17\\xc4\\xb8y_\\x91\\x85)\\xce\\x06C\\xa3*F\\xb3q1\\x8d\\xbb\\xe9|:\\xce\\xdb\\x19W\\xf2\\xc8\\x9e\\xf1[\\xc6\\xec}\\xe9\\xfc\\x9a\\xb5\\xfe\\x93\\xc26\\xc9\\x10\\x9a\\x07\\xd2\\xe7\\xd1\\xfb\\x0ee\\xf4\\xd5H\\x05%\\x12S\\x87\\xacS\\xa9\\xe1\\xa6\\xac\\x9f\\xd8\\x93b/\\xd6Yt\\x89\\x89\\x17.\\xc1\\xff\\xc8\\x0b\\xb1\\x8dQ\\xf6\\xb9\\xd9k/\\xb1~\\x9b\\xfa\\r\\x0e\\xba\\xd1\\xe0}\\x8b\\xc9\\xfb4\\xa9\\xde5\\xef\\x83\\x88]\\xfe\\xea\\x9fcg;\\xc1\\xe2\\xe0\\x03\\x96\\xb7\\xc4\\xb5\\xc0\\x81\\xef@\\r,!\\xaf\\x15\\x0ff\\xa6\\t\\x94\\x1e\\\\\\x1f\\x91\\x90\\xa0\\x0ct\\xdc\\xc4#\\xae\\x8f\\xb3I\\x02\\x99Pc\\xbe\\xeb\\xd4\\x02s\\xc0hq\\xdc\\xa8\\xf3\\xd1\\x90q\\xf0\\xf9\\x9e\\xa1\\xc3\\x82\\x84Q\\xa0q\\xbbv\\xe8`Vh\\xa0:ya\\xbe\\xa3\\xa7(\\xf4{3F\\x13B\\x16\\xc5Ql\\xdc\\xf5p\\xed\\x8f\\xb8\\xa1\\xac0\\xa8\\x1b\\xb8\\xe7\\xf5O{\\x19\\xd1\\xb7)\\xbf\\xf1\\x8b[\\n\\xfb7\\x1c\\xfe\\xe4lf<\\x12o\\x85\\xdb\\x02\\xbe\\x85\\xbd\\x17\\x04g\\x00\\xad_0J\\xc6\\xf0\\x03\\xb5\\xf3\\xba\\xa4\\n\\xc3\\xd1\\x08-5h\\xf7P/\\xf3\\x0c\\x97`\\xe3Iz?\\x05!\\xcc$?\\x96\\x12~y\\xc2\\xea\\xa4/U\\xa0\\xca?n\\xa6\\x8e~\\xc4K2Cu\\xc5\\x13\\x19P\\x1d\\xdcpPU\\x89\\xdau=\\xe0\\xa7O\\x01q\\xf1dX;b\\x81\\xb1\\xaf\\xac\\x9d\\xa5\\xf9\\x1fm\\x9b\\x9c\\xd7\\x9d >\\x10Fh~M\\xe3*\\xf9\\xee\\xb6!\\xbf\\xc0|\"i\\xeb\\xf7\\xa2q\\xbe9\\xd0\\xbc\\x8f\\x7flMJ\\x9cHE\\x99\\xdb\\xc3/K4F\\xe2\\xec\\nk\\x9aG\\x02\\xed\\x1f\\xae\\xc3\\x80\\x13c?\\xc6S\\x057\\xab\\x8b\\xbb4\\x8e\\xc8\\x12F\\x81\\xfa\\xf9\\xa1\\xabK:\\xaeg9\\x10\\xbf;o\\xb5\\x8b\\x078\\xac\\xff\\xa3v{\\xa2\\xf0W\\xa7m{8\\x84\\xefN\\x82\\xdc\\x0c\\xa9\\x02\\xd5\\x18~\\xe1!#\\x908\\x1d\\xe0\\x9d\\x14\\xbd\\xc9\\x03\\x9a\\xef3\\xca\\x9ec\\xba\\x7f\\xcao\\xe4\\xb85\\x87\\xb8\\x11\\xcfCE.\\xd3K\\xc5\\xe0\\xddk\\xb0\\xd6\\x0c\\xd5\\x02\\xed\\xf2\\x17q\\x13\\xabM\\x80\\xf63J\\xe8uF\\t\\xad\\x8b\\xd1zB\\\\\\xafl\\xcb\\xaf\\r\\x1cB\\xe3n\\xea\\xaf\\xd6%ab\\xeb\\xecH\\xb6-\\xf7\\x95\\xd7\\x8b\\x95$r\\x85\\xdb*\\xdd\\x93G\\x037\\xa5JW\\xf2\\xcc\\xd7\\xe6\\xcc\\r\\x13\\x86\\\\\\xdbZ\\xb9\\x8c6\\xd3<\\x8b\\xb6\\xd1\\x1aVv\\xf7M!\\x17\\xae\\x18\\xcd\\xba\\xf0I\\x98\\x8dkh\\x1c\\xf2\\x8c\\xbb\\xa7\\xb7I\\x7f\\x1e[_kH\\xc4\\x0f):\\x05$\\x9aL6\\xebw\\x99\\x82\\xc6\\x8f\\xcf\\x19}K\\xa7\\x03\\xffX\\x18\\x05r\\xe0\\xf5\\xe1\\xdc\\xc3\\xd2n\\x0el\\x1cPp\\xd9~\\xc3\\xf4\"{r\\xbe\\x9a_\\x10\\xd1\\x02\\xde\\xdb\\xf6\\x81M\\xc7u\\x80\\xb6\\x19%\\xb4\\x9fQB\\x9f\\xc3(\\xa1\\xcfc\\x94\\xd0:Q ? \\xc8\\xb1#\\xbf\\xaa\\xaat\\xf6\\xfa\\x9a\\x01\\xfd\\xfd\\xcb\\xffM\\xbc\\xcd\\xb1\\xd6&Y3\\x9c\\xe6=\\x88P\\x03\\xeag\\xf8\\xe6Q)8\\x84\\x9c\\xb2\\x9b\\xf0\\xae\\xcd\\xc5\\x99\\xe6\\xc5\\x84\\xe6\\xc7t<\\xa3\\xec\\xfe\\\\\\x11\\xb7\\xd7]o\\x8a\\x13y_:TW\\xf5\\xd8\\x82\\xadOP{f\\xb1\\xe2,\\xc93\\x8b$\\xeb\\'dO=(\\x16\\n\\xd2\\xf9p]\\xfdk9Y\\x82\\x86\"\\xbad=\\xac}b\\x90[9F\\x1e\\xb4\\xb3\\x15Z\\xd3<\\x03\\x80\\xd6\\x0fi=\\x82\\x8e\\xeb\\xf5\\xc1LEe\\x13\\t\\x8a\\xfa\\xf3U\\xe0/#0Z\\xd8\\xc0\\xd1\\xe1\\x05\\x8d|\\xe7b\\x0f\\x10\\x949\\x97a\\xd5k\\xc2\\xde\\x8fQB\\xef;\\x9f\\xbf\\x90\\x131$\\xef\\xb04GB\\xc1\\x17\\xe8}>Z\\xed\\x94\\x14\\xbcjI\\xe4\\xf6\\xae\\x8c\\nPV\\x80\\xdf\\x94\\xc0\\xcdE\\xfd2\\x1b\\xd5\\xa9\\x02\\xd5\\xe9/\\xba\\x0f}\\xfd\\xd3\\x85t\\xe8x\\xbf[\\xd4g\\x01\\x1b\\x1cq%7\\x8c\\x81\\xe6\\x9bt\\x9f\\t]\\xb3-0{\\xa3Ih\\xfe\\xc97\\xb3\\xa7\\x1bM\\xc8\\x98:\\x97\\xa3\";\\xd4\\xd8|\\x9a\\xe6}\\xab\\xce\\xd4x\\xa6\\xe6\\x12\\xd29\\xb3\\xa9\\xfb\\xd9\\x06-R\\xdf\\xe2[ \\xdb&\\x07Yg\\\\\\x17\\x9c\\x8b\\x94\\x86\\x1f\\x05\\x1f\\x1fv\\xe6\\xcc\\'\\xe8\\x05\\x8e\\x1b5\\xc4\\xc3\\xea\\xd1\\xea!p_g\\xa4\\xae\\x15\\xed\\xce\\xfa5z\\xdd\\x91_0\\x89I%\\xab\\x16\\xd5\\x17\\xbe\\xf7w\\x05\\xd7\\x8au\\xa6\\xc7zd\\x99\\xbc\\xc8\\x8e\\x9d\\xcf(\\xa1\\xf7\\xa9\\xecV\\xab(\\x8a\\xf5#\\x9d\\x16\\xef\\xa79\\xdf\\xb6a\\xf3\\x89t\\xad\\x8d\\xbf$\\xcbJ\\xc8\\xa1\\x03-\\x16\\xe3.yA7\\x86\\x0b*\\x07b`s\\xbf\\xe7\\x8f\\xc6\\x10\\x0e\\xe1\\xb9o]\\xa13J\\x1b\\x0c\\xe4\\xf5\\x7f\\x85\\xce\\x1e\\x0f\\xb4N7\\x9c\\x1f\\xc14&.\\x99\\x00\\x17-\\x17}l\\xae\\x99\\x0c-e\\x1d\\x87\\xb7\\xe5\\xdb2v\\xca\\x10L\\x06O\\xe8\\xc8u\\xc9A]\\x8e\\xe4\\xb5\\xb2?&\\xb3u\\x1a\\x9a\\xe7\\xf4\\xef\\xe7\\x07\\xe4<\\xe2\\xbd\\xb1\\xf5\\xf2\\xb3?\\xa6A\\xb1k\\xedJ\\xddJi\\xa0q\\xdf\\xd4\\x83\\xd3\\x83\\xc2Z\\x93\\t\\xad\\xf7\\x1d}uH\\xae\\xcbVm$\\xff\\x9e\\xa6\\xc3\\xc6\\x8b\\xd4\\x0e\\xd2q\\xb1\\x11\\x8f\\\\F\\xcb%\\x91\\x91skD\\x15\\xa8\\xce\\x8a\\xcf\\x9fiv\\xd1\\x9c\\xcc_\\x13\\x9e\"2A\\x1a|\\xf8\\x05\\x0e\\xae\\x03a\\x94\\xb6\\xe1\\xd85\\xc5O\\x92\\x7f\\x07\\x91\\xbf0\\x1c\\xbb\\xb7\\xdd\\x13\\x9ete\\xafN94\\x9e\\xf5W\\xc3\\xf1\\x17\\'\\x84\\xd8\\xedH\\xba.\\xebm>R\\xdfO\\xf3\\x05\\x8b]\\xa7\\xac\\xbelNg\\xd7]\\xb8*\\xb4\\xbd\\xf1\\x83.\\xb4\\xaaaf\\x90\\x10\\xc1\\xe6c\\xd4\\xce\\xd2q\\xc3\\xfe\\xb5=\\x95\\xd0\\xf1\\x8c\\xb2\\xdf\\x8d\\xce\\xaf\\xcb\\x9b\\xe5\\xbeU\"\\x86\\xd0<{\\xac\\xd2\\xb6\\xd9zgc\\x89\\x03\\x7f#+\\xfa\\xc0P\\xf9\\x95\\xb9\\xca/\\x03\\xa0\\xc0wo\\xfc\\x84\"\\x7f\\x92\\xaa\\xa6%\\xbeI\\xc0\\x0bl\\x05\\xbdV\\x8e7\\x9e\\x06\\xb4\\x9e\\xd7Vx\\xaf\\xa7\\xefm\\x0c\\xf9i`\\xe0\\xe5\\xa1\\xe7\\xc4\\xd6i\\xd7)\\xce\\xbc\\xd4?\\xc3\\x8d\\xf8\\x16q6\\xff\\xd1-\\x05\\xf4;\\xa7%\\xd9;N\\xcbT#\\xdd\\xefTv|\\x1b\\x94\\x04\\x1a\\xa7\\xd4-\\xb3Q1\\x07\\x1bb\\x11/\\xfd)\\xef\\xaa\\x06\\xd0\\xf8\\xf0\\xb1xEm^E\\xfa\\xc8>\\xe2\\xcd\\x014\\x17;\\x9d=\\x1c\\xc1AG\\xc1Z\\\\\\x9d\\x07O\\x1e\\xf8\\x9a\\xb6m\\xb7c\\xe2o[8\\xb2u\\xca\\xd85\\x16C\\xcd\\xb4\\xcd(\\xa1q\\xe3Mt7\\xcb\\x969\\x90\\xbe&\\x89\\x1as\\xc5\\xe9@\\xf3K\\x1aW\\x0c\\xff>n\\x14k\\xbf\\xbe\\xff{a^\\x1c\\x043q\\x93\\x1f\\x1b\\xefP\\xff\\xa4\\xba\\xe2\\xbe\\x8ew\\x93\\x0b\\xe9\\t\\xf6\\x9dT\\xd9\\xad\\x02T\\xc5:w\\xa7\\xbc]\\xd3\\xce\\xc6[\\xff\\x87\\xfe~\\x9d\\xd0:\\xce/\\xf4\\x12\\xf7\\x8fi\\x93_\\xa2\\xc1\\x073\\xc7\\xab\\x00\\xad\\xdf\\x16v~\\x12\\xcf\\xcc7d\\xfdL\\xdfG\\xa3\\x9e\\xd2\\xb0!.\\xa3\\xcd4\\x7f\\xde\\xa0^\\x92\\x91\\xfa0\\x84\\xad\\xa7\\x04\\x07n\\xa9\\xcc\\xcbs\\x83\\xdf\\xe65\\xd3\\xeb\\xf1\\x18\\x0e=jpc\\xf3\\x9c\\x9e\\x8a\\x82U\\xa1\\xf5\\xd1\\xa4\\xacPo\\xbd\\xd3{m\\xb6\\xfe$\\xc0\\xab\\x9eV/\\xe3\\x06\\x19\\xfc\\x1f>\\xca\\x19\\xe8w\\x19\\x8e\\x13\\xc7\\xe6\\x8e\\xfc=\\xe3h \\xe4\\xcckL\\xafX\\x11\\x08\\x1d\\xd3\\x95K\\x15\\xdc\\x02A\\xf1\\xab\\xee\\xb9\\xe0Z;P~vC\\xfc\\x98\\xa87\\xd0q\\x8c\\x12:\\x9eQB\\xe71\\xca\\x9e\\x83\\x89w\\x9c\\xba\\xfak\\x12H\\xf9\\x86\\xeb\\x0f\\xa5\\xb6\\xc9\\xb0\\xf5\\x04\\x9a\\x8f\\x0f\\xc7\\xc1\\x1b\\xe3\\x88\\xc8\\xcc\\xbe\\xbf\\xfe\\xee\\xf2\\x81\\x91sg\\xcb\\xd6\\xc7i\\x1d\\x8e\\xe6\\x9d\\xf6\\x9c\\xfb[\\x9e]\\xb0a\\xf3[Z\\x87\\xa3\\xf9)\\xed\\x0fO{\\xa4\\xa7\\\\\\xa3\\xcd\\xbe\\x0fF\\t\\xfd\\xfb\\xdd\\xd9S\\x8a\\xd2C\\x07\\xa6\\x90\\xcb\"\\xe2\\xba\\t%j4n\"4~\\xa2\\xf5g\\xda\\x1e\\x8e\\xfbN\\x132NU\\xcaOc\\x8d4(B\\x98\\xda\\x0c\\xe7\\x18\\xc2\\xcf\\x9e]$y\\xf0\\xa8\\x01\\x1d~6\\x8f\\xad\\xbf\\xd3z7\\xb5\\xb3|?\\xa7\\xe7\\xbf\\x91\\xf0\\xb7\\xe1\\r{S8\\x80\\xd1\\xc1\\xb9\\xc76@\\xeb\\xca\\xb4\\x7f\\xd3\\xdf\\xf8!?;\\x13\\xc5u\\xfbNV\\xec\\xd4\\x87\\xca\\x96Y\\x83\\xaf\\x1a\\xf5\\x81\\xb6\\x19%\\xb4\\x9fQB\\xebu\\xfc\\xb2\\x90\\xc1=[\\xa6\\xae\\xa0\\t\\x02\\xad\\x7f\\x96[\\x1fQ\\x83\\xb4\\xa2\\xd8R\\xdf\\n\\x050\\xf9\\xf4a\\x9f\\xc6\\xde)\\xe4i\\xd4T\\xc1\\xd5\\xa7\\xa5\\xe1\\xff\\x01\\x00\\x00\\xff\\xff\\xa5X\\t8\\xd5[\\xd7G.\\x19\\xc3\\x892\\xc4\\x911\\xf3L\\x86,d\\x9e\\x8ec\\x1e2+d\\x1e\\x12\\r\\x8a\\x8a\\x8a&)RQ\\xa9P\\xa19\\xdedE\\xd2Mi\\xba\\x95\\x86[JsH\\xea\\xa6{+\\xbdG\\xfe\\xfb\\xff\\xbe\\xd7\\xbd\\xdfs\\xbf\\xef\\xf9<\\xcfy~\\xd6\\xdak\\xfa\\xefa\\xad\\xb5\\xf7\\xe7\\xbaR\\x81\\xd6\\xad\\xf2\\xa8\\xfa,\\x7f\\xf7\\xd5\\x0b\\x91\\xb8:\\xab\\xa9\\xf0\\x9d\\x8f#\\xce\\xc9\\x0e\\xa81\\x8eM\\x05\\xe7]+T\\xdb\\x12|0\\xef\\x88\\x84\\x96\\xa84\\x0b_XW?>\\'\\x96\\n\\xfbG\\x8a\\x1b\\xac\\x8a}q\\xf3\\x94\\x1c\\x93C\\x82A(\\xba*\\x9a\\x9b\\xe1d\\x80\\x84O!|R\\x91\\x9dr\\xca\\x8c\\x81\\x9f\\x17\\x1es\\xb0Z\\xa5\\x0b+NC\\xde\\xd3\\x97*h\\xed\\x1f|\\xb4u\\xa7\\x16f\\xf0\\x1f5\\\\\\xdd\\xad\\x87\\x84_<oo\\xce\\xc2\\xc9\\xf6\\xd0\\xf0\\xe6\\xb0T\\x8f\\x05\\x13)\\x84\\x1a\\xff\\xcb\\x06\\x17V\\xcfG\\x9d\\xf4f-U\\xb6?\\xaa//jZ8-\\x15\\x9c\\x0e\\xd6/\\xdd\\x96o\\x07\\xa3N\\xe2\\xd2~\\xef\\x850\\xb6\\xfe\\x96\\x93\\xab\\xa4\\x01N\\xceZ0p*]\\x1fe\\x9b\\x92\\\\\\xb2E$qV\\x97Xgs\\xac\\x16\\xa6y\\xfagim\\x93\\xc4\\xe3K\\x86\\x1bY%\\xb3\\x91\\xe8\\xa5\\x84\\xf1wK\\x7f\\x8f\\x84\\x00\\xbf\\x1d[\\xf3\\xf2\\x9c\\x90\\xe0\\xa3\\xe73\\xcf1,\\xec\\xb0g\\xd7\\xa0\\xe5{\\x9f\\x99\\xe8X\\xb2^\\xbf\\xf1\\x91$~\\x8b\\x17\\x15\\xbbb\\xc3\\x82%\\x1f\\xd7|\\xb9\\xf4\\xeb4$X\\xbc=I\"\\xbf,\\x88\\x8e\\xc35p\\x8d\\xd9\\x9d\\x19a@\\xe2\\xa1\\x90\\xf6C\\xf4\\xf8z\\x1c\\x0f\\xd6\\x17\\xba\\xc3\\xc7\\xe9\\xcf\\xcb\\xb7{\\x8b\\xe1?\\x8dO\\xc0\\x89|\\xb8u\\xef\\xe7^\\xf5r\\x15\\x828\\xaa\\xa9\\xe9\\xee2k.\\x12:\\xc6\\xbb~H\\'\\xd8\\x07>\\x9dh\\x0f+q\\x9f\\x83\\\\c\\x7f\\x85v@!rfW\\xe0\\xf7\\xe6\\\\x\\xe5\\x9a\\x9c\\xab\\xd3,5>\\x0e\\xb9\\xc8\\x13q0\\xc0x2\\x17\\x96\\xee\\xb0\\xba.\\xb8T\\x8a^\\x7fZ.y%oG~\\x06\\x8c\\xcfC<~1O\\xe9.d\\x0b\\xd1\\xfa\\x8bzw\\x8a\\xef_\\x94\\x0b\\xc4\\x0e\\x85\\x90\\xcaT\\x16*\\xe3r\\xc7\\xdes\\xa2;\\re\\xe6\\x8c\\xa3y \\xd8\\x1e[!\\xf0p\\xc7,\\xb4\\x9d\\xf3\\xea\\xdea\\x19O\\xfc\\xa4\\x1e\\xb21\\xf2\\xf3\\xf1\\xf18\\xa1\\x12\\xff\\x8c\\xb94n\\xd2\\x13\\x0eH\\xfbI\\x11O\\xeftM\\xf5\\xbd=\\x97\\x96cq\\x02\\xdbbQ\\x05\\xe9Q9m\\x12\\njX\\x9a\\x97\\xa4\\x1b\\xb7\\x81\\x85\\x84\\xa6\\x10\\xfe\\xaf\\xf2\\xa6\\x1b\\x02\\xd6{6\\xb9\\xe2\\xf6\\xef\\x9b\\x96\\x7f\\xb9\\xe9J\\xc7\\xf1\\xd9\\xbbo\\x7f\\x85\\xf9\\x16H|\\xf9\\xa565d%V\\xbeV\\xb9hP,\\x8e\\xb2n\\xedC\\xe2\\xe5\\xfa\\xa0|\\xe2y\\xc8\\xba\\x85\\x1ah\\xc1\\xed\\xbeJD\\xd7\\x0c\\xdf\\\\[^]X\\xed\\x06n\\x9e\\x01O\\xb9\\x8b\\x01\\xebw\\xa9\\x0b\\xac5\\x1ai]V\\x7f*27\\xd0\\x11<r\\x1e\\x7f\\xbe_\\xe9\\x80ro\\x9f\\x9a\\xc8T;c\\x8d\\xf9\\xb3\\xf9g\\x9e\\x98\\xd3\\xfe\\x88\\x9f\\x92\\xe9\\xbc~\\x1e\\x0f\\xf7\\x00\\xef\\xcb\"\\xf5\\x01\\x95,\\x9c\\x88\\x11\\t\\x8a\\x97lj\\xe7\\xe2\\x9d\\xd9|\\xd1\\r\\xfc:x\\\\8\\xf5\\xf0\\xfa\\xf6D\\xc8\\xb8\\xf9\\xe5\\xe2]y\\x0f\\x9c\\x88\\x1b\\xebT\\x0b\\x9bu\\xed1Wo\\xe8\\xe1\\x92\\x1e\\r\\xa0\\xf0\\x1f\\xe9;\\x9b\\xcet\\xde\\xact\\xc5\\xe7\\xe1&\\xdckNJ`%O\\xb8e\\xfe\\'w8\\xde\\xef\\x1c\\x9e\\xde-\\x80\\x92\\xeb\\x1fO\\xf5c+\\xc1\\r\\x85\\x1d\\xd9i-\\xd2t|\\xc4/\\xb1\\xf3#>\\\\\\x02\\xff\\xdf\\xf1\\x88o\\x95\\xedKmL\\xe9\\xef\\ta\\xda\\xbc\\x8f\\n\\xf5\\x82(\\x81\\x85Q\\xfd\\x17D\\x91`\\xad\\xfb\\xce\\x87\\xef\\x98\\x9aP\\xd42-\\xecD\\xb2\\x12\\xb2\\x8a\\xb4\\xca\\xa3\\xee\\x89c\\xd8\\xbb\\xd1\\xc5\\ryz \\xf2\\x8d\\x11rx\\xba:\\xbd\\xcf\\x08m%xw\\xdf\\xf5m\\xed\\x10*\\xfa\\xafw\\xd3UgR\\xe7\\xaa\\x1d-\\xda\\xe2\\xce\\xaf\\xd71\\x00\\n\\xa9u\\xda\\x8c\\x97\\xf8\\xad*|oG\\x93q\\xcc\\xe4,\\xdc\\x1d\\xeb\\xadp%2\\xf2C\\xaa\\x15\\x83>\\xaf\\xc3\\xa1\\'\\r\\x9e\\x98\\xea\\xc2{\\x87\\x17\\x9b\\xad{&\\x13\\xa4\\xed\\xb4\\x8d\\x8c\\xf2\\r\\xa8LC\\xc2?\\x9b\\xc11\\xb4b3\\x18\\xcd\\x97\\xf8-\\xafs&~\\xefw\\\\wi+\\x1b\\x98\\xa1wu{,Xx\\xa9\\\\5\\xc1:P\\x02(\\xc4%\\xb1\\n\\x9a\\x9f\\xdd\\xa7\\x12>F\\r\\xe9\\rTx+\\xd1\\xf12\\x86m\\xae\\xcd\\x7fn\\n\\xc9\\x9f\\xf8/\\'>\\xa0\\xf2A\\xa17\\x9e:\\xe7\\x14\\xdbe\\xe8\\x0f\\xf5\\xbf\\xd9\\xdb\\x06\\x87j\\xe3\\xdc\\xb8\\xe4\\xa1\\xd57,\\xf1>\\'\\xecl\\x11c\\xdc(]S\\x94\\xfb\\xce\\x89\\xd6\\xd3\\xca\\xfb~$:K\\x1d\\x12\\xfa%n\\x073d\\xd0\\xf5\\x90b\\xeaF{\\x13\\xe4s\\xeb\\xbd\\xf3k\\x8f\\xe7\\xf8~Y\\xe6\\x0bo./\\xc8\\x96\\xaf\\xb1\\xc5\"\\x977\\xbcF\\xcb|@\\xf0\\xe3ZKg\\xb6\\x03\\xdaM:\\x9a\\xf0\\x82\\xc5\\r\\x14\"s\\xd6\\xccv\\x8dz\\xafq?\\xa5l\\xb8\\x11rp\\xf3\\xb67\\xc2\\x18\\xdc\\xbd\\xffL]\\x1d\\x0b\\xbd\\xaf\\x0f\\xa8\\x14\\xbf\\xd7B\\xb2\\x1e2\\x1c\\xb1\\xcab?(\\x8d)\\x8c\\x9a\\xa7\\xccD\\xae\\x8c2]\\xdd!e\\xa8\\xe0)\\xdfe\\xaf;\\t\\x89>\\x85\\xb4\\xdf\\xd0\\x8f\\x92\\xd5\\xd2o=\\xa1\\x86k\\xfa\\xb5*}Ct\\x17\\xcbTX\\xf1\\x8cA\\x10\\x84\\xaff\\xca\\xc4\\xc5icP\\xcf-\\xd1\\\\I%\\xdc\\xd4\\xf2\\xe8\\xdb\\xfbS~\\x90\\xe7\\x17~\\xe9\\xcd\\'a,Zp\\xfd\\xba\\xb5\\xb8:\\x0eZ\\x85\\xa4=\\x14\\xb7B\\x81\\x83?\\xe9\\xfe\\xf1\\xd4x|\\xbd\\x02T\\xf0|M\\xb5\\x07x+\\xe3\\xb0\\xb0\\xcc\\x1fj\\xc7|!\\x9f\\x93f\\x8aL\\xccP\\xbdY\\xe7k\\xefRQ\\xf4\\xd8\\xdeq\\xe1E\\x94:2\\x96\\xd7V\\x9a\\xb6\\x18#\\xeb\\xc0\\x8dg\\x91\\xfdSp\\xf7\\x92)\\xdb\\xe5:5\\x91\\xc8\\xcf\\xda\\x16\\x1c$\"bG\\xfb\\xa5\\x10\\x88\\x1d\\n\\x81\\xc4C!\\x10\\xfb\\x14\\x02\\x89\\xd3&\\xefig\\xd9\\x07\\'(\\xb9\\x18;\\xc3\\xf7\\xb6\\x11~\\xb0<c\\xb1\\xf0\\xae\\x03\\x1d?\\x89\\xe7I\\xce\\xd4\\xfa\\x83\\'\\xda\\x81\\xec\\xf7\\x0b\\xe1\\xa3\\x82\\xe5BB(3\\xf2\\xc2\\xd4\\xed\\xe1L\\xf0\\xdb\\x19\\xaf}\\xc5`:\\xe6\\xef\\x11\\xd5|\\xc8V\\xc2W\\x86U\\x8f\\x8a\\x82\\xbe\\xb6Z\\xde7\\x8b\\xd4~\\xa4\\n~\\x95\\x87\\x8e\\xf4\\x08\\xc4\\x12\\xc4\\xf5\\t\\x9c\\x8d]\\xec\\x82\\x85\\x1f\\x1f\\xdc]y0\\x02\\xa4/\\xaf]$\\xb9E\\x17\\x0f\\x88\\x14\\xec_\\x99<\\x03\\x7f\\xec\\xb7\\xe5\\nx\\xb6>\\xacQv\\x83\\x1b\\x92\\xf1\\xb3\\xaf4\\x9d\\x0c\\xf9\\x00^\\x15\\x88\\xb7\\xed\\xf3e\\xe2\\x10k\\xea+\\x86>\\x93\\xd6\\xa3\\x90\\x1e\\xa7\\x10\\x88=\\n\\x81\\xe8Q\\x08U\\xa6\\x92\\xb5z\\x8f\\x0c\\xf0;\\x7f\\xc0\\xa1E\"\\xf2\\xb8c\\xe9\\xf1\\xab\\xc5\\x11\\xe6p\\xc2r\\xca`\\xb7\\x83=R\\x08\\xfd\\xfb\\xbc\\xfd\\xe7X\\x18\\x13\\xc4\\xb2\\xcf\\xfbj\\x0cO\\x0f[S\\xd8z\\xa7w\\x99\\xaf\\xce/\\xc2\\xc8\\x1ek\\xacxT\\xc8xktCV\\xee\\xd9\\xb09\\xd0\\xcc\\xe8o\\xed\\xd6\\x16\\xc6\\x16\\xf3\\xce\\x15\\xfd*jX\\xac> r.9\\x05t\\x93\\xf6q\\x9f-]\\x80\\xae<\\xbf\\xfcr,F\\x13\\xc7\\xeb\\xb6\\x07N\\xd9i\\xb8\\xf7D\\xb2!r3\\xced\\x9a>\\xd6C\"\\'\\x18;3aqH*<\\x17|\\x97&\\xeei\\x8e\\x06\\xbez\\x1a\\xb5K\\xcci}\\n!\\xf7\\x91Ou\\x1b\\x9a\\xd2\\xf6d%F\\x02\\xfe\\x90\\xf2\\x85\\xb1\\xae\\xc8A\\x8c\\x8d\\xa4\\xfe\\x12;\\t\\x02\\xbfW-\\xb8\\x1bL\\xd7\\'b\\xf7G}V\\r\\xa6\\xfb\\x9a\\x99\\xdf>e\\xf6.\\x9d\\x83n\\x07\\x04\\x1dT:BaxI\\xc5h\\xbf\\x8a?ru\\\\\\xda2\\xbb\\x9eI\\xef\\xdf\\x1do\\x8dn\\xb2k\\xd5\\xc7\\xf7\\r\\xd7T$\\xdf?\\xc8\\xfb\\xa5!]H\\x11nr=\\xe2\\x11\\x18\\xb4\\xa7\\xf6\\xa5\\x19F\\xae\\x1a\\x8a\\xed3S\\xa5\\xf3\\xa50\\x8ff\\x81\\x94M(\\xdc\\x8awz\\x18\\x95m\\x8a\\xe3\\xe8H\\xd5\\x1d\\x0b\\xac\\x0c\\x94\\xa8:P\\xcd\\x86\\xb1vQ\\xe0u\\x18\\xc8\\xb3L\\x9e\\x0bV\\xd8 \\xe7\\xd4\\xfe\\xa2\\xca\\xe3\\x8b\\x97\\xe3\\x9bw\\xbf\\xba\\xcc\\xa4\\xfa<C\\xcc_3*\\xa0\\xe3\\xa7\\x85Dn\\x93~\\x96\\xb6b\\x857\\xac\\xeb\\xb4?YX\\xa5D\\xeb\\xd5\\x85\\xfb\\xb0\\xd5\\xcc\\x92\\xa1\\x96sl\\x19\\x16Q\\xd8\\xb7\\xf0\\x9a\\x96\\x00\\xaa\\xe1OF\\xe2&\\x96\\xbf\\x86\\x02\\x85\\xb4}\\ni;d|I\\xbe\\xae\\xdb\\x81\\x9ap(\\xfbt\\xf5\\xdb\\xed\\x0f\\xb2t\\xdfG\\xce\\x81\\xc4\\xfe\\x96\\xf3\\xd3\\x04\\x93\\xa9\\xfe\\xd7\\x0f-\\xab\\x12.Kz\\x18bIm\\x9e\\x97s`0\\xfc\\xc8\\x9f\\xab\\x19\\xb8\\xeb\\xdc\\xee\\x86\\xc0\\xddS\\xd1Xy\\xf0\\xe8Gqe\\xc8\\xebxr\\xa5a\\x91\\x1e\\xeaEg\\x1ez)g\\x00B\\xb7Fd\\xf2\\xa2\\xfeh\\x9d\\x80\\xd6M\\xe7Y\\x05\\x92\\xddR\\x88\\x8d_\\x7f?\\x95\\xc2\\x84\\r\\xd6^\\xf7\\x1aUy\\xf1td\\xee=\\xab\\xe2L\\xbaOh\\xbe\\xbf\\xee[\\xcc\\xcc\\xc5\\xb0\\xf1\\xd0\\xe6yqq\\xd4\\xf9\\xe3\\xe4{\\x12\\xef\\xc6g\\xc3\\n75\\xe3!p\\xda\\xe9\\x1b\\\\.\\x11\\x988{\\xfb\\xd3\\xba:\\x18G\\r;z}3g\\xd4\\xcd\\xfa\\xb9Y\\x08\\xc9\\xbd\\x83\\xe4\\xf1\\x86\\xa0\\xf2!\\xd7b\\r:\\xcf\\x90\\xf5<^\\xd6\\xb34D\\xcd\\x01\\xe6I1*6*\\xd8 \\xa9_\\xfb9\\xd3\\x1eQ\\x1b\\x0e7\\xfbFL\\xbe\\xcdR\\xc1gZ\\xfdq\\x05\\x05\\xa6\\x88\\x99\\x1dEC\\x0e\\x0c\\xf4T\\xd2.=m\\xa8\\x8c\\x1f\\x0e\\xcd\\x06\\xbd\\xbb\\xda0CqR\\xf6\\xa2l&\\xea\\r\\x1fS\\x95\\xea\\x91B\\xdd_\\x95\\xf9V>\\xd7\\x84\\xd0fga\\x9e\\x7fE\\xe0\\xc8\\x16\\x8e\\xe3\\xd7\\xbet>\\xf9\\xd1/\\xbcN\\x05\\x85\\xe1m\\x87\\x14d%Q\\\\>Q\\xee\\xa8\\x94!\\xfc\\xf8\\xceJMl\\xb9\\xa8\\xe3\\xd5\\xf2\\xdbOH\\xfa\\x83\\xac=M\\x1eJ\\x03\\x9c}\\xcc\\xae0kb8\\xe1\\xc7\\xde\\xc1\\xc3\\xbf\\xce\\xf7\\x85\\x97\\xc9\\xb6\\x8a<\\xcd\\xb6t\\x1f@\\xe8\\x1d\\xe5\\xe5\\xe5M;\\xda\\xe1as\\xc5A\\xf3\\x1c6\\x92y\\xd3\\xfae\\xc7\\x8b\\x19\\x05\\xf1\\x10\\xdfz\\x92\\xa1\\xf2^\\x8c \\xba\\x9cVI;?[\\x01\\t\\xcd\\x98\\xa2^\\x91&\\xa9\\x0eu\\xb9b?o\\x8a\\x92\\xc3\\x0b|Bjq\\x1b\\x98\\x98V\\x14\\xbd\\x91U\"\\x8dq\\x17\\xf7\\xbe\\xee\\xbf`L\\x9f;i^?Qm\\xf6<0m\\x17\\xf9\\xfc\\xb5\\xd1\\x0c#\\x0e\\x0c\\x84\\x05\\x06\\xea \\xe9\\'_\\xf6\\xddg\\xe9\\x9bx\\x00g\\xb7T\\x8f\\x1c\\xe1\\x1e\\xbf\\xe7\\x9dS\\x07R\\x97.\\x1e\\xe4\\x14\\xbeM\\xd6@!\\xae\\xbb\\xdayr\\x8f\\xaa3\\xe1\\x8f\\xdf\\x07n\\xfa\\xc0\\xd4\\xee$\\xed\\x92=\\x9fZ\\xd3\\xf7\\x0c7<\\xf7\\xe5E\\na\\x9b\\xe2\\x86\\xcc\\xd4\\x91y\\xa0\\xe5\"p\\xbe\\xae\\x8e\\x89c\\xd7\\x80\\x16n\\x1b,)\\xda\\xb9\\xda*\\xc2\\x1b\\t\\x9fB\\x18\\xaf\\xa3\\x86\\xf8\\xf6\\xc8\\xca#\\x12N\\xb6H\\xea.\\xd1;Pq\\x81\\xd9h\\x12\\x0c\\xe3}\\x9c/\\xc2\\xf9\\x8eu2!\\x16H\\xce#\\xb1\\xcb9\\xa5Uk\\xb32A\\xf8\\xf9\\xdc\\x7f\\tJ\\xcb\\xd3u\\xb63\\x8aO\\xa3\\xafA\\x9f\\xca\\xabjH\\xeeA\\xfc\\xa7\\\\\\x1a\\xcd\\x84\\xed!imH\\n\\xdf\\x14\\t$u\\xeb\\x9a\\x07\\x9f\\xe3\\xcfB\\x86p\\xbe3\\xbc\\xa3\\xf6\\x13\\x93\\xee[\\xee\\xa7\\xe9t\\xf8\\xd6:\\xc3\\xd4+ey\\xc6\\xf2\\xb24\\x9fS\\xbd\\xde\\xdfLT\\xc6y\\xdfz\\x94\\xadyd\\xf1\\xde\\xa0|\\xd5\\x97a1\\x14V\\x10\\xf7\\x9e\\xb9V\\x02\\x89\\xfcv\\xb9,\\x17~O\\x80-\\x93\\x16\\x19gk\\x88\\xe2-\\x17\\xc5M\\xae!\\xa2H\\xfa\\x91\\x1f\\x86\\x07\\x94h\\xbf\\x14\\x82D\\xdb\\xbeb%\\x939H!\\x90\\xfe\\x8f\\xd4\\r}\\xdb\\xc5\\'RC\\xf4a<_\\xd9#Y\\xf7\\xc2\\x15v5\\xec#,\\x98u\\xe2\\xf0\\x97\\xce-RH\\xfa\\xee\\x15N\\xad\\xcbf\\xa8\\xab\\x83~\\xb9\\xc6\\xf4RtA=\\xc7\\x8d\\x8f\\x1f\\x84;\\xe1\\x95\\x1c\\xfd\\xad\\x0c\\x0bo|\\xf8q\\x815\\xfb\\xac%}\\x9f\\xe2d\\xdd{\\xdd5\\xcb\\xa1\\x96q}n\\x8f|\\x12\\x9d\\xff\\xc6\\xaeA\\xdc\\x9f\\xfd\\xa8\\xf3\\xee\\x83\\xf9xy\\x8f\\xbd\\x8b\\x1dr\\xba\\x9a3\\x01\\xb5\\x96\\xf4}\\x91\\xe8\\x119\\x0e5\\xf4\\xb1c9\\xc4Z\\xb3\\xe7\\xae\\xf1g#ywp\\x9c\\xb4XH92j\\xfc\\xfcw\\x89 \\x85\\xd0+.YWQ\\xa1\\x84\\xe4\\xfeD\\xfaI\\xb9r\\xc7\\xd1p\\xb4\\x83\\xd4\\xa0\\xa1\\xbd\\rCJ\\xf4\\xb9#\\xeb\\xd2\\xfe\\x9bz\\x88gY;\\xc8\\x8a\\xf4jojTF\\xcd\\xb1\\x06&\\xd7\\no\\xf5\\x84\\n\\xe5X\\xcbb\\x9bq\\xd6\\xc7\\xd6\\x9dr\\xf8\\xac\\'gM\\xcaa\\x11$r_\\x8b\\x84\\xf8m\\xdb\\xdc \\xb1c\\xf4\\xd8\\x92\\xb4\\xd1V\\xb2\\xcf\\x89\\x9f\\xfd\\xf7\\x0f\\xf6\\xe9\\x97h\\x80c\\x1f\\xabUH\\x93\\x89\\xa4\\x7f%}@\\xc8\\xcf\\x1b\\x8a\\xa1\\x86E\\xe7W\\x92\\x0f;+k\\x12\\x02\\x18\\xf2`\\xd7\\xd5\\x9c\\xab\\x15\\xcd\\x8d\\x8bO9&\\x9f\\t\\x93@i9\\x95\\x86nqYp\\xc7\\x86\\xcd\\xca\\x93\\x15\\x08b\\xda\\xe3\\xf8]g\\x12$\\x90\\xe4!\\xc2\\x1f\\x0b\\x83\\xa9mN\\xcf\\xcb\\x96m\\x97\\x1f\\x88\\xeff\\xe0\\x80F\\xf5\\xd7\\xeaxm\\xa8\\xfd\\xf4z\\xf1\\x15T\\xc5\\xc9u\\x0e\\r|UL\\xfc\\xce;M3\\xbe\\xd1\\x10R\\xde&\\xed~\\xb3\\xc8\\x0b\\xfcN\\xe7x\\xe4X[\\xe0\\x9bc\\x9c\\x84\\x9ba\\x8e\\x97\\xde%\\xfeq\\\\M\\x0f\\t\\xff\\xd5YN\\xc2\\xeb\\xf3\\xa1\\xdf\\x07\\xb6\\xbc\\x8a\\x99\\xdae\\xa5O\\xde\\rh\\xbd\\xab\\x16\\x1e767\\xfa\\xc0\\x9f\\xc7\\xff\\xd3\\x17\\xde\\x0b[\\xe4)_\\x13I\\xdb\\xf7\\x94\\x97\\x8awWZ\\x00\\x83\\xd7\\x1b\\xa7g.\\x93A\\xcd\\xc4\\xd4\\xe2k\\xca\\xffAb\\x9f\\xe8\\x8f\\xf5\\x99\\x05\\x15\\xed\\xb4<\\x850A\\xef/t\\xc1c\\xf7\\xd3\\xfd\\xac\\xc9X\\xecX\\xbbJm\\xab\\x04j\\\\\\xfc\\xbd\\x82\\x15\\xca\\x86\\xa9]\\xdaG\\xd6\\xa4\\xb1P\\xf3\\xdeQ\\xf1\\xc2\\x025\\xfa\\xbb\\x08\\x92qK\\xceg\\x85\\xf0\\x84\\xd0\\xef\\x1aS\\xeb\\x1d\\x9f\\xdc\\xff\\xad\\x1d\\xc6\\xfboY:>\\x85]\\xcd\\xc3\\x81\\xbb\\x8d\\xf0\\xb6\\xaa\\xc7`V\\xaf\\x11\\x92\\xfaD\\xe4:g\\x99o\\xe9R\\xf0\\x01\\xf5\\xa8\\xa5e-\\xabfbS\\x9f\\xfb\\xf2\\xf5:<4\\x1a\\x0fD\\xeex=G\\x14\\xef\\x1c\\x94+\\xe9\\x981\\x85\\xb6K\\xe6\\x91\\xe8Q\\x08\\x13\\xf4\\xffB\\x13{\\x14\\x02\\xb1K!\\x8c\\xdem\\x8a3\\xec\\xe6\\xc6\\xf1\\xfb\\x8b\\x08jN\\xd3\\xf8\\x1e\\x14*\\x82\\x1e\\xa1\\xd1<\\xcbU\\x94\\xe0{i\\xa9\\xea~\\x96\\x01n\\xb3\\xe3t\\xe4]\\xbat\\x9d\\xf5?\\x16\\xa5$\\xf6\\xd8\\rf\\xbc\\xe8\\x12j\\xe4\\xf7\\xc0\\xea\\x14+A\\xff\\xa2f\\xd0\\x1bk\\xf8\\x16xa\\xb2D>\\xd6\\t6#\\xa1\\xd3\\xefJ\\x0c\\xdb\\x94\\xa5\\xc3x_\\x98\\x84c\\xd7\\x94\\xb5\\xa5\\xde0\\xcc?\\xe9Z\\x0b\\xb7\\x175o\\xca\\xb8\\x92\\x93\\x9e\\x8eOr\\x83\\xc2\\xd5A\\xb7\\xce~PC\\x85\\xbd7f\\\\\\xe0s\\xa0\\xf3~mAl\\x06\\x7f\\xae\\x17\\xa4\\xa6\\xb5\\xday}\\xb5A\\x82Q\\xdbk\\x1e\\xc9\\x88y\\xc03\\xe7\\x9b\\xc6%jfH\\xec\\x12:HwM\\xda^!\\x7f\\xba\\x8f&\\xebJ\\xfc\\xbc>\\xdd0\\xe9\\xa5n\\x0e\\xfcx\\xbf\\x19\\x06\\xbc\\xbe\\xbc\\xbaP\\xb8\\xdd\\x8a\\xea7\\x1dh$\\xe3\\x14\\x02\\x91\\xa3\\x10&\\xc8\\xff\\x85\\x0ey\\x91\\x11\\xe8\\x16\\xa2N\\x7f/\\xf9\\xbe\\xdc\\xf3I=\\xa7\\xf6\\xb2\\x80\\xbc\\xa3R\\x08\\xb6\\xaa\\xd2\\xb3\\x85\\x14\\xd9\\xf4|\\x8e\\xed\\xff\\x97M\\xcd\\xa0\\xbd\\xf8\\x86\\xff&>@\\xb1+7\\xfaF\\xea\\xbc\\x90\\xcc+\\xe1\\xa7\\x8e=D\\x9c\\\\\\x05c\\xcf\\xbau\\xe5)8d\\xa8#7Y\\x110\\xe3\\xdd\\x93-}f~H\\xf8?\\xfa\\xcb\\xc1t\\x98|X.(z\\x9f\\x0bm\\x8f\\xc8?}]zL\\xb82\\x0e2l\\x96u\\xed\\xccs\\xc6\\xff\\x01\\'\\x8e\\x03\\xf1C\\xec\\xdas\\xd2\\xbbKG\\x04\\xa4\\xb1\\xda\\xdc\\x1eT\\x9a \\x850\\xf6,{\\xc69\\x1a~\\xdcs\\x04\\xd9\\x18\\x1c\\xc6\\xc9\\xe8\\'\\x1cPI\\xf2\\xa2T^\\x88\\x03f\\x9d\\xab\\x94\\xd15d\\x01\\x99\\xa7\\xdd\\'\\x1f\\xe8\\x18\\xb5\\x1a!\\x91\\'|\\xd9\\xdd\\xa1\\xb3\\xba\\x9cb`\\xbf\\x96\\x9d\\xdc[>WZ\\x8eB\\x9aO!\\x90w<\\xe2O\\x84\\xd3\\xee=x\\x15L\\xf3\\x89\\x7f\\xb3\\xcfm\\xd1ug\\x83At\\xecy\\x8d\\xf3\\xe3\\xe3\\xfc&s~\\xbc\\xe3\\t\\x9c\\xeb\\'\\x8a\\xe6\\xe6\\xfc\\x04)\\x1c\\xfb\\x13\\xa3h\\'[]\\xa3\\xd9Fa\\x91\\x99\\xe9\\xe3\\xfc1;z\\xffe\\x87\\xefo\\xecp\\xff\\x97\\x1d\\x1e\\xce\\x7f<\\x7f\\xa3\\xf7w\\xfey\\xff\\xe4\\x9f\\x97K\\x7f\\xb6\\x99\\xf1\\xff&n\\xa1\\tq\\x8f\\xd1su\\x98>\\xd9\\t\\x11\\x8b\\xd2\\x17f\\xd3q\\xb3\\xfe\\xc1\\x8e\\xdc\\x04;c\\xb4\\xb3\\x0esn\\xe6\\xfc\\xf9ZL\\xb6\\x0e\\xd31-.1&]\\x8b\\xe9\\xa2\\xc3t\\x8b\\xc9\\x8aK\\'v\\x9d\\xfe\\xc1\\xae\\xe4\\x04\\xbbctJrVL\\x1a3)&#+9m!3%-92!&\\x91\\xc3\\xff7L\\xd7\\x84\\x01'\n"
          ]
        },
        {
          "output_type": "execute_result",
          "data": {
            "text/plain": [
              "12824"
            ]
          },
          "metadata": {},
          "execution_count": 14
        }
      ]
    },
    {
      "cell_type": "markdown",
      "metadata": {
        "id": "_XMGyQRoMlMC"
      },
      "source": [
        "Después de descargar el archivo .mat, exploramos la estructura de datos para localizar la matriz dispersa. Podemos mirar el patrón de dispersión (gráfico en dos dimensiones con un punto en el lugar de las entradas diferentes de cero)."
      ]
    },
    {
      "cell_type": "code",
      "metadata": {
        "colab": {
          "base_uri": "https://localhost:8080/",
          "height": 612
        },
        "id": "maX3HV0cA-Le",
        "outputId": "70030849-2433-47c6-be3e-1b9d5f3ef5df"
      },
      "source": [
        "mat = io.loadmat('bus494')\n",
        "#print(mat)\n",
        "A=mat['Problem']['A']\n",
        "B=A[0]\n",
        "C=B[0]\n",
        "D=sp.csr_matrix.toarray(C)\n",
        "print(type(D))\n",
        "plt.figure(figsize=(10, 10))\n",
        "plt.spy(D)\n",
        "plt.show()"
      ],
      "execution_count": null,
      "outputs": [
        {
          "output_type": "stream",
          "name": "stdout",
          "text": [
            "<class 'numpy.ndarray'>\n"
          ]
        },
        {
          "output_type": "display_data",
          "data": {
            "image/png": "[encoded data removed]",
            "text/plain": [
              "<Figure size 720x720 with 1 Axes>"
            ]
          },
          "metadata": {
            "needs_background": "light"
          }
        }
      ]
    },
    {
      "cell_type": "markdown",
      "metadata": {
        "id": "GCM5gF10MeRh"
      },
      "source": [
        "Observemos el efecto de la factorización LU en el patrón de dispersión."
      ]
    },
    {
      "cell_type": "code",
      "metadata": {
        "colab": {
          "base_uri": "https://localhost:8080/",
          "height": 286
        },
        "id": "VdRzF0RZKB8w",
        "outputId": "383c398d-a963-467f-d8e4-0b8f0a59f9f9"
      },
      "source": [
        "p,l,u=la.lu(D)\n",
        "plt.spy(u)"
      ],
      "execution_count": null,
      "outputs": [
        {
          "output_type": "execute_result",
          "data": {
            "text/plain": [
              "<matplotlib.image.AxesImage at 0x7f1bf590afd0>"
            ]
          },
          "metadata": {},
          "execution_count": 36
        },
        {
          "output_type": "display_data",
          "data": {
            "image/png": "[encoded data removed]",
            "text/plain": [
              "<Figure size 432x288 with 1 Axes>"
            ]
          },
          "metadata": {
            "needs_background": "light"
          }
        }
      ]
    },
    {
      "cell_type": "code",
      "metadata": {
        "colab": {
          "base_uri": "https://localhost:8080/"
        },
        "id": "Gsh9haogNtPw",
        "outputId": "ec4ba85b-5b83-4c22-d592-488b675835a7"
      },
      "source": [
        "print(np.linalg.cond(D))"
      ],
      "execution_count": null,
      "outputs": [
        {
          "output_type": "stream",
          "name": "stdout",
          "text": [
            "2415411.0174664636\n"
          ]
        }
      ]
    },
    {
      "cell_type": "markdown",
      "metadata": {
        "id": "z5Ed1f6RWMkV"
      },
      "source": [
        "# Problemas\n"
      ]
    },
    {
      "cell_type": "markdown",
      "metadata": {
        "id": "aXXXQKtHbVAw"
      },
      "source": [
        "## Problema 1\n",
        "Considere la matriz de segundas diferencias $A$ definida por\n",
        "$$a_{ij}=\\left\\{\\begin{array}{cl}\n",
        "-2, & i=j,\\\\\n",
        "1, & |j-i|=1,\\\\\n",
        "0, & |j-i|>1.\n",
        "\\end{array} \\right.$$\n",
        "Considere tambien la matriz de Frank de dimension $n\\times n$,\n",
        "$$\n",
        "A=\\left(\\begin{array}{cccccccccc}\n",
        "n & n-1 & n-2 & n-3 & n-4& \\dots 1\\\\\n",
        "n-1 & n-1 &n-2 &n-3 & n-4 &\\dots 1\\\\\n",
        "0 & n-2 & n-2 & n-3 & n-4 & \\dots 1\\\\\n",
        "0&0&n-3 &n-3 & n-4&\\dots 1 \\\\\n",
        "\\vdots& \\ddots&\\ddots &\\ddots &\\ddots &\\dots\n",
        "\\end{array}\\right)\n",
        "$$\n",
        "\n",
        "Note que en la diagonal principal, es decir, la diagonal 0 tenemos los números $n,n-1,\\dots,1$, en la diagonal $1$ y $-1$ tenemos $n-1,n-2,\\dots,1$. En la diagonal $k>1$ tenemos $n-k,n-k-1,\\dots,1$ y en la diagonal $-k$ con $k>1$ tenemos entradas nulas. Esta matriz es un ejemplo de matriz de Hessenberg.\n",
        "\n",
        "\n",
        "\n",
        "1.   Que propiedades puede listar de las matrices de segundas diferencias y de Frank\n",
        "2.   Investigue como medir el tiempo de ejecución de un comando en python o MatLab y\n",
        "calcule el tiempo de resolver un sistema  $Ax=b$ con $A$ una matriz de\n",
        " segundas diferencias de segundo orden de dimension $n=2,4,8,1,32,64,128,\\dots$. Tome  $b=(1,1,\\dots,1)^T.$\n",
        "3. Repita con la matriz de Frank.\n",
        "4. Repita con la matriz de Hilbert.\n",
        "\n"
      ]
    },
    {
      "cell_type": "code",
      "source": [
        "A=np.array([[2,3,2],[3,2,1],[1,1,1],[1,1,1]])\n",
        "b=np.shape(A)\n",
        "for i in range(b[0]):\n",
        "  for j in range(b[1]):\n",
        "    B=A\n",
        "    if i==j:\n",
        "      B[i][j]=-2\n",
        "    elif abs(j-i)==1:\n",
        "      B[i][j]=1\n",
        "    elif abs(j-i)>1:\n",
        "      B[i][j]=0\n",
        "\n",
        "print(\"\\n\",B)\n"
      ],
      "metadata": {
        "colab": {
          "base_uri": "https://localhost:8080/"
        },
        "id": "4h4vXbSH9Clo",
        "outputId": "5626a396-f58e-4e8e-8e3a-01568399e9a4"
      },
      "execution_count": null,
      "outputs": [
        {
          "output_type": "stream",
          "name": "stdout",
          "text": [
            "\n",
            " [[-2  1  0]\n",
            " [ 1 -2  1]\n",
            " [ 0  1 -2]\n",
            " [ 0  0  1]]\n"
          ]
        }
      ]
    },
    {
      "cell_type": "markdown",
      "source": [
        "***Propiedades matriz segundas de diferencias***\n",
        "\n",
        "Veamos que -$A$ obtenida a partir de $A$ (matriz de segundas diferencias) es definida positiva, esto lo haremos a partir de la definición. Sean $x\\in \\mathbb{R}^n \\backslash \\{0\\}$ y A la matriz de segundas diferencias de tamaño $n\\times m$ entonces\n",
        "\n",
        "\\begin{align*}\n",
        "    x^T(-A)x&=-x^T(-A)x\\\\\n",
        "            &=-\\sum_{ij} x_i A_{ij}x_j\\\\\n",
        "            &=2\\sum_{i=1}^n x_i^2-\\sum_{i=1}^n x_ix_j+0\\\\\n",
        "            &=2\\sum_{i=1}^n x_i^2-\\left(\\sum_{i=1}^{n-1} x_ix_{i+1}+\\sum_{j=1}^{n-1} x_jx_{j+1}\\right)\\\\\n",
        "            &=2\\sum_{i=1}^n x_i^2-2\\left(\\sum_{i=1}^{n-1} x_ix_{i+1}\\right)\\\\\n",
        "\\end{align*}\n",
        "Aplicando la desigualdad de Cauchy-Schwarz.\n",
        "\\begin{align*}\n",
        "\\sum_{i=1}^{n-1} x_ix_{i+1} &\\leq \\sqrt{x_1^2+\\cdots x_{n-1}^2}\\sqrt{x_1^2+\\cdots x_{n}^2}\\\\\n",
        "&< \\sqrt{x_1^2+\\cdots x_{n}^2}\\sqrt{x_1^2+\\cdots x_{n}^2}\\\\\n",
        "&=x_1^2+\\cdots x_{n}^2=\\sum_{i=1}^n x_i^2\n",
        "\\end{align*}\n",
        "De esta manera, $x^T(-A)x>0$.Las matrices definidas positivas son invertibles, por tanto esta lo es.\n",
        "Vemos además que esta matriz simética y no es diadonal dominante pues en la segunda fila tendremos que $|-2|=|1|+|1|$.\n",
        "\n",
        "**Propiedades matriz de Frank**\n",
        "Estas matrices es un caso particular de las matrices de Hessenberg. Veamos que su determinante es igual a 1 para todo $n$. Es claro que para n=1, $det(A(n))=1$. Si sopunemos que $det(A(k))=1$ para todo $k\\leq n $ tenemos que como $det(A(n+1)=(n+1)det(A(n))-ndet(A(n-1))=(n+1)-n=1$, por hipótesis de inducción. Esta matriz además es definida positiva(luego, invertible). No es diagonal dominante ni simétrica.\n",
        "\n"
      ],
      "metadata": {
        "id": "6mcfRfAQy3dE"
      }
    },
    {
      "cell_type": "code",
      "source": [
        "from scipy.sparse import diags\n",
        "diagonals = [[1, 2, 3, 4], [5, 2, 3], [1, 2,3]]\n",
        "diags(diagonals, [0, -2, 1]).toarray()"
      ],
      "metadata": {
        "colab": {
          "base_uri": "https://localhost:8080/"
        },
        "id": "E1HBooJUwcjc",
        "outputId": "6fc0e44e-4a1d-4ba3-be72-00db4686ca21"
      },
      "execution_count": null,
      "outputs": [
        {
          "output_type": "execute_result",
          "data": {
            "text/plain": [
              "array([[ 1.0000,  1.0000,  0.0000,  0.0000],\n",
              "       [ 0.0000,  2.0000,  2.0000,  0.0000],\n",
              "       [ 5.0000,  0.0000,  3.0000,  3.0000],\n",
              "       [ 0.0000,  2.0000,  0.0000,  4.0000]])"
            ]
          },
          "metadata": {},
          "execution_count": 10
        }
      ]
    },
    {
      "cell_type": "code",
      "source": [
        "from timeit import default_timer\n",
        "from scipy.sparse.construct import diags\n",
        "n=[1,2,4,8,32,64,128]\n",
        "t=[]\n",
        "for i in n:\n",
        "  print(\"Para n=\",i)\n",
        "  k=np.array([np.ones(i-1),-2*np.ones(i),np.ones(i-1)])\n",
        "  offset=[-1,0,1]\n",
        "  A=diags(k,offset).todense()\n",
        "  print(\"A=\\n\",A,\"\\n\")\n",
        "  b=np.ones([i,1])\n",
        "  \"Ahora miremos cuál es el tiempo de resolver Ax=b.\"\n",
        "  beginning= default_timer()\n",
        "  x = la.solve(A, b)\n",
        "  end= default_timer()\n",
        "  print(\"El tiempo requerido para resolver el sistema es de aprox \",end-beginning,\" segundos\")\n",
        "  t.append(end-beginning)\n",
        "  print(\"\\n\\n\")"
      ],
      "metadata": {
        "id": "EKZXyolqqITq"
      },
      "execution_count": null,
      "outputs": []
    },
    {
      "cell_type": "code",
      "source": [
        "import pandas as pd\n",
        "data={'n':n,'t':t}\n",
        "df=pd.DataFrame(data)\n",
        "print(df.to_string(index=False),\"\\n\"*3)\n",
        "plt.figure(figsize=(15, 5))\n",
        "plt.plot(n, t, 'g-',label='n vs t')\n",
        "legend = plt.legend(loc='upper left', shadow=True, fontsize='x-large')\n",
        "plt.show()"
      ],
      "metadata": {
        "colab": {
          "base_uri": "https://localhost:8080/",
          "height": 511
        },
        "id": "m0lpPCoAcZuP",
        "outputId": "3b7709ed-cda0-41ca-9b3d-aaf8f8cd9569"
      },
      "execution_count": null,
      "outputs": [
        {
          "output_type": "stream",
          "name": "stdout",
          "text": [
            "  n        t\n",
            "  1 0.020012\n",
            "  2 0.003275\n",
            "  4 0.002592\n",
            "  8 0.001628\n",
            " 32 0.004745\n",
            " 64 0.001295\n",
            "128 0.003022 \n",
            "\n",
            "\n",
            "\n"
          ]
        },
        {
          "output_type": "display_data",
          "data": {
            "text/plain": [
              "<Figure size 1080x360 with 1 Axes>"
            ],
            "image/png": "[encoded data removed]"
          },
          "metadata": {
            "needs_background": "light"
          }
        }
      ]
    },
    {
      "cell_type": "markdown",
      "source": [
        "Al correr este último programa se observa que el tiempo de ejecución varía y que la curva \"n vs t\" no sigue ningún patrón.\n",
        "\n",
        "3. Matriz de Frank"
      ],
      "metadata": {
        "id": "G6J8Ww_of6iV"
      }
    },
    {
      "cell_type": "code",
      "source": [
        "t=[]\n",
        "for i in n:\n",
        "  print(\"Para n=\",i)\n",
        "  k=[]\n",
        "  for j in range(0,i+1):\n",
        "    dig=[]\n",
        "    if j==0:\n",
        "      for l in range(0,i-j-1):\n",
        "        dig.append(i-l-1)\n",
        "    if j==1:\n",
        "      for l in range(0,i):\n",
        "        dig.append(i-l)\n",
        "    if j>1:\n",
        "      for l in range(i-j+1,0,-1):\n",
        "        dig.append(l)\n",
        "    k.append(dig)\n",
        "  \"Asegurando que estoy haciendo las cosas bien.\"\n",
        "  print(k,\"\\n\")\n",
        "  offset=[]\n",
        "  for z in range(-1,i):\n",
        "    offset.append(z)\n",
        "  \"Asegurando que estoy haciendo las cosas bien.\"\n",
        "  print(offset,\"\\n\")\n",
        "  A=diags(k,offset).todense()\n",
        "  print(\"A=\\n\",A,\"\\n\")\n",
        "  b=np.ones([i,1])\n",
        "  \"Ahora miremos cuál es el tiempo de resolver Ax=b.\"\n",
        "  beginning= default_timer()\n",
        "  x = la.solve(A, b)\n",
        "  end= default_timer()\n",
        "  print(\"El tiempo requerido para resolver el sistema es de aprox \",end-beginning,\" segundos\")\n",
        "  t.append(end-beginning)\n",
        "  print(\"\\n\\n\")\n",
        "\n",
        ""
      ],
      "metadata": {
        "id": "zflv4R0Bnmd1"
      },
      "execution_count": null,
      "outputs": []
    },
    {
      "cell_type": "code",
      "source": [
        "data={'n':n,'t':t}\n",
        "df=pd.DataFrame(data)\n",
        "print(df.to_string(index=False),\"\\n\"*3)\n",
        "plt.figure(figsize=(15, 5))\n",
        "plt.plot(n, t, 'g-',label='n vs t')\n",
        "legend = plt.legend(loc='upper left', shadow=True, fontsize='x-large')\n",
        "plt.show()"
      ],
      "metadata": {
        "colab": {
          "base_uri": "https://localhost:8080/",
          "height": 423
        },
        "id": "Wi-jM4ldpPmS",
        "outputId": "8e82edde-d531-49fc-93a7-b336dd51fcce"
      },
      "execution_count": null,
      "outputs": [
        {
          "output_type": "stream",
          "name": "stdout",
          "text": [
            "  n        t\n",
            "  1 0.000152\n",
            "  2 0.000084\n",
            "  4 0.000082\n",
            "  8 0.000110\n",
            " 32 0.000318\n",
            " 64 0.007143\n",
            "128 0.009094 \n",
            "\n",
            "\n",
            "\n"
          ]
        },
        {
          "output_type": "display_data",
          "data": {
            "text/plain": [
              "<Figure size 1080x360 with 1 Axes>"
            ],
            "image/png": "[encoded data removed]"
          },
          "metadata": {
            "needs_background": "light"
          }
        }
      ]
    },
    {
      "cell_type": "markdown",
      "source": [
        "4. Matriz de Hilbert"
      ],
      "metadata": {
        "id": "pyRcXBI5qX7r"
      }
    },
    {
      "cell_type": "code",
      "source": [
        "t=[]\n",
        "for i in n:\n",
        "  A=la.hilbert(i)\n",
        "  print(\"A=\\n\",A,\"\\n\")\n",
        "  b=np.ones([i,1])\n",
        "  \"Ahora miremos cuál es el tiempo de resolver Ax=b.\"\n",
        "  beginning= default_timer()\n",
        "  x = la.solve(A, b)\n",
        "  end= default_timer()\n",
        "  print(\"El tiempo requerido para resolver el sistema es de aprox \",end-beginning,\" segundos\")\n",
        "  t.append(end-beginning)\n",
        "  print(\"\\n\\n\")"
      ],
      "metadata": {
        "id": "YZjwFjvHrKU2"
      },
      "execution_count": null,
      "outputs": []
    },
    {
      "cell_type": "code",
      "source": [
        "data={'n':n,'t':t}\n",
        "df=pd.DataFrame(data)\n",
        "print(df.to_string(index=False),\"\\n\"*3)\n",
        "plt.figure(figsize=(20, 5))\n",
        "plt.plot(n, t, 'g-',label='n vs t')\n",
        "legend = plt.legend(loc='upper left', shadow=True, fontsize='x-large')\n",
        "plt.show()"
      ],
      "metadata": {
        "id": "4aBlrPWGrPAW",
        "outputId": "899d7941-cee2-43e3-c9dd-bb0df7a6b97e",
        "colab": {
          "base_uri": "https://localhost:8080/",
          "height": 372
        }
      },
      "execution_count": null,
      "outputs": [
        {
          "output_type": "stream",
          "name": "stdout",
          "text": [
            "  n        t\n",
            "  1 0.000408\n",
            "  2 0.000160\n",
            "  4 0.000138\n",
            "  8 0.000136\n",
            " 32 0.009286\n",
            " 64 0.008097\n",
            "128 0.008647 \n",
            "\n",
            "\n",
            "\n"
          ]
        },
        {
          "output_type": "display_data",
          "data": {
            "text/plain": [
              "<Figure size 1440x360 with 1 Axes>"
            ],
            "image/png": "[encoded data removed]"
          },
          "metadata": {
            "needs_background": "light"
          }
        }
      ]
    },
    {
      "cell_type": "markdown",
      "source": [
        "Explicaciones? Conclusiones?  Comentarios?\n"
      ],
      "metadata": {
        "id": "u-tm-5pDxFD4"
      }
    },
    {
      "cell_type": "markdown",
      "metadata": {
        "id": "FpZtQD27WS3q"
      },
      "source": [
        "## Problema 2\n",
        "Considere la matriz de Hilbert $H(n)$ con $n=4,5,6,\\dots$.\n",
        "\n",
        "\n",
        "1.   Para $n=5,6,7,\\dots$ calcule $\\lambda(n)$ el menor valor propio de $H(n)$. Grafique este vector.\n",
        "2.   Al intentar hacer a factorización de Cholesky de $H(20)$ en Octave/Matlab/Python la factorización no se calcula llevando a la conclución de que la representación numérica de $H(20)$ no es definida positiva. En Octave parece el error\n",
        "```\n",
        "# error: chol : imput matrix must be positive definite\n",
        "```\n",
        "Verifique teoricamente  $H(n)$ es en realidad positiva definida (no necesita mostrar detalles aqui). Con ayuda del gráfico anterior y de lo estudiado sobre artimética de punto flotante explique esta situación.\n",
        "3. Calcule $R(n)$ de la factorización de Cholesky de $H(n)=R(n)^TR(n)$ con $n=14,15,\\dots,20$. Presente un gráfico de $t(n)=tr(R(n))$ como evidencia del cálculo.\n",
        "\n",
        "\n"
      ]
    },
    {
      "cell_type": "markdown",
      "source": [
        "**Pruebas**"
      ],
      "metadata": {
        "id": "ogq5qGCevTVx"
      }
    },
    {
      "cell_type": "code",
      "source": [
        "print(la.eig(la.hilbert(3)))\n",
        "print(la.eig([[1,0],[0,1]]))\n",
        "\n"
      ],
      "metadata": {
        "colab": {
          "base_uri": "https://localhost:8080/"
        },
        "id": "GoXwkDreaKsW",
        "outputId": "cf6a67ac-bb48-4bc3-b1c4-711d787b212c"
      },
      "execution_count": null,
      "outputs": [
        {
          "output_type": "stream",
          "name": "stdout",
          "text": [
            "(array([1.40831893+0.j, 0.12232707+0.j, 0.00268734+0.j]), array([[ 0.8270,  0.5474,  0.1277],\n",
            "       [ 0.4599, -0.5283, -0.7137],\n",
            "       [ 0.3233, -0.6490,  0.6887]]))\n",
            "(array([1.+0.j, 1.+0.j]), array([[ 1.0000,  0.0000],\n",
            "       [ 0.0000,  1.0000]]))\n"
          ]
        }
      ]
    },
    {
      "cell_type": "markdown",
      "source": [],
      "metadata": {
        "id": "gkArLrXAvSBx"
      }
    },
    {
      "cell_type": "markdown",
      "source": [
        "**Solucion**\n",
        "1.\n"
      ],
      "metadata": {
        "id": "jllffsuyvWgA"
      }
    },
    {
      "cell_type": "code",
      "source": [
        "def ein(n):\n",
        "  if n<5:\n",
        "    print(\"Entrada no valida, ingrese n mayor o igual a 5 \")\n",
        "  else:\n",
        "    return min(la.eigvals(la.hilbert(n)))\n",
        "x=[]\n",
        "y=[]\n",
        "for i in range(5,30):\n",
        "  x.append(i)\n",
        "  y.append(ein(i))\n",
        "plt.figure(figsize=(20, 5))\n",
        "plt.plot(x, y, 'b-',label='n vs lambda')\n",
        "legend = plt.legend(loc='upper left', shadow=True, fontsize='x-large')\n",
        "plt.show()\n"
      ],
      "metadata": {
        "colab": {
          "base_uri": "https://localhost:8080/",
          "height": 243
        },
        "id": "VldjRShVvg7c",
        "outputId": "37552d8e-e7bc-4f68-b000-00ccbae10a94"
      },
      "execution_count": null,
      "outputs": [
        {
          "output_type": "stream",
          "name": "stderr",
          "text": [
            "/usr/local/lib/python3.7/dist-packages/matplotlib/cbook/__init__.py:1317: ComplexWarning: Casting complex values to real discards the imaginary part\n",
            "  return np.asarray(x, float)\n"
          ]
        },
        {
          "output_type": "display_data",
          "data": {
            "text/plain": [
              "<Figure size 1440x360 with 1 Axes>"
            ],
            "image/png": "[encoded data removed]"
          },
          "metadata": {
            "needs_background": "light"
          }
        }
      ]
    },
    {
      "cell_type": "markdown",
      "source": [
        "2.\n",
        "https://mchouza.wordpress.com/2015/04/29/hilbert-matrices-are-positive-definite/ Un compañero me facilito este link en el cuàl se demuestra que esta matriz es definida positiva. Escribirè algunos detalles de la prueba para interiorizar mejor este resultado.\n",
        "Dado que $H_{ij}=\\frac{1}{i+j-1}=\\int_{0}^1 x^{i+j-2}dx$. Tenemos que para todo $\\in \\mathbb{R}^n $\n",
        "\\begin{align*}\n",
        "z^THz &=\\sum_{ij} z_{i}H_{ij}z_j\\\\\n",
        "&=\\sum_{ij} z_{i}\\left(\\int_{0}^1 x^{i+j-2}dx\\right)z_j\\\\\n",
        "&=\\int_{0}^1\\sum_{ij} z_i x^{i+j-2} z_j dx\\\\\n",
        "&=\\int_{0}^1\\sum_{ij} z_i x^{i-1} z_j x^{j-1} dx\n",
        "\\end{align*}\n",
        "Por otra parte desarrollando esta suma podemos ver que:\n",
        "\\begin{align*}\n",
        "\\sum_{ij} z_i x^{i-1} z_j x^{j-1}=\\left(\\sum_{i} z_i x^{i-1}\\right) \\left(\\sum_{j} z_j x^{j-1} \\right)=p^2(x)\n",
        "\\end{align*}\n",
        "Con $p(x)$ un polinomio en $\\mathbb{R[x]}$. Asì, $z^THz>0$, teniendo en cuenta que $p(x)\\neq 0$.\n",
        "Por otra parte, sabemos que esta matriz es mal condicionada y esto puede ser visualizado en la gràfica del vector $\\lambda(n)$, dado que a partir de $n≈8$ estos valores tienden a ser 0."
      ],
      "metadata": {
        "id": "L7u2juLhy1pO"
      }
    },
    {
      "cell_type": "markdown",
      "source": [
        "3.\n",
        "Como ya vimos, $H(n)$ no es definida positiva para Python para $n\\geq 14$. Entonces realizaremos el càlculo con un $\\epsilon>0$ para corregir este error."
      ],
      "metadata": {
        "id": "VrXXCDcUD4aV"
      }
    },
    {
      "cell_type": "code",
      "source": [
        "epsilon=1/100000000\n",
        "trazas=[]\n",
        "y=[]\n",
        "for i in range(1,40):\n",
        "  if i>13:\n",
        "    r=la.cholesky(la.hilbert(i)+epsilon*np.identity(i))\n",
        "    trazas.append(np.trace(r))\n",
        "    y.append(i)\n",
        "  else:\n",
        "    r=la.cholesky(la.hilbert(i))\n",
        "    trazas.append(np.trace(r))\n",
        "    y.append(i)\n",
        "plt.figure(figsize=(20, 5))\n",
        "plt.plot(y, trazas, 'b-',label='n vs t(n)')\n",
        "legend = plt.legend(loc='upper left', shadow=True, fontsize='x-large')\n",
        "plt.show()"
      ],
      "metadata": {
        "colab": {
          "base_uri": "https://localhost:8080/",
          "height": 219
        },
        "id": "NP_gfd3HEfmH",
        "outputId": "132c0f83-827a-4b96-cd05-1be006475377"
      },
      "execution_count": null,
      "outputs": [
        {
          "output_type": "stream",
          "name": "stdout",
          "text": [
            "[1.0, 1.2886751345948129, 1.3632107338448056, 1.3821089574952679, 1.3868708622571797, 1.388067335846778, 1.3883674982905665, 1.3884427310691807, 1.3884615761509587, 1.3884662951388256, 1.3884674789432396, 1.388467784750963, 1.3884678538704711, 1.390828424252764, 1.3910367692573264, 1.391234774514977, 1.3914244588287434, 1.3916073049555797, 1.3917843445651807, 1.3919563069019931, 1.3921237494025414, 1.3922871399905352, 1.3924468957592935, 1.392603395035305, 1.3927569779566318, 1.3929079446584758, 1.3930565550401446, 1.3932030310319643, 1.3933475608549097, 1.3934903043151685, 1.393631398230149, 1.3937709613431026, 1.3939090983886413, 1.39404590321222, 1.3941814610251322, 1.3943158499470036, 1.3944491420241885, 1.3945814038894406, 1.3947126972005026]\n"
          ]
        },
        {
          "output_type": "display_data",
          "data": {
            "text/plain": [
              "<Figure size 1440x360 with 1 Axes>"
            ],
            "image/png": "[encoded data removed]"
          },
          "metadata": {
            "needs_background": "light"
          }
        }
      ]
    },
    {
      "cell_type": "markdown",
      "metadata": {
        "id": "sp1uFPlHY6Hz"
      },
      "source": [
        "## Problema 3\n",
        "Considere la matriz de Hilbert $H(n)$ con $n=4,5,\\dots,20$. Existe una fórmula exacta para la inversa de $H(n)$, implemente esta fórmula. Con el comando de MatLab o Python para calcular la inversa calcule $G=inv(H(n))$. Compare y comente los resultados.\n",
        "$$H_{ij}^{-1}(n)=(-1)^{i+j}(i+j-1) {n+i-1\\choose n-j}{n+j-1\\choose n-i}{i+j-2\\choose i-1}^2.$$\n",
        "\n",
        "\n"
      ]
    },
    {
      "cell_type": "code",
      "source": [
        "from scipy.special import comb\n",
        "l=[]\n",
        "residuos=[]\n",
        "for i in range(4,21):\n",
        "  print(\"Para n=\",i,\"\\n\")\n",
        "  invH=[]\n",
        "  for j in range(1,i+1):\n",
        "    filaj=[]\n",
        "    for z in range(1,i+1):\n",
        "      compjz=((-1)**(j+z)) * (j+z-1) * comb(i+j-1,i-z) * comb(i+z-1,i-j) * (comb(j+z-2,j-1)**2)\n",
        "      filaj.append(compjz)\n",
        "    invH.append(filaj)\n",
        "  A=np.array(invH)\n",
        "  B=np.linalg.inv(la.hilbert(i))\n",
        "  print(\"Por formula H(n)=\\n\",A,\"\\n\"*2)\n",
        "  print(\"Por comando de python:\\n\",B,\"\\n\"*2)\n",
        "  r=A-B\n",
        "  residuos.append(la.norm(r))\n",
        "  l.append(i)\n",
        "  print(\"Residuo r=\\n\",r,\"\\n\"*2)\n",
        "  print(\"\\n\"*5)"
      ],
      "metadata": {
        "id": "gWNSmrZtrpU8"
      },
      "execution_count": null,
      "outputs": []
    },
    {
      "cell_type": "markdown",
      "source": [
        "Comparemos la difencia entre los resultados obtenidos por los dos métodos y el tamaño de $n$."
      ],
      "metadata": {
        "id": "0egaSZITvPws"
      }
    },
    {
      "cell_type": "code",
      "source": [
        "data={'n':l,'dif':residuos}\n",
        "df=pd.DataFrame(data)\n",
        "print(df.to_string(index=False),\"\\n\"*3)\n",
        "plt.figure(figsize=(20, 5))\n",
        "plt.plot(l, residuos, 'r-',label='n vs dif')\n",
        "legend = plt.legend(loc='upper left', shadow=True, fontsize='x-large')\n",
        "plt.show()"
      ],
      "metadata": {
        "colab": {
          "base_uri": "https://localhost:8080/",
          "height": 695
        },
        "id": "lgU7jot0vEMB",
        "outputId": "d000ec86-0353-469e-b723-ffdaf2dd54dc"
      },
      "execution_count": null,
      "outputs": [
        {
          "output_type": "stream",
          "name": "stdout",
          "text": [
            " n          dif\n",
            " 4 6.718697e-10\n",
            " 5 2.044454e-06\n",
            " 6 1.200668e-03\n",
            " 7 8.908986e-01\n",
            " 8 3.424591e+02\n",
            " 9 6.610957e+05\n",
            "10 1.526902e+08\n",
            "11 1.988876e+11\n",
            "12 3.250193e+14\n",
            "13 1.281891e+17\n",
            "14 1.034932e+19\n",
            "15 3.315520e+20\n",
            "16 1.087276e+22\n",
            "17 3.575630e+23\n",
            "18 1.178219e+25\n",
            "19 3.889186e+26\n",
            "20 1.285784e+28 \n",
            "\n",
            "\n",
            "\n"
          ]
        },
        {
          "output_type": "display_data",
          "data": {
            "text/plain": [
              "<Figure size 1440x360 with 1 Axes>"
            ],
            "image/png": "[encoded data removed]"
          },
          "metadata": {
            "needs_background": "light"
          }
        }
      ]
    },
    {
      "cell_type": "markdown",
      "source": [
        "Vemos que a medida que $n\\longrightarrow \\infty$ tenemos que $||r||\\longrightarrow \\infty$. A pesar de que para $n\\leq 18$ no hay una diferencia perceptible entre los resultados obtenidos,"
      ],
      "metadata": {
        "id": "VelKFqdQ3OGe"
      }
    },
    {
      "cell_type": "markdown",
      "metadata": {
        "id": "k53Ch1rsYKLa"
      },
      "source": [
        "## Problema 4\n",
        "Considere la matriz en https://suitesparse-collection-website.herokuapp.com/Sandia/oscil_dcop_21. El archivo .mat puede ser recuperado de\n",
        "https://suitesparse-collection-website.herokuapp.com/mat/Sandia/oscil_dcop_21.mat .\n",
        "Gráfique el patrón de dispersión de esta matriz. Liste (con justificación numérica) las propiedades de esta matriz."
      ]
    },
    {
      "cell_type": "code",
      "source": [
        "url = \"https://suitesparse-collection-website.herokuapp.com/mat/Sandia/oscil_dcop_21.mat\"\n",
        "file = requests.get(url, allow_redirects=True)\n",
        "print(file.content)\n",
        "open('bus494.mat', 'wb').write(file.content)"
      ],
      "metadata": {
        "colab": {
          "base_uri": "https://localhost:8080/"
        },
        "id": "AXlXBubU_M9A",
        "outputId": "f83df04e-6655-4832-a02d-2bbc760bf921"
      },
      "execution_count": null,
      "outputs": [
        {
          "output_type": "stream",
          "name": "stdout",
          "text": [
            "b'MATLAB 5.0 MAT-file, Platform: GLNXA64, Created on: Sat Sep  6 06:04:50 2008                                                \\x00\\x01IM\\x0f\\x00\\x00\\x00y*\\x00\\x00x\\x9c\\x84\\x99\\x0b\\xb8VS\\x1a\\xc7\\xf7\\xee\\xa6\\xd2U\\xa2P\\x1d%\\xe5VB.%\\x12E\\xe8BR\\x86\\xd4\\xe9\\x9c\\xd4W\\xa7sr:%\\x89\\xa2D\\xe9&)\\x92\\xa2\\x9b\\xcae\\x92\\xdc\\x92\\xd0\\xb8F42\\rM\\x93\\x98$1\\xa69\\x19C.3\\xbf\\xbf\\xf5\\xae\\xe7[\\xcfz\\xbey\\xa6\\xc7\\xefY\\xeb\\xbf\\xf7w\\xd6\\xde\\xfb]k\\xbd\\xef\\x7fo\\xb5\\x92$9u@\\x92T\\xa1\\xad\\n\\x15\\x12\\xf7\\xaf\\xb2\\xe94\\xe0\\x10\\xe8YZ2\\xb0h\\xd0p\\xceW\\xfaM\\xebx\\x17(\\xce\\x1f>\\x88\\xa6,SVD{\\x81\\x1bd\\xa0k2\\x85\\xbf5\\xc32\\xc5\\xea\\x14\\x97\\x94\\r\\x1a\\x99$\\x85\\xf9e\\xfa\\x83\\xfcQeCJJ\\x93A\\x85v\\xddZpI\\x92\\xbd\\x9fJ9\\xee\\xe7pk\\xf5\\xaf\\x8e\\xe9^\\xf9\\xc5\\x85\\x99\\xfc\\xd6%#\\x0b2E\\xfd\\x0b\\x0bJF\\xf4?\\xad\\x8d\\x1fo\\xcc\\xff\\x19\\xef\\xa2h\\xbc\\x8b\\xfe\\xc7xy\\x05\\x99\\xd2\\x82Q\\x99\\xb2\\xbc\\x91\\x99\\xe1\\xa3\\x8a\\xf2\\xcb2%\\xc5y\\xc3\\xf3\\xcbJ3cZ\\xe5\\xb9\\xdf\\xe7u\\xff\\xedh~Q\\xde\\xe5\\xf9\\x03[\\xf9\\xeb\\x0f\\xe8\\x91\\xbd~e.P\\xb5J\\xf6\\xfaO\\xa5\\x8e4\\xb8\\xaf\\xbc\\x06\\xae_\\xc5\\xfe\\xde\\xc7\\xbe\\x8e\\xcd\\x8f\\x9e\\xb7\\x19T\\xb4\\xf3\\xc7\\xd9s\\xe9\\xcfZ\\xd8\\x18\\xfamK\\x1b\\xf30\\x1b\\xa3\\x1e4\\xd6\\xf8\\xd0\\x04\\x8e\\x85#m\\xaccl\\x9c\\xa3m\\x8cF\\xc1\\xdf\\xfb\\xebh\\x9c\\xd3\\xa1\\xb6\\xf5\\xaf\\xb7q\\xfd\\xf54\\xfe9P\\xd7\\xfa\\xfd\\x83g\\x08\\xfff@\\xf0<\\xe1o\\xf3\\x83\\xe7\\xab\\x0f\\n\\xe0\\xa9\\x89[F\\xfeX;8\\xc2\\xc6\\xd1\\xf1\\xea\\xf6\\x0c\\x05A\\x0c\\x1a\\xc2\\x19p&\\x14\\x06\\xc7\\xda\\xc3Qv-\\x1d\\xafa\\xcf\\xabux\\xa8\\xc5\\xe0\\x06\\xa8i\\xcf?\\xd8\\xe6\\xe8<\\xa8\\x96\\xb8U]\\xd5\\xe2Wl\\xc7\\x14\\xc3\\x11\\xd0\\xd4\\xee\\xa1\\xd4\\x9e\\xa1\\xba\\xc5Uk\\xa9\\x8b\\x9d\\xabh\\xd7Q\\x9c\\xbb\\xda\\xb5\\x9a[\\xab\\xbf;\\xde\\xee\\xa5\\xcc\\x9e\\xa5\\x86\\xcd\\xc5\\xe5\\xd0\\xdd\\xceU\\xb6\\xfb\\xd3\\xdc\\\\a\\xf7x\\x82\\xb5\\xfa\\xbb\\x13\\xe1d\\xb8\\nN\\x82S\\xa0\\xb7\\x1d\\xbf\\xda\\x8e]c\\xf1l\\r\\x97\\x06qnmq=\\xcd\\x8e\\xab\\xdf\\xc6\\xe6\\xbc\\x96\\x1dW,\\xdb\\xc2\\x95A\\x8c\\xdbZL\\xcf\\xb6\\xe3\\xea\\x9f\\x95\\xb8\\xb5P\\xc7\\x8e\\xd7\\xb7\\xf9jh\\xb1\\xef\\x00C`\"\\x0b\\xe8\\\\\\x8bqc;\\xde\\x112p7\\xe7\\xce\\xb7\\xb87\\xb1\\xe3\\x9d\\xa0/\\x14\\xc1\\x85p-\\x0c\\xb7Xw\\xb6\\xfb\\xf61\\xeflq\\xbd\\xc4\\x8e\\xab\\x7f\\xb1\\xc5\\xfe\\xb8\\xe0\\xf8e\\x16\\xe7nv\\xff>\\xde\\xdd,\\xa6=\\xed\\xb8\\xfa=,\\xee-\\x83\\xe3\\xbd,\\xbe\\x8a\\xf9h\\x8b\\xb1b~\\x93\\xcd\\x85\\xe2\\xfe\\x1e\\xf4\\xb1g\\xbe\\r&\\xc0\\xe6\\xe0yn\\xb7\\xb9\\xd2\\xdc\\xbc\\x0f\\xbf\\xb3\\x18\\xdc\\x01\\x93\\xe0\\x83\\xe0y\\xef\\x84\\xeb\\x80,\\x9al\\x81~0\\n\\xfe\\x98d\\xf7\\xd9\\x116\\xa7~\\xfe\\xfc~Q\\x0c\\xb6%\\xd9}w\\x94\\xcd\\xa1\\x9f/\\xbf7\\xf4\\xac\\x7f\\xb6\\xb1\\x06h.\\xec\\xf7\\xda\\xa3S\\x12\\xb7~t\\x8dv\\xc1\\xd8;\\x13\\xb7\\x17\\x9b\\xda|\\xf8\\xfd\\xb0+q\\xebF\\xd7j\\x1f\\\\\\xe3\\xb3\\xc4\\xed\\xbf\\xe3-\\xfe~\\xed\\xff-\\xc9\\xe6\\xa3p\\x7f\\xecN\\xb2y)\\\\\\xf3_$\\xd95\\xe4c\\xbc7\\xc9\\xae\\x1d\\x1f\\xcb\\xaf`(L\\x86}0\\x0c\\xee\\x82\\xafm\\x1e\\xb4\\xa6f[\\x9c\\xb5\\xa6\\xeeK\\xb2{\\xfd{(\\x81\\x0f\\xad\\xef\\xf7\\xfd\\xbf\\xe1F\\xd8j\\xfd\\xa6v\\xcfZ\\x7f~\\xad]o\\xb1\\xf0\\xcf\\xf1C0\\x7f?\\xd8\\xf3\\xeby\\xb4\\xe6\\xfc\\xfa\\xeao\\xf1\\xf0\\xcf\\xf8c0\\xcf\\xea\\xfb\\xb5\\xf6-\\x1cL\\xb2\\xeb\\xed\\x1f\\xf0S\\xe2j\\xde\\x03\\xb0\\x06n\\x86\\xa5\\xd6\\x1f\\x1b\\xf4o\\x81\\x07a\\x13\\x8c\\x83\\xf5\\xd6\\xbf5\\xe8+\\x9e\\xe3\\x13\\xb7O\\xfd\\xba\\x95\\xd6z\\xd6\\xba\\xddl\\xf1\\x9d\\x98\\xb8\\xfd\\xea\\xd7\\xab\\xb4\\xd6\\xb1\\xd6\\xeb\\x07A\\xdc?\\x0e\\xe2\\xfeI\\xe2\\xd6\\xd6\\xf6\\xc4\\xad\\xab\\x1d0\\xd5\\xf4\\x1e\\xb8\\xc7\\x8e}\\t\\xd3`\\xae\\xcd\\xebt\\x98g\\xf39\\xc3\\xc6\\xd4|\\xce\\x0c\\xfa\\xb3l|\\xcd\\xed\\xbdA\\xdf\\xcf\\xf1\\xdf\\x839V\\x7f\\x0e\\xcc\\x87r\\xb8\\x1f\\x1e\\x82\\x03\\xc1u\\xfd5}\\\\}\\xec\\xfc\\xdf\\xf9\\xbfY\\x00\\xf5\\x88\\xc3\\xc3\\xb4G\\xd0.\\xa4\\xadC{\\x18\\xd4\\x87E\\xe8\\xda\\xb4\\x87\\xc3Q\\xf0\\x08z\\x05<\\x01\\x8d\\xd1\\x8f\\xd2\\xae\\x84\\xe6\\xf4\\x17\\xd36\\xa3]B\\xdb\\x90\\xb6e\\xea\\xe62\\x9cC\\xcd\\x7f\\x0b\\x8e/\\xa3=\\x96\\xf6$XN\\xffD\\xdaV\\xf0\\x98\\x8d]\\x97\\xfe\\x91\\x90\\x07\\xa7\\x04\\xd7mB\\xff88\\x01N\\x0e\\xae\\xbf\\xcab\\xd9&\\xcd\\xeaS\\xe9\\x9f\\x01\\x8f[\\x9cN\\xb3q\\xfc5\\x1a\\xa1[\\xc3\\xe9\\xd0\\x16\\x9e\\xe4\\xd8\\xef\\xe1L\\xfag\\xc39\\xf2:\\xe8\\x8e\\xc1\\xb9\\xf6\\xca\\xff\\xca\\xf3\\xb0\\x1a]\\x95\\xb6\\x01\\x1c\\r\\xe7\\xc1\\xd3\\x1c;\\x86\\xf6\\xc2\\xd4\\xc5>~~\\xdd\\x87LH\\n\\x9d\\xe0\\x19d5\\xdaC\\xa1\\x06\\x1c\\x0f\\x17\\xc0Z\\x8e\\xf7\\xa0}\\x96\\xf6J\\xda\\xe7h/\\xa7\\xed\\x0eW\\xc0\\xf3\\xe8\\xcbh{\\xc2\\xd5\\xf0\\x02\\xfaUx]\\xeb\\x1b\\xfd\"\\xedkZ\\xa7\\xf4\\xd7\\xd1\\xf6\\xa7}\\x89\\xb67ma\\xea\\xf6O\\xb8o\\xb4\\x0f\\x0b8\\xfe2m?\\xda\\xc1\\xb0\\x81\\xfe\\r\\xb4C\\xe1\\x15\\x1b\\xbb\\x1b\\xfd^p\\x1dd\\x82\\xeb^K\\x7f\\x00\\x0c\\x82!\\xc1\\xf57\\xdaZ\\x1e\\x9efu\\x11\\xfd\\x11\\xf0\\x07[\\xb3\\xc56\\x8e\\xbf\\xc65\\xe8aP\\x027\\xc2\\x1b\\x1c{\\x0bJ\\xe9\\x97\\xc1(x\\x13=.8w\\x93\\xe2\\r\\xb7\\xc0\\xdb\\xe8\\x8bh\\xaf\\x82>0\\x16\\xde\\xe1X_\\xda\\xf1\\xa9\\xdb\\x0b\\xf1\\xf3\\xeb>*p\\xae\\xa2\\xf2\\x06\\xbc\\x8b\\xeeL{1\\\\\\x02\\x03\\xe1\\xd6\\xd4\\xd5\\xc6\\t\\x89\\xcb\\'\\x13\\x94?R\\x97sT\\x0f\\x95[T\\x0f\\x95O\\x94K\\xee\\xe4\\xdc]\\xa9\\xcb7\\xaa\\x81\\xca+\\xca\\xa3\\xaa\\x81SS\\x97\\x1fU\\x03\\xefI\\xb3\\xb9zZ\\x9a\\xcd\\xcf\\xd3\\xe9\\x7fd{\\xe6O6G\\xca\\xcd\\xaa\\x87\\xca\\xb7\\xaaw\\xcaQ\\xca)3m\\x1fh\\x0f\\xdc\\x9b\\xba|\\xa5\\x9cr\\xaf\\xcd\\x83\\xe6`N\\xea\\xea\\xa2\\xcfY\\x7f\\x81\\xef`q\\x9a\\xd5\\xf3\\xb5\\xa7RW3}>\\xfb+\\xfc\\x0b\\x96\\xa5Y\\xfd0\\xfd\\xa5i\\xb6\\x8e\\xae\\xa0\\xffi\\xe2\\xea\\xc3c\\xa9\\xab\\x1f\\xbb`y\\x9a\\xad\\x9d\\x8f\\xd3\\xff<q\\xf5`U\\xea\\xea\\x85j\\xe7\\xca\\xd4\\xd5\\x9a\\xdd\\xf6\\xf7O\\xa4\\xae\\x8e|a\\xbf}2u\\xf7\\xac\\x1c\\xab\\\\\\xb9\\x1f\\x16\\xa4\\xee\\xfe\\x94k\\x95\\'\\xff\\t\\x8bRWK\\x95\\x03\\x95w\\x7f\\x86_\\x14\\x9f\\xd4\\xd5S\\xe5D\\xe5\\xe0_\\xe1?0/uy\\xde\\xc7\\xcf\\x8f\\xff\\x90\\xf2D\\xea\\xf2\\xbe\\x8f\\xa1\\xbf\\xceB\\x8e/\\x81o\\x12\\x97\\x87\\x95\\x9b\\x95\\x93\\xbdV\\x8d\\xd3^\\xf7\\xf3v\\x93\\xad1?\\x7f{\\xec\\xfeg\\xa6nL\\xdd\\xf7\\x03\\xa9\\xcb\\xcb\\xcaS>Gh^T\\xb7+q\\xae2T\\x87\\x9aP\\x0b\\xce\\x82v\\xa9\\xcb\\xe1\\xdaC~\\xfdj\\x8eT\\xd3\\xabp\\xee\\x10\\xe8\\x02]\\xe1R\\x18\\t\\xa3m\\x9e\\xfd\\xf8\\xb3m>\\xfd\\xdf\\xde\\x9f:\\xefPb\\xbf\\xd1\\xf5\\xe5\\x19n\\xb4\\xdfhl\\xf9\\x01\\xf9\\x80O\\x83\\xf9R\\xbdW\\x9d\\xff<\\x983\\xc5\\xe1\\xa0=\\xffO\\xc1|\\xec\\xb59\\xf1\\xf3\\xf0\\x95\\xcd\\x85\\x9e[yQ\\xadr\\xa3\\x9e\\xa9\\x82\\xb5\\xda\\x93\\xe5\\x16\\x0b\\xb5\\x8a\\xc7\\x01{N\\xb5zV\\x9f\\x8b\\xabY\\xac\\x9e\\x89ty\\x8e\\xf3>\\xe7\\xd6\\xcc\\xa1\\xcbsh\\xc5^\\xb5P\\xf5qQ\\xa4\\x17FZ5F5Lu\\xb4\\x9e\\x9d\\x0f\\xf5\\x82Hk<\\xd5X\\xd5\\\\_\\x87C\\xfdp\\xa45\\xbe\\xea\\xa3jOC{\\xfeP/\\x89\\xb4\\xc6W\\xfdV\\x9d:\\xc6~\\x1f\\xea\\xa7#\\xed\\xeb\\xa3j\\xbcj\\xee#\\x91^\\x11i\\xdd\\x8fj\\xb5jz\\xd3\\xd4\\xd5\\xf7P\\x87}\\xef\\x13T\\xc7\\x9b\\xdbX\\xa1~4\\xd2\\x9a\\x1b\\xd5E\\xf9\\x06y\\x8a\\xa5\\x91^\\x12i\\x8d\\'\\x7f O\\xe1\\xfdE\\xa8\\x97EZ\\xbf\\x97\\x97\\x90\\xcf\\xf0\\x1e$\\xd4\\xcb#\\xad\\xd8\\xc87\\xc8_\\xc8o\\xac\\x8a\\xf4\\xcaHk_\\xcb{\\xc8g\\x9ca\\x7f\\x1f\\xeaU9\\xce\\xcb\\x8f\\xc8\\x87h\\xaf?\\x19\\xe9\\xf2\\x1c\\xe7\\xbd_i\\x97C\\x97G:\\xf41\\x1dr\\xe8\\xb0\\xafu\"_#\\xbf\\xd3\\xd1~\\x1b\\xea\\xa7\"\\xad\\xb9\\x92\\x7f\\x91\\xb7\\x91\\x07Z\\x13\\xe9\\xa7#\\xedk\\xb5j\\xad\\xf2\\xd5\\xbb\\x91>\\x90\\xe3\\xbc\\xaf\\xc9]s\\xe8\\x039\\xb4\\xf2\\x9f\\xbc\\x92\\xfc\\xd3\\xf3\\x91~.\\xd2\\xf2 \\xf28\\xf2Y=\\xec|\\xa8\\xd7FZ\\xe3\\xc9\\x83\\xc9\\x93y\\x9f\\x16\\xeag#\\xad\\xf1\\xe5\\x9f\\xe4Mz\\xdb\\xf3\\x87\\xfa\\xa5Hk|\\xf9;\\xf9\\x98\\xbe\\xf6\\xfbP\\xbf\\x13i\\xef\\x9f\\xe4\\x01\\xe5\\xc9^\\x88\\xf4\\xab\\x91\\xd6\\xfd\\xc8\\xcb\\xc9\\xf3]\\x9f:\\xff\\x17\\xea\\xb0\\xef}\\xa4|^\\xbe\\x8d\\x15\\xea\\x17#\\xad\\xb9\\x91o\\x92\\xaf\\x94\\xe7\\\\\\x1f\\xe9\\x97\"\\xad\\xf1\\xe4\\x1f\\xe59\\xbd\\xff\\x0c\\xf5\\xcb\\x91\\xd6\\xef\\xe55\\xe5C\\xbdG\\r\\xf5\\x86H+6\\xf2\\x95\\xf2\\x9f\\xf2\\xa3\\x1b#\\xfdZ\\xa4U[\\xe5M\\xe5CG\\xd8\\xdf\\x87zc\\x8e\\xf3\\xf2\\xab\\xf2\\xa9\\xaa\\xb7oD\\xfa@\\x8e\\xf3\\xde\\xcf\\x8e\\xce\\xa1\\x0fD:\\xf4\\xb97\\xe7\\xd0a_\\xebD\\xbeW~x\\x9c\\xfd6\\xd4oFZs%\\x7f+\\xef+\\x8f\\xbc)\\xd2\\xefDZ\\xfe\\xf7\\xf6\\xd4\\xbdg{\\x1f\\xec\\xf5\\xa4\\xd4\\xf9\\xdf\\xc9\\xa9{\\xc7\\xf6>\\xd8\\xeb)\\xa9\\xf3\\xc0\\xf2\\xbe\\xf2\\xbc\\xf2\\xba\\xf2\\x05\\xf2i\\xf2E\\xb3R\\xe7\\x91B\\x1d\\xf6\\xbd\\xc7\\x95\\x7f\\xb9/u^&\\xd4a\\xdf\\xfb^y\\x9b\\xb9\\xa9\\xf39\\xa1\\x0e\\xfb\\xf2\"\\xf2\\x84\\xf2c\\x0f\\xa6\\xce\\x9b\\x85:\\xec{\\xaf,\\xaf(/\\xba/\\xd2{\"\\xed=\\xb3\\xfc\\xa3|\\xea\\xd7\\x91\\xfe2\\xd2\\x1aO\\x1eT^|\\xb1]/\\xd4\\xdb#\\xad\\xf1\\xe4K\\xe5\\xc9\\x97\\xd9\\xf5B\\xbd#\\xd2\\xbb\\x12\\xe7\\xcd\\xe5\\xd5\\xbdw\\x0f\\xf5\\xceH{\\x9f.\\xdf\\xee}|\\xa8?\\x8b\\xb4\\xbc\\xa1|\\xbc\\xfc\\xa0\\xfc\\xbb\\xbe\\x03\\xaf\\xd7\\xc7\\xf5\\xc4}WVW\\xdf\\xa3\\xf5\\xcd\\xd8\\x7f\\x03\\xf4\\xdf\\xe8\\xfc\\xb77}S\\xf3\\xdf\\xff\\xf5\\x9dJ\\xdf\\xdc\\xf4\\xddR\\xdf}\\xf5mW\\xdfi\\xf5\\rM\\xdfO\\xf5\\xedJ\\xdfF\\xf5\\rT\\xdf7\\xf5\\x9e\\xa6w1\\xbdo\\xe9]I\\xef)z\\x0f\\xd1{\\x86\\xde\\x05\\xf4]E>W\\xbeU\\xef\\xe7z\\x17\\x9c\\x90\\xb8\\xf7)\\xbdW\\xe8\\x9d@\\xbe_\\xbe\\\\\\xdfS\\xf4\\rE\\xdfK\\xe4\\xc3\\xe4\\xa5\\xe4a\\xe4C\\xe4\\rT\\xefU\\xe3UwU/U\\xf3T\\'T\\x0b\\x94\\x7f\\x95\\xe7\\x94\\xbb\\x94\\x9f\\x943\\x94\\'\\xb4\\xff\\xb4\\xa7\\xb4\\x8f>\\xb0\\xbd\\xa0}\\xa0w;\\xado\\xff>\\xa6y\\xd3\\xdc(\\xbe\\x9a\\x83=\\xb6W\\xb4>4\\xe7z\\xef\\xd0{\\x85j\\xbc\\xd6\\xb6<\\xb7\\xfc\\xb5\\xbc\\xb4|\\xb2<\\xaf|\\xac\\xbc\\xa9\\xbc\\xa0\\xfc\\x97<\\x95|\\x92\\xbc\\x8c\\xfc\\x86<\\x81j\\xb7\\xea\\xabj\\xa0j\\x95j\\x8a\\xea\\x84\\xf2\\xbfr\\xba\\xf2\\xb4\\x7f\\xb7W\\x8eT\\xde\\xf3\\xef\\xdbw\\xda\\xbe\\x9ef\\xfb\\xf3>\\xdbO\\x0f\\xda\\xda_dkt\\x99\\xad\\xa7\\x95\\xb6F\\xf4\\xff\\x91V\\xc3\\x1aX\\x0b\\xcf\\xc3:X\\x0f\\x1b\\xe05x\\x1d\\xde\\x82M\\xb0\\x19\\xb6\\xc0V\\xd8\\x06\\x9fh]k\\xedj=j\\xcdi\\xdf\\xc1^\\xed\\x1f\\xf8\\x06\\xbe\\x85\\xfdP\\x0e\\xdf\\xc3A\\xf8\\x15\\xd2\\n\\xacC\\xa8\\x025\\xa06\\x1c\\x06\\r\\xa014\\x83\\x16p\"\\xb4\\x813\\xe1l\\xe8\\x00\\x9d\\xa03t\\x87\\xab\\xe0j\\xe8\\x0b\\xd7\\xc1\\x00(\\x84\\xc1\\x90\\x81\"(\\x85Q0\\x06n\\x83I0\\x05\\xa6\\xc3,\\x98\\x07\\x0b`!,\\x81\\x15\\xf08\\xac\\x85u\\xf0\\nl\\x84\\xb7`\\x13l\\x86-\\xb0\\x15\\xb6\\xc1\\xc7\\xb0\\x1dv\\xc0N\\xd8\\r\\xfb`?|\\x07\\x07\\xe1WH\\xd9x\\x95\\xe0\\x10\\xa8\\x0e5\\xa1\\x0e\\x1c\\x0e\\r\\xa0\\x114\\x85\\x96\\xd0\\n\\xda\\xc2\\xb9p\\x1et\\x82.p)t\\x83\\x9e\\xd0\\x0f\\x86B1\\x94\\xc2h\\x18\\x0b\\xe3a\\x12L\\x86\\xbba*L\\x83\\x190\\x0bf\\xc3\\x1c\\x98\\x0b\\x0f\\xc0|X\\x00\\x0b\\xe1\\x11X\\n+\\xe0\\tX\\rk\\xe1\\x05X\\x0f\\xaf\\xc2\\xeb\\xf06\\xbc\\x07[\\xe0#\\xf8\\x18v\\xc0.\\xd8\\r{\\xe1\\x1b\\xd8\\x0f\\xdf\\xc1\\x0f\\xf0\\xb3\\x12O%\\xfe\\x83\\xaap(\\xd4\\x86zp$\\x1c\\rM\\xa0\\x19\\xb4\\x80\\x93\\xa05\\x9c\\x0egA{8\\x1f.\\x84\\x8b\\xe12\\xe8\\x01\\xbd\\xa0\\x0f\\\\\\x0b\\xfd\\xa1\\x00\\x06\\xc30(\\x81\\x910\\x1a\\xc6\\xc2mp\\x07L\\x86\\xa90\\x03f\\xc3\\\\\\x98\\x0f\\x0ba1,\\x87U\\xf0\\x14\\xac\\x81\\xe7`\\x1dl\\x80\\x8d\\xf0&l\\x82\\xf7\\xe1C\\xd8\\x06\\xdba\\'|\\x0e{`\\x1f|\\x0b\\xe5\\xf0=\\xfc\\x08\\xbf@J2\\xae\\x0c\\xd5\\xa0&\\xd4\\x85\\xfa\\xd0\\x10\\x1a\\xc1\\xb1\\xd0\\x1cN\\x80S\\xa0\\r\\xb4\\x85s\\xa0\\x03\\\\\\x00\\x9d\\xa1+t\\x83+\\xa07\\\\\\x03\\xfd \\x1f\\na\\x08\\x14\\xc1\\x08(\\x8310\\x0e\\xc6\\xc3\\xedp\\x07L\\x84Ip\\x17L\\x81\\xa9p\\x0fL\\x83\\xe90\\x03f\\xc2,\\x98\\x03\\xff\\x05\\x00\\x00\\xff\\xff\\xec\\x18iT\\x14gr\\x06\\xf0\"\\xa2\\xa0\\x08\\xc8J\\x1ex\\x114\\\\\\x12\\xd8\\x81\\x07t\\x13\\x82h\\xa21\\n\\xa2\\xdc\\x1e\\x98 \\x98\\x15\\x08,\\x02\\xb2r\\xa9\\x04E\\xc0\\x88\\x07\\xa0( \\x87\\x82F\\x88\\x18\\x8e\\x99\\x1e\\r\\x11\\xf1\\xe4\\xf0\\xe0\\x10AL\\x00\\x15\\r\\x98\\x08D\\x8c\\xee\\xd73S\\xcdL\\xcf\\x0c3\\xa8\\xfbc\\xdfn\\xbfW\\xaf^\\x1d_U}_U}G\\x1f\\x1c\\xc3`\\xa4#\\xc8D\\x90\\x8d \\x17\\xc1\\t\\x04\\xa7\\x10\\x9cAp\\x16A\\x19\\x82J\\x04\\\\\\x04U\\x08.!\\xb8\\x8a\\xa0\\x16\\xc1M\\x04\\x8d\\x08\\xee\"hG\\xf0\\x0b\\x82n\\x04=\\x08z\\x11\\xfc\\x81`\\x10\\xc1K\\x04\\x8c\\xb1\\x0c\\x86\\x12\\x82\\xb1\\x08\\xc6# \\xbf\\t\\x08p\\x13\\x06\\xe3\\xe0\\t\\xf2\\xd3\\xc5\\xf9\\xdc^L@s\\xa5\\xf1y\\xa4\\xdf \\x1e\\xe5\\xfb\\xed\\x86\\xdb\\x96\\xc9e\\x02\\xfa\\xdd\\xf2\\x91?\\x01&\\xa4\\xd0\\xd2\\xf8\\x98\\x9c\\xe3\\xa5\\xd20O\\x88\\xebJ+\\xfa\\x8at\\xf1\\xb4C\\xe4\\x17&\\xaa\\x8f\\xe2\\x87\\xb8g\\x85\\x0f\\x8c\\x7f\\xf8\\xf4\\\\\\xd9\\xdb\\x8e\\x878D\\xf4\\x91\\xdcq\\xe1\\xbd\\x89\\x0c\\xbf\\xf1vO\\xa2\\xd9\\x19=aL\\x8a?Z}\\x88k\\xc7\\xbaM\\xadf\\x0b\\x16\\xe0Ce\\xddY\\xbb\\x8c\\x16Pv\\xb447\\x17m\\xf1.\\xc4\\xc3\\x1a\\xectn\\xda%\\x12 \\x17`\\\\\\xce\\xf8\\xb1g:N\\x8a\\x11\\xd5\\x7f\\x00&d\\xf9M\\x8d\\x1bS\\xf4\\xc8\\xf7\\xdd\\xfb\\x05~\\xf2\\xd7-\\xa5_\\xb7t\\x02\\x96\\xc5\\x97Y_\\x16\\xda9v\\xda9\\x13p\\x01\\xe6\\x8e\\xc8G\\xf1\\x8a\\xc49\\\\\\xff\\xd4\\xfc_m\\x8bP\\xa0\\xe6%\\x94\\x07\\x86:\\xd7\\x86y\\xd7^,\\xdfG\\xbfqf\\n\\xe9c\\xf91\\x15\\x9ds\\x1c\\xcdAO\\xf2\\xfa\\xbcA\\x1c\\x90\\x97w\\x15\\xc7N\\xbb\\xfd\\xd9\\x1e\\xb6=\\xd4\\xba\\nhB\\x1a_\\xce|Pt\\xf4\\xd4\\xfe8\\x9b\\xb5\\xdfP\\xf9\\xe0\\xad\\xe3\\xdaB\\xae\\x94qX\\x9fN\\xa0\\xe3]\\xb5H19m\\x9c\\xd4\\xfd\\x87\\xee\\x8f\\xb7^~\\xa3\\xf7G\\x1b\\xf7\\xc6\\xfbW\\xcc\\xcdP\\x8bG\\xe9\\xdb);\\x7f3\\xde\\xa4\\xd3\\xd3\\xc9\\x92i\\x97>n\\xaf\\xae\\xab\\xc4qz\\xdfE\\xe7\\x93y\\x82\\xfc8\\xfc6\\xa8\\xe2Xd\\xcf\\x91\\xc6\\xa7\\xfb\\x0bs\\xab\\xdf\\xff\\xc3\\xf14\\xca\\xae\\xac\\xfc,.\\xce-4\\x98\\x9f%&\\x97\\x91\\x1f\\xa9\\xe7\\x00\\xdd\\xbf\\xac|I\\xf3/g\\xbe\\xa8\\xf5`\\x9d\\xf5\\xca%\\xd7\\'%\\xfe\\xc6/G\\xec-8\\xc0\\xf70S- \\xf9\\x91\\xd7\\x7f\\xd4\\xaf\\xeer\\x80\\xf5\\xc2&\\x91\\xdb\\x87]8`\\xe2R\\x84\\xf6\\xda\\xb2\\xbc\\x14\\x8c\\xbf\\x8f~O\\x9d\\x13\\xfc\\xfc\\xfe\\x1d\\x17\\xc8\\xa5\\xf6\\xd3h\\xed\\xf2\\xf3/\\xaf]\\xb8\\'\\xa8rE\\xb18\\x1f\\xf6\\x01)\\xe7\\x18e\\x17\\xf6?\\x93ZK\\x06y\\x8e%\\xb0\\xa7}\\xc9\\x9a\\xa7NX\\xed6\\xe9\\xd8\\x13&X\\'\\xa1}E\\x96=\\xd8\\xc7d\\xd9\\xa3a\\\\\\xc4\\x8e\\x04>\\x9cW\\xf4\\xf3\\x1b\\xec\\xd7-\\xbfi%\\xbc\\x0f\\xc2\\xb9D\\xe9\\x0b\\xf6U%\\xad?k\\xd4\\x91\\xdei\\x95\\xbf\\xdc\\xbd\\n\\xaa\\xa8x\\xfe\\xd3\\xf6\\xe1\\xdc\\xa3\\xed\\xdb\\xdc\\x7f\\xba\\xee87\\x06\\xadSp\\xca\\xb3\\xa8L\\xaf\\xd27\\xd6\\x87x\\xa1N\\x85\\xeb,*\\xce\\xc8N\\x80\\xcf\\x83\\x1e\\xd4\\x9d4\\xbd\\xfa\\xe3\\xfb\\xea\\x8a\"oa)G~m\\xcc9\\x10\\xc8\\x0e\\xf6\\xe6\\xd1\\x04\\xf0\\xff\\xac1\\x9f\\x9f!\\xc4\\x97\\xb5?\\xd1\\xf9pn\\xdb$\\x8f\\xdd\\xb8C,>%A\\xde\\x19\\x82y\\xb5\\x8fZ\\x9f^\\xb7\\xf4:\\x85\\xba\\x87\\xba\\x84|\\xc1\\xbaz\\xbff\\xf2\\xeaWt}U\\xb9\\xcaw\\xb2\\x03l\\x94U\\xf1\\x08\\xf5S\\x8e\\xf7\\xc3\\xe3d\\xfa\\x81~x[?\\xb0\\x9f\\xcd9\\xac[\\xed\\xdcd\\x8e-:]\\x99\\xf6\\xec\\x8e\\x1f\\xc7\\xb7\\xa3\\xe7\\xa7\\xaf\\x1a\\xcd\\t\\xd8\\xd7\\xda\\xc6\\xa9:\\xf9I\\x90\\xf3\\xed\\xba\\xe2\\x9e\\xaf\\x9a\\x833Q\\xde\\x044\\xb7|\\xb3\\xe5\\x17I\\x9f7buA\\x16$&TC>\\xf5\\x9d\\xdb\\x9d\\xc7\\xae\\xfc\\xd0A\\xd9\\xc1\\xb9\\x11\\xf3\\xdf\\xd3m\\xd5}\\xdb\\x82\\x009\\xd8\\xc9>\\xef\\x13\\x97.d\\xc7\\xe3\\xbc\\xad\\x88\\x9d\\xb9\\x91\\x03]\\xb3\\x8ep\\xd9uf\\x8c\\x14\\xbde\\x8d\\xd8\\xe1\\t\\xfa\\xac\\xe9\\x8b\\x14hv\\x86\\xf7\\xcb(N\\xc9\\xf2\\xb6\\x9d\\x15P\\xc7\\xf4\\xf3T\\xee\\xf3\\x99n\\x87v\\xbeJ\\x1d\\x07u\\x0e\\xf3\\x83yA\\x9d\\xd3\\xf9\\xb2\\xe2\\xa9\\xbcx\\x03K\\x7f`\\x8a\\xf7%\\xae\\xb0Vi\\xb6\\xe74M\\xc9\\'i\\xeew\\xa6u<\\xbe\\xf6\\xeb\\xa4\\x9f[\\x93>\\xa1\\xf8\\xbcax\\x12\\xdei`\\x14}\\x08\\xfc\\xe1IR\\xf9\\x05\\xd6L\\x11\\x7f,\\x1fN-\\xf7F\\t;\\xbe\\xa3\\x94\\xac\\x17Ls\\xea&\\xa3[i\\x81l\\xa8\\x9f\\x19\\xd3D\\xe3s\\xc9Z\\xda\\x1a\\xab\\x11B\\xe9?\\x9f[7\\xfd\\x93\\xf4a}\\xe8S\\xe8[\\xe8ci|\\x88s\\xf5^W\\x89\\xf1\\xff\\xb6u\\x91\\x08\\x1f\\xe6sy\\x80\\xeb\\\\\\x1a\\x9a\\x88\\xd1i\\xa8\\xd3\\xeb\\xff\"\\xf7\\xc1~\\x0c\\xea\\rh\\xf0c<\\x8b4\\xd8\\x8e\\x81}\\xa0\\xbd\\xca\\x17OT@~\\xc1\\x1f\\x9d>\\xa3\\x91\\xa9\\xc0\\x08\\xc8\\xc3iq\\x8a\\xe2\\x11\\xe4>\\xad\\x1b\\xcb\\xc9ye\\xf3\\xceC=\\xa2\\xdd0\\xc5-A\\xd7\\x90\\x00\\xb9R\\x83\\x83\\xa6\\'\\x92+iz\\x06\\xd79\\xe4Q\\xfcS\\xdf\\xc6\\xc7\\xc7\\x0b\\xc5\\xc1\\xc7\\x99b~\\xa0O\\xa0\\xff\\x82\\'Of+\\xdb\\'\\xe1v\\xe9S\\x96\\xe9\\xfd\\xc3\\xb4\\xdc\\xd0~\\xc6\\xe3\\x0e\\x0bm\\xca.o\\xbb\\x90`\\xa7\\xcam\\xab\\xb2$\\xfb||Z\\xb0\\xff\\xaf)\\x1bq\\x1d\\x10\\x86y:\\xf5\\x84\\xa9\\x91\\xe3d\\xe9\\xc3\\xbc\\x83\\x8eG\\x0e\\x14\\xa0\\xf9\\xae7>\\xc6\\x8e\\xeb\\xcf\"^\\x16\\xf4\\xd5/]\\x87Sq\\x03?3|\\xc2\\x939\\x12\\xe2\\x84\\xf52P#\\xbf3\\xd48Xo\\x88\\x7f^\\x82\\xae\\x8e<q\\xc5zy(\\x92y\\rX\\x11\\xd4\\xfa\\xbc\\xe3\\x05G\\x9a^\\xe1\\xae\\x16_\\x86P\\x9e@\\x1f\\xc6\\x8f\\xecGv\\x1c|,%/h\\x7f\\x81}\\x18\\xea\\x00\\xf2^\\xae\\xb1\\xa5 \\xc94\\x05\\x87u\\x84~\\xcdr\\xd7\\xd3\\x9a\\x9d\\xb8_\\xb4\\xef\\xe2K\\xe4\\x8cC\\xbc?\\xfe[\\xfb\\x05\\xce\\x99\\x8e_3\\xb5\\xfe\\xdf/\\xff;\\xfdB\\xdd7\\xe4\\xec\\x97\\xbfnoQ\\\\\\x97y\\xe8\\x8d\\xfb\\x05\\xdeu|\\xff\\xc3\\xef=\\x01-\\xf6^\\x04=x\\x07\\xca\\x1aO\\x7f\\x17\\xd2\\xc7\\xf3i\\xea\\xbd\\x87\\x83|d>\\xdc\\x8f\\x192\\xf9\\xb5\\xd6\\xdd\\x1f\\x85\\x16\\xce\\xc1bM\\x0f\\xb6\\xe5\\xe7tq\\xe84O\\r\\xddW\\xcd\\xd0\\xa7(\\xf4.\\x12\\xa1\\x87\\xefI\\x04\\xdcG \\x0f\\xee\\xfd\\xf7J\\x87\\xec\\xddp\\xef\\xf2(w\\x16\\x06\\xf1\\x0e\\xeb\\xc3}dd\\xfd^\\x02\\xeeW\\xe3\\x8dU\\x02\\x8a\\xf2\\xd5\\x05\\xf7e\\x1f\\xe2=\\xde\\xbdw%a:\\xaff77G\\x9d\\x0b\\xfc^\\xa6\\xbd_\\xb5\\x8b*e\\xe7\\xcb\\x81\\xe5\\x87\\x8a_\\xef\\xa3\\xee\\xa3p/\\x0bm\\x9d\\xf2\\xf6\\xf6\\xd0z\\x94\\xdcX\\x9f\\xf3\\xd2\\x7f\\x10\\xefT{a\\xbd\\xf02\\xc6\\x1d\\xd2w?\\xe3j\\xc4\\xc5`^\\xea\\'\\xb4\\x8f\\xec-dS\\xfa\\xdbXU\\xde{\\xd0\\xfa%\\x1fc\\xed\\x1c\\xbc\\xa2\\xc7}\\xd7v\\x1c\\xaf\\x15\\xf3\\xfe;\\xc2\\xb8ijF\\x1eO.\\x05q\\xa4\\xc9\\x1b\\r\\xe7n \\xe5pO\\xb5\\xb0\\xee0\\x99\\xdecO\\xad\\x8b\\xa0|\\x88p\\xb3\\x87O\\xd7\\xd7\\x99s\\xe5\\xd5#)\\xea\\xfd\\x86\\xfa\\xa9\\xa1\\xf9\\xa3\\xb9\\x86\\xfb\\xf8\\xef:\\x92\\x0e\\xbc:\\xa3\\xf6\\xd8q\\x03\\x8e\\xdb\\xef\\x0f\\x8b7.\\xd1\\x96\\xa9\\xcf\\x1a\\xac(\\xbd<\\xdb\\x8c\\xd2\\x87w)\\xdc\\x8b\\xa1\\xef!\\x1e\\xcf\\x15g\\xa3\\xae]{\\x88\\x19h\\xce/\\x8e\\xf8=\\x95\\xc8\\xaa\\xbf\\x9f\\xd7\\xdd\\xd7B\\xc08\\xb8\\x1f\\xd3\\xc7%+\\x94H\\x1c\\xb7\\xfa\\xd9\\x85\\xae\\x836\\xf3\\x04\\xef\\xae\\x04\\x0e\\xdc\\x8b\\x01\\x03\\xdf\\xf2Z\\xc4\\xd6\\xf4\\xa5\\x89\\xb6\\xf0>\\x83s\\t\\xfaJ\\xe3\\xe8\\xba1\\rF:\\x98,9\\xac\\xe7\\xa0\\xf9\\xb4\\xab\\x9b\\x0f_\\xc4\\x98M\\xce&D\\xc8\\tbD>Z\\'8\\x17 \\xbfm\\x81C\\xaf\\xd4VW\\xe0\\xe0\\'Q\\xcb$\\x91\\xd9\\xe0K\\xe9_\\xb5\\xea\\xc2\\xd3\\xc4\\xef\\xf32\\xf1h\\xfd\\x04.-g\\xc40B\\xe4\\xf6\\x03\\xfd\\x08\\xf6V)\\xacT\\xb3\\xf4?@\\xe5\\x85.\\'\\x1e8?2\\x99\\x9c\\x87\\xfd\\xf8\\x94\\xb0Z\\xe1\\x94K\\x88\\xd4\\x13\\xa3\\x9d\\x8a\\xe7\\xb5q\"3Z\\xec\\xff\\x82d9\\xd9/P\\x1f0O\\xc0J.\\x93\\x0c\\x85\\xff\\x17\\xc9\\xd2\\x83w\\xfa+K\\xfc\\xc2\\x85\\x16s\\x8cN\\xd3\\xe6\\x8fC\\x7f\\\\I\\xbc^\\xcb\\xacX\\x8e\\xd3\\xe5\\xd0\\x0f\\xb3g\\xd6\\xf2\\xe4\\xd4\\x7f\\x84\\x92/6\\x90\\xef=\\xb8/\\x96\\x1a\\xb7\\xf0\\xde\\x7f \\x0f\\xb4rZF\\xd2p>\\x86:\\xdd\\xe7\\xc9\\xe9\\xf6\\xa1.\\x12l\\x1d{MT\\xb4\\xc4\\xfcC>\\xfd1\\xc9\\xf2\\x071\\x01k\\xc9w5`\\x90?\\xde\\xd5\\\\\\xe9\\xae\\xef\\x82\\r\\xf9L\\xe5\\xe95>vn\\xee\\xd7w\\xa1\\xea$\\xee\\xd3\\xaf\\xd8HN\\xd4\\xac\\x9b\\x19\\x95\\xbb>\\x96\\x93~\\xf7U\\x95\\x82\\xd8\\xfd0\\tw\\xceK1]\\xf2A\\x10\\x1b0\\xc87\\x8c\\xbb-b?\\xb5`\\x85\\x88\\xfds\\x8b\\xe4\\xb3\\x7f\\xd1\\xb4\\x90\\x177`\\x90\\x97\\xb3n\\x19\\xdc\\xd9\\x91\\x8b\\xa9\\xaf\\x9a\\xa9H\\xeaim\\xbfBd\\xee\\xcc\\xa5\\xec\\x1f=\\xd2D\\xca\\x89\\x8c\\xe9\\x1f\\xc6r\\xa64q\\x0e2\\xb6\\xbd\\xef&\\xc1~\\x85\\xc6\\xb65\\xa4]\\xc0 w\\xd4\\xff\\xd8C\\x88\\xc6\\xb7\\xcf|~\\xc065\\xbb\\x12\\xe4\\xb8R\\xa5\\x0f)\\xbf\\x97=\\xebE\\xe9>\\x8a/f\\xffs\\xd5j\\x95\\xea\\x8c@6`\\x90\\x7f\\xf6~}i\\xdf\\xb1a\\xfb\\x8bO>Y\\xa2\\xc2\\xaa\\xb7\\x96\\xd7~y\\x93&\\x8f\\xf6\\x9ctl\\xcd\\xb8\\xe6P\\x0e`\\x90\\xeb\\x1d\\xea\\xef\\xd31\\xde\\xceI}\\xfa\\x1eO\\xef\\xa8\\xcf\\x82\\x0f&\\xc7\\x05\\xd9\\x82|\\xe2I\\xa7\\x90\\xcfV\\xad\\xe4T\\x19\\x86\\xb6\\xed.\\x8aa_8\\xa9 b\\xbf6}\\xd3\\xd9\\x85vIx}vM\\x8d\\x8b\\xff\\x0f\\x04`\\x90[\\x06f(%\\xbc\\xfc\\x89P\\xbf\\xda\\xe9\\x96\\x8d\\xc6\\xfd\\x1b\\x00\\x00\\xff\\xff\\x94X\\t<T\\xdd\\xfb\\xbf$\\xc9\\x96\\x16\\x91I\\x8d\\xb5E\\xd9\\x92\\xa4\\x99\\xb9\\x13\\xd2bW\\xca.\\xa2\\xa80#ZT\\x9aB\\xa5\\xb2$YJ^\\xa1(\\x8a\"\\xdb\\xcc\\xbdwZQd\\'Q\\x94%\\xe4\\xf5*YR\\xe9\\x7f\\xef\\xcc\\xdc\\x89^\\xfd~\\xff\\xdf\\xfd\\xf0\\xf9z\\xce\\xf79\\xdf\\xf3\\x9c\\xe7\\x9c\\xfb\\x9cs\\x8d\\x1dk\\xd6(\\x08\\xcf\\x05\\x01\\xec\\xa1F\\xb2U\\xd3MM\\xb4r\\xf7!\\x07O\\xd4\\n[P\\xe2\\xe1\\xd2\\xaa\\xef}\\xc2\\xd4H*\\xce\\xf3\\x90\\x9a\\xae\\xfd:\\x03\\xcc\\xa0C8\\xe2\\xfc\\xd7W\\x84\\xda\\x81W4\\n\\xee7\\x1c{\\x8a\\x11\\xdfD\\x83q>~\\xf9U\\xa5y\\xa8=h\\xf7\\xd7\\xfb4v\\n\\xf4\\xc2[\\x84\\xe3\\xf7\\xbb~J\\xfd\\xbe\\xe6\\x88\\x04:\\x84#\\xce\\xf7\\xe6~\\x13\\xd8*\\xc2\\xb7\\xa9jJ\\xf1\\xf9\\xb9\\xeb\\x14\\xa1\\x0f\\xa3\\xcdy\\xcf\\x97\\xfbA\\xdb+\\xda.\\x9d\\xd5Kc\\xe1\\xfc\\xef\\xba\\x83\\xd4\\xe3\\xb4\\x86+t\\x08G\\x9c\\x17W\\xdb \\xd9z\\xee\\x97.tlV\\x8c\\xf4\\x81\\x01\\\\\\x87\\x1di\\xf7\\xa0\\xa6\\xe26\\x1d\\xf2\\x03W\\x8e7\\xf4%\\xfdQ\\xdf\\xf1\\xf0\\xa6\\x97\\xb9\\x83\\xe9\\x10\\x8e8_\\xed\\x9e\\x12\\xca~\\xa5\\x08\\n%\\tr\\xfcZ\\x87[|<\\x9b\\x14\\x11\\x9c\\x17*\\x0f{\\x80\\xf2\\xc8Z\\xb7\\xb7\\xcdK\\xc7\\xb6\\xc1@\\xaa\\x87\\xc9T\\xfa>\\xa7\\x9c\\xf65\\xb6\\xd1!\\x1cq\\xde\\x7f\\xee\\xe1\\xd9z\\xbbUA\\x15\\xf9i\\x1c\\xbfBW\\x8d3?w\\xab\\xf2\\xf5;7\\x0fH\\xa3<\\xd2\\xdd\\xbdm\\xb7o\\xbf-l\\xff\\xf3\\xaa\\xddD}i\\x82\\xde\\xb3\\x93\\x06\\x91\\xd4\\xc6e]l-\\xc9\\'\\x08\\x8e8\\xffw]p\\x95\\x85\\xb9/R\\xf7y\\xe9W\\xea\\xfaH\\xaa\\xf6\\xaa\\x1e\\x0b\\xbb\\xe8\\xc7|\\xdeYq\\x83\\xc2\\xe5\\xcaZd\\xeb\\xc9p\\xab\\x0eqa\\xc4B\\xfc\\x9eH\\xa0\\xc1\\xbf\\xe3W\\x16:p\\xd7\"\\x91\\x0e\\xe1\\x88\\xf3\\xefC\\xc6\\xd7l\\x95\\xfa\\x95\\xff\\xb0C\\xeeQO.)\\xf0\\xf9G!\\x1f\\x94M\\x97\\xfaA\\xe3\\x8b\\x8f\\xd5=\\\\\\xfd\\xe7\\xf5m\\xd0Jp\\xf3I\\xa1C8\\xe2<K3\\xb5\\xeb\\xa2S\\x17h\\x97X\\xa6\\x85\\xf9=N\\x97\\x93\\xb0s\\xee\\xe2\\xc7\\x1fp\\x88\\xc3#\\x8ce\\x07z_v\\xc8\"\\xe3\\xc6\\x86\\xb1q\\x1b~\\xe97\\t\\xac\\xd0OA\\xe7\\xbd\\xeb\\xb4,;E\\xa9\\x18\\xc1\\x11\\xe7\\xd3\\xd7\\xc9\\xa0\\xf6s\\xa4\\x0f\\x98/_\\x8d\\xea\\x7f\\x1c\\x90\\xc6x\\xfe{Uy\\xe5\\xd9\\xc8\\xf2\\x82\\x10H\\x9d\\xb5){\\x8f\\xc2\\xfd?\\xc6\\x7f\\xa6\\xccH\\x05\\x9b\\'\\x8e8\\x7f4L2f\\xf8\\xe062\\xee\\xb7c\\xe7\\xe36\\xb5\\x8d\\x87\\xa0\\xffU\\x7fw\\xfc\\x01\\x8e.\\x8e8/\\xf7\\xf0\\xd8\\xb2\\x04\\xbd/\\x94\\xedv\\\\\\xbf\\x85\\xa9\\xef6\\x9b\\xad\\xfd\\x02\\xdf\\xb3\\xab0C\\xdba\\xfb\\xb8\\xdc\\xe8\\x92\\x93\\xaa\\xb0q\\xc6B\\xd1\\x89\\xbaj\\x04)\\x8e\\xbf\\xee@\\xf9\\x8a\\xef\\x0bh0\\x8e8\\x9f_\\xec\\x1c\\xa0Xy\\x0f\\xac\\xbf\\xf3]\\x08\\xf3#\\xae\\xd6\\x10{Ty\\x8f\\x9f7}j\\xd2ae\\xd4v\\xef\\xfb<\\xfftM;|\\xd3C6(bb\\xdc\\xe52*X\\xfdY\\xba\\xd3X\\xd3%\\xc6\\x16\\xc1\\x91\\xdf_\\xaf\\x82d\\x15\\xe3\\x89\\x14~8?g\\x1a\\xea\\xf7&\\xd1a\\x93a\\x8c-?\\xef\\xb6@\\x8f\\xf9\\xe7.\\x07\\xd8\\xb2\\x960\\xea)\\x19\\t\\xd9\\x1f\\x9f6)/\\x1b\\x8c\\xa9\\x83o\\xb7\\xa0\\xfbF>\\x8c\\xd1\\x05u\"8\\xe2\\xbca\\xe8\\xc3\\xe9t\\xe6\\x10b\\x89d\\x1c\\xf1E\\xf7\\xc3F\\x89\\xf3\\x9e\\xdf\\n;\\xf9\\xfaaA\\xcfI\\r\\x99\\x86\\x88\\xef\\xc0\\xe2>\\x9f5t8\\x08x\\xa6/0E\\xde\\x8b\\xbc\\xc2\\x87M\\xd0|\\xe3\\x88\\xf3\\xcc\\xaf\\xe9\\xeb\\xd0\\xfe\\xe0\\xc1+\\xdc:\\xf8:1g\\xc4%\\xcb\\x10\\xf9_\\xf5}\\x9a\\xd6\\x1d\\x7fer\\n\\xc2\\x11\\xe7\\x11\\xdf\\xc8\\xd3o\\x1aH`\\xbe0W?\\xef\\x83\\xdf\\xb6\\xb7\\x8d$\\xbe~\\xad\\x87\\xe2y\\x94G\\x12\\xbb_\\xfcU$N\\x83\\x17|\\x81\\xbb\\xa6\\xda7\\x96\\xdey\\x84\\xf5\\xf1t\\x08G\\x9c\\x7f{\\')@]N\\x1b<.2\\x9d\\xe3\\xd7\\xbcG:\\xbdRN\\x9b\\xaf\\xff\\xe5A\\xf5!\\x94G\\xfc\\xed\\x1e\\xde\\x14Su\\x87\\xb5\\x82\\x1a\\xa2\\xa6\\xd2/\\xd8V\\x13U~\\x8d\\x0e\\xe1\\x88\\xf3\\xfb|\\xb2\\xe5GD\\xb5A\\xc9\\xe9\\\\\\xfd\\xb5\\xd3n\\x95\\xc4\\x89\\xfd\\xd2?\\xb6\\xb4}1\\xca#Rn\\xa3\\xc3\\x04iw\\xf8\\x08\\xec8I\\x9f\\xce\\xa6\\x8bc\\xb6\\xa0\\xae\\xa0\\x17\\xa3\\xbd\\x1b\\xc6\\x11\\xe7\\xf7Z\\xec\\xd9\\xc1h\\x1f\\x85O\\xbe\\xd5\\x13\\xe6\\xbc\\x1f\\xfe/6\\xa0<~~\\xb1\\x07\\x07\\xb7\\xa9u\\xa2\\xe7\\xc4\\xbd\\xdd\\xf9\\x84\\xf1\\xaa\\x7f\\xd7\\xfd\\x11\\xb5n\\ru\\xd4\\x8e\\xf3\\x88\\x9e\\xffE\\xe6\\x0c\\x82#\\xce+\\x85\\x15\\xa4\\x05U\\xc5\"\\xd1?GddP\\xbf\\xe9\\x1f\\xb4\\xb6L\\x0f;\\xcd\\xdf?u\\xca\\x05\\x07\\x1d\\xdfh!\\xdbk\\x14U\\xb6op\\x81o\\x94\\xf7GL\\x95\\x9f\\xb0R\\x1f\\x96KG0\\x84#\\xce\\x8f\\xd9\\x99\\xfe\\xbd\\xe8S\\x04\\xbfnF\\x08\\x1c\\xebi\\x93=\\x88\\xd7\\t\\xb6\\xa6\\x8f\\xa2\\xcc\\xfal:T\\xd2h\\xdd1#;\\xf5\\x8fu\\xa1\\xb2>f\\xcb\\x1at]q\\xc4\\xf9\\xf1O\\xf6R\\xe33~\\xd5\\xe5\\xc4\\xe3\\xe1ZN\\x04EH\\xb0\\xf8e\\x08\\r\\xdd\\xc7:\\xf93\\xadz\\xffC=\\x9e%\\xf1Z\\xd8\\x14\\xd5\\xc3\\x11\\xe73N\\x95\\x16\\xb8\\xfc\\xb2\\xa9\\xc6\\x0f\\xc9\\xf0\\xdc\\xb6\\x04\\xfey\\xbb;\\xe1\\xa3\\x8d\\x1e\\xcag\\x0bZ;X\\x94\\xff;\\xef\\xea\\xb3\\xb9\\xf6\\r\\x7fq\\xf7\\xeb2\\x9f!\\x1cq~\\xb5\\xb7wm\\xb4\\x88\\x12\\xa8\\x9d\\xcd=oY/\\x93/Rf*\\xf1\\xd7e\\xc9S\\x1b\\xbb8\\x11%$\\xf8\\xcd\\xd3\\xae=\\x1a6p\\xb8\\x90\\x8a\\xe9T\\xf1\\x03gV$\\x8e`\\xe7,\\x8e<\\xfeB\\x7f\\xc8\\x90rL\\x07%s\\x05\\xd7\\xafb\\xd9\\x9d\\xed-1\\x1d\\xfc}%]!BVA\\xed\\xb1g\\'\\xca\\xb2>\\xcc\\x87\\x8f\\xe8\\xaaL\\x9f\\xa8\\xff\\xe3\\x94\\xcb_\\x0e\\xa8}\\x9a\\x9d\\xda\\xd6\\xf8!\\x16\\xc1\\x11\\xe7kK\\xb3\\x0bN:\\x19!O\\xd6\\xd7\\xd5\\xacD\\xfd\\xccs.\\xcf\\r2\\xfe\\xc5/\\x15|\\xda\\xe4\\x1a{\\x139U\\xdb0,\\xaa\\xdc\\x047vg:\\xdaOU\\x17\\xf2$L@4\\x8f8\\xe2\\xbc\\xf3\\xdb\\x8a\\xa5\\x9a\\x13\\xeeQ\\xf5L;q\\xb9\\xf9\\x8a|\\x9ep\\xce\\xcc\\xdb\\x1c]\\xdf\\x06\\x85\\xcf\\xceO\\xa6X\\xdf\\xe7\\xf1\\xf4\\x99\\x98=\\xf0\\xfcb\\x97v\\xfb{\\x18G\\x9co\\xfbr\\xfc\\x8b\\xf2\\x9a\\x168]\\xa0\\x88S\\xf7;\\x88\\xaf3\\xca\\x15\\x1e\\xf3\\xf9\\xd0+\\x1d\\xd6\\xb5\\xb7?\\xc0\\xab\\x80\\xb1\\x83\\xac\\x1dr\\xb0so\\xef\\xa4\\xfc\\xac\\xd1I\\xe1\\x9c3\\x8b\\xcf\\t\\xbe\\xdbk\\xd4\\t\\xe3\\x88\\xf3\\xa0\\xa5\\xea\\xd3\\xa0\\xf9C0A\\xce\\x8a\\xd3O\\xdaIO5\\xaa\\xbb\\x83\\xff\\xdev\\xb0\\xe4\\xfb%\\x86O\\xc3.\\xf1\\xab\\x8b\\xc2e\\xf3\\xa0/\\xc3\\xf3\\xa7\\xdc\\x9f}\\xb2U\\xf2\\xd89\\x88#\\xce7&U?\\xfd6t\\x9a\\x7f\\x8f\\x1d;\\xe4\\x91t\\x03\\xd5\\xfb_\\xf5\\xed\\x9ftstq\\xc4ym\\xf3b\\xb7\\xab\\xb2%\\x14X\\x82\\xebG?\\xf5\\xcfU\\xaf\\x05%\\xf0r)04Q\\xb6\\x04\\xb67\\xf4\\xb1\\x1f\\xcf\\xfb\\n\\x8d\\xc5\\xd0\\x05&\\xea\\xb6\\ns\\xfdu\\x83u\\xb6\\xde\\xfb\\\\\\x07\\xe1\\x88\\xf3\"E\\xb7\\xff1P\\x1f\\xa7\\xd0\\xc2\\xb8~\\xab\\xe4\\x85{\\xb7i\\x8c\\xf3\\xe3Nu\\x9b\\xe6e\\xa6>\\x0e\\xbf\\xd6\\xf96\\xf0\\xfa\\x85&,\\x96%3k\\xa2\\xbe\\xc8%\\xc6[\\xec|\\x01\\x8f\\xf7m\\x99\\xd9MFp\\xc4y\\x83+.\\xa8m\\x86\\x84l\\xa6\\xfe\\x83\\xf5\\xd3\\xb8S\\xb3\\x19\\xe5\\xf9\\xf5\\xcc\\xac\\xb7\\xc9\\xcb\\x03\\xbd\\xd7\\x19\\xf5\\x18\\x05\\x8a^\\xf9\\xad\\xde\\x00\\x03\\x08\\x0f\\xc1\\xfax\\xc7\\xf5\\xa6\\xc2\\rl\\xdc&h\\xec\\x97\\xef\\xeb\\xd2c\\xff\\xee\\xf7\\x1b\\xfe\\xb1\\x7f4\\xd1\\xee\\xff\\xd3\\xff\\x8fh?\\xd8s\\xdf\\xcbT\\x8e\\xfd]|{\\x01\\x8a\\xd4\\x96\\xbaV\\xfa\\x8fH:<\\xe2\\x9cy\\xc1M\\x07\\x80\\x05\\x9a\\xb6i\"\\x01\\xb7\\x91\\xa3g\\xfb\\xd8\\xa2\\x01t\\xb8B\\xb6\\xa1\\xeaa\\xc0m0\\xc9\\x9b\\xf1\\xfe\\xeb!S8&\\xc6J\\x98yG\\x02N\\x10\\xed\\xb2wO6\\x81\\x8b\\x1b\\x048\\xf3v)f8\\xe8\\x81R\\xec\\xf2f\\x0eR\\x8f\\n\\x86\\xbe\\xaapI\\x84`\\xd8\\xe5|\\xc0<\\x7fh\\x99\\x8c\\xda\\xfd\\xa3\\x83\\x97\\x91zI-\\xdd#\\xc1\\x03\\xe4-k\\x0f\\xe6\\xa26\\x18\\xf9\\xd3\\xcef<{\\x08\\xbavjQ\\xbb\\xf8\\xccOP\\x10\\x8d\\xf0\\x97L_\\r4=\\xaa\\xb7\\x7fW\\xf5j\\xbe.\\xec\\x92\\xa3Ql+EE\\n\\xb6[yW\\x05!.\\xed\\x16\\xcd\\x85\\x15\\x17\\x91\\xc2~D\\xdfz\\xebM$*\\x8a\\xdcK\\rJ@\\xfa\\x96|\\xecpYy\\x1b\\xdc\\xb4\\xf8\\xc3e\\x95\\xe7\\x17\\xc1\\xdd\\x1d\\xd3\\xa8jW\\xfa`\\x05\\x81-\\xa2\\x97\\xc36A\\xb3\"\\x8ak\\xddQ]<\\x0f\\xdb\\xbe\\x04\\x16ay\\x88QYK\\x89\\x15\\r\\x84#\\xc3uj\\x8c\\xf3\\xc5\\xf9y\\xf0\\x97\\x14\\x8bH\\x11\\t\\x84\\xe3\\xe7.k{\\x84\\xe6\\xa1\\xec\\xd0Y\\xbd\\xb1l\\x13\\xd8T\\x83\\xda\\xb3(G\\x02.\\x83e\\n\\x1c\\xa7\\xc8\\x83\\x95i0\\'\\x0f\\xf7[\\x8al\\xe7Yw@\\xdf:?\\x98\\x85\\t\\x9f\\xe0\\xe7\\xe1D\\xc4M3\\x17\\xab\\x0eH\\xee~Q\\x1e\\x96\\x87\\xa6\\r\\xd2\\xff\\xf8\\x16\\xd2\\xa1\\xc0U=\\xd8\\xbc\\xd9\\xed5\\x11\\x8d\\x92\\xae\\' E;\\x1f\\x8f^\\':\\xf4L\\xb7gR>b\\xf7p\\xf5\\x0f\\xd1C\\xb5\\xc7\\xd4:\\xa1\\xb5\\x81z\\x06\\'\\x9e\\xff\\xd2?\\x93\\x02\\x17\\x96\\xaf\\xe8\\x84*\\xfa\\xeb8\\xfa\\xc4\\xfb\\xab\\xf3\\xd2\\xbf\\xd0\\xf8\\xfa\\xe7\\x14\\x93UH\\xa8\\xfe\\xfe\\x99/\\xab&\\xea\\xa7\\xd4\\xbcK\\xef\\xfe\\xd4\\x8c\\xd8\\xa5vb\\x08\\x86\\n\\xb8&\\xfdp\\xbb\\x05\\xc5\\rg\\xccH>\\x13\\x02\\xed\\x1e\\xb1J\\xb8\\xff3\\x06yV/8\\xdecv\\x0b\\xca\\x979\\x8f\\xd9 \\xeb\\xd9\\xb7\\x8d\\x1f\\xe7\\x06BZ\\xcb\\xcb.\\xb0\\xd3\\xe6\\xb1\\xad\\xee(\\x84\\xf57\\x87@\\x9b\\xedD7\\x98\\xef;\\x02}\\xd0\\xe7\\xb4\\xf3\\xf5\\x8d_r\\xf5\\x07]\\x87Sj\\xa3nC\\xf6\\xc2s\\xf5\\xe6h\\x85\\xf2\\xf5\\x99\\x86\\x1fW~\\xbaq\\x1b\\xb2\\xf6\\x0f\\xe7\\xe8\\xcb2\\x8c\\xfb\\\\\\x1f\\x1d\\xe6\\xebo>\\x0e\\x8a\\'\\xb6\\x84@k\\xa3\\xff6\\x9c\\xa8\\x1fu]\\xef\\xcc\\xe8\\x0b\\x05\\xf6\\x92\\x01\\x12\\x86T\\xa6y\\\\`\\xfe\\xa1q\\xa8\\xf2n\\xa1\\xc8\\xad\\xcf\\x95\\xd0\\xbc\\xdbrI\\xd1Y\\x10\\x92\\xa9\\xfc\\xae\\xf1\\xcb\\xcdqh\\xbcW4\\x19\\xb5\\xc1\\xbbw\\x99\\xb69\\x86qP\\xd7\\xec1\\x92\\xf1s\\x90]8\\xee\\xb5(\\xff\\xf0K\\xe8[l|}j\\xd8uHm\\x07\\xa7\\xfd_\\xfa\\xa3\\x1e\\xb9\\x11\\x98\\xfe=\\xf9=\\x82{\\'\\xe8\\xdf\\xd9>[\\xe7#}\\x1c\\xdaj)\\xc6\\xd1oZT\\xe0]#\\x99\\xca\\xd7?\\xf5\\x9c\\xb9\\xcfM\\xaa\\n*[\\x1f\\xb0`\\x8fM\\nt\\xd1\\x81\\xab/=[\\xdd\\xf1\\xefR?X\\x98\\x19|\\xfa[\\xaf>\\xf5\\xd5JU\\x8f\\x89\\xb6$\\xfa\\x16\\'\\xa3\\xb5\\x14+\\x8f\\xe8M\\x97\\x83\\xd83\\x9dg\\xdfE\\xb7!\\xfa\\xc3\\xf9\\xc5\\x9e\\x99\\xe8/M\\x82g\\x00K\\xb8u\\n\\x98\\xcb\\xfa\\x89=^\\xa5\\xeb&c!\\x1f\\x81I\\xcf\\x00\\x13\\xf8\\x8f\\x0f[\\x7f\\xcaf\\xc6\\x16\\x12WO\\x96{O\\x03\\x16\\xf3\\xecQ\\x12fQO\\xfe\\xcdA\\xe2\\xecz\\x16\\xc08d*\\xbf~\\x0b\\t`\\xa8\\x17\\x9f53gM\\xd2\\xd9\\x19W\\x0c\\x00\\xcf\\x1a\\xc8[\\xd5\\xd0\\xf6(\\xf5\\xe2\\x8cV\\xe6D\\x1d@!\\x89;\\xfe\\xa6k\\\\L>Q\\xcc\\r\\xcb\\x82\\xc3\\xef\\x1e\\x071dw\\x9e\\xb7B\\x91\\xf1\\xc2\\xd8\\xdf\\x98?\\x7f\\xb4]\\\\\\x8c\\x12\\x86\\xcdO\\xf7\\xd3\\xbb\\x12\\xe6\\xef\\xf9@\\xfd\\xf7\\x1d\\x9av\\x13\\xe3\\x1f.\\x92+dN\\xcaO\\xd4\\x11^^\\xfa\\x8a\\xffczvIq\\xe3d\\xdc\\xe2\" \\xc5\\x99_\\xbc\\xe4(w\\x9e\\xac\\x02^\\xfb\\x00W\\x97*\\xc9m\\x7f\\x92>9\\x0f\\xf90\\xd7/*\\x844\\xf5@\\xb9\\xdcv\\x82?\\xb7\\xdf\\xc2\\xb0\\x89\\xfd\\xa9\\x99\\xdbW\\xf0\\xfa\\xd9\\xb2\\xf6F;\\xca{vv\\xea\\x1b\\xf5^,*\\xae\\xcd\\xe7\\xad\\x1f\\x9b3\\x8f;\\xbe\\xaa\\xdcy1\\x14&\\xaf\\xbb?o\\x9d\\x8f\\x050\\x81\\xa5R\\xa3\\xd3:\\xb6O\\x8e\\x8f\\xf7\\xec\\x94(\\xe7\\xe6\\xc3\\xd1mr\\xff\\xe4tn\\xffW\\xaeL\\xa0?\\xa2P\\xa9\\xd0\\x9b?\\x0fv{\\xba\\xcb\\xc8\\\\\\x1d\\x98\\xbd\\x90\\xd4\\xffu[\\x1e\\xf7\\x9c/=\\x8b\\xf5?vi\\x8fU\\x11\\x8a\\t[)\\x01k\\xb9\\xde3\\xb0\\xf6\\xbc\\x9aR\\x15\\xcc&\\xe6E\\x0e\\xeb\\xf1F\\xe6\\xad\\xc3N\\xce8\\xc9BU\\x1c\\xfd\\x0ck!\\x8e^\\x8e\\xb5 g\\x1f\\xdaF\\x8d\\x92\\xa4Ve\\xd2s\\x0f\\x89`\\xb6\\xb9A_\\xd9\\xba\\xef\\xa5\\xab\\xde\\xec:6\\x88\\xf9w,\\x89\\x08\\\\G\\xdc\\x9bD\\x8b1z\\xcal\\x0b\\x9e\\x7fCZ\\xfe\\x016^\\xda\\xa94[\\x08\\x88\\xb7\\xfdd%nC\\x9e<\\xe3\\x1c<\\x9f\\xc5\\x82f\\xcb\\x9e\\xa0\\xf9,\\x06\\xa8ri\\xf7\\xd2ly~\\x9a$\\xc6\\x8b\\x82c\\x0e\\x03\\x06<\\x9b\\xf3>\\x05\\x19|nfN\\x88;7\\xce\\xbf\\x9cg[\\x16\\x7fU\\xcd\\xc0\\xf2A\\xa1>\\xe7\\xe4\\x83\\x0c\\x94\\xd7~\\xd3\\xfd&\\x81\\xcec\\x87\\x8fY\\xf0R\\x08\\x98}\\xe1k\\xa6\\xceC\\x18hS\\x1a}\\x1d\\xfc\\x99\\x04\\xb0k\\xa543\\x9d\\xa1!w\\xb7\\x06Bs\\r<\\xd5\\xba\\x00@\\x16/\\x7f\\xb4\\xa2\\xa9y\\xfb\\xb5\\xfc?\\x9f\\xe4\\xcf\\xe9\\x05\\xd0|%\\x9bU\\x0c\\xac\\xe8\\x9c\\xb4o\\xb1}\\xda\\xd6D\\xc8\\xcc\\xcc\\xd9\\x01\\x01\"\\x86U\\xb5+g\\xa0q\\x85\\x9c\\r\\xaa~\\x8b\\xfa%\\x1b=\\r\\x8aeY\\x06|\\x8bu\\x1e.A\\xdbch\\x87\\xd9\\xde, \\x83\\xfa\\xfe\\x01\\xb1\\x11\\xeb\\x9f:\\x08\\x88\\xb0h\\x0bK\"\\x902\\xa6\\xbe\\xe5\\x11!\\x83\\x86\\xaa|}\\xea\\x96\\'\\x1bw\\x1a[\\x92\\x81\\xed\\xbb\\xdf\\x8b%\\xf3\\xee\\xe7\\x13\\xf2;u\\xbc\\xf8\\xd3\\xc6\\x02\\x82\\xd9\\xcf\\xaf\\xaf\\xfb\\x8e\\x8e\\x7f!\\xce\\xe7\\xdc+,^\\xbd\\x05s\\x1fNZ\\'\\xc2f\\x00\"\\x16w\\xa7\\x9c\\xbf\\xa9\\xc1\\xd5\\xbf(\\xc4\\xcd7\\xd5\\x05b<0\\x9e\\x99\\xa5\\xf3\\x90{\\x0fv\\x88\\xc5\\xc6\\xebN1p\\x9b\\xd8\\x9fvs\\xc4\\x84\\x0c|\\x86\\x8e\\x1e\\xa5i\\x91\\x81\\xd7&\\x9e\\x1a\\xc77b<\\x9bib\\x82a\\x95~\\xb0\\'\\x8a\\x8c\\x92\\xf4\\xdcU\\x98M\\x9d\\xfbX\\x05Cz\\x8e\\xec\\x92\\xdf\\xf6\\x0b\\xe7\\xb9\\xf0f\\xec\\x00\\xb7\\x9d\\xc6\\xfd\\xff\\x96\\xd4\\x93\\x95\\x1c4\\x12\\xe3\\xf4\\x93\\xf5\\x88\\xd3\\xe2\\xddwA\\x0cs\\x8a\\x12P\\xc4\\xe2\\xbf\\xfb\\x9e\\xbb\\x1eW$\\xf9\\xefW\\x9b\\xe2\\xfeFt\\xdd9\\xf1[B;\\xb0\\xf8\\xb5f\\xdag\\xf1\\xf4\\xb1\\xff\\xcf\\xb2\\xe7\\x8d\\xde\\xb8\\x84\\xd9\\x0e\\xfe\\x84n\\x94gT9\\xa7,\\xc0t\\x15\\x15\\xdf\\x8ba\\xed\\xb40\\xd2~\\xccf\\xb7/\\xd2\\xc4l\\xc6\\x05\\xc7\\x01\\x12\\xcf\\xe6\\xc6A\\xdb1q\\x1e}\\xde\\xa2.\\xbc\\xefo\\x0b\\xdez\\xcd\\xc3\\xe2q-j\\xf5\\xe3\\xed/N\\xbd\\xc8i\\xa9\\x9d\\xc1\\xdbW;yu\\x06\\x7fO5\\xf1\\xfd\\xc4\\x9bG\\x0e\\xef\\xdcap\\xec\\xe4\\x83\\xaf9\\xfc\\xa6\\x9e~\\x12P\\xa7W\\x1a\\xfbn\\x066\\xdeaF\\xf8\\x00+\\xc8,\\xaaU\\xa4\\x06\\x8bg\\x13\\xe3\\x9a\\xf2<V!\\xe1~G\\xc0\\x05\\x8c\\xdf\\xdf<\\xf2v6\\x0b\\xf8tOq\\xe9\\xe6r\\xde\\xbe\\xedC\\xc7\\xa7\\xb6\\xb7\\x17>bV\\x95Z\\xd6\\x9fs\\xaa\\xe2\\x8e\\x9b\\xa3\\x8e\\xc5\\xe3\\xe8\\x1e\\x19\\xb2\\x0e \\xbe\\x12u\\x8b)e\\x02lU\\xc9\\x82g\\xd9L jk\\xd0\\x96\\xa3\\xc6\\x98\\xdfF\\xdfJ\\x03&c\\x9f\\xcd>\\xf1>4\\x9f\\xb5\\x9f\\x125\\xfa\\xad\\xb8ud\\xb8\\x84\\x97\\x8f6\\xde8\\xec\\x82\\xe5F\\xd5i[\\xcc\\xcax\\xf3\\xab\\xe3\\xcd\\'\\x1f\\x9b\\x8f\\xe25(\\x9c7\\xdfB\\x8cg\\xb0s\\xafp\\xf6Oh\\xf2.l\\xdfd+_Z\\xc2*\\x0c\\xfb\\xa4\\xee\\x1e=\\xc2Y\\xc7\\xb4\\xd7v\\x1c\\xfeu\\xb5\\x15\\x96_\\xc6\\xcd\\xe5/9y\\xf9\\x1e\\x11\\xce\\xcd\\xd7<\\xbc~82\\x01Qfk\\x80d\\x13\\t8\\xbe\\xe8\\xf3\\xc8\\xc3,\\x88\\xbaJf\\x9f}a!\\xab\\xad}\\xc9\\x08c\\x9a\\x0344\\xeb\\x87}O\\xab\\x00\\xac)\\xa9\\xd1w\\xb1u/\\xe4RU\\xb7\\xba/(\\x05\\xa2\\x9a\\xba\\r\\xc3\\x1b\\xe7AUe\\x8b)\\xac\\xb2\\x9b\\xd0\\x18\\xf4\\x88\\x9aT\\xfa\\x17tX\\x84\\xfa\\xbd\\xb9q+D\\xbc\\x9d;Lr\\xff\\xca\"\\x8ey%i\\xd7\\x17P\\xa4\\x16F\\xd1f\\x0ew\\x90\\x93\\x83\\x1e<m\\xae/\\x80\\xdbT7\\xef]\\x8d\\xb6\\x13\\r\\xc5\\x8f\\x9f\\xef\\xee Sg\\xdd\\xc8\\xc3\\xda\\x0b\\xdf\\x05\\xae\\xd8Q{\\x02\\xb9\\\\-Y\\xa9\\x9b\\x7f\\x0f\\xbe\\x19\\xcd\\xba\\xe8Ww\\x02\\x04l\\x0b\\x9b\\x92\\xd56C\\x19W\\xb6f\\xff\\xcc\\xaa\\x86\\x00\\xcbf\\x81\\x9f\\xde\\xab\\xc9m\\xa5\\xe16\\x84\\x8eth\\x03U)4Bl\\x1f\\x19\\xd0\\xeb4\\xbf\\xca0 \\xa7>r\\xbb\\xed\\x1e#\\x86\\xec\\x12O#+\\x8b\\xfd\\xa4\\xb4\\x1f\\xee1\\xbc)?J9|\\xee*\\xb5$\\x8c\\x86\\x98\\xde\\x167qz\\xb8\\x13L\\xdbk\\xaf\\xaee\\xbd\\x13\\xac\\xaa\\x9e\\xf3U\\xb2\\x83\\x00{\\x0e\\xde\\x108q\\xde\\x1c\\x02ZEmf\\xb5\\x13(\\x80\\x85\\xa9L\\xdcS5\\x08`o\\x84u\\x8e\\xa2\\xe7h[\\xe5\\xe5\\xd6\\xe1B\\xb4nj.\\xb37\\xbfO\\x02\\xe6\\xed\\xbf\\xb0Vq9\\xc4\\x88\\xb6o6\\x8fR!W\\xc8z\\xde3\\xd6\\xad\\x84;n9g\\x9f=*\\x00\\x17J\\x0ev9\\xaf\\xa9\\xa4(\\\\>^\\xe39}\\x01\\xb2/\\xfc\\xa9_T\\x93\\t|7\\xb8\\xfc\\xdaF\\xe1\\x05 un_\\x81c\\x9f\"\\xa8\\xe1a\\xefr\\xf4\\n\\r\\xb9\\xbc0\\xee\\x88\\xec4\\x1aH\\xd5\\xddk\\x91\\x01*C\\xaf,\\x8bz\\xa45\\xf5!\\x91\\x98\\x8b\\xfd\\x18^G\\xce\\xfc\\xf4\\x0e\\x88F*u\\x0e^;\"(\\x8e0Oo#\\xf9\\x06G\\x83\\r\\x01\\x19f&\\xd7\\x03\\x90\\x13\\xdel\\x14=@\\xf5\\xbbg9\\xb8\\x9f\\xd1\\xc24\\x93\\xf0\\'\\xdf\\x13\\xb5;%(\\x92K\\xfa~C\\x88\\x14$\\xe9\\x0f\\xe5\\xb4T7.\\xee\\x7f\\x0f\\xdf\\xe80z\\xa6<G\\x1av\\x13\\x14\\xf3,\\xed\\x7fO\\xb1\\xf7\\xcds\\xc9\\xfa\\xee\\x80\\xc4\\x0fI9\\x94\\xab\\x0c\\xc1\\x9a\\x0e\\xc6W\\r\\xad\\x1c\\xc1\\xfd\\xd3U\\x17\\x95\\xb5\\xca\\x81\\xc1\\x1bg\\x07\\xe8(K \\xdb\\x1f[\\x1b;]\\x15Ad\\xcf \\xad]\\x1f\\xaf#J\\x83\\xc9p\\xda\\xf8E0\\xbc\\xe5\\r\\xb0\\xac\\xe9\"\\xb8#\\xf7\\xdc\\xf1W,E0\\xa1\\'\\xe8\\xc7\\xfa\\xdd\\x96\\x14\\xf3\\xc5\\x8e\\xd9\\x0e\\x90\"\\xf2\\xec\\x8d\\xc8Z\\xd6\\x8a\\x1a\\xf8\\x9d\\xb5\\x7f\\x90\\x80\\x91\\x10\\xecU\\xedh\\xe6\\xbc\\xb2\\x86\\xf2\\xa9^1H\\xbdE\\x03Y]\\xe7N\\x99\\xc3t\\x85)$K\\xa5-o4\\xc0v7\\x03\\xf3s\\xaf4\\x10\\xcd\\xfc\\xc3Oe\\x8a\\\\a\\x1f}F\\xeb\\x8d&\\r0J\\xb4\\xb5G%\\x80\\x88\\x84*\\'\\xccP\\r\\x90\\x02\\x13\\x07\\x9e4\\xab\\xa0H|\\x9c\\xe55\\xc3B\\x17\\xe9\\xffXs\\xae}\\xc9\\x12\\xd0Z\\xee\\xe9&\\xb5\\x83*`\\xd6l3j\\xb5\\xb0\\x13\\x99\\xfc\\xd2\\xe5s\\x8eb\\x04ym\\xa1N\\xf8\\xd3wQ\\x10\\xcdm\\xe1k\\x05\\xb5@\\x08`\\xa4\\xae\\xba\\x10]\\x8a\\xae\\xab\\xbc\\x88y\\x00\\x86\\x9a\\xa1\\x92\\x81e\\xa4\\x98;\\xbd\\xa5\\x1a\\x03\\'P^\\xeaC\\xd6\\xee\\x1b\\xacR\\x89\\x05{\\x9dE\\xab\\xe1\\xcd\\x87\\x93/\\x18\\xc9M\\x83\\xcb\\xfd\\xc8\\xa4\\x11\\xd1j\\x8a\\xb0\\xb5M\\xc7\\x91\\x8f\"\\xc81\\xf3\\xbb\\xd1\\x1b\\x1f\\xaf\\x83\\xefY\\\\\\xcb\\xd8\\xd1\\'\\x02\\x02\\xb7\"\\xc5\\xdd\\x167\\xc0\\x9b\\xa2\\xc2k\\x14O\\xea\"}/\\x11\\xfb\\xe4&]\\xd0\\x9d\\x92\\xa1U\\x17{\\t\\x02\\xf2\\x86\\x93i\\xe9?H@\\x8b \\xb0\\xfd\\xd6\\x0fR\\xbe@\\xe2x\\x93\\xd0\\x08eQo\\x98N\\x98\\xddt\\xe4tM\\xb5\\x83\\xde\\xddA\\xca{B\\x9b\\xe7\\xbb\\xaayHt8\\xe1\\xa0\\x99\\xaa(\\xe8\\xbem1\\xdc;<N\\xc9>\\xb990t\\xdb\\x10\\xc5R\\xca*M>S\\x91\\xb2&my\\xbd\\x9c\\xcd\\x10|\\xeeA\\x9a\\xa1\\x08q\\x086Hx^m\\x1d\\xbc\\x04\\x1e\"$:?!\\x0eQJ\\xd3N\\xbe\\xc8\\x15\\xfa\\x08\\xcf9\"}\\xbag\\xce\"\\xd8\\xdf\\xe6\\xb2k\\xda\\xf4\\x8f\\x94\\x9fE\\x0f\\x85*\\x94\\t\\xc8\\xe7\\xee\\xbe3\\xcd\\x0b\\x1b\\xe1\\x08\\x11A\\xe8J\\xecB\\x90\\xa8b\\xde\\xa1+M\\x9bp\\x8e\\x86>Sp\\xde\\xc1\\xa9O\\xaa\\x7f}\\xe5\\x9f#T\\x86\\xeb\\xd0\\xb2\\xbb\\x9f&\\xdd\\xdb\\xdc\\x85X\\x9c\\xfa\\xdd\\xbd\\xf1\\xd8\\xe4\\xef\\x82\\xfc;\\xdcz\\xde\\x17\\xca\\xabw\\xc2\\xdc{=qd]\\xa2\\xe5P\\x83\\xe7\\xaca\\xf2R\\xd3\\xebN\\t/\\x87 @E{\\xf4\\xe5\\xaa(h\\\\R\\xaei\\xcf\\x99T\\xe8\\xd5\\x834\\xe3\\xf9\\xa9.\\xe4\\xb63\\xe2\\xf3\\x05\\xcf\\xa5\\x90\\x83\\x0e\\xce\\x1e\\xb3\\xaf4\\x06\\xc5\\x82\\xd6\\'-\\x8eZ\\x828\\xa6\\x8e\\xae\\xeaJ_\\x8fl\\x02\\xd7\\xcf67M!\\x97\\x96\\xc8\\xfc\\x1357\\x05\\xca0\\x11\\x9fk\\xe3L\\x82\\xd8\\xddN;\\x8b\\xd3\\xbe\\x93\\x18F\\xfa\\xb5j\\xf4\\xef,\\xa0`\\xdd\\xbb:\\xd3\\xb3,\\xa0c\\x86j\\x85l\\x16\\tH|\\x19:\\xfb}&\\x0b\\xf0S\\nw7_\\xcb\\xa29\\xc5\\x11V3\\x9e\\xb1\\xa2.D\\xb6\\x97\\x17=&\\xb5\\xa5\\x9d\\xedZr;\\x96\\x04\\xa8g\\xb5\\xa8\\xca\\x1dd\\x01\\xd4\\x8ci\\xdf\\x9d\\x0e\\x90\\x80\\xd3\\x15%O\\x88\\x1bIDO\\xdfkyE5,FP\\x08\\x81\\x08\\xa4\\xb0\\xd8\\xfdsn,\\x9cYO\\x02\\xde\\xbd\\xad\\x99\\xf1\\xe0\\n\\x0bPx\\xbbG)\\xd8\\x8b\\x05\\xec\\x98~\\xe8\\xa8D\\x12\\xe7\\x9cly\\xcc\\xf9\\x0e\\xb0-\\x1b~\\xab\\x8f}\\xa7i\\x02\\x7f\\xfeN\\x13\\x00&\\x7f\\xa7\\t\\x01\\x82\\xc0~!\\x00\\xc0\\xfa\\xd9N\\xe8\\'4E?\\x95\\t\\xfd\\xa4x\\xf6\\x81\\x00\\xb7\\x03\\x1e\\xf4\\x00\\x0f\\x1f\\x7f\\xe2./\\xbf]\\x01^\\xfe\\xc4\\x03^\\xde\\x01\\xfb]\\xfd\\xbd|}\\x884?_\\xb7\\xfd\\x1e\\xde\\x00W\\xdf\\xf3\\xbf\\xe8\\xeb\\xfe\\xa6\\x8f\\xd9>\\x1e\\x87\\xfd\\xf5\\x89[]}\\xdc\\xbd\\\\5|\\x0f\\xec\\xf2\\xda\\xef\\xe2\\xbe\\xcb\\x97\\xe6\\xa2\\xadM\\xdc\\xed\\xe5w`JNS\\x8b;\\x9e\\xe6\\x7f\\x19Oh\\xd2xB\\x80\\xb6\\xa6\\xe6*\\xac\\x1f\\xf5\\xbf\\xf4\\x13\\xfb-N\\xcc\\xb6V\\'n\\xf2\\xf5\\xd8w\\xc0\\xdf\\xcf\\x95\\xd3\\x8e\\xe9`\\x1f\\x07\\xff\\x07\\x00\\x00\\xff\\xffcc``\\xe0\\x00b\\x16\\x06\\x08`\\x85\\xf2\\x19\\x91h\\x10\\x10\\x80\\xf2C\\xf4\\x14\\\\\\x12\\xcb2\\x8b\\x01\\xa5\\x9b\\xd0n'\n"
          ]
        },
        {
          "output_type": "execute_result",
          "data": {
            "text/plain": [
              "11009"
            ]
          },
          "metadata": {},
          "execution_count": 15
        }
      ]
    },
    {
      "cell_type": "code",
      "source": [
        "mat = io.loadmat('bus494')\n",
        "#print(mat)\n",
        "A=mat['Problem']['A']\n",
        "B=A[0]\n",
        "C=B[0]\n",
        "D=sp.csr_matrix.toarray(C)\n",
        "print(type(D))\n",
        "plt.figure(figsize=(10, 10))\n",
        "plt.spy(D)\n",
        "plt.show()"
      ],
      "metadata": {
        "colab": {
          "base_uri": "https://localhost:8080/",
          "height": 612
        },
        "id": "MJxXKgSF_arR",
        "outputId": "6a6f0492-f080-4af7-ece1-1dc8025720a6"
      },
      "execution_count": null,
      "outputs": [
        {
          "output_type": "stream",
          "name": "stdout",
          "text": [
            "<class 'numpy.ndarray'>\n"
          ]
        },
        {
          "output_type": "display_data",
          "data": {
            "text/plain": [
              "<Figure size 720x720 with 1 Axes>"
            ],
            "image/png": "[encoded data removed]"
          },
          "metadata": {
            "needs_background": "light"
          }
        }
      ]
    },
    {
      "cell_type": "markdown",
      "metadata": {
        "id": "blxFOwK_Ye_Z"
      },
      "source": [
        "# Problema 5\n",
        "Considere la matriz en https://suitesparse-collection-website.herokuapp.com/Sandia/oscil_dcop_21. Use un método iterativo (diferente de Jacobi) para resolver el sistema $Ax=b$\n",
        "con $b=(1,1,\\dots,1)$."
      ]
    },
    {
      "cell_type": "code",
      "source": [
        "from scipy.sparse.linalg import spsolve\n",
        "def GaussSeidelsolver(A,b,tol,Maxiter=25,x=None):\n",
        "    # x inicial en caso no se tenga\n",
        "    if x is None:\n",
        "        x = np.zeros(len(A[0]))\n",
        "    #A=D-L-U y R=A-D+L=-U;\n",
        "    Q= np.tril(A)\n",
        "\n",
        "    #Interation\n",
        "    for i in range(Maxiter):\n",
        "        r=b-np.dot(A,x)\n",
        "        nr=la.norm(r)\n",
        "        print('norm(r(',i,'))=',nr)\n",
        "        if nr<tol:\n",
        "          break\n",
        "        delta= spsolve(Q,r)\n",
        "        x = x+delta\n",
        "    return x\n",
        "A = D\n",
        "b = b=np.ones([1624,1])\n",
        "guess=b\n",
        "sol = GaussSeidelsolver(A,b,0.00001,Maxiter=100,x=guess)\n",
        "\n",
        "print(\"A:\")\n",
        "print(A)\n",
        "\n",
        "print(\"b:\")\n",
        "print(b)\n",
        "\n",
        "print (\"x:\")\n",
        "print(sol)"
      ],
      "metadata": {
        "colab": {
          "base_uri": "https://localhost:8080/",
          "height": 391
        },
        "id": "3QfzPjIzqr23",
        "outputId": "a3e0ffc6-1905-4878-f831-25a6415d9b68"
      },
      "execution_count": null,
      "outputs": [
        {
          "output_type": "error",
          "ename": "ValueError",
          "evalue": "ignored",
          "traceback": [
            "\u001b[0;31m---------------------------------------------------------------------------\u001b[0m",
            "\u001b[0;31mValueError\u001b[0m                                Traceback (most recent call last)",
            "\u001b[0;32m<ipython-input-22-d733ac2ef0ca>\u001b[0m in \u001b[0;36m<module>\u001b[0;34m()\u001b[0m\n\u001b[1;32m     20\u001b[0m \u001b[0mb\u001b[0m \u001b[0;34m=\u001b[0m \u001b[0mb\u001b[0m\u001b[0;34m=\u001b[0m\u001b[0mnp\u001b[0m\u001b[0;34m.\u001b[0m\u001b[0mones\u001b[0m\u001b[0;34m(\u001b[0m\u001b[0;34m[\u001b[0m\u001b[0;36m1624\u001b[0m\u001b[0;34m,\u001b[0m\u001b[0;36m1\u001b[0m\u001b[0;34m]\u001b[0m\u001b[0;34m)\u001b[0m\u001b[0;34m\u001b[0m\u001b[0;34m\u001b[0m\u001b[0m\n\u001b[1;32m     21\u001b[0m \u001b[0mguess\u001b[0m\u001b[0;34m=\u001b[0m\u001b[0mb\u001b[0m\u001b[0;34m\u001b[0m\u001b[0;34m\u001b[0m\u001b[0m\n\u001b[0;32m---> 22\u001b[0;31m \u001b[0msol\u001b[0m \u001b[0;34m=\u001b[0m \u001b[0mGaussSeidelsolver\u001b[0m\u001b[0;34m(\u001b[0m\u001b[0mA\u001b[0m\u001b[0;34m,\u001b[0m\u001b[0mb\u001b[0m\u001b[0;34m,\u001b[0m\u001b[0;36m0.00001\u001b[0m\u001b[0;34m,\u001b[0m\u001b[0mMaxiter\u001b[0m\u001b[0;34m=\u001b[0m\u001b[0;36m100\u001b[0m\u001b[0;34m,\u001b[0m\u001b[0mx\u001b[0m\u001b[0;34m=\u001b[0m\u001b[0mguess\u001b[0m\u001b[0;34m)\u001b[0m\u001b[0;34m\u001b[0m\u001b[0;34m\u001b[0m\u001b[0m\n\u001b[0m\u001b[1;32m     23\u001b[0m \u001b[0;34m\u001b[0m\u001b[0m\n\u001b[1;32m     24\u001b[0m \u001b[0mprint\u001b[0m\u001b[0;34m(\u001b[0m\u001b[0;34m\"A:\"\u001b[0m\u001b[0;34m)\u001b[0m\u001b[0;34m\u001b[0m\u001b[0;34m\u001b[0m\u001b[0m\n",
            "\u001b[0;32m<ipython-input-22-d733ac2ef0ca>\u001b[0m in \u001b[0;36mGaussSeidelsolver\u001b[0;34m(A, b, tol, Maxiter, x)\u001b[0m\n\u001b[1;32m      9\u001b[0m     \u001b[0;31m#Interation\u001b[0m\u001b[0;34m\u001b[0m\u001b[0;34m\u001b[0m\u001b[0;34m\u001b[0m\u001b[0m\n\u001b[1;32m     10\u001b[0m     \u001b[0;32mfor\u001b[0m \u001b[0mi\u001b[0m \u001b[0;32min\u001b[0m \u001b[0mrange\u001b[0m\u001b[0;34m(\u001b[0m\u001b[0mMaxiter\u001b[0m\u001b[0;34m)\u001b[0m\u001b[0;34m:\u001b[0m\u001b[0;34m\u001b[0m\u001b[0;34m\u001b[0m\u001b[0m\n\u001b[0;32m---> 11\u001b[0;31m         \u001b[0mr\u001b[0m\u001b[0;34m=\u001b[0m\u001b[0mb\u001b[0m\u001b[0;34m-\u001b[0m\u001b[0mnp\u001b[0m\u001b[0;34m.\u001b[0m\u001b[0mdot\u001b[0m\u001b[0;34m(\u001b[0m\u001b[0mA\u001b[0m\u001b[0;34m,\u001b[0m\u001b[0mx\u001b[0m\u001b[0;34m)\u001b[0m\u001b[0;34m\u001b[0m\u001b[0;34m\u001b[0m\u001b[0m\n\u001b[0m\u001b[1;32m     12\u001b[0m         \u001b[0mnr\u001b[0m\u001b[0;34m=\u001b[0m\u001b[0mla\u001b[0m\u001b[0;34m.\u001b[0m\u001b[0mnorm\u001b[0m\u001b[0;34m(\u001b[0m\u001b[0mr\u001b[0m\u001b[0;34m)\u001b[0m\u001b[0;34m\u001b[0m\u001b[0;34m\u001b[0m\u001b[0m\n\u001b[1;32m     13\u001b[0m         \u001b[0mprint\u001b[0m\u001b[0;34m(\u001b[0m\u001b[0;34m'norm(r('\u001b[0m\u001b[0;34m,\u001b[0m\u001b[0mi\u001b[0m\u001b[0;34m,\u001b[0m\u001b[0;34m'))='\u001b[0m\u001b[0;34m,\u001b[0m\u001b[0mnr\u001b[0m\u001b[0;34m)\u001b[0m\u001b[0;34m\u001b[0m\u001b[0;34m\u001b[0m\u001b[0m\n",
            "\u001b[0;32m<__array_function__ internals>\u001b[0m in \u001b[0;36mdot\u001b[0;34m(*args, **kwargs)\u001b[0m\n",
            "\u001b[0;31mValueError\u001b[0m: shapes (430,430) and (1624,1) not aligned: 430 (dim 1) != 1624 (dim 0)"
          ]
        }
      ]
    },
    {
      "cell_type": "markdown",
      "source": [
        "**Comentarios:** No me fue posible solucionar este error. Agradecería bastante una corrección."
      ],
      "metadata": {
        "id": "ulVrMn8PzGAS"
      }
    },
    {
      "cell_type": "markdown",
      "metadata": {
        "id": "XEz_YOFtYuA-"
      },
      "source": [
        "## Problema 6\n",
        "Considere la matriz https://suitesparse-collection-website.herokuapp.com/Sybrandt/AGATHA_2015.  Que puede decir del problema asociado a esta matriz?"
      ]
    },
    {
      "cell_type": "markdown",
      "source": [
        "Ante los riegos de fracaso y altos costos de operacion que conllevan las investigaciones médicas, los sistemas de generación de hipótesis permiten afrontar esta dificultad. Agatha es un sistema de generación de hipótesis basado en deep learning que recolecta información de toda la información de estudios biomedicos existentes y y construye un grafo que relaciona relaciona datos coincidentes en dichos papers. Este grafo contiene 183,964,077 nodos y 11,588,725,964 aristas. La matriz asociada a dicho grafo es la que está en el enunciado del problema."
      ],
      "metadata": {
        "id": "LBWFa0biy4m1"
      }
    }
  ]
}