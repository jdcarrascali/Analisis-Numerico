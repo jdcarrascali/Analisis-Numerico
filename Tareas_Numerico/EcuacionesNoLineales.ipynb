{
  "nbformat": 4,
  "nbformat_minor": 0,
  "metadata": {
    "colab": {
      "provenance": [],
      "include_colab_link": true
    },
    "kernelspec": {
      "name": "python3",
      "display_name": "Python 3"
    },
    "widgets": {
      "application/vnd.jupyter.widget-state+json": {
        "508f7febc235446fa383a5a2d790ec6f": {
          "model_module": "@jupyter-widgets/controls",
          "model_name": "VBoxModel",
          "model_module_version": "1.5.0",
          "state": {
            "_dom_classes": [
              "widget-interact"
            ],
            "_model_module": "@jupyter-widgets/controls",
            "_model_module_version": "1.5.0",
            "_model_name": "VBoxModel",
            "_view_count": null,
            "_view_module": "@jupyter-widgets/controls",
            "_view_module_version": "1.5.0",
            "_view_name": "VBoxView",
            "box_style": "",
            "children": [
              "IPY_MODEL_e920d3c067d24f0588a9cbc560ab4867",
              "IPY_MODEL_b07032291ae24086b75718876f6f98de",
              "IPY_MODEL_4c18a1f259794c2eaba6b44465380413"
            ],
            "layout": "IPY_MODEL_391410ab96c449908614dbf6d334a8a8"
          }
        },
        "e920d3c067d24f0588a9cbc560ab4867": {
          "model_module": "@jupyter-widgets/controls",
          "model_name": "FloatSliderModel",
          "model_module_version": "1.5.0",
          "state": {
            "_dom_classes": [],
            "_model_module": "@jupyter-widgets/controls",
            "_model_module_version": "1.5.0",
            "_model_name": "FloatSliderModel",
            "_view_count": null,
            "_view_module": "@jupyter-widgets/controls",
            "_view_module_version": "1.5.0",
            "_view_name": "FloatSliderView",
            "continuous_update": true,
            "description": "a",
            "description_tooltip": null,
            "disabled": false,
            "layout": "IPY_MODEL_0ca2c33736f7456181f0dc6357f4d198",
            "max": 10,
            "min": -10,
            "orientation": "horizontal",
            "readout": true,
            "readout_format": ".2f",
            "step": 0.1,
            "style": "IPY_MODEL_91f9cce7338f44f9a55468fa0b582709",
            "value": -5.9
          }
        },
        "b07032291ae24086b75718876f6f98de": {
          "model_module": "@jupyter-widgets/controls",
          "model_name": "FloatSliderModel",
          "model_module_version": "1.5.0",
          "state": {
            "_dom_classes": [],
            "_model_module": "@jupyter-widgets/controls",
            "_model_module_version": "1.5.0",
            "_model_name": "FloatSliderModel",
            "_view_count": null,
            "_view_module": "@jupyter-widgets/controls",
            "_view_module_version": "1.5.0",
            "_view_name": "FloatSliderView",
            "continuous_update": true,
            "description": "e",
            "description_tooltip": null,
            "disabled": false,
            "layout": "IPY_MODEL_4ebbc0034c1f4784908f17148ae49840",
            "max": 10,
            "min": 0.1,
            "orientation": "horizontal",
            "readout": true,
            "readout_format": ".2f",
            "step": 0.1,
            "style": "IPY_MODEL_56211af3bd504c0ea65e11237dff8a86",
            "value": 7.8
          }
        },
        "4c18a1f259794c2eaba6b44465380413": {
          "model_module": "@jupyter-widgets/output",
          "model_name": "OutputModel",
          "model_module_version": "1.0.0",
          "state": {
            "_dom_classes": [],
            "_model_module": "@jupyter-widgets/output",
            "_model_module_version": "1.0.0",
            "_model_name": "OutputModel",
            "_view_count": null,
            "_view_module": "@jupyter-widgets/output",
            "_view_module_version": "1.0.0",
            "_view_name": "OutputView",
            "layout": "IPY_MODEL_895c32cb991e4d9fa0a1fd6a89331e92",
            "msg_id": "",
            "outputs": [
              {
                "output_type": "display_data",
                "data": {
                  "text/plain": "<Figure size 720x360 with 1 Axes>",
                  "image/png": "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\n"
                },
                "metadata": {
                  "needs_background": "light"
                }
              }
            ]
          }
        },
        "391410ab96c449908614dbf6d334a8a8": {
          "model_module": "@jupyter-widgets/base",
          "model_name": "LayoutModel",
          "model_module_version": "1.2.0",
          "state": {
            "_model_module": "@jupyter-widgets/base",
            "_model_module_version": "1.2.0",
            "_model_name": "LayoutModel",
            "_view_count": null,
            "_view_module": "@jupyter-widgets/base",
            "_view_module_version": "1.2.0",
            "_view_name": "LayoutView",
            "align_content": null,
            "align_items": null,
            "align_self": null,
            "border": null,
            "bottom": null,
            "display": null,
            "flex": null,
            "flex_flow": null,
            "grid_area": null,
            "grid_auto_columns": null,
            "grid_auto_flow": null,
            "grid_auto_rows": null,
            "grid_column": null,
            "grid_gap": null,
            "grid_row": null,
            "grid_template_areas": null,
            "grid_template_columns": null,
            "grid_template_rows": null,
            "height": null,
            "justify_content": null,
            "justify_items": null,
            "left": null,
            "margin": null,
            "max_height": null,
            "max_width": null,
            "min_height": null,
            "min_width": null,
            "object_fit": null,
            "object_position": null,
            "order": null,
            "overflow": null,
            "overflow_x": null,
            "overflow_y": null,
            "padding": null,
            "right": null,
            "top": null,
            "visibility": null,
            "width": null
          }
        },
        "0ca2c33736f7456181f0dc6357f4d198": {
          "model_module": "@jupyter-widgets/base",
          "model_name": "LayoutModel",
          "model_module_version": "1.2.0",
          "state": {
            "_model_module": "@jupyter-widgets/base",
            "_model_module_version": "1.2.0",
            "_model_name": "LayoutModel",
            "_view_count": null,
            "_view_module": "@jupyter-widgets/base",
            "_view_module_version": "1.2.0",
            "_view_name": "LayoutView",
            "align_content": null,
            "align_items": null,
            "align_self": null,
            "border": null,
            "bottom": null,
            "display": null,
            "flex": null,
            "flex_flow": null,
            "grid_area": null,
            "grid_auto_columns": null,
            "grid_auto_flow": null,
            "grid_auto_rows": null,
            "grid_column": null,
            "grid_gap": null,
            "grid_row": null,
            "grid_template_areas": null,
            "grid_template_columns": null,
            "grid_template_rows": null,
            "height": null,
            "justify_content": null,
            "justify_items": null,
            "left": null,
            "margin": null,
            "max_height": null,
            "max_width": null,
            "min_height": null,
            "min_width": null,
            "object_fit": null,
            "object_position": null,
            "order": null,
            "overflow": null,
            "overflow_x": null,
            "overflow_y": null,
            "padding": null,
            "right": null,
            "top": null,
            "visibility": null,
            "width": null
          }
        },
        "91f9cce7338f44f9a55468fa0b582709": {
          "model_module": "@jupyter-widgets/controls",
          "model_name": "SliderStyleModel",
          "model_module_version": "1.5.0",
          "state": {
            "_model_module": "@jupyter-widgets/controls",
            "_model_module_version": "1.5.0",
            "_model_name": "SliderStyleModel",
            "_view_count": null,
            "_view_module": "@jupyter-widgets/base",
            "_view_module_version": "1.2.0",
            "_view_name": "StyleView",
            "description_width": "",
            "handle_color": null
          }
        },
        "4ebbc0034c1f4784908f17148ae49840": {
          "model_module": "@jupyter-widgets/base",
          "model_name": "LayoutModel",
          "model_module_version": "1.2.0",
          "state": {
            "_model_module": "@jupyter-widgets/base",
            "_model_module_version": "1.2.0",
            "_model_name": "LayoutModel",
            "_view_count": null,
            "_view_module": "@jupyter-widgets/base",
            "_view_module_version": "1.2.0",
            "_view_name": "LayoutView",
            "align_content": null,
            "align_items": null,
            "align_self": null,
            "border": null,
            "bottom": null,
            "display": null,
            "flex": null,
            "flex_flow": null,
            "grid_area": null,
            "grid_auto_columns": null,
            "grid_auto_flow": null,
            "grid_auto_rows": null,
            "grid_column": null,
            "grid_gap": null,
            "grid_row": null,
            "grid_template_areas": null,
            "grid_template_columns": null,
            "grid_template_rows": null,
            "height": null,
            "justify_content": null,
            "justify_items": null,
            "left": null,
            "margin": null,
            "max_height": null,
            "max_width": null,
            "min_height": null,
            "min_width": null,
            "object_fit": null,
            "object_position": null,
            "order": null,
            "overflow": null,
            "overflow_x": null,
            "overflow_y": null,
            "padding": null,
            "right": null,
            "top": null,
            "visibility": null,
            "width": null
          }
        },
        "56211af3bd504c0ea65e11237dff8a86": {
          "model_module": "@jupyter-widgets/controls",
          "model_name": "SliderStyleModel",
          "model_module_version": "1.5.0",
          "state": {
            "_model_module": "@jupyter-widgets/controls",
            "_model_module_version": "1.5.0",
            "_model_name": "SliderStyleModel",
            "_view_count": null,
            "_view_module": "@jupyter-widgets/base",
            "_view_module_version": "1.2.0",
            "_view_name": "StyleView",
            "description_width": "",
            "handle_color": null
          }
        },
        "895c32cb991e4d9fa0a1fd6a89331e92": {
          "model_module": "@jupyter-widgets/base",
          "model_name": "LayoutModel",
          "model_module_version": "1.2.0",
          "state": {
            "_model_module": "@jupyter-widgets/base",
            "_model_module_version": "1.2.0",
            "_model_name": "LayoutModel",
            "_view_count": null,
            "_view_module": "@jupyter-widgets/base",
            "_view_module_version": "1.2.0",
            "_view_name": "LayoutView",
            "align_content": null,
            "align_items": null,
            "align_self": null,
            "border": null,
            "bottom": null,
            "display": null,
            "flex": null,
            "flex_flow": null,
            "grid_area": null,
            "grid_auto_columns": null,
            "grid_auto_flow": null,
            "grid_auto_rows": null,
            "grid_column": null,
            "grid_gap": null,
            "grid_row": null,
            "grid_template_areas": null,
            "grid_template_columns": null,
            "grid_template_rows": null,
            "height": null,
            "justify_content": null,
            "justify_items": null,
            "left": null,
            "margin": null,
            "max_height": null,
            "max_width": null,
            "min_height": null,
            "min_width": null,
            "object_fit": null,
            "object_position": null,
            "order": null,
            "overflow": null,
            "overflow_x": null,
            "overflow_y": null,
            "padding": null,
            "right": null,
            "top": null,
            "visibility": null,
            "width": null
          }
        },
        "d289f99145974fc3a9e8625b80fc9603": {
          "model_module": "@jupyter-widgets/controls",
          "model_name": "VBoxModel",
          "model_module_version": "1.5.0",
          "state": {
            "_dom_classes": [
              "widget-interact"
            ],
            "_model_module": "@jupyter-widgets/controls",
            "_model_module_version": "1.5.0",
            "_model_name": "VBoxModel",
            "_view_count": null,
            "_view_module": "@jupyter-widgets/controls",
            "_view_module_version": "1.5.0",
            "_view_name": "VBoxView",
            "box_style": "",
            "children": [
              "IPY_MODEL_c41369895d724831b5655bf4dbaf4268",
              "IPY_MODEL_df592ee7540f4ad19a71189c77f2af96"
            ],
            "layout": "IPY_MODEL_44632c39f27b445bba8fee537fa1a022"
          }
        },
        "c41369895d724831b5655bf4dbaf4268": {
          "model_module": "@jupyter-widgets/controls",
          "model_name": "FloatSliderModel",
          "model_module_version": "1.5.0",
          "state": {
            "_dom_classes": [],
            "_model_module": "@jupyter-widgets/controls",
            "_model_module_version": "1.5.0",
            "_model_name": "FloatSliderModel",
            "_view_count": null,
            "_view_module": "@jupyter-widgets/controls",
            "_view_module_version": "1.5.0",
            "_view_name": "FloatSliderView",
            "continuous_update": true,
            "description": "x0",
            "description_tooltip": null,
            "disabled": false,
            "layout": "IPY_MODEL_a7435137989949718ddab76db8618dca",
            "max": -2,
            "min": -6,
            "orientation": "horizontal",
            "readout": true,
            "readout_format": ".2f",
            "step": 0.01,
            "style": "IPY_MODEL_d2786b0d807c436c99a6a5884274181a",
            "value": -4.81
          }
        },
        "df592ee7540f4ad19a71189c77f2af96": {
          "model_module": "@jupyter-widgets/output",
          "model_name": "OutputModel",
          "model_module_version": "1.0.0",
          "state": {
            "_dom_classes": [],
            "_model_module": "@jupyter-widgets/output",
            "_model_module_version": "1.0.0",
            "_model_name": "OutputModel",
            "_view_count": null,
            "_view_module": "@jupyter-widgets/output",
            "_view_module_version": "1.0.0",
            "_view_name": "OutputView",
            "layout": "IPY_MODEL_a6b0a847ff8a4ffbaf5fb33c274564b7",
            "msg_id": "",
            "outputs": [
              {
                "output_type": "display_data",
                "data": {
                  "text/plain": "<Figure size 1080x360 with 1 Axes>",
                  "image/png": "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\n"
                },
                "metadata": {
                  "needs_background": "light"
                }
              }
            ]
          }
        },
        "44632c39f27b445bba8fee537fa1a022": {
          "model_module": "@jupyter-widgets/base",
          "model_name": "LayoutModel",
          "model_module_version": "1.2.0",
          "state": {
            "_model_module": "@jupyter-widgets/base",
            "_model_module_version": "1.2.0",
            "_model_name": "LayoutModel",
            "_view_count": null,
            "_view_module": "@jupyter-widgets/base",
            "_view_module_version": "1.2.0",
            "_view_name": "LayoutView",
            "align_content": null,
            "align_items": null,
            "align_self": null,
            "border": null,
            "bottom": null,
            "display": null,
            "flex": null,
            "flex_flow": null,
            "grid_area": null,
            "grid_auto_columns": null,
            "grid_auto_flow": null,
            "grid_auto_rows": null,
            "grid_column": null,
            "grid_gap": null,
            "grid_row": null,
            "grid_template_areas": null,
            "grid_template_columns": null,
            "grid_template_rows": null,
            "height": null,
            "justify_content": null,
            "justify_items": null,
            "left": null,
            "margin": null,
            "max_height": null,
            "max_width": null,
            "min_height": null,
            "min_width": null,
            "object_fit": null,
            "object_position": null,
            "order": null,
            "overflow": null,
            "overflow_x": null,
            "overflow_y": null,
            "padding": null,
            "right": null,
            "top": null,
            "visibility": null,
            "width": null
          }
        },
        "a7435137989949718ddab76db8618dca": {
          "model_module": "@jupyter-widgets/base",
          "model_name": "LayoutModel",
          "model_module_version": "1.2.0",
          "state": {
            "_model_module": "@jupyter-widgets/base",
            "_model_module_version": "1.2.0",
            "_model_name": "LayoutModel",
            "_view_count": null,
            "_view_module": "@jupyter-widgets/base",
            "_view_module_version": "1.2.0",
            "_view_name": "LayoutView",
            "align_content": null,
            "align_items": null,
            "align_self": null,
            "border": null,
            "bottom": null,
            "display": null,
            "flex": null,
            "flex_flow": null,
            "grid_area": null,
            "grid_auto_columns": null,
            "grid_auto_flow": null,
            "grid_auto_rows": null,
            "grid_column": null,
            "grid_gap": null,
            "grid_row": null,
            "grid_template_areas": null,
            "grid_template_columns": null,
            "grid_template_rows": null,
            "height": null,
            "justify_content": null,
            "justify_items": null,
            "left": null,
            "margin": null,
            "max_height": null,
            "max_width": null,
            "min_height": null,
            "min_width": null,
            "object_fit": null,
            "object_position": null,
            "order": null,
            "overflow": null,
            "overflow_x": null,
            "overflow_y": null,
            "padding": null,
            "right": null,
            "top": null,
            "visibility": null,
            "width": null
          }
        },
        "d2786b0d807c436c99a6a5884274181a": {
          "model_module": "@jupyter-widgets/controls",
          "model_name": "SliderStyleModel",
          "model_module_version": "1.5.0",
          "state": {
            "_model_module": "@jupyter-widgets/controls",
            "_model_module_version": "1.5.0",
            "_model_name": "SliderStyleModel",
            "_view_count": null,
            "_view_module": "@jupyter-widgets/base",
            "_view_module_version": "1.2.0",
            "_view_name": "StyleView",
            "description_width": "",
            "handle_color": null
          }
        },
        "a6b0a847ff8a4ffbaf5fb33c274564b7": {
          "model_module": "@jupyter-widgets/base",
          "model_name": "LayoutModel",
          "model_module_version": "1.2.0",
          "state": {
            "_model_module": "@jupyter-widgets/base",
            "_model_module_version": "1.2.0",
            "_model_name": "LayoutModel",
            "_view_count": null,
            "_view_module": "@jupyter-widgets/base",
            "_view_module_version": "1.2.0",
            "_view_name": "LayoutView",
            "align_content": null,
            "align_items": null,
            "align_self": null,
            "border": null,
            "bottom": null,
            "display": null,
            "flex": null,
            "flex_flow": null,
            "grid_area": null,
            "grid_auto_columns": null,
            "grid_auto_flow": null,
            "grid_auto_rows": null,
            "grid_column": null,
            "grid_gap": null,
            "grid_row": null,
            "grid_template_areas": null,
            "grid_template_columns": null,
            "grid_template_rows": null,
            "height": null,
            "justify_content": null,
            "justify_items": null,
            "left": null,
            "margin": null,
            "max_height": null,
            "max_width": null,
            "min_height": null,
            "min_width": null,
            "object_fit": null,
            "object_position": null,
            "order": null,
            "overflow": null,
            "overflow_x": null,
            "overflow_y": null,
            "padding": null,
            "right": null,
            "top": null,
            "visibility": null,
            "width": null
          }
        }
      }
    }
  },
  "cells": [
    {
      "cell_type": "markdown",
      "metadata": {
        "id": "view-in-github",
        "colab_type": "text"
      },
      "source": [
        "<a href=\"https://colab.research.google.com/github/jdcarrascali/Numerical-Analysis/blob/main/EcuacionesNoLineales.ipynb\" target=\"_parent\"><img src=\"https://colab.research.google.com/assets/colab-badge.svg\" alt=\"Open In Colab\"/></a>"
      ]
    },
    {
      "cell_type": "code",
      "metadata": {
        "id": "P7yG2iN3A1b1"
      },
      "source": [
        "import numpy as np\n",
        "import matplotlib.pyplot as plt\n",
        "from ipywidgets import interactive"
      ],
      "execution_count": null,
      "outputs": []
    },
    {
      "cell_type": "markdown",
      "metadata": {
        "id": "mhCF8wtdAseM"
      },
      "source": [
        "# Bisección"
      ]
    },
    {
      "cell_type": "markdown",
      "metadata": {
        "id": "Z0mhIalWT3e6"
      },
      "source": [
        "Presentaremos una implementación del pseudocódigo de bisección en el texto guía.  En particular resolvemos la ecuación $\\exp(x)-\\sin(x)=0$"
      ]
    },
    {
      "cell_type": "code",
      "metadata": {
        "id": "4BroOaj1CVQz"
      },
      "source": [
        "def mifun(x):\n",
        "  y=np.exp(x)-np.sin(x)\n",
        "  return y"
      ],
      "execution_count": null,
      "outputs": []
    },
    {
      "cell_type": "markdown",
      "source": [
        "Podemos hacer una gráfica para tener una idea de los parámetros del método de bisección."
      ],
      "metadata": {
        "id": "yRgAmePaT-It"
      }
    },
    {
      "cell_type": "code",
      "source": [
        "def animacion_intervalo(a,e):\n",
        "\n",
        "  x = np.arange(a, a+e, e/1000)\n",
        "  y= mifun(x)\n",
        "  plt.figure(figsize=(10, 5))\n",
        "  plt.plot(x, y*0, 'b--',label='Funcion')\n",
        "  plt.plot(x, y, 'r-',linewidth=4, label='Funcion')\n",
        "  plt.grid(color='g', linestyle='--', linewidth=.5)\n",
        "  plt.show()\n",
        "\n",
        "\n",
        "wd= interactive(animacion_intervalo, a=(-10, 10, .1), e=(0.1,10,.1))\n",
        "\n",
        "wd"
      ],
      "metadata": {
        "colab": {
          "base_uri": "https://localhost:8080/",
          "height": 387,
          "referenced_widgets": [
            "508f7febc235446fa383a5a2d790ec6f",
            "e920d3c067d24f0588a9cbc560ab4867",
            "b07032291ae24086b75718876f6f98de",
            "4c18a1f259794c2eaba6b44465380413",
            "391410ab96c449908614dbf6d334a8a8",
            "0ca2c33736f7456181f0dc6357f4d198",
            "91f9cce7338f44f9a55468fa0b582709",
            "4ebbc0034c1f4784908f17148ae49840",
            "56211af3bd504c0ea65e11237dff8a86",
            "895c32cb991e4d9fa0a1fd6a89331e92"
          ]
        },
        "id": "mgDNf184ljjf",
        "outputId": "cbfa8dc9-cd1a-41ac-fdf0-daf3d9e94b4f"
      },
      "execution_count": null,
      "outputs": [
        {
          "output_type": "display_data",
          "data": {
            "text/plain": [
              "interactive(children=(FloatSlider(value=0.0, description='a', max=10.0, min=-10.0), FloatSlider(value=5.0, des…"
            ],
            "application/vnd.jupyter.widget-view+json": {
              "version_major": 2,
              "version_minor": 0,
              "model_id": "508f7febc235446fa383a5a2d790ec6f"
            }
          },
          "metadata": {}
        }
      ]
    },
    {
      "cell_type": "markdown",
      "source": [
        "En este caso observamos que para calcular la raíz de la derecha podemos usar $[-4,-3]$. Tenemos el siguiente script para general la gráfica."
      ],
      "metadata": {
        "id": "Rk-DRREnln-A"
      }
    },
    {
      "cell_type": "code",
      "metadata": {
        "colab": {
          "base_uri": "https://localhost:8080/",
          "height": 320
        },
        "id": "suRRc6s5FnJO",
        "outputId": "05b22b2c-98b2-433d-bc90-d1542697c026"
      },
      "source": [
        "a,b=-4,-3\n",
        "x = np.arange(a, b, (b-a)/1000)\n",
        "y= mifun(x)\n",
        "plt.figure(figsize=(10, 5))\n",
        "plt.plot(x, y*0, 'b--',label='Funcion')\n",
        "plt.plot(x, y, 'r-',linewidth=4, label='Funcion')\n",
        "plt.grid(color='g', linestyle='--', linewidth=.5)\n",
        "plt.show()"
      ],
      "execution_count": null,
      "outputs": [
        {
          "output_type": "display_data",
          "data": {
            "text/plain": [
              "<Figure size 720x360 with 1 Axes>"
            ],
            "image/png": "[encoded data removed]"
          },
          "metadata": {
            "needs_background": "light"
          }
        }
      ]
    },
    {
      "cell_type": "markdown",
      "source": [
        "El siguiente script implementa el método de bisección para la función arriba usando como datos de entrada $[-4,-3]$, con una tolerancia a la longitud del intervalo y al valor absoluto del residuo de $10^{-8}$."
      ],
      "metadata": {
        "id": "fml08yJgURmx"
      }
    },
    {
      "cell_type": "code",
      "metadata": {
        "colab": {
          "base_uri": "https://localhost:8080/"
        },
        "id": "bAASNSXjCqbW",
        "outputId": "a73601a4-18ea-48d0-b7f9-f0fccc42bf82"
      },
      "source": [
        "a,b,M,delb,epsb=-4,-3,100,1E-10,1E-10\n",
        "print(a,b,M,delb,epsb)\n",
        "u=mifun(a)\n",
        "v=mifun(b)\n",
        "e=b-a\n",
        "if np.sign(u)!=np.sign(v):\n",
        "  for k in range(1,M):\n",
        "    e=e/2\n",
        "    c=a+e\n",
        "    w=mifun(c)\n",
        "    print('c={0:.15f}'.format(c))\n",
        "    if np.abs(e)<delb or np.abs(w)<epsb :\n",
        "      break\n",
        "    else:\n",
        "      if np.sign(w)!=np.sign(u):\n",
        "        b=c\n",
        "        v=w\n",
        "      else:\n",
        "        a=c\n",
        "        u=w\n",
        "print(k,w,e)"
      ],
      "execution_count": null,
      "outputs": [
        {
          "output_type": "stream",
          "name": "stdout",
          "text": [
            "-4 -3 100 1e-10 1e-10\n",
            "c=-3.500000000000000\n",
            "c=-3.250000000000000\n",
            "c=-3.125000000000000\n",
            "c=-3.187500000000000\n",
            "c=-3.156250000000000\n",
            "c=-3.171875000000000\n",
            "c=-3.179687500000000\n",
            "c=-3.183593750000000\n",
            "c=-3.181640625000000\n",
            "c=-3.182617187500000\n",
            "c=-3.183105468750000\n",
            "c=-3.182861328125000\n",
            "c=-3.182983398437500\n",
            "c=-3.183044433593750\n",
            "c=-3.183074951171875\n",
            "c=-3.183059692382812\n",
            "c=-3.183067321777344\n",
            "c=-3.183063507080078\n",
            "c=-3.183061599731445\n",
            "c=-3.183062553405762\n",
            "c=-3.183063030242920\n",
            "c=-3.183062791824341\n",
            "c=-3.183062911033630\n",
            "c=-3.183062970638275\n",
            "c=-3.183063000440598\n",
            "c=-3.183063015341759\n",
            "c=-3.183063007891178\n",
            "c=-3.183063011616468\n",
            "c=-3.183063013479114\n",
            "c=-3.183063012547791\n",
            "c=-3.183063012082130\n",
            "c=-3.183063011849299\n",
            "32 8.747742807901915e-11 2.3283064365386963e-10\n"
          ]
        }
      ]
    },
    {
      "cell_type": "markdown",
      "source": [
        "Observamos que en la iteración 26 el programa termina con la aproximación $-3.183063015341759$ con longitud del intervalo $|e|\\approx 1.5\\times 10^{-8}$ y con un residuo de $|w|\\approx 3.5\\times 10^{-9}$."
      ],
      "metadata": {
        "id": "Zv1aItDGUcbW"
      }
    },
    {
      "cell_type": "markdown",
      "metadata": {
        "id": "ytVBpj-LUP6l"
      },
      "source": [
        "# Newton"
      ]
    },
    {
      "cell_type": "markdown",
      "metadata": {
        "id": "CbbRdIvKUVUE"
      },
      "source": [
        "En esta sección implementamos el método de newton. Esta vez crearemos una función con el método Newton que reciba los parámetros adecuados e imprima el valor de la aproximación. Otras cantidades pueden ser también incluidas en los parámetros de salida como el residuo y el número de iteraciones, o alternativamente pueden ser impresas dentro de la función.  Tenemos la siguiente función."
      ]
    },
    {
      "cell_type": "code",
      "metadata": {
        "id": "2eBTj1f1Uq0N"
      },
      "source": [
        "def minewton(f,fp,x0,myeps,mydel,max_iter):\n",
        "    '''f(x)=0 unando newton xn=xa-f(xa)/fp(xa)\n",
        "    ----------\n",
        "    f : funnción\n",
        "    fp : Derivada\n",
        "    x0 : Aproximación inicial\n",
        "    epsilon : Tolerancia residuo.\n",
        "    M : Número maximo de iteraciones\n",
        "    ----------\n",
        "    '''\n",
        "    x = x0\n",
        "    for n in range(0,max_iter):\n",
        "        fx = f(x)\n",
        "        if abs(fx) < myeps:\n",
        "            print('residuo f(x(',n,'))=',fx)\n",
        "            return x\n",
        "        fpx = fp(x)\n",
        "        if fpx == 0:\n",
        "            print('Derivada nula. Error!')\n",
        "            return None\n",
        "        x = x - fx/fpx\n",
        "        print( 'x(',n,')=',x)\n",
        "        if abs(x-x0) < mydel:\n",
        "            print('incremento delta(',n,')=',fx)\n",
        "            return x\n",
        "        x0=x\n",
        "    print('Número máximo de iteraciones')\n",
        "    return None\n"
      ],
      "execution_count": null,
      "outputs": []
    },
    {
      "cell_type": "markdown",
      "metadata": {
        "id": "--nhEQ2LV1Uq"
      },
      "source": [
        "Usemos la función anterior para resolver la ecuaciones $\\exp(x)-\\sin(x)$"
      ]
    },
    {
      "cell_type": "code",
      "metadata": {
        "colab": {
          "base_uri": "https://localhost:8080/"
        },
        "id": "d2N151FFWBUQ",
        "outputId": "74431bc8-3a29-4378-b753-d12bfc9ae833"
      },
      "source": [
        "f = lambda x: np.exp(x)-np.sin(x)\n",
        "fp = lambda x: np.exp(x)-np.cos(x)\n",
        "approx = minewton(f,fp,1,1e-10,1e-10,10)"
      ],
      "execution_count": null,
      "outputs": [
        {
          "output_type": "stream",
          "name": "stdout",
          "text": [
            "x( 0 )= 0.13827893045637507\n",
            "x( 1 )= -6.263457215119403\n",
            "x( 2 )= -6.281316869638125\n",
            "x( 3 )= -6.2813143662108075\n",
            "residuo f(x( 4 ))= 1.2010791666794418e-14\n"
          ]
        }
      ]
    },
    {
      "cell_type": "markdown",
      "source": [
        "Podemos usar la siguiente animación para explorar las dos primeras iteraciones de Newton. En particular intente inciar con $x_0\\approx-5.12$."
      ],
      "metadata": {
        "id": "zV7Yrq-mOMl7"
      }
    },
    {
      "cell_type": "code",
      "source": [
        "def animacion_intervalo(x0):\n",
        "\n",
        "  x = np.arange(-10, 2, 0.1)\n",
        "  y0= np.exp(x0)-np.sin(x0)\n",
        "  y0p=np.exp(x0)-np.cos(x0)\n",
        "  y= np.exp(x)-np.sin(x)\n",
        "  L0=y0+y0p*(x-x0);\n",
        "  x1=x0-y0/y0p;\n",
        "  y1=np.exp(x1)-np.sin(x1)\n",
        "  y1p=np.exp(x1)-np.cos(x1)\n",
        "  L1=y1+y1p*(x-x1);\n",
        "  x2=x1-y1/y1p;\n",
        "  y2=np.exp(x2)-np.sin(x2)\n",
        "\n",
        "\n",
        "  plt.figure(figsize=(15, 5))\n",
        "  plt.plot(x, y, 'b--')\n",
        "  plt.plot(x, 0*y, 'k')\n",
        "  plt.plot(x0,0,color='g',marker='.',markersize=10, label='x_0')\n",
        "  plt.plot(x, L0, 'g-',linewidth=1, label='Tangente en x_0')\n",
        "  plt.plot(x0,y0,color='g',marker='.',markersize=10)\n",
        "  plt.plot(x1,0,color='m',marker='.',markersize=10, label='x_1')\n",
        "  plt.plot(x, L1, 'm-',linewidth=1,label='Tangente en x_1')\n",
        "  plt.plot(x1,y1,color='m',marker='.',markersize=10)\n",
        "  plt.plot(x2,0,color='c',marker='.',markersize=10, label='x_2')\n",
        "\n",
        "  plt.grid(color='g', linestyle='--', linewidth=.5)\n",
        "  plt.xlim(-10,-0)\n",
        "  plt.ylim(-2, 4)\n",
        "  plt.legend()\n",
        "  plt.show()\n",
        "\n",
        "\n",
        "wd= interactive(animacion_intervalo, x0=(-6, -2, .01))\n",
        "\n",
        "wd"
      ],
      "metadata": {
        "colab": {
          "base_uri": "https://localhost:8080/",
          "height": 356,
          "referenced_widgets": [
            "d289f99145974fc3a9e8625b80fc9603",
            "c41369895d724831b5655bf4dbaf4268",
            "df592ee7540f4ad19a71189c77f2af96",
            "44632c39f27b445bba8fee537fa1a022",
            "a7435137989949718ddab76db8618dca",
            "d2786b0d807c436c99a6a5884274181a",
            "a6b0a847ff8a4ffbaf5fb33c274564b7"
          ]
        },
        "id": "nxeYhGsuJVk-",
        "outputId": "8731764f-acb8-4be7-9bd8-2024e593a037"
      },
      "execution_count": null,
      "outputs": [
        {
          "output_type": "display_data",
          "data": {
            "text/plain": [
              "interactive(children=(FloatSlider(value=-4.0, description='x0', max=-2.0, min=-6.0, step=0.01), Output()), _do…"
            ],
            "application/vnd.jupyter.widget-view+json": {
              "version_major": 2,
              "version_minor": 0,
              "model_id": "d289f99145974fc3a9e8625b80fc9603"
            }
          },
          "metadata": {}
        }
      ]
    },
    {
      "cell_type": "markdown",
      "source": [
        "En este caso $x_0$ corresponde al punto magenta,\n",
        "$x_1$ al unto verde y $x_2$ al punto azul claro."
      ],
      "metadata": {
        "id": "isBvq0mdmVlX"
      }
    },
    {
      "cell_type": "markdown",
      "metadata": {
        "id": "RHLL_KcB6e1M"
      },
      "source": [
        "# Punto Fijo\n"
      ]
    },
    {
      "cell_type": "code",
      "metadata": {
        "id": "vd9HdisobLY-"
      },
      "source": [
        "\n",
        "def miFpf(x):\n",
        "  y=x+np.exp(x)-np.sin(x)\n",
        "  return y"
      ],
      "execution_count": null,
      "outputs": []
    },
    {
      "cell_type": "code",
      "metadata": {
        "id": "-6Td5WoSGREY",
        "colab": {
          "base_uri": "https://localhost:8080/"
        },
        "outputId": "5123b181-15de-4407-a0d6-fe1a5087be4f"
      },
      "source": [
        "x0=-4\n",
        "for n in range(1,10):\n",
        "  x1=miFpf(x0)\n",
        "  x0=x1\n",
        "  print('x={0:.15f}'.format(x1))"
      ],
      "execution_count": null,
      "outputs": [
        {
          "output_type": "stream",
          "name": "stdout",
          "text": [
            "x=-4.738486856419194\n",
            "x=-5.729394447160081\n",
            "x=-6.252060669705465\n",
            "x=-6.281253801923153\n",
            "x=-6.281314252785754\n",
            "x=-6.281314365998385\n",
            "x=-6.281314366210397\n",
            "x=-6.281314366210795\n",
            "x=-6.281314366210796\n"
          ]
        }
      ]
    },
    {
      "cell_type": "markdown",
      "metadata": {
        "id": "eIsPPgMN60gA"
      },
      "source": [
        "Observe que existen varias formas de trasformar $f(x)=0$ en una iteración de punto fijo $F(x)=x$.  Presentamos una illustración simple de la iteración. Ver tambien https://www.geogebra.org/m/qUbg7Z6W"
      ]
    },
    {
      "cell_type": "code",
      "metadata": {
        "colab": {
          "base_uri": "https://localhost:8080/",
          "height": 407
        },
        "id": "I8Pt33clJmvk",
        "outputId": "fb3fac32-9cfc-4982-e929-108924f69606"
      },
      "source": [
        "def mif(x):\n",
        "  y=np.sqrt(x)\n",
        "  return y\n",
        "tol,M,x0,difnorm,iter,xp= 1E-6,300,.2,1,0,[]\n",
        "xini=x0\n",
        "\n",
        "while(difnorm > tol and iter <  M):\n",
        "  x1 = mif(x0)\n",
        "  difnorm = np.linalg.norm(x0-x1)\n",
        "  x0 = x1\n",
        "  xp=np.append(xp,x1)  # save the solution of the current step\n",
        "  iter = iter + 1\n",
        "\n",
        "\n",
        "\n",
        "print(xp)\n",
        "print(iter)\n",
        "x = np.linspace(0,2,100)\n",
        "y = mif(x)\n",
        "plt.figure(figsize=(10, 5))\n",
        "plt.plot(x,y,'r',linewidth=5)\n",
        "plt.plot(xp,mif(xp),'bo',markersize=10)\n",
        "plt.plot(x,x,'k')\n",
        "plt.plot(xini,mif(xini),'.g',markersize=20)\n",
        "plt.grid(color='g', linestyle='--', linewidth=.5)\n",
        "plt.show()"
      ],
      "execution_count": null,
      "outputs": [
        {
          "output_type": "stream",
          "name": "stdout",
          "text": [
            "[0.4472136  0.6687403  0.81776543 0.90430384 0.95094892 0.9751661\n",
            " 0.98750499 0.99373285 0.9968615  0.99842952 0.99921445 0.99960715\n",
            " 0.99980355 0.99990177 0.99995089 0.99997544 0.99998772 0.99999386\n",
            " 0.99999693 0.99999847 0.99999923]\n",
            "21\n"
          ]
        },
        {
          "output_type": "display_data",
          "data": {
            "text/plain": [
              "<Figure size 720x360 with 1 Axes>"
            ],
            "image/png": "[encoded data removed]"
          },
          "metadata": {
            "needs_background": "light"
          }
        }
      ]
    },
    {
      "cell_type": "markdown",
      "metadata": {
        "id": "vUQSnXcIAU31"
      },
      "source": [
        "# Librerias"
      ]
    },
    {
      "cell_type": "markdown",
      "metadata": {
        "id": "ts_E_7OuAjkX"
      },
      "source": [
        "Usamos la librería scipy.optimize.fsolve para resolver una ecuacion. Para informacion adicional puede consultar https://docs.scipy.org/doc/scipy-0.13.0/reference/generated/scipy.optimize.fsolve.html#scipy.optimize.fsolve"
      ]
    },
    {
      "cell_type": "code",
      "metadata": {
        "colab": {
          "base_uri": "https://localhost:8080/"
        },
        "id": "6k40-QpnA7bt",
        "outputId": "15c6e78f-3c2e-4f2c-b1a4-a572ba41df08"
      },
      "source": [
        "from scipy.optimize import fsolve\n",
        "\n",
        "def myfun2(x):\n",
        "   y = np.exp(x)-np.sin(x)\n",
        "   print(x,'\\t\\t',y)\n",
        "   return y\n",
        "\n",
        "z = fsolve(myfun2,-3)\n",
        "print(z)\n",
        "print(myfun2(z))"
      ],
      "execution_count": null,
      "outputs": [
        {
          "output_type": "stream",
          "name": "stdout",
          "text": [
            "[-3] \t\t [0.19090708]\n",
            "[-3.] \t\t [0.19090708]\n",
            "[-3.] \t\t [0.19090708]\n",
            "[-2.99999996] \t\t [0.19090712]\n",
            "[-3.18360341] \t\t [-0.00056233]\n",
            "[-3.18306419] \t\t [-1.22193941e-06]\n",
            "[-3.18306301] \t\t [2.63640845e-11]\n",
            "[-3.18306301] \t\t [2.15105711e-16]\n",
            "[-3.18306301]\n",
            "[-3.18306301] \t\t [2.15105711e-16]\n",
            "[2.15105711e-16]\n"
          ]
        }
      ]
    },
    {
      "cell_type": "markdown",
      "metadata": {
        "id": "1TDwfG_bWT4l"
      },
      "source": [
        "Obtenemos la raiz $r\\approx-3.18306301$ con un residuo $\\approx 2\\times 10^{-16}$. Usemos ahora scipy para resolver un sistema de tres ecuaciones con tres incognitas. Agregamos print dentro de la función para imprimir los iterados."
      ]
    },
    {
      "cell_type": "code",
      "metadata": {
        "colab": {
          "base_uri": "https://localhost:8080/"
        },
        "id": "bSsHershWiCu",
        "outputId": "d7e0e168-28b6-4d23-afb1-9aa376c0a163"
      },
      "source": [
        "def myFvec(x):\n",
        "  y = np.empty((3))\n",
        "  y[0]=x[0]*x[1]-x[2]**2\n",
        "  y[1]=x[0]*x[1]*x[2]-x[0]**2+x[1]**2\n",
        "  y[2]=np.exp(x[0])-np.exp(y[1])+x[2]-3\n",
        "  print(x)\n",
        "  return y\n",
        "\n",
        "x0 = np.array([0,1,0])\n",
        "r = fsolve(myFvec,x0)\n",
        "print(r)"
      ],
      "execution_count": null,
      "outputs": [
        {
          "output_type": "stream",
          "name": "stdout",
          "text": [
            "[0 1 0]\n",
            "[0. 1. 0.]\n",
            "[0. 1. 0.]\n",
            "[1.49011612e-08 1.00000000e+00 0.00000000e+00]\n",
            "[0.         1.00000001 0.        ]\n",
            "[0.00000000e+00 1.00000000e+00 1.49011612e-08]\n",
            "[2.98023206e-08 5.00000004e-01 1.99999989e+00]\n",
            "[2.15224589 0.63095647 0.40336098]\n",
            "[0.70471843 0.75002461 1.92043266]\n",
            "[1.71223427 0.71676582 0.90555853]\n",
            "[1.28040009 0.89465479 0.62982444]\n",
            "[1.12818885 0.84469574 0.83379873]\n",
            "[1.04078636 0.70022687 0.85312251]\n",
            "[1.1672988  0.71334999 0.97766916]\n",
            "[1.11339844 0.73465633 0.87826283]\n",
            "[1.12912734 0.72850593 0.90563147]\n",
            "[1.12929794 0.72788239 0.9068089 ]\n",
            "[1.12925282 0.72794401 0.90666318]\n",
            "[1.12925139 0.727945   0.90666039]\n",
            "[1.12925132 0.72794503 0.9066603 ]\n",
            "[1.12925132 0.72794503 0.90666029]\n",
            "[1.12925132 0.72794503 0.90666029]\n"
          ]
        }
      ]
    },
    {
      "cell_type": "code",
      "source": [],
      "metadata": {
        "id": "2vek3snxuHO-"
      },
      "execution_count": null,
      "outputs": []
    },
    {
      "cell_type": "markdown",
      "metadata": {
        "id": "qAA-Oufme-xt"
      },
      "source": [
        "# Problemas\n"
      ]
    },
    {
      "cell_type": "markdown",
      "metadata": {
        "id": "xGLMtwVENb8-"
      },
      "source": [
        "**Problema (Kelley)** Considere el método de Shamanskii de orden $m$ definido de la siguiente manera. Dado $x_n$ calcule $x_{n+1}$ usando $m$ pasos del método de la cuerda, esto es,\n",
        "\n",
        "$z_1=x_n-f(x_n)/f'(x_n)$\n",
        "\n",
        "$z_{j+1}=z_{j}-f(z_j)/f'(x_n)$, $1\\leq j\\leq m-1$\n",
        "\n",
        "$x_{n+1}=z_{m}$.\n",
        "\n",
        "Observe que se avanza m pasos sin actualizar la derivada en el punto. Implemente el método para un orden $m$ definido por el usuario y verifique su código con una ecuación escalar."
      ]
    },
    {
      "cell_type": "markdown",
      "source": [
        "**Solución:**\n"
      ],
      "metadata": {
        "id": "xikBJ_Ezup0v"
      }
    },
    {
      "cell_type": "code",
      "source": [
        "def miShaminskii(f,fp,x0,m,myeps,mydel,max_iter):\n",
        "    '''f(x)=0 usando  Shamanskii de orden  m:\n",
        "    z_1=xn−f(xn)/f′(xn)\n",
        "    z_{j+1}=zj−f(zj)/f′(xn), 1≤j≤m−1\n",
        "    x{n+1}=zm.\n",
        "    ----------\n",
        "    f : funnción, fp : Derivada, x0 : Aproximación inicial\n",
        "    m: orden de Shamanskii, myeps : Tolerancia residuo\n",
        "    mydel : Tolerancia al incremento\n",
        "    M : Número maximo de iteraciones\n",
        "    ----------  '''\n",
        "    x = x0\n",
        "    for n in range(1,max_iter):\n",
        "        fx = f(x)\n",
        "        if abs(fx) < myeps:\n",
        "            print('Resultado segun las entradas:')\n",
        "            print('residuo f(x(',n,'))=',fx)\n",
        "            print( 'x(',n,')=',x)\n",
        "            print( 'se hicieron n=',n,' iteraciones')\n",
        "            return x\n",
        "        fpx = fp(x)\n",
        "        if fpx == 0:\n",
        "            print('Derivada nula. Error!')\n",
        "            return None\n",
        "        z=x-fx/fpx\n",
        "        for r in range(1,m):\n",
        "          fz=f(z)\n",
        "          z=z-fz/fpx\n",
        "        x = z\n",
        "        print( 'x(',n,')=',x,'\\t f(x(',n,'))=',fx)\n",
        "        if abs(x-x0) < mydel:\n",
        "            print('Resultado segun las entradas:')\n",
        "            print('incremento delta(',n,')=',fx)\n",
        "            print( 'x(',n,')=',x)\n",
        "            print( 'se hicieron n=',n,' iteraciones')\n",
        "            return x\n",
        "        x0=x\n",
        "    print('Número maximo de iteraciones')\n",
        "    return None\n"
      ],
      "metadata": {
        "id": "B5Qj7xMuuoNg"
      },
      "execution_count": null,
      "outputs": []
    },
    {
      "cell_type": "markdown",
      "source": [
        "Implementamos este código con $Sin(x)-Cos(x)=0$\n"
      ],
      "metadata": {
        "id": "4vT_06epxQMo"
      }
    },
    {
      "cell_type": "code",
      "source": [
        "f=lambda x: np.sin(x)-np.cos(x)\n",
        "fp=lambda x: np.cos(x)+np.sin(x)\n",
        "for i in range(2,5):\n",
        "  print('Para m=',i,' tenemos que:')\n",
        "  approx = miShaminskii(f,fp,-3,i,1e-10,1e-10,10)\n",
        "  print('\\n\\n')"
      ],
      "metadata": {
        "colab": {
          "base_uri": "https://localhost:8080/"
        },
        "id": "nktGUjDIxSby",
        "outputId": "f880a894-6181-4be8-8853-adf64db7ca76"
      },
      "execution_count": null,
      "outputs": [
        {
          "output_type": "stream",
          "name": "stdout",
          "text": [
            "Para m= 2  tenemos que:\n",
            "x( 1 )= -2.3826397220789883 \t f(x( 1 ))= 0.8488724885405782\n",
            "x( 2 )= -2.3561944923492635 \t f(x( 2 ))= 0.03739484655574332\n",
            "x( 3 )= -2.356194490192345 \t f(x( 3 ))= 3.050343422295043e-09\n",
            "Resultado segun las entradas:\n",
            "residuo f(x( 4 ))= -1.1102230246251565e-16\n",
            "x( 4 )= -2.356194490192345\n",
            "se hicieron n= 4  iteraciones\n",
            "\n",
            "\n",
            "\n",
            "Para m= 3  tenemos que:\n",
            "x( 1 )= -2.3495794858941066 \t f(x( 1 ))= 0.8488724885405782\n",
            "x( 2 )= -2.356194490192345 \t f(x( 2 ))= -0.009354960567209747\n",
            "Resultado segun las entradas:\n",
            "residuo f(x( 3 ))= -1.1102230246251565e-16\n",
            "x( 3 )= -2.356194490192345\n",
            "se hicieron n= 3  iteraciones\n",
            "\n",
            "\n",
            "\n",
            "Para m= 4  tenemos que:\n",
            "x( 1 )= -2.357850069526297 \t f(x( 1 ))= 0.8488724885405782\n",
            "x( 2 )= -2.356194490192345 \t f(x( 2 ))= 0.0023413416780788676\n",
            "Resultado segun las entradas:\n",
            "residuo f(x( 3 ))= -1.1102230246251565e-16\n",
            "x( 3 )= -2.356194490192345\n",
            "se hicieron n= 3  iteraciones\n",
            "\n",
            "\n",
            "\n"
          ]
        }
      ]
    },
    {
      "cell_type": "markdown",
      "metadata": {
        "id": "-ZDAWaUcK6Gx"
      },
      "source": [
        "**Problema (Kelley, Iterative methodos for linear and non linear equations)** Resuelva las siguientes ecuaiones $f(x)=0$ usando el Método de newton, el método de la secante (para este inicie la iteración en $x_{-1}$ con $x_{-1}=0.99x_0$) y el método de Shamanskii con $m=2,3,4$. Comente los resultados. Puede hacer tablas o plots con las iteraciones.\n",
        "\n",
        "\n",
        "1.   $f(x)=\\cos(x)-x$,  $\\quad x_0=.5$.\n",
        "2.   $f(x)=\\arctan(x)$,  $\\quad x_0=1$.\n",
        "3.   $f(x)=\\sin(x)$, $\\quad  x_0=3$.\n",
        "4.   $f(x)=x^2$,  $\\quad  x_0=.5$.\n",
        "5.   $f(x)=x^2+1$,  $\\quad  x_0=10$.\n",
        "\n"
      ]
    },
    {
      "cell_type": "markdown",
      "source": [
        "Introducimos un algoritmo que implementa el método de la secante a continuacion:"
      ],
      "metadata": {
        "id": "6Mo3URZt5CMv"
      }
    },
    {
      "cell_type": "code",
      "source": [
        "def miSecante(f,x0,x1,myeps,mydel,max_iter):\n",
        "    '''f(x)=0 usando  secante:\n",
        "    x_{n+1}=x_{n}+f(x_{n })((x_{n}-x_{n-1})/(f(x_{n})-f(x_{n-1})))\n",
        "    ----------\n",
        "    f : funnción,  x0 y x1 : Aproximaciones iniciales\n",
        "    myeps : Tolerancia residuo\n",
        "    mydel : Tolerancia al incremento\n",
        "    M : Número maximo de iteraciones\n",
        "    ----------  '''\n",
        "    x=x1\n",
        "    u=f(x0)\n",
        "    v=f(x)\n",
        "    for n in range(2,max_iter):\n",
        "        if abs(u)<abs(v):\n",
        "          t=x\n",
        "          y=v\n",
        "          x=x0\n",
        "          x0=t\n",
        "          v=u\n",
        "          u=y\n",
        "        if v-u == 0:\n",
        "            print('Denominador nulo. Error!')\n",
        "            return None\n",
        "        s=(x-x0)/(v-u)\n",
        "        x0=x\n",
        "        u=v\n",
        "        x=x-v*s\n",
        "        v=f(x)\n",
        "        print( 'x(',n,')=',x,'\\t f(x(',n,'))=',v)\n",
        "        if abs(v) < myeps:\n",
        "            print('Resultado segun las entradas:')\n",
        "            print('residuo f(x(',n,'))=',v)\n",
        "            print( 'x(',n,')=',x)\n",
        "            print( 'se hicieron n=',n,' iteraciones')\n",
        "            return x\n",
        "        if abs(x-x0) < mydel:\n",
        "            print('Resultado segun las entradas:')\n",
        "            print('incremento delta(',n,')=',v)\n",
        "            print( 'x(',n,')=',x)\n",
        "            print( 'se hicieron n=',n,' iteraciones')\n",
        "            return x\n",
        "    print('Número maximo de iteraciones')\n",
        "    return None"
      ],
      "metadata": {
        "id": "PrvFOuXX5A6v"
      },
      "execution_count": null,
      "outputs": []
    },
    {
      "cell_type": "markdown",
      "source": [
        "Usamos el algoritmo para implementar Newton propuesto con un par de modificaciones:"
      ],
      "metadata": {
        "id": "7a4j6a8ROB-M"
      }
    },
    {
      "cell_type": "code",
      "source": [
        "def minewton(f,fp,x0,myeps,mydel,max_iter):\n",
        "    '''f(x)=0 usando newton xn=xa-f(xa)/fp(xa)\n",
        "    ----------\n",
        "    f : función\n",
        "    fp : Derivada\n",
        "    x0 : Aproximación inicial\n",
        "    epsilon : Tolerancia residuo.\n",
        "    M : Número maximo de iteraciones\n",
        "    ----------\n",
        "    '''\n",
        "    x = x0\n",
        "    for n in range(0,max_iter):\n",
        "        fx = f(x)\n",
        "        if abs(fx) < myeps:\n",
        "            print('residuo f(x(',n,'))=',fx)\n",
        "            return x\n",
        "        fpx = fp(x)\n",
        "        if fpx == 0:\n",
        "            print('Derivada nula. Error!')\n",
        "            return None\n",
        "        x = x - fx/fpx\n",
        "        print( 'x(',n,')=',x, '\\t  f(x(',n,'))=',fx)\n",
        "        if abs(x-x0) < mydel:\n",
        "            print('incremento delta(',n,')=',fx)\n",
        "            return x\n",
        "        x0=x\n",
        "    print('Número máximo de iteraciones')\n",
        "    return None"
      ],
      "metadata": {
        "id": "k56HTMWjtK5z"
      },
      "execution_count": null,
      "outputs": []
    },
    {
      "cell_type": "markdown",
      "source": [
        "***1. $f(x)=cos(x)-x$,   $x_0=0.5$***"
      ],
      "metadata": {
        "id": "HqvI6CCzvaP4"
      }
    },
    {
      "cell_type": "code",
      "source": [
        "x0=0.5\n",
        "x1=0.99*x0\n",
        "f = lambda x: np.cos(x)-x\n",
        "fp= lambda x: -np.sin(x)-1\n",
        "print(\"Con Newton: \")\n",
        "approx1 = minewton(f,fp,x0,1e-10,1e-10,10)\n",
        "\n",
        "print(\"\\n\\nCon Shamanskii: \")\n",
        "for i in range(2,5):\n",
        "  print('Para m=',i,' tenemos que:')\n",
        "  approx2 = miShaminskii(f,fp,x0,i,1e-10,1e-10,10)\n",
        "  print('\\n\\n')\n",
        "print(\"Con secante: \")\n",
        "approx3 = miSecante(f,x0,x1,1e-10,1e-10,10)"
      ],
      "metadata": {
        "colab": {
          "base_uri": "https://localhost:8080/"
        },
        "id": "-crl7dk4toHL",
        "outputId": "21469de0-bd24-4eea-a1d0-b9c1e7c309ea"
      },
      "execution_count": null,
      "outputs": [
        {
          "output_type": "stream",
          "name": "stdout",
          "text": [
            "Con Newton: \n",
            "x( 0 )= 0.7552224171056364 \t  f(x( 0 ))= 0.37758256189037276\n",
            "x( 1 )= 0.7391416661498792 \t  f(x( 1 ))= -0.027103311857467283\n",
            "x( 2 )= 0.7390851339208068 \t  f(x( 2 ))= -9.461538061772412e-05\n",
            "x( 3 )= 0.7390851332151607 \t  f(x( 3 ))= -1.1809778710514252e-09\n",
            "residuo f(x( 4 ))= 0.0\n",
            "\n",
            "\n",
            "Con Shamanskii: \n",
            "Para m= 2  tenemos que:\n",
            "x( 1 )= 0.7369022575908571 \t f(x( 1 ))= 0.37758256189037276\n",
            "x( 2 )= 0.739085132196367 \t f(x( 2 ))= 0.003651524885634916\n",
            "x( 3 )= 0.7390851332151607 \t f(x( 3 ))= 1.7050654221861805e-09\n",
            "Resultado segun las entradas:\n",
            "residuo f(x( 4 ))= 0.0\n",
            "x( 4 )= 0.7390851332151607\n",
            "se hicieron n= 4  iteraciones\n",
            "\n",
            "\n",
            "\n",
            "Para m= 3  tenemos que:\n",
            "x( 1 )= 0.739370462167804 \t f(x( 1 ))= 0.37758256189037276\n",
            "x( 2 )= 0.739085133215161 \t f(x( 2 ))= -0.0004775600502353594\n",
            "Resultado segun las entradas:\n",
            "residuo f(x( 3 ))= -5.551115123125783e-16\n",
            "x( 3 )= 0.739085133215161\n",
            "se hicieron n= 3  iteraciones\n",
            "\n",
            "\n",
            "\n",
            "Para m= 4  tenemos que:\n",
            "x( 1 )= 0.7390476611631073 \t f(x( 1 ))= 0.37758256189037276\n",
            "x( 2 )= 0.7390851332151607 \t f(x( 2 ))= 6.271315817385492e-05\n",
            "Resultado segun las entradas:\n",
            "residuo f(x( 3 ))= 0.0\n",
            "x( 3 )= 0.7390851332151607\n",
            "se hicieron n= 3  iteraciones\n",
            "\n",
            "\n",
            "\n",
            "Con secante: \n",
            "x( 2 )= 0.7556018134618259 \t f(x( 2 ))= -0.027742818082765353\n",
            "x( 3 )= 0.7381069439992566 \t f(x( 3 ))= 0.0016367555351652907\n",
            "x( 4 )= 0.7390815947822202 \t f(x( 4 ))= 5.9219593065984455e-06\n",
            "x( 5 )= 0.7390851339798186 \t f(x( 5 ))= -1.27974064678682e-09\n",
            "x( 6 )= 0.7390851332151601 \t f(x( 6 ))= 8.881784197001252e-16\n",
            "Resultado segun las entradas:\n",
            "residuo f(x( 6 ))= 8.881784197001252e-16\n",
            "x( 6 )= 0.7390851332151601\n",
            "se hicieron n= 6  iteraciones\n"
          ]
        }
      ]
    },
    {
      "cell_type": "markdown",
      "source": [
        "La velocidad de convergencia con el método de Shamanski de orden 3 y 4 fue mayor a la de los otros dos métodos en este caso. Por otra parte, como sabemos que tenemos garantizados 16 decimales de precisión y el método de Shamanski de orden 3 nos proporciona precisamente esta cantidad, elejimos este algoritmo por encima de los otros pues requiere menos iteraciones(actualizaciones) que el mismo método de orden 4."
      ],
      "metadata": {
        "id": "lxJ1__Ci5vOQ"
      }
    },
    {
      "cell_type": "markdown",
      "source": [
        "**2.** $f(x)=arctan(x)$, $x_0=1$"
      ],
      "metadata": {
        "id": "yY6ZyrSbvrkL"
      }
    },
    {
      "cell_type": "code",
      "source": [
        "x0=1\n",
        "x1=0.99*x0\n",
        "f = lambda x: np.arctan(x)\n",
        "fp= lambda x: 1/(1+x**2)\n",
        "print(\"Con Newton: \")\n",
        "approx1 = minewton(f,fp,x0,1e-10,1e-10,10)\n",
        "print(\"\\n\\nCon Shamanskii: \")\n",
        "for i in range(2,5):\n",
        "  print('Para m=',i,' tenemos que:')\n",
        "  approx2 = miShaminskii(f,fp,x0,i,1e-10,1e-10,10)\n",
        "  print('\\n\\n')\n",
        "print(\"Con secante: \")\n",
        "approx3 = miSecante(f,x0,x1,1e-10,1e-10,10)"
      ],
      "metadata": {
        "colab": {
          "base_uri": "https://localhost:8080/"
        },
        "id": "uVddbDtSwOEm",
        "outputId": "34c6c2b2-bd0c-439c-b9fd-0595644d70cb"
      },
      "execution_count": null,
      "outputs": [
        {
          "output_type": "stream",
          "name": "stdout",
          "text": [
            "Con Newton: \n",
            "x( 0 )= -0.5707963267948966 \t  f(x( 0 ))= 0.7853981633974483\n",
            "x( 1 )= 0.1168599039989131 \t  f(x( 1 ))= -0.5186693692550166\n",
            "x( 2 )= -0.001061022117044716 \t  f(x( 2 ))= 0.11633226511389591\n",
            "x( 3 )= 7.963096044106416e-10 \t  f(x( 3 ))= -0.0010610217188900932\n",
            "x( 4 )= 0.0 \t  f(x( 4 ))= 7.963096044106416e-10\n",
            "residuo f(x( 5 ))= 0.0\n",
            "\n",
            "\n",
            "Con Shamanskii: \n",
            "Para m= 2  tenemos que:\n",
            "x( 1 )= 0.46654241171513666 \t f(x( 1 ))= 0.7853981633974483\n",
            "x( 2 )= 0.014036315217348203 \t f(x( 2 ))= 0.4365251207796836\n",
            "x( 3 )= 3.632094925656252e-10 \t f(x( 3 ))= 0.01403539352337165\n",
            "x( 4 )= 0.0 \t f(x( 4 ))= 3.632094925656252e-10\n",
            "Resultado segun las entradas:\n",
            "residuo f(x( 5 ))= 0.0\n",
            "x( 5 )= 0.0\n",
            "se hicieron n= 5  iteraciones\n",
            "\n",
            "\n",
            "\n",
            "Para m= 3  tenemos que:\n",
            "x( 1 )= -0.4065078298442305 \t f(x( 1 ))= 0.7853981633974483\n",
            "x( 2 )= 0.0011797263030160921 \t f(x( 2 ))= -0.3861039552502769\n",
            "x( 3 )= -2.1202030620788625e-21 \t f(x( 3 ))= 0.0011797257557202231\n",
            "Resultado segun las entradas:\n",
            "residuo f(x( 4 ))= -2.1202030620788625e-21\n",
            "x( 4 )= -2.1202030620788625e-21\n",
            "se hicieron n= 4  iteraciones\n",
            "\n",
            "\n",
            "\n",
            "Para m= 4  tenemos que:\n",
            "x( 1 )= 0.3657000806563233 \t f(x( 1 ))= 0.7853981633974483\n",
            "x( 2 )= 7.579381053233038e-05 \t f(x( 2 ))= 0.3505924932592639\n",
            "x( 3 )= 5.50316405494316e-38 \t f(x( 3 ))= 7.579381038719277e-05\n",
            "Resultado segun las entradas:\n",
            "residuo f(x( 4 ))= 5.50316405494316e-38\n",
            "x( 4 )= 5.50316405494316e-38\n",
            "se hicieron n= 4  iteraciones\n",
            "\n",
            "\n",
            "\n",
            "Con secante: \n",
            "x( 2 )= -0.5629555008204641 \t f(x( 2 ))= -0.5127354113900338\n",
            "x( 3 )= 0.052812845644127915 \t f(x( 3 ))= 0.05276382584921036\n",
            "x( 4 )= -0.004641332287094277 \t f(x( 4 ))= -0.004641298959718526\n",
            "x( 5 )= 3.932698414256877e-06 \t f(x( 5 ))= 3.932698414236603e-06\n",
            "x( 6 )= -2.821526100512051e-11 \t f(x( 6 ))= -2.821526100512051e-11\n",
            "Resultado segun las entradas:\n",
            "residuo f(x( 6 ))= -2.821526100512051e-11\n",
            "x( 6 )= -2.821526100512051e-11\n",
            "se hicieron n= 6  iteraciones\n"
          ]
        }
      ]
    },
    {
      "cell_type": "markdown",
      "source": [
        "De nuevo elejimos Shamanski de orden 3 por su eficiencia."
      ],
      "metadata": {
        "id": "pYwWgj8E8kLs"
      }
    },
    {
      "cell_type": "markdown",
      "source": [
        "3. $f(x)=sin(x), x_0=3$"
      ],
      "metadata": {
        "id": "w0uy9p7NyQez"
      }
    },
    {
      "cell_type": "code",
      "source": [
        "x0=3\n",
        "x1=0.99*x0\n",
        "f = lambda x: np.sin(x)\n",
        "fp= lambda x: np.cos(x)\n",
        "print(\"Con Newton: \")\n",
        "approx1 = minewton(f,fp,x0,1e-10,1e-10,10)\n",
        "print(\"\\n\\nCon Shamanskii: \")\n",
        "for i in range(2,5):\n",
        "  print('Para m=',i,' tenemos que:')\n",
        "  approx2 = miShaminskii(f,fp,x0,i,1e-10,1e-10,10)\n",
        "  print('\\n\\n')\n",
        "print(\"Con secante: \")\n",
        "approx3 = miSecante(f,x0,x1,1e-10,1e-10,10)"
      ],
      "metadata": {
        "colab": {
          "base_uri": "https://localhost:8080/"
        },
        "id": "i4AQ3BafygR6",
        "outputId": "d35deeff-3114-4484-bede-713c17e3c9a7"
      },
      "execution_count": null,
      "outputs": [
        {
          "output_type": "stream",
          "name": "stdout",
          "text": [
            "Con Newton: \n",
            "x( 0 )= 3.142546543074278 \t  f(x( 0 ))= 0.1411200080598672\n",
            "x( 1 )= 3.141592653300477 \t  f(x( 1 ))= -0.0009538893398264409\n",
            "x( 2 )= 3.141592653589793 \t  f(x( 2 ))= 2.8931624907621843e-10\n",
            "residuo f(x( 3 ))= 1.2246467991473532e-16\n",
            "\n",
            "\n",
            "Con Shamanskii: \n",
            "Para m= 2  tenemos que:\n",
            "x( 1 )= 3.141583011185802 \t f(x( 1 ))= 0.1411200080598672\n",
            "x( 2 )= 3.141592653589793 \t f(x( 2 ))= 9.642403991234307e-06\n",
            "Resultado segun las entradas:\n",
            "residuo f(x( 3 ))= 1.2246467991473532e-16\n",
            "x( 3 )= 3.141592653589793\n",
            "se hicieron n= 3  iteraciones\n",
            "\n",
            "\n",
            "\n",
            "Para m= 3  tenemos que:\n",
            "x( 1 )= 3.1415927510616335 \t f(x( 1 ))= 0.1411200080598672\n",
            "x( 2 )= 3.141592653589793 \t f(x( 2 ))= -9.747184025431897e-08\n",
            "Resultado segun las entradas:\n",
            "residuo f(x( 3 ))= 1.2246467991473532e-16\n",
            "x( 3 )= 3.141592653589793\n",
            "se hicieron n= 3  iteraciones\n",
            "\n",
            "\n",
            "\n",
            "Para m= 4  tenemos que:\n",
            "x( 1 )= 3.141592652604483 \t f(x( 1 ))= 0.1411200080598672\n",
            "x( 2 )= 3.141592653589793 \t f(x( 2 ))= 9.853101782324207e-10\n",
            "Resultado segun las entradas:\n",
            "residuo f(x( 3 ))= 1.2246467991473532e-16\n",
            "x( 3 )= 3.141592653589793\n",
            "se hicieron n= 3  iteraciones\n",
            "\n",
            "\n",
            "\n",
            "Con secante: \n",
            "x( 2 )= 3.142873441943695 \t f(x( 2 ))= -0.0012807880037300184\n",
            "x( 3 )= 3.14158840284594 \t f(x( 3 ))= 4.250743853016799e-06\n",
            "x( 4 )= 3.1415926535909517 \t f(x( 4 ))= -1.1585062838188986e-12\n",
            "Resultado segun las entradas:\n",
            "residuo f(x( 4 ))= -1.1585062838188986e-12\n",
            "x( 4 )= 3.1415926535909517\n",
            "se hicieron n= 4  iteraciones\n"
          ]
        }
      ]
    },
    {
      "cell_type": "markdown",
      "source": [
        "4. $f(x)=x^2, x_0=.5$"
      ],
      "metadata": {
        "id": "77gHj28Zzg1H"
      }
    },
    {
      "cell_type": "code",
      "source": [
        "x0=0.5\n",
        "x1=0.99*x0\n",
        "f = lambda x: x**2\n",
        "fp= lambda x: 2*x\n",
        "print(\"Con Newton: \")\n",
        "approx1 = minewton(f,fp,x0,1e-10,1e-10,10)\n",
        "print(\"\\n\\nCon Shamanskii: \")\n",
        "for i in range(2,5):\n",
        "  print('Para m=',i,' tenemos que:')\n",
        "  approx2 = miShaminskii(f,fp,x0,i,1e-10,1e-10,10)\n",
        "  print('\\n\\n')\n",
        "print(\"Con secante: \")\n",
        "approx3 = miSecante(f,x0,x1,1e-10,1e-10,10)"
      ],
      "metadata": {
        "colab": {
          "base_uri": "https://localhost:8080/"
        },
        "id": "rRlMru0p0EvN",
        "outputId": "69df428a-a33a-4839-ff85-5248bf6224c8"
      },
      "execution_count": null,
      "outputs": [
        {
          "output_type": "stream",
          "name": "stdout",
          "text": [
            "Con Newton: \n",
            "x( 0 )= 0.25 \t  f(x( 0 ))= 0.25\n",
            "x( 1 )= 0.125 \t  f(x( 1 ))= 0.0625\n",
            "x( 2 )= 0.0625 \t  f(x( 2 ))= 0.015625\n",
            "x( 3 )= 0.03125 \t  f(x( 3 ))= 0.00390625\n",
            "x( 4 )= 0.015625 \t  f(x( 4 ))= 0.0009765625\n",
            "x( 5 )= 0.0078125 \t  f(x( 5 ))= 0.000244140625\n",
            "x( 6 )= 0.00390625 \t  f(x( 6 ))= 6.103515625e-05\n",
            "x( 7 )= 0.001953125 \t  f(x( 7 ))= 1.52587890625e-05\n",
            "x( 8 )= 0.0009765625 \t  f(x( 8 ))= 3.814697265625e-06\n",
            "x( 9 )= 0.00048828125 \t  f(x( 9 ))= 9.5367431640625e-07\n",
            "Número máximo de iteraciones\n",
            "\n",
            "\n",
            "Con Shamanskii: \n",
            "Para m= 2  tenemos que:\n",
            "x( 1 )= 0.1875 \t f(x( 1 ))= 0.25\n",
            "x( 2 )= 0.0703125 \t f(x( 2 ))= 0.03515625\n",
            "x( 3 )= 0.0263671875 \t f(x( 3 ))= 0.00494384765625\n",
            "x( 4 )= 0.0098876953125 \t f(x( 4 ))= 0.0006952285766601562\n",
            "x( 5 )= 0.0037078857421875 \t f(x( 5 ))= 9.776651859283447e-05\n",
            "x( 6 )= 0.0013904571533203125 \t f(x( 6 ))= 1.3748416677117348e-05\n",
            "x( 7 )= 0.0005214214324951172 \t f(x( 7 ))= 1.933371095219627e-06\n",
            "x( 8 )= 0.00019553303718566895 \t f(x( 8 ))= 2.7188031026526005e-07\n",
            "x( 9 )= 7.332488894462585e-05 \t f(x( 9 ))= 3.8233168631052195e-08\n",
            "Número maximo de iteraciones\n",
            "\n",
            "\n",
            "\n",
            "Para m= 3  tenemos que:\n",
            "x( 1 )= 0.15234375 \t f(x( 1 ))= 0.25\n",
            "x( 2 )= 0.046417236328125 \t f(x( 2 ))= 0.0232086181640625\n",
            "x( 3 )= 0.014142751693725586 \t f(x( 3 ))= 0.0021545598283410072\n",
            "x( 4 )= 0.0043091196566820145 \t f(x( 4 ))= 0.00020001742547037793\n",
            "x( 5 )= 0.0013129348953953013 \t f(x( 5 ))= 1.8568512215603322e-05\n",
            "x( 6 )= 0.00040003485094075586 \t f(x( 6 ))= 1.7237980395466707e-06\n",
            "x( 7 )= 0.00012188561864601155 \t f(x( 7 ))= 1.6002788196719275e-07\n",
            "x( 8 )= 3.7137024431206644e-05 \t f(x( 8 ))= 1.4856104032720958e-08\n",
            "x( 9 )= 1.1315187131383274e-05 \t f(x( 9 ))= 1.3791585836040393e-09\n",
            "Número maximo de iteraciones\n",
            "\n",
            "\n",
            "\n",
            "Para m= 4  tenemos que:\n",
            "x( 1 )= 0.1291351318359375 \t f(x( 1 ))= 0.25\n",
            "x( 2 )= 0.03335176454856992 \t f(x( 2 ))= 0.01667588227428496\n",
            "x( 3 )= 0.008613769023881446 \t f(x( 3 ))= 0.0011123401985032452\n",
            "x( 4 )= 0.0022246803970064903 \t f(x( 4 ))= 7.419701679677951e-05\n",
            "x( 5 )= 0.0005745687927205178 \t f(x( 5 ))= 4.949202868824956e-06\n",
            "x( 6 )= 0.00014839403359355902 \t f(x( 6 ))= 3.3012929756831336e-07\n",
            "x( 7 )= 3.832576618354156e-05 \t f(x( 7 ))= 2.2020789206166322e-08\n",
            "x( 8 )= 9.898405737649908e-06 \t f(x( 8 ))= 1.468864353555498e-09\n",
            "Resultado segun las entradas:\n",
            "residuo f(x( 9 ))= 9.797843614714062e-11\n",
            "x( 9 )= 9.898405737649908e-06\n",
            "se hicieron n= 9  iteraciones\n",
            "\n",
            "\n",
            "\n",
            "Con secante: \n",
            "x( 2 )= 0.24874371859296496 \t f(x( 2 ))= 0.06187343753945614\n",
            "x( 3 )= 0.165551839464883 \t f(x( 3 ))= 0.02740741155020639\n",
            "x( 4 )= 0.09939759036144584 \t f(x( 4 ))= 0.00987988096966179\n",
            "x( 5 )= 0.062107904642409055 \t f(x( 5 ))= 0.003857391819070576\n",
            "x( 6 )= 0.03822393822393824 \t f(x( 6 ))= 0.001461069453347447\n",
            "x( 7 )= 0.023661567877629075 \t f(x( 7 ))= 0.0005598697944276481\n",
            "x( 8 )= 0.014614703277236499 \t f(x( 8 ))= 0.00021358955188166727\n",
            "x( 9 )= 0.009034495345866039 \t f(x( 9 ))= 8.162210615447512e-05\n",
            "Número maximo de iteraciones\n"
          ]
        }
      ]
    },
    {
      "cell_type": "markdown",
      "source": [
        "Observando las tolerancias al error notamos que es más conveniente el uso del método de Shamanskii de orden 4. Debemos tener en cuenta que en este caso la derivada es más sencilla de calcular y en los otros métodos tendríamos que re ajustar las tolerancias."
      ],
      "metadata": {
        "id": "dpAZXQcRQy5x"
      }
    },
    {
      "cell_type": "markdown",
      "source": [
        "5. $f(x)=x^2+1, x_0=10$"
      ],
      "metadata": {
        "id": "njjMwf8j0bzF"
      }
    },
    {
      "cell_type": "code",
      "source": [
        "x0=10\n",
        "x1=0.99*x0\n",
        "f = lambda x: x**2+1\n",
        "fp= lambda x: 2*x\n",
        "print(\"Con Newton: \")\n",
        "approx1 = minewton(f,fp,x0,1e-10,1e-10,10)\n",
        "print(\"\\n\\nCon Shamanskii: \")\n",
        "for i in range(2,5):\n",
        "  print('Para m=',i,' tenemos que:')\n",
        "  approx2 = miShaminskii(f,fp,x0,i,1e-10,1e-10,10)\n",
        "  print('\\n\\n')\n",
        "print(\"Con secante: \")\n",
        "approx3 = miSecante(f,x0,x1,1e-10,1e-10,10)"
      ],
      "metadata": {
        "colab": {
          "base_uri": "https://localhost:8080/"
        },
        "id": "8iktoC_h0q54",
        "outputId": "ef9c3939-69e3-4ee6-f7d7-4516d7f856d2"
      },
      "execution_count": null,
      "outputs": [
        {
          "output_type": "stream",
          "name": "stdout",
          "text": [
            "Con Newton: \n",
            "x( 0 )= 4.95 \t  f(x( 0 ))= 101\n",
            "x( 1 )= 2.3739898989898993 \t  f(x( 1 ))= 25.5025\n",
            "x( 2 )= 0.9763790575685589 \t  f(x( 2 ))= 6.635828040506072\n",
            "x( 3 )= -0.023906665950920836 \t  f(x( 3 ))= 1.9533160640584672\n",
            "x( 4 )= 20.902715447124383 \t  f(x( 4 ))= 1.0005715286768888\n",
            "x( 5 )= 10.42743738645265 \t  f(x( 5 ))= 437.9235130634523\n",
            "x( 6 )= 5.165768273437701 \t  f(x( 6 ))= 109.73145044839049\n",
            "x( 7 )= 2.4860931128994133 \t  f(x( 7 ))= 27.685161854855526\n",
            "x( 8 )= 1.041927782013751 \t  f(x( 8 ))= 7.180658966005895\n",
            "x( 9 )= 0.04108418280517845 \t  f(x( 9 ))= 2.0856135029320946\n",
            "Número máximo de iteraciones\n",
            "\n",
            "\n",
            "Con Shamanskii: \n",
            "Para m= 2  tenemos que:\n",
            "x( 1 )= 3.674875 \t f(x( 1 ))= 101\n",
            "x( 2 )= 1.1714708165901153 \t f(x( 2 ))= 14.504706265625002\n",
            "x( 3 )= -0.2786719780030029 \t f(x( 3 ))= 2.3723438741223113\n",
            "x( 4 )= 8.362873210784834 \t f(x( 4 ))= 1.0776580713241062\n",
            "x( 5 )= 3.04618163865184 \t f(x( 5 ))= 70.93764833966263\n",
            "x( 6 )= 0.891685996429961 \t f(x( 6 ))= 10.27922257565961\n",
            "x( 7 )= -0.6830298879901185 \t f(x( 7 ))= 1.7951039162292926\n",
            "x( 8 )= 1.234187607197892 \t f(x( 8 ))= 1.4665298278877938\n",
            "x( 9 )= -0.21135839003293222 \t f(x( 9 ))= 2.5232190497608578\n",
            "Número maximo de iteraciones\n",
            "\n",
            "\n",
            "\n",
            "Para m= 3  tenemos que:\n",
            "x( 1 )= 2.9496396867187498 \t f(x( 1 ))= 101\n",
            "x( 2 )= 0.5558608535266893 \t f(x( 2 ))= 9.700374281466285\n",
            "x( 3 )= -5.908923559552088 \t f(x( 3 ))= 1.3089812884834195\n",
            "x( 4 )= -1.6346732525429086 \t f(x( 4 ))= 35.91537763262972\n",
            "x( 5 )= 0.18511647568361994 \t f(x( 5 ))= 3.672156642579212\n",
            "x( 6 )= -1541.8512727702828 \t f(x( 6 ))= 1.0342681095695243\n",
            "x( 7 )= -469.782181368955 \t f(x( 7 ))= 2377306.347343341\n",
            "x( 8 )= -143.1346962564948 \t f(x( 8 ))= 220696.2979317737\n",
            "x( 9 )= -43.60458454266424 \t f(x( 9 ))= 20488.54127243903\n",
            "Número maximo de iteraciones\n",
            "\n",
            "\n",
            "\n",
            "Para m= 4  tenemos que:\n",
            "x( 1 )= 2.4646209726454353 \t f(x( 1 ))= 101\n",
            "x( 2 )= 0.10748319051655872 \t f(x( 2 ))= 7.074356538803732\n",
            "x( 3 )= -13552682965.15016 \t f(x( 3 ))= 1.011552636243619\n",
            "x( 4 )= -3500255002.870661 \t f(x( 4 ))= 1.836752155538713e+20\n",
            "x( 5 )= -904011782.5102051 \t f(x( 5 ))= 1.225178508512109e+19\n",
            "x( 6 )= -233479361.4313924 \t f(x( 6 ))= 8.172373029172785e+17\n",
            "x( 7 )= -60300776.23882671 \t f(x( 7 ))= 5.451261221441077e+16\n",
            "x( 8 )= -15573897.37882049 \t f(x( 8 ))= 3636183615005048.5\n",
            "x( 9 )= -4022274.582426615 \t f(x( 9 ))= 242546279566032.72\n",
            "Número maximo de iteraciones\n",
            "\n",
            "\n",
            "\n",
            "Con secante: \n",
            "x( 2 )= 4.924623115577894 \t f(x( 2 ))= 25.251912830484127\n",
            "x( 3 )= 3.2212467373987343 \t f(x( 3 ))= 11.376430543201991\n",
            "x( 4 )= 1.8246579447304025 \t f(x( 4 ))= 4.329376615267776\n",
            "x( 5 )= 0.9666598476595359 \t f(x( 5 ))= 1.9344312610771572\n",
            "x( 6 )= 0.2736426403923945 \t f(x( 6 ))= 1.0748802946409213\n",
            "x( 7 )= -0.5929849000628148 \t f(x( 7 ))= 1.3516310917025065\n",
            "x( 8 )= 3.639562001488729 \t f(x( 8 ))= 14.246411562680642\n",
            "x( 9 )= -0.0010376774057091476 \t f(x( 9 ))= 1.0000010767743983\n",
            "Número maximo de iteraciones\n"
          ]
        }
      ]
    },
    {
      "cell_type": "markdown",
      "source": [
        "Sospechamos que así cambiemos el el número máximo de iteraciones tendremos valores que no convergen a la raíz."
      ],
      "metadata": {
        "id": "L2RK04doR2g3"
      }
    },
    {
      "cell_type": "markdown",
      "metadata": {
        "id": "DUNcnYT83Y80"
      },
      "source": [
        "**Problema(Quarteroni, Saleri, Gervasio)** Considere un plano cuya pendiente varía con tasa constante $\\omega$ y un punto de masa quieto en el tiempo $t=0$. En el tiempo $t>0$ su posición es dada por\n",
        "$$s(t,\\omega)= \\frac{g}{2\\omega^2}\\Big[ \\sinh(\\omega t)-\\sin(\\omega t) \\Big] $$\n",
        "donde $g=9.8 \\frac{m}{s^2}$. Suponga que el objeto se ha movido 1 metro en un segundo, calcule el valor correspondiente de $\\omega$ con 12 decimales exactos."
      ]
    },
    {
      "cell_type": "markdown",
      "metadata": {
        "id": "kbGWtFXG3Y80"
      },
      "source": [
        "![Captura de pantalla de 2021-03-20 13-54-08.png](data:image/png;base64,iVBORw0KGgoAAAANSUhEUgAAAOMAAACQCAYAAAD6ONwjAAAABHNCSVQICAgIfAhkiAAAABl0RVh0U29mdHdhcmUAZ25vbWUtc2NyZWVuc2hvdO8Dvz4AAAAmdEVYdENyZWF0aW9uIFRpbWUAc+FiIDIwIG1hciAyMDIxIDEzOjU0OjEy3Gvw0wAAHQJJREFUeJzt3WdAVFfaB/A/MAhIU5AaFEVsSJESFVTEiODGNbrqiqhZK/YkxtVo2qsbVzeKsSWusWssYS2rsWNDRZr0ARURqYPKzKDDMDD93veDkbWgAZ2Ze2fm/L4FZ+59IPPMOfeU55jQNE2DIAjGmTIdAEEQT5FkJAiWIMlIECxBkpEgWIIkI0GwBElGgmAJkowEwRIkGQmCJUgyEgRLkGQkCJYgyUgQLEGSkSBYgsN0AIRhk0gk4PP54HK5EIvFGD9+PCwtLRmJpbq6Go6Ojozd/4+QZHwDqVSK3bt3g6ZpmJqSTkRLKZVKPH78GCKRCJWVlSgtLYVEIsGAAQMgkUgYi+vatWvw8fGBk5PTO1/LxcUFo0ePhpmZmQYie4ok4xuoVCrU1dVh7ty5MDExYTocvfHkyRNMmTIF5eXlAAATExNMmDABixcvhrm5OSMxPX78GNu3b0fXrl0xceLEd76eqampxr+gSTK+QUVFBby8vNC+fXumQ9ErFhYW6NWrV1Mydu/eHYsWLdJIi/S2kpKSUF9fj+TkZKxYsQJt2rRhLJbXIX2vN8jKysLQoUOZDkNvUBSFvLw8xMbGgsvlYtCgQbCwsMDXX38NFxcXxuJSKpU4e/YslEolKioqkJKSwlgsb0JaxteQSqV4+PAho9/m+kQqleLQoUP497//jZCQEGzZsgVWVlY4cOAABg4cyGhslZWVyMrKavrvY8eOISIignWPHiQZXyMjIwN9+vRhOgy9UFJSgvXr1yMvLw+LFi3C6NGjYW1tDQCYN28eOBxmP2YlJSVo37496urqYGtri5qaGjx+/BiOjo6MxvUy0k19jRs3bmDAgAFMh8FqarUaR44cwYwZM1BXV4etW7ciNja2KREBMJ6IADB48GAcPXoUHTp0wLRp07Bt2za0a9eO6bBewfxfioUEAgHMzc1hZ2fHdCisVVNTg82bN+Ps2bOYPHkyZs6cCXt7e6bDapalpSUsLS1hamoKa2trODg4MB1Ss0gyNuPmzZsIDw9nOgxWUqvVSE9Px8qVK0HTNDZv3oywsDCNzrcZK9JNbQaXy4Wvry/TYbCOWCzGli1bMH/+fPj6+mLPnj0YNGgQSUQNIS3jS3g8Ht577z3Y2NgwHQpr0DSNyspKLF++HHfv3sVXX32FMWPGsOJ50JCQlvElmZmZ8Pf3Z92wN1NkMhmOHTuGCRMmwNzcHL/++ivGjx9PElELyF/0OWq1Gjwej0z0/47H42HTpk24ePEipk6dipkzZ5IegxaRZHxOWVkZHBwcYGtry3QojFKpVEhKSsIPP/wAS0tLbN++HX379mU6LINHkvE5ubm56NGjh1F3UUUiEX766SecOnUKI0aMwLx589ChQwemw9KakpISPHjwAD4+Poz/nuSZ8XcymQw8Hg/du3dnOhRG0DSNwsJCxMXF4cqVK/juu+/w5ZdfMv4B1TaxWIwNGzY0LWpnEknG35WVlcHd3d0ou6gKhQK//PILpkyZgvbt22P//v2IiopibLuTLnl4eKBdu3bw9PRkOhTSTX0mLy8PQUFBRtVFpWkajx49wldffYWbN2/iiy++wMSJE40iCZ8pLy+Hra0tK9apkpYRT0tDVFVVoWPHjkyHojNKpRJnzpzB2LFjIRaLkZCQgClTphhVItI0jdTUVPj6+rKikgNpGQEUFxejV69eaNu2LdOh6IRQKMSPP/6Ic+fOYdKkSZg5c+YLi7uNhUwmw507dzBz5kwAT/djSqVSVFVVoXv37jpPUKNPRpqmcefOHaPYoUFRFG7evIm1a9dCKpVi7dq1CA8PZ0WrwITq6mrU1tY2PS/W1NQgKysLx48fx08//aTzL2ejT0aZTAaBQAA3NzemQ9GqnJwcnD9/HmfOnEFISAg+//xzeHp6GtUz8suKiorg6uoKa2tryGQyuLm5ITo6GkePHmUkHuP8SnzOvXv34OnpCQsLC6ZD0ZqioiLEx8fj559/hoODAxYuXIjOnTsbdSICwK1bt9C9e3cUFhYyWrXuGaNORpqmkZ6ejqCgIKZD0Qq5XI6DBw8iNjYWZmZm8PHxAZfLxezZs5GcnAyKopgOkVEDBgwARVFQqVRkNJVpKpUKQqEQnTp1YjoUjRMIBPjqq6+watUqfPrpp9i+fTsGDBgAmqZRVFSEWbNmYceOHVCpVEyHypgBAwZgwYIFCA0NZUUvwaiTMS8vDz4+Pqz4H6EparUaaWlpmDx5MgoKCrB7925MnToVbdu2Rb9+/ZpeZ21tDXd3d6MdvAGe1nPlcDhNfwORSITDhw+jsbER58+fh1gs1mk8Rj2Ac/XqVcyYMYPpMDRGLBZjx44d2L9/P6Kjo7FkyZIXlrMFBATA0dERLi4uGD58OEaMGGHUyfiydu3aYfLkyZg8eTIj9zfaZJRIJJBKpayth9IaFEWhoKAA//znPyEQCLBixQqMHDnylR347du3x/LlyzFkyBDs27cPAoHgjfVMxWIx6urqYGFhgQ4dOpDE1TKj/eump6e/0G3TV3K5HIcOHcLMmTNhZ2eHPXv2vPYMiDZt2mD06NGwt7dHaGgoMjIyQNP0K6+jKApJSUk4cuQI+Hw+Tp48iQsXLoCiKJSVleni1zJKRtsypqen47PPPmM6jHdSWlqK+Ph45OTkYM6cOZg4cSKsrKxa9N7AwEBcu3YNUqn0lcnt1NRUHDt2DKtXr4adnR2cnJywdOlSeHt7QyAQoEuXLtr4dYyeUbaMAoEAHA5Hb3doqNVqnDx5EhMnToRQKMTOnTsxbdq0Fici8LSeaYcOHcDn81/4uUKhwJEjRxAREdH093F2dsaDBw+a5uUI7TDKljElJQUjR45kOoy3IhaLsWrVKpw7dw5Tp05FXFzcW3+pdO3aFffv30fnzp2bfiaTyVBTU4NevXo1jTKbmppCoVDA2dnZIJ6x2croklGpVOL+/fuIjo7W6n1qa2tx/PjxpvM6PD09ERkZ+da7ImiaRnFxMRYtWgSJRIJNmzYhPDz8ncok9u7dGydOnABN002JZ2FhAQ8PD8hkMtA0DZlMhvz8fNjY2MDDw4OVZfENhdF1U6urq+Hk5KT15W8ODg4ICQnBpUuXEBYWhg8++OCtE7G+vh7btm3DhAkT0LFjRyQkJGDIkCHvXK/Uzs4OfD7/hZU4FhYWWLhwIbhcLs6fP4/k5GR07NgRn3zyCW7cuIHGxsZ3uifxekbXMmZnZyMoKEgnw/RFRUXo1KkTunfv/lbJT9M0bt++jfj4eBQVFeGLL77AuHHjNLbnkMPhoE2bNq+MqHp4eGDatGkv/Oy9997TyD2J1zOqlvHZXjUvLy+t30utViMnJwcBAQFvdYa8VCpFQkIC5s6dC1NTU+zcubOpdqkmOTo6QiqVavSabPPo0SOkpqZCLpejrKwMmZmZUCqVTIf1CqNqGXk8HlxdXVs16vi2ZDIZCgoKsHjx4la/9+HDh9i8eTMuX76M6dOnIzY2VquHyhj6+tT8/HwsXry4qaJBYWEh/vOf/7CuqoFRJWN+fj78/Px0shb1wYMHkEgk6NGjR6vel5aWhhUrVsDc3Bzr169HaGgoOcviHQUHBzedz6hSqRAREaGTL+TWMppuakNDg866qDRNIzs7G+7u7i+MPCqVSqSnpzf7nmc77+fNm4fg4GDs3bsXAwcO1HoiKpVKVp5vr0mOjo6IjIxsWhg+YsQIpkNqltG0jLrsotI0jdzcXAQEBLxwv7S0NLi6ur7y+uLiYixZsgQ8Hg+rV69GdHS0ztaB8ng8g95YDTzdnREVFYVDhw4hKCiItQsXTOjmFicaGJqmkZCQgKCgoFZ3G1uLoig0NDRg1KhRWLp0KYYMGQKKosDlcnHw4EH861//alp+JpfLcfr0aaxcuRJubm7w9/fX6Ym6AoEASqUS7u7uOrsnU1QqFRITE9GlSxf4+Pho5JqdOnVCbGysxr44jaJlFIvF4PF4iImJ0fq97t27h+vXryM4OBhlZWUQCoVoaGhARUUFRowYASsrK9A0jfLycmzYsAGZmZno1asXli1bhoCAAK3H97yjR4+id+/e6NWrl07vy5Tg4GAEBwe/cacKk4wiGSsqKuDp6amTrl+PHj3e2Pqq1WpcvnwZ33//PRwdHbFx40bcvHkTXbt21XpsL5NKpW817aKvdNn9fxsGn4w0TSMvLw+DBg1iOhQ8fvwYmzdvxqlTpzB27FjMmjULYrEYTk5OjNQtVavVrBxV1Ba2j0obfDI2NDRAKBQyfpZCRkYGVq5cCYVCgbVr12Lw4MHgcDi4fPkyfH19GSn9UV9fr7c7VwwRe9tsDSkuLka3bt0Y6540NDRg27ZtWLBgAXx8fLBr1y4MHToUHA4HEokEPB5PJ9MtL1Or1QDAuolvY2bwLWN6ejpGjRrFyL3Ly8vx3XffoaCgAEuXLsXIkSNfmEZ48OABHB0dGekqVlVVwcHBweDnGPWJQSejVCpFXV2dzhc5K5VKnD59GvHx8fDw8MDBgwdfmduiaRr5+fl4//33Gemi5ufnw9fXV+f3JV7PoJMxNTVV5wWKBQIBNm/ejJMnT+Ljjz/GnDlzYGNj88rrJBIJKisrMXr0aJ3GBzz9IuDxeAgPD9f5vYnXM+hkTEtLw/z583VyL6VSidzcXPzjH/+AUqnEzz//jNDQ0Ne+/tmKICae2erq6gCg2S8JgjkGm4wCgQDt2rVD+/bttX4vkUiEvXv3IiEhAcOGDcNnn332xuO3n023hISEaD225uTm5qJnz55k8IZlDDYZs7OzERwcrNV70DSNgoICfP/99+DxeFi2bBlGjBjxhx/yxsZGPHz4EN26ddNqfM2Ry+Xgcrk6WY1EtI7BTm0UFBSgd+/eWru+XC5HQkIC4uLiYG1tjZ07d2LUqFEtam3KysrQtWtXRqZbysrKYGdnx9olYcbMIFvGqqoqODo6am1C+8mTJ/jmm2+QkpKCTz75BDExMa16/srIyMDw4cO1EtubqFQqXLlyBWPGjDGo80UMhUEmY0pKCsLCwjT+gaMoCsnJyVi2bBnc3Nxw4MCBVk8PyOVyVFdXM1JTJi8vD3Z2ds1u4yKYZ3DdVIVCgcrKSo0f8/bkyROsWbMGixYtwsiRI98qEQGAy+WiT58+Go2tJeRyOc6dO8fIVArRMgbXMlZUVMDd3V1jq1ooikJubi7WrFkDoVCI1atXY9iwYW/9vHf58mXMmjVLI7G1xm+//YYPPviATGewmMG1jFwuF4GBgRrpojY2NmLv3r1YsGABnJ2dsWvXLkRFRb11ItbW1oLD4ei8KndRUREqKysxYMAAnd6XaB2DahmVSiWqq6s1MjhSUlKCdevWgcvlYu7cuRg7duw7b3NKS0t740IAbXjy5AlOnDiBBQsW6PS+ROsZVMtYXFwMd3f3V05Vag25XI7//ve/mD59Ourr67F7925MnjxZI/sN79y5Az8/v3e+TktJpVL8+uuv+Oijj0j3VA8YVMvI5XIRHBz81l1UgUCADRs24OzZs/j4448RFxcHOzs7jcTG4/Fga2urs/2DMpkM+/fvR3BwsNGU1dB3BpOMjY2NEAqF8PDwaPV7KYpCeno6li9fDoqisG3bNvTt21ejUyOpqakICQnRyfzeswUJHh4eLf497t69i4KCAoSFhTUVqKquroabmxurS1UYEoP5K5eXl8PBwaHVXdTGxkZs3rwZc+fOhb+/P44cOYJ+/fppNGlomkZVVRW8vb01ds3XkUql2LdvHxwdHfHhhx+26Pe4dOkS4uPjkZ6ejv/7v/+DUCiEUChEcXExWRygQwbRMlIUhczMzFaNFlIUhdLSUqxcuRJFRUX49ttvW7ycrbV4PB6cnJy0WqIfeHoswNGjRxEYGIiBAwe26D319fWor6/H1q1bYW5ujrt37+L27duQy+UaG5UmWsYgWkaZTAY+n9/iiX6FQoFjx44hJiYGKpUKe/fu1ejpTi/LysrSaheVoijk5+dj9+7diIqKanEiAk/LbgwfPrzpd+/YsSNEIhGkUqlOa7gSBtIyFhUVwcvLq0UlJMrLy7FlyxYkJSVhypQpmD59ulZHGtVqNR49eoTIyEitXF8gEODMmTPgcDj49NNPWz1A9HKpRnNzc5SVlWHgwIHgcAzi46E39P6vTdM0MjIyMHbs2De+jqIoJCYmYt26dXBycsLOnTvh7++v9cGJ8vJy2Nraajzh5XI5Tp06haqqKkRHR6NHjx4aKUVI0zQoimKkjqux0/tkVKlUEIlEcHJyeu1r6urqsGnTJhw/fhzjx4/HnDlzdLLpGHjaRfX399dYF7WxsREXLlxASUkJwsLCXily9a6kUqlOp2CI/9H7ZPyjY94KCgrwzTffgM/nY/369QgPD9dJMVuapvHw4UNkZmaCw+Hg2rVruH//PszMzPDDDz+0+npFRUW4dOkSGhoaEB4ejqioKFhZWWn8OVQkEsHa2pr1BX8Nkd4nY2JiIhYuXPjKz2UyGY4cOYJ169ahf//+2Lp1q84OeHlW+e3bb79FYWEhDh8+3PRvMTExoCgKJiYmLyTSs/OHaJpGY2Mj+Hw+iouLUVZWhpqaGnh7e2Ps2LFwc3PTauy1tbVkixVD9DoZGxsbAeCFpWo0TaOyshKrVq1CdnY2Fi9erJXjt9/ExMQE/v7+iImJgaenJ65cuQKJRALg6fTD9u3bATwdLHl2avCz5JTJZAAAJycneHt7IyQkBA4ODjqbeO/UqROpjcMQvU7G5ORkREREQCKRwMbGBjKZDImJidiwYQNcXFywa9cuRvYOAv+bblmzZg3y8/MRHx8PLpeLJUuWwN/fH1KpFAqFoqmyN4fDgbm5+Tutq9WENxXSIrRLb5NRrVajoKAA0dHR+PLLL/H5559j165dOH/+PCZMmIC4uDhG58nKy8vh7OwMa2trhIWFYc+ePTh9+jQ8PT1hYmKCtm3bMp54BLvo7WGp1dXVOHDgANLT05Gbmws3Nze0a9cOf//73zFkyBBGByBomsbOnTsxfPhwdOzYkbE4CP2itytw0tLSUFBQgOzsbFAUBT6fj2nTpiEyMpLxkUCVSgU+n89InRtCf+llMqpUKly+fBkpKSlNPzMxMcGZM2eaBkqYVFRUhJ49e5LdDkSr6OUzY1VVFdLS0uDs7IyQkBCEh4cjICAAnp6erDiJNzExETNmzGA6DELP6GUyZmRkYOPGjRg8eDDrdhVIpVLU19frbIUPYTj0rh8ll8tRU1PD2FFqfyQnJwfvv/8+02EQekjvkrG0tBSurq4aqUmjDTdu3NDaDg3CsOldMnK5XPTs2ZPpMJpVW1sLKysrVjy3EvpHr5JRIpGAz+ejR48eTIfSrNzcXAQGBjIdBqGn9CoZS0tL4ezszMqWR61WIycnh7Hld4T+06tkzM/Ph7+/P9NhNKumpgZWVlZkiRvx1vQmGcViMYRCIby8vJgOpVnPDrRhevUPob/0Jhnv378PLy8vje5q1xSFQoF79+6xttUm9INeJCNN0ygsLGTt4MjDhw9hY2Oj9VKMhGHTi2Ssr69HTU0NaxdeFxYWavXIcsI46EUy3rp1C76+vqx8HpPJZCgtLYWPjw/ToRB6Ti+SMScnBwEBAUyH0awHDx7A0dGRnPJEvDPWJ6NEIoFYLGZtkaTs7GzSKhIawfpkTEpKQv/+/Vm5KLyxsREVFRXkyDVCI1ifjLdv32btKGpFRQU8PDxYOd1C6B9WJ+OTJ09ga2vL2gNYbt++DV9fX6bDIAwEKzcXUxSFlJQU3LhxA0qlEjt27IBCoYBIJMLQoUPRv39/pkOEVCpFWVkZRo4cyXQohIFgZTICgKmpKQ4fPoza2tqmn7Vt2xaDBg1iMKr/uXfvHtzd3Vt08hVBtITZihUrVjAdxMtMTExgZmYGmqZhaWmJiooKAE9X4lRUVECpVMLe3h729vaMDeycPHkSw4YNg52dHSP3JwwPa58Zk5OT8ac//QlbtmzBpEmTYGZmhujoaPTp0we//PILJkyYgClTpuDgwYOoqqpqKpOvCwqFArW1tTo7u4MwDqwsYqxSqbB+/XrMnTsXtra2UKlUOHjwILy9vREWFga5XI7bt2/jt99+w+nTpyGTydC3b198+OGHiIiIgKOjo1bLJGZmZqKiogLjxo3T2j0I48PKZCwpKUFGRgZiY2P/MKnkcjkyMjJw6tQpXL9+HQqFAmFhYRg1ahRCQkJgb2+v8WV0P/74IyZMmPDGMyEJorVYN4BD0zRu3ryJPn36tKh1s7CwQHh4OMLDwyEWi3Ht2jVcunQJX3/9NczMzBAWFoaoqCj07dtXI4kplUohl8tJIhIax7qWsbGxEdu2bUNcXNw7rfesra3F5cuXcfHiReTl5cHGxgahoaGIjIxEQEAA2rVr91aJmZ6eDoVCgfDw8LeOjSCaw7pkLCwsxJ07dzBu3DiNjJSqVCoIBALk5eUhMTERWVlZ4HA46NevH6KiouDn5wdHR8cWJ+bGjRvxt7/9DQ4ODu8cG0E8j1XdVIqiUFBQgJCQEI1NWXA4HLi5ucHNzQ2RkZEQCATIzc1FUlISli9fDoqi0L9/f0RFRaFfv34vVAKnKApSqbSpRqtIJEKbNm3IJmJCK1jVMorFYuzcuRMLFizQyGT6hQsXkJ2djT//+c/w8/N74d+USiVEIhFSU1Nx9uxZ5OTkgMPhYNCgQYiKikJoaCgaGhowb948LF++HH5+fjhz5gycnZ1JxXBCK1iVjEVFRcjPz0dMTIxGricWizF//nwsXLgQwcHBr32dUqlEbW0tUlNTcfLkSeTm5sLKygre3t64fv063NzcsGrVKuTm5mLGjBmki0poBWsm/SmKQlpaGkJDQzV2TaVSifr6enh7e7/xdebm5nB1dcWYMWOwd+9eXLx4EbNnz0ZeXh6ApzVuZs+ejZKSElbWbCUMA2uSUSqVQiQSaXRVS3FxMTw8PFr9jOfs7Izo6GiYmprCwsKiKQGvX7+O1atXs+IMSMLwsGYAp7S0FJ07dwaHo7mQrl279tYVvm1tbbFv3z4AT0dkT5w4gb/85S+wt7cnh6ASWsGaZExOTsZf//pXjV1PrVYjPT0dK1euBPC0y1pQUAA+nw9LS0uEhYW9cZDI1ta2aVNzWVkZevTogaCgIJKIhNaw4pMlFoshFos1uqqlsrISEomkqQJ5bm4uhEIhwsPDUVhYiLS0tBZdh6Zp5ObmIiAggCQioVWs+HTdunVL4ydL5efnw9fXFw0NDaitrQWHw4GlpSXatm2LLl26gMfjteg6UqkUPB4PXbt21Wh8BPEyViTj1atXMWTIEI1es7y8HL1798atW7fQpk0bBAYGYtCgQZDJZMjLy0NERESLrsPn82Fra8vaw1kJw8F4MopEIqjVao3XuYmNjQWHw4GdnR1sbW1hYmIChUKBc+fOYdKkSS3qEtM0jYyMDPj7+7OyOh1hWBhPxpSUFK0cu+3i4oJp06Y1TfbX19fj4MGDsLS0BI/Hw9WrV//wGnK5HI8ePWJtAWXCsDCajBRF4fbt2zr5sJeXl+POnTu4dOkSjh8/jo4dO/7he/h8PmxsbDQ63UIQr8Pop0woFMLd3V0nq1r8/PwQHx/fqvdcvXpVoyuCCOJNGG0Z7e3t8dFHH7HyeUylUqGiogI9e/ZkOhTCSDDaMlpYWLC2GndpaSm8vLzI3CKhM+ST9hqJiYlkNz+hUyQZm9HQ0IC6ujp4eHgwHQphREgyNqOwsBB+fn6sfJYlDBdJxmZkZWWhb9++TIdBGBmSjC8RiUSQy+VwcXFhOhTCyJBkfAmXy0VwcDAZRSV0jnzinqNWq1FYWIhu3boxHQphhEgyPkcoFIKiKLi6ujIdCmGESDI+Jz8/H4GBgaSLSjCCfOp+p1KpcOfOHbL8jWAMScbf1dbWon379i9UFCcIXfp/TL/VyRLSzswAAAAASUVORK5CYII=)"
      ]
    },
    {
      "cell_type": "markdown",
      "source": [
        "Procedemos a encontrar $ω$:\n",
        "El siguiente gráfico nos indica que es adecuado usar $x_0=0.75$ y $x_1=0.99$ como puntos de arranque\n"
      ],
      "metadata": {
        "id": "SDTDweJBSIQv"
      }
    },
    {
      "cell_type": "code",
      "source": [
        "a,b=0,1\n",
        "g=9.8\n",
        "x = np.arange(a, b, (b-a)/1000)\n",
        "p1=(g/(2*x**2))*(np.sinh(x)-np.sin(x))\n",
        "p2=1+0*x\n",
        "plt.figure(figsize=(10, 5))\n",
        "plt.plot(x, p1, 'g-',label='P_1')\n",
        "plt.plot( x, p2, 'r-',label='P_2')\n",
        "legend = plt.legend(loc='upper left', shadow=True, fontsize='x-large')\n",
        "plt.show()"
      ],
      "metadata": {
        "colab": {
          "base_uri": "https://localhost:8080/",
          "height": 409
        },
        "id": "09ZI8seJSlCM",
        "outputId": "472168c1-e2ff-49c1-bd4b-fa4d117cb31b"
      },
      "execution_count": null,
      "outputs": [
        {
          "output_type": "stream",
          "name": "stderr",
          "text": [
            "/usr/local/lib/python3.7/dist-packages/ipykernel_launcher.py:4: RuntimeWarning: divide by zero encountered in true_divide\n",
            "  after removing the cwd from sys.path.\n",
            "/usr/local/lib/python3.7/dist-packages/ipykernel_launcher.py:4: RuntimeWarning: invalid value encountered in multiply\n",
            "  after removing the cwd from sys.path.\n"
          ]
        },
        {
          "output_type": "display_data",
          "data": {
            "text/plain": [
              "<Figure size 720x360 with 1 Axes>"
            ],
            "image/png": "[encoded data removed]"
          },
          "metadata": {
            "needs_background": "light"
          }
        }
      ]
    },
    {
      "cell_type": "markdown",
      "source": [
        "Intentaremos resolver la ecuación $f(x)=g(\\sinh{x}-\\sin{x})-2x^2=0$, usando tanto el método de Newton como el método de Shamanskii y el de la secante."
      ],
      "metadata": {
        "id": "NJWDc848Tn8V"
      }
    },
    {
      "cell_type": "code",
      "source": [
        "x0=10\n",
        "x1=0.99*x0\n",
        "f = lambda x: g*(np.sinh(x)-np.sin(x))-2*x**2\n",
        "fp= lambda x: g*(np.cosh(x)-np.cos(x))-4*x\n",
        "print(\"Con Newton: \")\n",
        "approx1 = minewton(f,fp,x0,1e-12,1e-10,30)\n",
        "print(\"\\n\\nCon Shamanskii: \")\n",
        "for i in range(2,5):\n",
        "  print('Para m=',i,' tenemos que:')\n",
        "  approx2 = miShaminskii(f,fp,x0,i,1e-12,1e-10,30)\n",
        "  print('\\n\\n')\n",
        "print(\"Con secante: \")\n",
        "approx3 = miSecante(f,x0,x1,1e-12,1e-10,30)"
      ],
      "metadata": {
        "colab": {
          "base_uri": "https://localhost:8080/"
        },
        "id": "5xQhCKyDUuoa",
        "outputId": "c7c9fbbc-a4eb-4818-aab2-0d9e35b120c6"
      },
      "execution_count": null,
      "outputs": [
        {
          "output_type": "stream",
          "name": "stdout",
          "text": [
            "Con Newton: \n",
            "x( 0 )= 9.001509685829726 \t  f(x( 0 ))= 107735.01357897998\n",
            "x( 1 )= 8.005007845338255 \t  f(x( 1 ))= 39599.01852518841\n",
            "x( 2 )= 7.012332775226064 \t  f(x( 2 ))= 14542.17527952051\n",
            "x( 3 )= 6.025196442784186 \t  f(x( 3 ))= 5335.303877746846\n",
            "x( 4 )= 5.043530840607945 \t  f(x( 4 ))= 1957.1247535081554\n",
            "x( 5 )= 4.068399668131907 \t  f(x( 5 ))= 717.9418679520498\n",
            "x( 6 )= 3.122876208052168 \t  f(x( 6 ))= 261.11986560141764\n",
            "x( 7 )= 2.283031454404483 \t  f(x( 7 ))= 91.38301383869623\n",
            "x( 8 )= 1.6346846252474485 \t  f(x( 8 ))= 29.70938768103901\n",
            "x( 9 )= 1.1861502812412692 \t  f(x( 9 ))= 9.046456715637564\n",
            "x( 10 )= 0.8955005505110132 \t  f(x( 10 ))= 2.6505451174498837\n",
            "x( 11 )= 0.7221520465265857 \t  f(x( 11 ))= 0.7438152257196684\n",
            "x( 12 )= 0.6378596948709976 \t  f(x( 12 ))= 0.18763376757129113\n",
            "x( 13 )= 0.6140632293237968 \t  f(x( 13 ))= 0.03421150410552298\n",
            "x( 14 )= 0.6121545208339647 \t  f(x( 14 ))= 0.0023678070572903387\n",
            "x( 15 )= 0.6121425711700332 \t  f(x( 15 ))= 1.4640720880754188e-05\n",
            "x( 16 )= 0.6121425707030939 \t  f(x( 16 ))= 5.720490747762597e-10\n",
            "residuo f(x( 17 ))= -1.3322676295501878e-15\n",
            "\n",
            "\n",
            "Con Shamanskii: \n",
            "Para m= 2  tenemos que:\n",
            "x( 1 )= 8.634505170449367 \t f(x( 1 ))= 107735.01357897998\n",
            "x( 2 )= 7.273789084385202 \t f(x( 2 ))= 27393.445985292194\n",
            "x( 3 )= 5.922454138880523 \t f(x( 3 ))= 6951.803834806717\n",
            "x( 4 )= 4.581458329609533 \t f(x( 4 ))= 1762.5961944701587\n",
            "x( 5 )= 3.267579954555962 \t f(x( 5 ))= 446.20428320798624\n",
            "x( 6 )= 2.12007964730447 \t f(x( 6 ))= 108.30450589259739\n",
            "x( 7 )= 1.3371962553630241 \t f(x( 7 ))= 22.889832426095886\n",
            "x( 8 )= 0.8923516469377473 \t f(x( 8 ))= 4.264259859391782\n",
            "x( 9 )= 0.6771533627486057 \t f(x( 9 ))= 0.7303712508403233\n",
            "x( 10 )= 0.615192865701354 \t f(x( 10 ))= 0.09747940209700023\n",
            "x( 11 )= 0.6121431562726498 \t f(x( 11 ))= 0.0037742939353972993\n",
            "x( 12 )= 0.612142570703095 \t f(x( 12 ))= 7.173847655916887e-07\n",
            "Resultado segun las entradas:\n",
            "residuo f(x( 13 ))= 2.220446049250313e-16\n",
            "x( 13 )= 0.612142570703095\n",
            "se hicieron n= 13  iteraciones\n",
            "\n",
            "\n",
            "\n",
            "Para m= 3  tenemos que:\n",
            "x( 1 )= 8.380622151554965 \t f(x( 1 ))= 107735.01357897998\n",
            "x( 2 )= 6.769070255068182 \t f(x( 2 ))= 21223.49361361957\n",
            "x( 3 )= 5.171763063693549 \t f(x( 3 ))= 4169.237880341502\n",
            "x( 4 )= 3.5954075550540905 \t f(x( 4 ))= 818.7657387900948\n",
            "x( 5 )= 2.1831912083577634 \t f(x( 5 ))= 156.81754942215406\n",
            "x( 6 )= 1.2594543711744373 \t f(x( 6 ))= 25.381581766796156\n",
            "x( 7 )= 0.7980405255497524 \t f(x( 7 ))= 3.3731797171838553\n",
            "x( 8 )= 0.629235692007884 \t f(x( 8 ))= 0.38733794556858636\n",
            "x( 9 )= 0.6121515662485333 \t f(x( 9 ))= 0.022127714778923835\n",
            "x( 10 )= 0.6121425707030954 \t f(x( 10 ))= 1.102079960413338e-05\n",
            "Resultado segun las entradas:\n",
            "residuo f(x( 11 ))= 1.4432899320127035e-15\n",
            "x( 11 )= 0.6121425707030954\n",
            "se hicieron n= 11  iteraciones\n",
            "\n",
            "\n",
            "\n",
            "Para m= 4  tenemos que:\n",
            "x( 1 )= 8.183922377711074 \t f(x( 1 ))= 107735.01357897998\n",
            "x( 2 )= 6.378745230798356 \t f(x( 2 ))= 17412.888734800155\n",
            "x( 3 )= 4.591950115436645 \t f(x( 3 ))= 2804.700788289928\n",
            "x( 4 )= 2.8647308249666037 \t f(x( 4 ))= 451.0721410953982\n",
            "x( 5 )= 1.5489764699047157 \t f(x( 5 ))= 66.59584375583097\n",
            "x( 6 )= 0.8812477631756594 \t f(x( 6 ))= 7.425183074344637\n",
            "x( 7 )= 0.6377695257093556 \t f(x( 7 ))= 0.6840347419354025\n",
            "x( 8 )= 0.6121484255691483 \t f(x( 8 ))= 0.03408190508786624\n",
            "x( 9 )= 0.6121425707030947 \t f(x( 9 ))= 7.1729550229493455e-06\n",
            "Resultado segun las entradas:\n",
            "residuo f(x( 10 ))= 7.771561172376096e-16\n",
            "x( 10 )= 0.6121425707030947\n",
            "se hicieron n= 10  iteraciones\n",
            "\n",
            "\n",
            "\n",
            "Con secante: \n",
            "x( 2 )= 8.950742150948312 \t f(x( 2 ))= 37632.00486055394\n",
            "x( 3 )= 8.353728488848175 \t f(x( 3 ))= 20657.141375155075\n",
            "x( 4 )= 7.627207440151104 \t f(x( 4 ))= 9935.309239808106\n",
            "x( 5 )= 6.953981894655144 \t f(x( 5 ))= 5029.0152477373085\n",
            "x( 6 )= 6.263916941568942 \t f(x( 6 ))= 2495.5408266694853\n",
            "x( 7 )= 5.584184298855089 \t f(x( 7 ))= 1248.2182401414298\n",
            "x( 8 )= 4.903963566689356 \t f(x( 8 ))= 622.1198558876072\n",
            "x( 9 )= 4.228065282155291 \t f(x( 9 ))= 308.9120055662824\n",
            "x( 10 )= 3.561437372222562 \t f(x( 10 ))= 151.03534333173772\n",
            "x( 11 )= 2.9236966585151123 \t f(x( 11 ))= 71.71095248560597\n",
            "x( 12 )= 2.347165360499585 \t f(x( 12 ))= 32.75491840857933\n",
            "x( 13 )= 1.8624077080868242 \t f(x( 13 ))= 14.46783863925738\n",
            "x( 14 )= 1.4788912810398678 \t f(x( 14 ))= 6.252039420988152\n",
            "x( 15 )= 1.1870438591649184 \t f(x( 15 ))= 2.6587018339457535\n",
            "x( 16 )= 0.9711066539968607 \t f(x( 16 ))= 1.1086857943591029\n",
            "x( 17 )= 0.8166524382151478 \t f(x( 17 ))= 0.4462662917399991\n",
            "x( 18 )= 0.7125979684297848 \t f(x( 18 ))= 0.166828526232778\n",
            "x( 19 )= 0.6504758933741258 \t f(x( 19 ))= 0.05303406284009293\n",
            "x( 20 )= 0.6215238166734366 \t f(x( 20 ))= 0.011848272268166427\n",
            "x( 21 )= 0.6131949225884843 \t f(x( 21 ))= 0.0012936803932116492\n",
            "x( 22 )= 0.6121740468310419 \t f(x( 22 ))= 3.8565487882724625e-05\n",
            "x( 23 )= 0.6121426787296145 \t f(x( 23 ))= 1.323437299749486e-07\n",
            "x( 24 )= 0.6121425707142117 \t f(x( 24 ))= 1.3619994021496495e-11\n",
            "x( 25 )= 0.6121425707030943 \t f(x( 25 ))= -2.220446049250313e-16\n",
            "Resultado segun las entradas:\n",
            "residuo f(x( 25 ))= -2.220446049250313e-16\n",
            "x( 25 )= 0.6121425707030943\n",
            "se hicieron n= 25  iteraciones\n"
          ]
        }
      ]
    },
    {
      "cell_type": "markdown",
      "source": [
        "Elegimos el cálculo hecho por el método de Shamanskii de orden 4, pues es el más eficiente en términos de número de iteraciones. Podemos asegurar el cálculo $ω=x( 25 )= 0.6121425707030943$ con precisión de 12 decimales por la manera en que tomamos las tolerancias."
      ],
      "metadata": {
        "id": "4GFiBqe-VSkc"
      }
    },
    {
      "cell_type": "markdown",
      "metadata": {
        "id": "9P_TtEjz3Y81"
      },
      "source": [
        "**Problema (Quarteroni, Saleri, Gervasio)** La longitud maxima de una varilla que se puede arrastrar de un extremo a otro deslizandola por un pasillo como el de la figura es\n",
        "$$L=\\frac{l_2}{\\sin(\\pi-\\gamma-\\alpha)}+\\frac{l_1}{\\sin(\\alpha)} \\ \\ \\ \\ (1)$$\n",
        "donde $\\alpha$ es la solución de la ecuación\n",
        "$$ l_2 \\frac{\\cos(\\pi-\\gamma-\\alpha)}{\\sin^2(\\pi-\\gamma-\\alpha)}-l_1\\frac{\\cos(\\alpha)}{\\sin^2(\\alpha)}=0 \\ \\ \\ \\ (2).$$\n",
        "Calcule $\\alpha$ cuando $l_2=10$, $l_1=8$ y $\\gamma=\\frac{3\\pi}{5}$. ¿Cuántos decimales puede garantizar para $\\alpha$ y $L$?"
      ]
    },
    {
      "cell_type": "markdown",
      "source": [
        "**Solución**\n",
        "Note que\n",
        "  \\begin{split}\n",
        "  \\sin(\\pi-\\gamma-\\alpha)\n",
        "  &=\\sin(\\pi)\\cos(\\gamma+\\alpha)-\\cos(\\pi)\\sin(\\gamma+\\alpha)\n",
        "&=\\sin(\\gamma+\\alpha)\n",
        "  \\end{split}\n",
        "Y que además,\n",
        "\\begin{split} cos(\\pi-\\gamma-\\alpha)=\\cos(\\pi)\\cos(\\gamma+\\alpha)+\\sin(\\pi)\\sin(\\gamma+\\alpha)=-\\cos(\\gamma+\\alpha)\\end{split}\n",
        "Reemplazando esto en la ecuación $(2)$ obtenemos:\n",
        "$$-l_2 \\frac{\\cos(\\gamma+\\alpha)}{\\sin^2(\\gamma+\\alpha)}-l_1\\frac{\\cos(\\alpha)}{\\sin^2(\\alpha)}=l_2 \\frac{\\cos(\\pi-\\gamma-\\alpha)}{\\sin^2(\\pi-\\gamma-\\alpha)}-l_1\\frac{\\cos(\\alpha)}{\\sin^2(\\alpha)}=0.$$\n",
        "Con $x\\in(0,\\pi-\\gamma)$.\n",
        "\n",
        "Resolveremos $f(x)=0$ con\n",
        "$f(x)=-\\Big(l_2 \\frac{\\cos(\\gamma+x)}{\\sin^2(\\gamma+x)}+l_1\\frac{\\cos(x)}{\\sin^2(x)}\\Big)$,$l_2=10$, $l_1=8$, $\\gamma=\\frac{3\\pi}{5} $ y $x\\in(0,\\pi-\\gamma)=(0,2\\pi/5)$\n",
        "\n"
      ],
      "metadata": {
        "id": "amHNfuSDYFOS"
      }
    },
    {
      "cell_type": "code",
      "source": [
        "l2,l1,p=10,8,3*np.pi/5\n",
        "a,b=0.3,0.8\n",
        "x = np.arange(a, b, (b-a)/1000)\n",
        "y= -(l2*(np.cos(p+x))/(np.sin(p+x))**2+l1*(np.cos(x))/(np.sin(x))**2)\n",
        "plt.figure(figsize=(10, 5))\n",
        "plt.plot(x, y*0, 'b--',label='Funcion')\n",
        "plt.plot(x, y, 'r-',linewidth=4, label='Funcion')\n",
        "plt.grid(color='g', linestyle='--', linewidth=.5)\n",
        "plt.show()"
      ],
      "metadata": {
        "colab": {
          "base_uri": "https://localhost:8080/",
          "height": 322
        },
        "id": "kwXf-9siXhd4",
        "outputId": "2f794973-caa8-4104-8277-c5b3d57f5127"
      },
      "execution_count": null,
      "outputs": [
        {
          "output_type": "display_data",
          "data": {
            "text/plain": [
              "<Figure size 720x360 with 1 Axes>"
            ],
            "image/png": "[encoded data removed]"
          },
          "metadata": {
            "needs_background": "light"
          }
        }
      ]
    },
    {
      "cell_type": "markdown",
      "source": [
        "A pesar de que ya poseemos la derivada esta requiere muchos operaciones, por lo tanto resulta mejor usar el método de la secante para calcular $L$ en este caso."
      ],
      "metadata": {
        "id": "YYg4ULyrdw7U"
      }
    },
    {
      "cell_type": "code",
      "source": [
        "f = lambda x: -(l2*(np.cos(p+x))/(np.sin(p+x))**2+l1*(np.cos(x))/(np.sin(x))**2)\n",
        "x0=0.7\n",
        "x1=0.99*x0\n",
        "approx = miSecante(f,x0,x1,1e-12,1e-10,30)"
      ],
      "metadata": {
        "colab": {
          "base_uri": "https://localhost:8080/"
        },
        "id": "E4NzIZGDeFkT",
        "outputId": "fea3975a-c8b6-44fd-bf35-bad63faf7700"
      },
      "execution_count": null,
      "outputs": [
        {
          "output_type": "stream",
          "name": "stdout",
          "text": [
            "x( 2 )= 0.6036510869139013 \t f(x( 2 ))= 1.078082247305126\n",
            "x( 3 )= 0.5964927337878368 \t f(x( 3 ))= 0.031165037215540536\n",
            "x( 4 )= 0.5962796411579462 \t f(x( 4 ))= -4.1931095857705714e-05\n",
            "x( 5 )= 0.5962799274788538 \t f(x( 5 ))= 1.9596022582391015e-09\n",
            "x( 6 )= 0.5962799274654735 \t f(x( 6 ))= -1.7763568394002505e-14\n",
            "Resultado segun las entradas:\n",
            "residuo f(x( 6 ))= -1.7763568394002505e-14\n",
            "x( 6 )= 0.5962799274654735\n",
            "se hicieron n= 6  iteraciones\n"
          ]
        }
      ]
    },
    {
      "cell_type": "markdown",
      "source": [
        "Así, $\\alpha=0.5962799274654735$ y con esto calculamos $L=30.548423069373513$ con:"
      ],
      "metadata": {
        "id": "tzFYz2pjeQHp"
      }
    },
    {
      "cell_type": "code",
      "source": [
        "alpha=0.5962799274654735\n",
        "L=l2/np.sin(p+alpha)+l1/np.sin(alpha)\n",
        "print(\"L=\",L)"
      ],
      "metadata": {
        "colab": {
          "base_uri": "https://localhost:8080/"
        },
        "id": "La7idSe-ebbw",
        "outputId": "256b75b9-056c-4634-d04d-0373462a000c"
      },
      "execution_count": null,
      "outputs": [
        {
          "output_type": "stream",
          "name": "stdout",
          "text": [
            "L= 30.548423069373513\n"
          ]
        }
      ]
    },
    {
      "cell_type": "markdown",
      "source": [
        "Se garantizan 10 decimales para $\\alpha$ y $L$."
      ],
      "metadata": {
        "id": "B2YsjZzser7I"
      }
    },
    {
      "cell_type": "markdown",
      "metadata": {
        "id": "zEbEcSCX3Y81"
      },
      "source": [
        "**Problema** Selecciones dos de los métodos en https://docs.scipy.org/doc/scipy-0.13.0/reference/optimize.html en la sección Root finding, diga cual es el método numerico implementado (e.g, similar a newton, usa derivadas, no usa derivadas, combina varios métodos, llama alguna otra subrutina conocida encontrada en netlib, cuales son las toleracias por defecto, etc)  y para cada uno de los métodos seleccionados implementar un ejemplo numérico con una ecuación escalar o una ecuación vectorial según sea el caso. Imprima la solución calculada asi como alguna informacion adicional (residuo, cantidad de iteraciones, etc).\n",
        "\n",
        "Si usa MatLab seleccione dos de entre los métodos como fsolve, froot, fzero, roots, o similares (https://la.mathworks.com/help/optim/systems-of-nonlinear-equations.html). Análogamente para octave (https://octave.org/doc/v4.2.0/Solvers.html), julia, etc."
      ]
    },
    {
      "cell_type": "markdown",
      "source": [
        "**Solución**\n",
        "Elegí las librerías"
      ],
      "metadata": {
        "id": "reWLT82YfV-m"
      }
    },
    {
      "cell_type": "code",
      "source": [
        "from scipy.optimize import brenth\n",
        "from scipy.optimize import fsolve"
      ],
      "metadata": {
        "id": "U1HEMvvifceV"
      },
      "execution_count": null,
      "outputs": []
    },
    {
      "cell_type": "markdown",
      "source": [
        "Brenth: spicy.optimize.brenth\n",
        "\n",
        "Es una variación del método Brent que usa interpolación hiperbólica en lugar de cuadrática,esta interpolación se usa implementa con el método de la secante y resulta de 4 a 5 veces más veloz que bisección. Tiene como parámetros por defecto:\n",
        "scipy.optimize.brenth(f, a, b, args=(), xtol=2e-12, rtol=8.881784197001252e-16, maxiter=100, full_output=False, disp=True)\n",
        "donde $f$ es la función a la cual se le quiere hallar una raíz, $[a,b]$ el intervalo donde apoximadamente está una raíz de $f$ además debe darse que $f$ sea continua y que $f(a)f(b)<0$. Los otros parámetros que vemos son opcionales y tienen por defecto los valores indicados allí. Así tenemos que xtol$>0$, rtol$\\leq8.881784197001252e-16$ que basicamente comparan la raíz buscada con la raíz aproximada, según ellas mismas como tolerancias.  args contiene argumentos extras de $f$. maximer nos dice el número máximo de iteraciones que queremos poner al problema en caso de que no haya convergencia el método tiene por defecto un número máximo de $100$ iteraciones. full_output retorna solo la raíz si tiene valor falso y retorna como dupla a la raíz junto con  su valor en $f$ si full_output tiene valor verdadero. Por último, disp toma valor boolean y si es verdadero retorna RuntimeError cuando el algoritmo no converge.\n",
        "Fuente=https://docs.scipy.org/doc/scipy/reference/generated/scipy.optimize.brenth.html\n",
        "\n",
        "Veamos un ejemplo con la siguiente función"
      ],
      "metadata": {
        "id": "xS4StNZug-h5"
      }
    },
    {
      "cell_type": "code",
      "source": [
        "def func1(x):\n",
        "  return np.cos(x)-np.sin(x)\n",
        "a,b=-7,0\n",
        "x = np.arange(a, b, (b-a)/1000)\n",
        "y=  func1(x)\n",
        "plt.figure(figsize=(10, 5))\n",
        "plt.plot(x, y*0, 'g--',label='Funcion')\n",
        "plt.plot(x, y, 'r-',linewidth=4, label='Funcion')\n",
        "plt.grid(color='b', linestyle='--', linewidth=.5)\n",
        "plt.show()"
      ],
      "metadata": {
        "colab": {
          "base_uri": "https://localhost:8080/",
          "height": 320
        },
        "id": "8yDttM6Tnzzk",
        "outputId": "6a8ed17e-98c5-414e-c1d9-e09e8e41c5c9"
      },
      "execution_count": null,
      "outputs": [
        {
          "output_type": "display_data",
          "data": {
            "text/plain": [
              "<Figure size 720x360 with 1 Axes>"
            ],
            "image/png": "[encoded data removed]"
          },
          "metadata": {
            "needs_background": "light"
          }
        }
      ]
    },
    {
      "cell_type": "markdown",
      "source": [
        "Encontremos la raíz más cercana a -2 con con el método brenth"
      ],
      "metadata": {
        "id": "KLJf8kLgoKrf"
      }
    },
    {
      "cell_type": "code",
      "source": [
        "root = brenth(func1, -3, -1)\n",
        "print(\"raíz x=\",root,\" f(x)=\",func1(root))"
      ],
      "metadata": {
        "colab": {
          "base_uri": "https://localhost:8080/"
        },
        "id": "eueQBUnsoSrn",
        "outputId": "2d0b2d8d-d3c0-468b-b23c-f11a4593cbca"
      },
      "execution_count": null,
      "outputs": [
        {
          "output_type": "stream",
          "name": "stdout",
          "text": [
            "raíz x= -2.356194490192345  f(x)= 1.1102230246251565e-16\n"
          ]
        }
      ]
    },
    {
      "cell_type": "markdown",
      "source": [
        "Para ver el número de iteraciones realizadas en el cálculo de la raíz usamos:"
      ],
      "metadata": {
        "id": "qP_w6R_5pLGf"
      }
    },
    {
      "cell_type": "code",
      "source": [
        "root = brenth(func1, -6, -4, maxiter=10, full_output=True, disp=False)\n",
        "print(root)"
      ],
      "metadata": {
        "colab": {
          "base_uri": "https://localhost:8080/"
        },
        "id": "j5cVAZZKpWD4",
        "outputId": "ff0c7cbb-598d-4cf8-b90e-c5bae78267f5"
      },
      "execution_count": null,
      "outputs": [
        {
          "output_type": "stream",
          "name": "stdout",
          "text": [
            "(-5.497787143782138,       converged: True\n",
            "           flag: 'converged'\n",
            " function_calls: 8\n",
            "     iterations: 7\n",
            "           root: -5.497787143782138)\n"
          ]
        }
      ]
    },
    {
      "cell_type": "markdown",
      "source": [
        "Es decir usamos 7 iteraciones para obtener la raíz $x= -2.356194490192345$\n",
        "\n",
        "---\n",
        "\n"
      ],
      "metadata": {
        "id": "cd4qSRKupZt8"
      }
    },
    {
      "cell_type": "markdown",
      "source": [
        "Método fsolve:\n",
        "Es un método vectorial que hace uso del método de Newton junto a otros métodos. Tiene los siguientes parámetors por defecto:\n",
        "\n",
        "scipy.optimize.fsolve(f, x0, args=(), fprime=None, full_output=0, col_deriv=0, xtol=1.49012e-08, maxfev=0, band=None, epsfcn=None, factor=100, diag=None)\n",
        "Las funciones de algunos de estos parámetros son:\n",
        "col_der: Calcular el jacobianode la funciónrespecto a columnas o filas.\n",
        "xtol: Detiene el programa si el relativo error entre dos iteraciones consecutivas es mayor al valor de xtol\n",
        "args:contiene argumentos extra de $f$.\n",
        "maxfev: es el número máximo en que se llama a f. Consideremos el siguiente ejemplo donde se usa este método para resolver $(x_0)\\cos(x_0)=4$, $x_1=5$"
      ],
      "metadata": {
        "id": "8qHU1ywfq4KX"
      }
    },
    {
      "cell_type": "code",
      "source": [
        "def func(x):\n",
        "    return [x[0] * np.cos(x[1]) - 4,\n",
        "            x[1] * x[0] - x[1] - 5]\n",
        "root = fsolve(func, [1, 1],full_output=1)\n",
        "root\n"
      ],
      "metadata": {
        "colab": {
          "base_uri": "https://localhost:8080/"
        },
        "id": "bL9i3pwtsqn-",
        "outputId": "230a54f1-65c1-44cb-ced4-2e909b08ed23"
      },
      "execution_count": null,
      "outputs": [
        {
          "output_type": "execute_result",
          "data": {
            "text/plain": [
              "(array([6.50409711, 0.90841421]), {'fjac': array([[-0.56248005, -0.82681085],\n",
              "         [ 0.82681085, -0.56248005]]),\n",
              "  'fvec': array([3.73212572e-12, 1.61710645e-11]),\n",
              "  'nfev': 17,\n",
              "  'qtf': array([6.25677420e-08, 2.40104774e-08]),\n",
              "  'r': array([-1.0907073 , -1.7621827 , -7.37420598])}, 1, 'The solution converged.')"
            ]
          },
          "metadata": {},
          "execution_count": 66
        }
      ]
    }
  ]
}