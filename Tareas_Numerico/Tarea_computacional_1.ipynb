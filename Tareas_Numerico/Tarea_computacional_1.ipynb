{
  "nbformat": 4,
  "nbformat_minor": 0,
  "metadata": {
    "colab": {
      "provenance": [],
      "authorship_tag": "ABX9TyP3nMRUHke9Ef1/I/HDlrTz",
      "include_colab_link": true
    },
    "kernelspec": {
      "name": "python3",
      "display_name": "Python 3"
    },
    "language_info": {
      "name": "python"
    }
  },
  "cells": [
    {
      "cell_type": "markdown",
      "metadata": {
        "id": "view-in-github",
        "colab_type": "text"
      },
      "source": [
        "<a href=\"https://colab.research.google.com/github/jdcarrascali/Numerical-Analysis/blob/main/Tarea_computacional_1.ipynb\" target=\"_parent\"><img src=\"https://colab.research.google.com/assets/colab-badge.svg\" alt=\"Open In Colab\"/></a>"
      ]
    },
    {
      "cell_type": "markdown",
      "source": [
        "Juan David Carrascal Ibañez\n",
        "\n",
        "Análisis númerico\n",
        "\n",
        "Tarea computacional 1"
      ],
      "metadata": {
        "id": "yfr43iK-f2-g"
      }
    },
    {
      "cell_type": "code",
      "execution_count": null,
      "metadata": {
        "id": "cqpYlAvLJWaW"
      },
      "outputs": [],
      "source": [
        "import numpy as np\n",
        "import math\n",
        "import matplotlib.pyplot as plt"
      ]
    },
    {
      "cell_type": "markdown",
      "source": [
        "**Problema 1** Dado que cada número de punto flotante en presición doble ocupa 64 bits, para 100.000 números con este formato será necesario ocupar un espacio en memoria de 64$\\cdot$100'000=6'400'000 bits esto es 0.8 megabytes.\n",
        "Para una matriz de tamaño 100'000x100'000 será necesario multiplicar el número de bits por el número de entradas de la matriz, esto es 64$\\cdot$100'000^2=640'000'000'000=8000 megabytes."
      ],
      "metadata": {
        "id": "z-kaSbYbkTn9"
      }
    },
    {
      "cell_type": "markdown",
      "source": [
        "**Problema2**\n"
      ],
      "metadata": {
        "id": "FVMRp0YFJjiL"
      }
    },
    {
      "cell_type": "markdown",
      "source": [
        "$\\bullet$ as_integer_ratio(self, /) \\\\\n",
        " Dado un número de punto flotante $x$ regresa un par de enteros $m,n$ tal que $x=\\frac{m}{n}$."
      ],
      "metadata": {
        "id": "tkIV5rn9Losc"
      }
    },
    {
      "cell_type": "code",
      "source": [
        "(0.5).as_integer_ratio()"
      ],
      "metadata": {
        "colab": {
          "base_uri": "https://localhost:8080/"
        },
        "id": "oiUag5l4JwwG",
        "outputId": "abad7e99-88d9-4def-d2ff-a3b9158bc4cc"
      },
      "execution_count": null,
      "outputs": [
        {
          "output_type": "execute_result",
          "data": {
            "text/plain": [
              "(1, 2)"
            ]
          },
          "metadata": {},
          "execution_count": 4
        }
      ]
    },
    {
      "cell_type": "markdown",
      "source": [
        "$\\bullet$ conjugate(self, /) \\\\\n",
        "Devuelve el conjugato de un número complejo."
      ],
      "metadata": {
        "id": "DkJNC0euLrCd"
      }
    },
    {
      "cell_type": "code",
      "source": [
        "(7-2j).conjugate()"
      ],
      "metadata": {
        "colab": {
          "base_uri": "https://localhost:8080/"
        },
        "id": "oRQIXFx_L9B8",
        "outputId": "0a9d44a6-f77a-47da-f783-f62683bd5385"
      },
      "execution_count": null,
      "outputs": [
        {
          "output_type": "execute_result",
          "data": {
            "text/plain": [
              "(7+2j)"
            ]
          },
          "metadata": {},
          "execution_count": 11
        }
      ]
    },
    {
      "cell_type": "markdown",
      "source": [
        "$\\bullet$ hex(self, /)"
      ],
      "metadata": {
        "id": "W-L9LStOOjNz"
      }
    },
    {
      "cell_type": "code",
      "source": [
        "2.7876.hex()"
      ],
      "metadata": {
        "colab": {
          "base_uri": "https://localhost:8080/",
          "height": 35
        },
        "id": "jyryDpjzOprL",
        "outputId": "585ca5eb-34cf-4766-ff51-1f1f32a5b715"
      },
      "execution_count": null,
      "outputs": [
        {
          "output_type": "execute_result",
          "data": {
            "text/plain": [
              "'0x1.64d013a92a305p+1'"
            ],
            "application/vnd.google.colaboratory.intrinsic+json": {
              "type": "string"
            }
          },
          "metadata": {},
          "execution_count": 13
        }
      ]
    },
    {
      "cell_type": "markdown",
      "source": [
        "$\\bullet$ fromhex(string, /) \\\\\n",
        "Crea un flotante a partir de una cadena sexagesimal"
      ],
      "metadata": {
        "id": "1J3-9tPrN1Z2"
      }
    },
    {
      "cell_type": "code",
      "source": [
        "float.fromhex('0x1.64d013a92a305p+1')"
      ],
      "metadata": {
        "colab": {
          "base_uri": "https://localhost:8080/"
        },
        "id": "CahSoKAOOU3F",
        "outputId": "2e4fc39f-f0eb-4b20-d2d3-8f2c9e8c9528"
      },
      "execution_count": null,
      "outputs": [
        {
          "output_type": "execute_result",
          "data": {
            "text/plain": [
              "2.7876"
            ]
          },
          "metadata": {},
          "execution_count": 15
        }
      ]
    },
    {
      "cell_type": "markdown",
      "source": [
        "$\\bullet$ *imag* Devuelve la parte imaginaria de un número complejo"
      ],
      "metadata": {
        "id": "GmbrSzJAO9UJ"
      }
    },
    {
      "cell_type": "code",
      "source": [
        "(3+1j).imag"
      ],
      "metadata": {
        "colab": {
          "base_uri": "https://localhost:8080/"
        },
        "id": "GxpVD6QrPHIQ",
        "outputId": "952fb57d-f2d0-4b4f-8338-46b63a1b1627"
      },
      "execution_count": null,
      "outputs": [
        {
          "output_type": "execute_result",
          "data": {
            "text/plain": [
              "1.0"
            ]
          },
          "metadata": {},
          "execution_count": 29
        }
      ]
    },
    {
      "cell_type": "markdown",
      "source": [
        " $\\bullet$ real Devuelve la parte real de un número complejo"
      ],
      "metadata": {
        "id": "vRtrw__OQlo0"
      }
    },
    {
      "cell_type": "code",
      "source": [
        "(2+9j).real"
      ],
      "metadata": {
        "colab": {
          "base_uri": "https://localhost:8080/"
        },
        "id": "cYHxaPcxQ6OH",
        "outputId": "3cca2e8f-9207-42a3-dc90-d6135fa117a2"
      },
      "execution_count": null,
      "outputs": [
        {
          "output_type": "execute_result",
          "data": {
            "text/plain": [
              "2.0"
            ]
          },
          "metadata": {},
          "execution_count": 32
        }
      ]
    },
    {
      "cell_type": "markdown",
      "source": [
        "$\\bullet$ is_integer determina si un número dado es entero"
      ],
      "metadata": {
        "id": "CfVXf4LJRJdB"
      }
    },
    {
      "cell_type": "code",
      "source": [
        "(3.1).is_integer()"
      ],
      "metadata": {
        "colab": {
          "base_uri": "https://localhost:8080/"
        },
        "id": "N3C9GcQ1Rabk",
        "outputId": "1f3d863c-8052-4abe-adc6-99f2ac396b2a"
      },
      "execution_count": null,
      "outputs": [
        {
          "output_type": "execute_result",
          "data": {
            "text/plain": [
              "False"
            ]
          },
          "metadata": {},
          "execution_count": 35
        }
      ]
    },
    {
      "cell_type": "markdown",
      "source": [
        "**Problema 3** (Sullivan)\n",
        "\n",
        "\n",
        "Con el valor inicial $x_0=\\frac{1}{8}$ la expresión decrece muy rápido, mucho más rápido. Por ello la sucesión se vuelve constante 0 en muchas menos interaciones que con $x_0=\\frac{1}{2}$.\n"
      ],
      "metadata": {
        "id": "fst5NCwsRzKz"
      }
    },
    {
      "cell_type": "code",
      "source": [
        "x_0=1/10\n",
        "def f(x_n):\n",
        "  if 0<= x_n <=1/2:\n",
        "    return 2*x_n\n",
        "  elif 1/2< x_n <=1:\n",
        "    return  2*x_n-1\n",
        "\n",
        "x_n=x_0\n",
        "\n",
        "for _ in range(50):\n",
        "    print(x_n)\n",
        "    x_n=f(x_n)"
      ],
      "metadata": {
        "colab": {
          "base_uri": "https://localhost:8080/"
        },
        "id": "WgDKyfIDR7sz",
        "outputId": "449ebd43-69c5-4895-a414-09649d8e366b"
      },
      "execution_count": null,
      "outputs": [
        {
          "output_type": "stream",
          "name": "stdout",
          "text": [
            "0.1\n",
            "0.2\n",
            "0.4\n",
            "0.8\n",
            "0.6000000000000001\n",
            "0.20000000000000018\n",
            "0.40000000000000036\n",
            "0.8000000000000007\n",
            "0.6000000000000014\n",
            "0.20000000000000284\n",
            "0.4000000000000057\n",
            "0.8000000000000114\n",
            "0.6000000000000227\n",
            "0.20000000000004547\n",
            "0.40000000000009095\n",
            "0.8000000000001819\n",
            "0.6000000000003638\n",
            "0.2000000000007276\n",
            "0.4000000000014552\n",
            "0.8000000000029104\n",
            "0.6000000000058208\n",
            "0.20000000001164153\n",
            "0.40000000002328306\n",
            "0.8000000000465661\n",
            "0.6000000000931323\n",
            "0.20000000018626451\n",
            "0.40000000037252903\n",
            "0.8000000007450581\n",
            "0.6000000014901161\n",
            "0.20000000298023224\n",
            "0.4000000059604645\n",
            "0.800000011920929\n",
            "0.6000000238418579\n",
            "0.20000004768371582\n",
            "0.40000009536743164\n",
            "0.8000001907348633\n",
            "0.6000003814697266\n",
            "0.20000076293945312\n",
            "0.40000152587890625\n",
            "0.8000030517578125\n",
            "0.600006103515625\n",
            "0.20001220703125\n",
            "0.4000244140625\n",
            "0.800048828125\n",
            "0.60009765625\n",
            "0.2001953125\n",
            "0.400390625\n",
            "0.80078125\n",
            "0.6015625\n",
            "0.203125\n"
          ]
        }
      ]
    },
    {
      "cell_type": "code",
      "source": [
        "x_0=1/8\n",
        "def f(x_n):\n",
        "  if 0<= x_n <=1/2:\n",
        "    return 2*x_n\n",
        "  elif 1/2< x_n <=1:\n",
        "    return  2*x_n-1\n",
        "\n",
        "x_n=x_0\n",
        "\n",
        "for _ in range(10):\n",
        "    print(x_n)\n",
        "    x_n=f(x_n)\n"
      ],
      "metadata": {
        "colab": {
          "base_uri": "https://localhost:8080/"
        },
        "id": "K_yaL36n5NLR",
        "outputId": "98da2127-20ea-4d31-f96a-102a3d4efa6b"
      },
      "execution_count": null,
      "outputs": [
        {
          "output_type": "stream",
          "name": "stdout",
          "text": [
            "0.125\n",
            "0.25\n",
            "0.5\n",
            "1.0\n",
            "1.0\n",
            "1.0\n",
            "1.0\n",
            "1.0\n",
            "1.0\n",
            "1.0\n"
          ]
        }
      ]
    },
    {
      "cell_type": "markdown",
      "source": [
        "**Problema 4**\n",
        "La computadora del Ariane 5 solo era capaz de procesar números de punto flotante con formato de 16 bits y no pudo interpretar la velocidad del cohete cuando esta tomó valores muy grandes, enviandole datos al sistema de navegación que no podía interpretar. Esta computadora había sido usada en modelos anteriores de este cohete, sin embargo este modelo era mucho más veloz que sus predecesores.\n",
        "Supongamos un modelo(impreciso) en el que la aceleración aumenta linealmente(y se tiene en cuenta el efecto de la gravedad) mediante la expresión $a(t)=40t$. De esta forma como $v_0=0$, la velocidad está dada por\n",
        "<h0><center>\n",
        "$v(t)=v_0+∫_0^t atdt= 0+20t^2=20t^2$\n",
        "</center></h0>\n",
        "De esta manera, si $v(60)=20(60^2)$ que no es número de máquina de 16 bits.\n"
      ],
      "metadata": {
        "id": "qwLZ2mFv1HnQ"
      }
    },
    {
      "cell_type": "code",
      "source": [
        "for i in range(61):\n",
        "  x=np.half(20*i**2)\n",
        "  print(x)\n"
      ],
      "metadata": {
        "colab": {
          "base_uri": "https://localhost:8080/"
        },
        "id": "M1wYNhyyOSGt",
        "outputId": "0c8dfe10-96f3-49fc-e26a-a5fdfcd9d4d6"
      },
      "execution_count": null,
      "outputs": [
        {
          "output_type": "stream",
          "name": "stdout",
          "text": [
            "0.0\n",
            "20.0\n",
            "80.0\n",
            "180.0\n",
            "320.0\n",
            "500.0\n",
            "720.0\n",
            "980.0\n",
            "1280.0\n",
            "1620.0\n",
            "2000.0\n",
            "2420.0\n",
            "2880.0\n",
            "3380.0\n",
            "3920.0\n",
            "4500.0\n",
            "5120.0\n",
            "5780.0\n",
            "6480.0\n",
            "7220.0\n",
            "8000.0\n",
            "8820.0\n",
            "9680.0\n",
            "10580.0\n",
            "11520.0\n",
            "12500.0\n",
            "13520.0\n",
            "14580.0\n",
            "15680.0\n",
            "16820.0\n",
            "18000.0\n",
            "19220.0\n",
            "20480.0\n",
            "21780.0\n",
            "23120.0\n",
            "24500.0\n",
            "25920.0\n",
            "27380.0\n",
            "28880.0\n",
            "30420.0\n",
            "32000.0\n",
            "33630.0\n",
            "35260.0\n",
            "37000.0\n",
            "38720.0\n",
            "40500.0\n",
            "42300.0\n",
            "44200.0\n",
            "46080.0\n",
            "48030.0\n",
            "50000.0\n",
            "52030.0\n",
            "54080.0\n",
            "56200.0\n",
            "58300.0\n",
            "60500.0\n",
            "62720.0\n",
            "65000.0\n",
            "inf\n",
            "inf\n",
            "inf\n"
          ]
        }
      ]
    },
    {
      "cell_type": "markdown",
      "source": [
        "**Problema 5**\n",
        "La falla se presentó por la acumulación de error en el reloj de la computadora del lanza misilies. Un defase de una millonesima parte de segundo hizo que el reloj se adelantará una fracción de segundo y esto ocasionó el desvio de la trayectoría del misil haciendo que cayera medio kilometro antes de interceptar el misil que debía detener.\n"
      ],
      "metadata": {
        "id": "QdY0U0Up1HyQ"
      }
    },
    {
      "cell_type": "markdown",
      "source": [
        "**Problema 6**\n",
        "$\\sqrt{x^2-1}+1$ tiene problemas cuando $x\\approx 0$ pues se restan números cercanos. El segundo algoritmo evita la esta resta e introduce una división que genera un error más pequeño"
      ],
      "metadata": {
        "id": "wkV33HrZ1Rlx"
      }
    },
    {
      "cell_type": "code",
      "source": [
        "x=1/8\n",
        "def f(x):\n",
        "  return np.sqrt(x**2+1)-1\n",
        "def g(x):\n",
        "  return x**2/(np.sqrt(x**2+1)+1)\n",
        "n=1\n",
        "def h(x):\n",
        "  if 1<= n <=100:\n",
        "    return x**n\n",
        "for _ in range(20):\n",
        "  print(f(x),g(x))\n",
        "  n=n+1\n",
        "  x=h(x)\n",
        "\n"
      ],
      "metadata": {
        "colab": {
          "base_uri": "https://localhost:8080/"
        },
        "id": "xF6pKAFR1Uvy",
        "outputId": "28c654db-3291-40c9-b061-4e42cd35c95b"
      },
      "execution_count": null,
      "outputs": [
        {
          "output_type": "stream",
          "name": "stdout",
          "text": [
            "0.1180339887498949 0.11803398874989485\n",
            "0.030776406404415146 0.030776406404415133\n",
            "0.00012206286282867573 0.00012206286282875901\n",
            "1.7763568394002505e-15 1.7763568394002489e-15\n",
            "0.0 2.8298997121333476e-73\n",
            "0.0 0.0\n",
            "0.0 0.0\n",
            "0.0 0.0\n",
            "0.0 0.0\n",
            "0.0 0.0\n",
            "0.0 0.0\n",
            "0.0 0.0\n",
            "0.0 0.0\n",
            "0.0 0.0\n",
            "0.0 0.0\n",
            "0.0 0.0\n",
            "0.0 0.0\n",
            "0.0 0.0\n",
            "0.0 0.0\n",
            "0.0 0.0\n"
          ]
        }
      ]
    },
    {
      "cell_type": "markdown",
      "source": [
        "**Problema 7**\n",
        "Tomando los primeros decimales de $\\pi$ de http://www.vaxasoftware.com/doc_edu/mat/numpi15000.pdf tenemos que la aproximación más cercana se alcanza en n=16.\n"
      ],
      "metadata": {
        "id": "wDTNyRAvzwa6"
      }
    },
    {
      "cell_type": "code",
      "source": [
        "z_1=2\n",
        "n=2\n",
        "z_n=z_1\n",
        "def f(z_n):\n",
        "  return 2**(n-(1/2))*(np.sqrt(1-(np.sqrt(1-z_n**2*4**(1-n)))))\n",
        "for _ in range(100):\n",
        "  print(f(z_n),n)\n",
        "  z_n=f(z_n)\n",
        "  n=n+1\n"
      ],
      "metadata": {
        "colab": {
          "base_uri": "https://localhost:8080/"
        },
        "id": "j9wRqVLjz0IN",
        "outputId": "6381fade-1b41-4a31-e36d-6093dd07faf8"
      },
      "execution_count": null,
      "outputs": [
        {
          "output_type": "stream",
          "name": "stdout",
          "text": [
            "2.8284271247461903 2\n",
            "3.0614674589207187 3\n",
            "3.121445152258053 4\n",
            "3.136548490545941 5\n",
            "3.140331156954739 6\n",
            "3.141277250932757 7\n",
            "3.1415138011441455 8\n",
            "3.1415729403678827 9\n",
            "3.141587725279961 10\n",
            "3.141591421504635 11\n",
            "3.141592345611077 12\n",
            "3.141592576545005 13\n",
            "3.1415926334632487 14\n",
            "3.1415926548075896 15\n",
            "3.1415926832667105 16\n",
            "3.1415927591577 17\n",
            "3.1415929109396727 18\n",
            "3.141594125195191 19\n",
            "3.1415965537048196 20\n",
            "3.1415965537048196 21\n",
            "3.1416742650217575 22\n",
            "3.141829681889201 23\n",
            "3.142451272494134 24\n",
            "3.142451272494134 25\n",
            "3.1622776601683795 26\n",
            "3.1622776601683795 27\n",
            "3.4641016151377544 28\n",
            "4.000000000000001 29\n",
            "8.000000000000002 30\n",
            "16.000000000000004 31\n",
            "32.00000000000001 32\n",
            "64.00000000000001 33\n",
            "128.00000000000003 34\n",
            "256.00000000000006 35\n",
            "512.0000000000001 36\n",
            "1024.0000000000002 37\n",
            "2048.0000000000005 38\n",
            "4096.000000000001 39\n",
            "8192.000000000002 40\n",
            "16384.000000000004 41\n",
            "32768.00000000001 42\n",
            "65536.00000000001 43\n",
            "131072.00000000003 44\n",
            "262144.00000000006 45\n",
            "524288.0000000001 46\n",
            "1048576.0000000002 47\n",
            "2097152.0000000005 48\n",
            "4194304.000000001 49\n",
            "8388608.000000002 50\n",
            "16777216.000000004 51\n",
            "33554432.00000001 52\n",
            "67108864.00000001 53\n",
            "134217728.00000003 54\n",
            "268435456.00000006 55\n",
            "536870912.0000001 56\n",
            "1073741824.0000002 57\n",
            "2147483648.0000005 58\n",
            "4294967296.000001 59\n",
            "8589934592.000002 60\n",
            "17179869184.000004 61\n",
            "34359738368.00001 62\n",
            "68719476736.00002 63\n",
            "137438953472.00003 64\n",
            "274877906944.00006 65\n",
            "549755813888.0001 66\n",
            "1099511627776.0002 67\n",
            "2199023255552.0005 68\n",
            "4398046511104.001 69\n",
            "8796093022208.002 70\n",
            "17592186044416.004 71\n",
            "35184372088832.01 72\n",
            "70368744177664.02 73\n",
            "140737488355328.03 74\n",
            "281474976710656.06 75\n",
            "562949953421312.1 76\n",
            "1125899906842624.2 77\n",
            "2251799813685248.5 78\n",
            "4503599627370497.0 79\n",
            "9007199254740994.0 80\n",
            "1.8014398509481988e+16 81\n",
            "3.6028797018963976e+16 82\n",
            "7.205759403792795e+16 83\n",
            "1.441151880758559e+17 84\n",
            "2.882303761517118e+17 85\n",
            "5.764607523034236e+17 86\n",
            "1.1529215046068472e+18 87\n",
            "2.3058430092136945e+18 88\n",
            "4.611686018427389e+18 89\n",
            "9.223372036854778e+18 90\n",
            "1.8446744073709556e+19 91\n",
            "3.689348814741911e+19 92\n",
            "7.378697629483822e+19 93\n",
            "1.4757395258967645e+20 94\n",
            "2.951479051793529e+20 95\n",
            "5.902958103587058e+20 96\n",
            "1.1805916207174116e+21 97\n",
            "2.361183241434823e+21 98\n",
            "4.722366482869646e+21 99\n",
            "9.444732965739293e+21 100\n",
            "1.8889465931478585e+22 101\n"
          ]
        }
      ]
    },
    {
      "cell_type": "markdown",
      "source": [
        "**Problema 8(Steward)**\n",
        "\n",
        "\n",
        "Primero, demostraremos por inducción que $x_{n+1}=2.25x_n-0.5x_{n-1}=\\frac{1}{3\\cdot4^{n+1}}$ para todo $n\\geq 2$:\n",
        "\n",
        "1)$x_3=2.25\\cdot \\frac{1}{12}-0.5\\cdot \\frac{1}{3}=\\frac{9}{4}\\cdot \\frac{1}{12}-\\frac{2}{4}\\cdot \\frac{1}{3}=\\frac{9-8}{4\\cdot 12}=\\frac{1}{48}=\\frac{1}{3\\cdot4^3}$\n",
        "\n",
        "2) Si asumimos que la fórmula es válida para $n+1$ entonces\n",
        "\n",
        "$x_{n+2}=2.25x_{n+1}-0.5x_n=\\frac{9}{4}x_{n+1}-\\frac{2}{4}x_n=\\frac{9}{3\\cdot4^{n+2}}-\\frac{2\\cdot 4}{3\\cdot4^{n+2}}=\\frac{1}{3\\cdot4^{n+2}}$\n"
      ],
      "metadata": {
        "id": "0o4hKmhGlTm8"
      }
    },
    {
      "cell_type": "code",
      "source": [
        "x0=1/3\n",
        "x1=1/12\n",
        "for n in range(2,34):\n",
        "  x2=(1/3)*x1-(1/12)*x0\n",
        "  exac=1/3*np.power(1/4,n)\n",
        "  print('Calculado={0:.15f}'.format(x2), '\\t \\t Exacto',exac)\n",
        "  x0=x1\n",
        "  x1=x2"
      ],
      "metadata": {
        "colab": {
          "base_uri": "https://localhost:8080/"
        },
        "id": "ai17Ou2Ps8QB",
        "outputId": "9dd7c290-3975-493e-ef24-acc5710914e0"
      },
      "execution_count": null,
      "outputs": [
        {
          "output_type": "stream",
          "name": "stdout",
          "text": [
            "Calculado=0.000000000000000 \t \t Exacto 0.020833333333333332\n",
            "Calculado=-0.006944444444444 \t \t Exacto 0.005208333333333333\n",
            "Calculado=-0.002314814814815 \t \t Exacto 0.0013020833333333333\n",
            "Calculado=-0.000192901234568 \t \t Exacto 0.0003255208333333333\n",
            "Calculado=0.000128600823045 \t \t Exacto 8.138020833333333e-05\n",
            "Calculado=0.000058942043896 \t \t Exacto 2.0345052083333332e-05\n",
            "Calculado=0.000008930612711 \t \t Exacto 5.086263020833333e-06\n",
            "Calculado=-0.000001934966087 \t \t Exacto 1.2715657552083333e-06\n",
            "Calculado=-0.000001389206422 \t \t Exacto 3.178914388020833e-07\n",
            "Calculado=-0.000000301821633 \t \t Exacto 7.947285970052083e-08\n",
            "Calculado=0.000000015159991 \t \t Exacto 1.9868214925130207e-08\n",
            "Calculado=0.000000030205133 \t \t Exacto 4.967053731282552e-09\n",
            "Calculado=0.000000008805045 \t \t Exacto 1.241763432820638e-09\n",
            "Calculado=0.000000000417921 \t \t Exacto 3.104408582051595e-10\n",
            "Calculado=-0.000000000594447 \t \t Exacto 7.761021455128987e-11\n",
            "Calculado=-0.000000000232976 \t \t Exacto 1.9402553637822468e-11\n",
            "Calculado=-0.000000000028121 \t \t Exacto 4.850638409455617e-12\n",
            "Calculado=0.000000000010041 \t \t Exacto 1.2126596023639042e-12\n",
            "Calculado=0.000000000005690 \t \t Exacto 3.0316490059097606e-13\n",
            "Calculado=0.000000000001060 \t \t Exacto 7.579122514774402e-14\n",
            "Calculado=-0.000000000000121 \t \t Exacto 1.8947806286936004e-14\n",
            "Calculado=-0.000000000000129 \t \t Exacto 4.736951571734001e-15\n",
            "Calculado=-0.000000000000033 \t \t Exacto 1.1842378929335002e-15\n",
            "Calculado=-0.000000000000000 \t \t Exacto 2.9605947323337506e-16\n",
            "Calculado=0.000000000000003 \t \t Exacto 7.401486830834377e-17\n",
            "Calculado=0.000000000000001 \t \t Exacto 1.850371707708594e-17\n",
            "Calculado=0.000000000000000 \t \t Exacto 4.625929269271485e-18\n",
            "Calculado=-0.000000000000000 \t \t Exacto 1.1564823173178713e-18\n",
            "Calculado=-0.000000000000000 \t \t Exacto 2.8912057932946783e-19\n",
            "Calculado=-0.000000000000000 \t \t Exacto 7.228014483236696e-20\n",
            "Calculado=0.000000000000000 \t \t Exacto 1.807003620809174e-20\n",
            "Calculado=0.000000000000000 \t \t Exacto 4.517509052022935e-21\n"
          ]
        }
      ]
    },
    {
      "cell_type": "markdown",
      "source": [
        "**Problema 9**\n",
        "\n",
        "Si $x\\neq 0$ entonces $f(x)=\\frac{1-Cos^2(x)}{x^2}$ y $g(x)=\\frac{Sen^2(x)}{x^2}$ son analíticamente iguales."
      ],
      "metadata": {
        "id": "9F4Z7VBj8L4k"
      }
    },
    {
      "cell_type": "code",
      "source": [
        "a=-1E-4\n",
        "b=1E-4\n",
        "print(a)\n",
        "print(b)\n",
        "x = np.arange(a, b, 1E-3/100)\n",
        "p0= (1-(np.cos(x))**2)/(x**2)\n",
        "p1=(np.sin(x))**2/(x**2)\n",
        "plt.figure(figsize=(20, 5))\n",
        "plt.plot(x, p0, 'r-',label='f(x)')\n",
        "plt.plot( x, p1, 'b-',label='g(x)')\n",
        "legend = plt.legend(loc='upper left', shadow=True, fontsize='x-large')\n",
        "plt.show()\n",
        "y=5E-7\n",
        "print('g(x)=',(1-(math.cos(y))**2)/(y**2))\n",
        "print('f(x)=',(math.sin(y))**2/(y**2))\n"
      ],
      "metadata": {
        "colab": {
          "base_uri": "https://localhost:8080/",
          "height": 389
        },
        "id": "BnhmkoRr9jKR",
        "outputId": "a543280d-f3fc-493a-8c79-7e50ca539b60"
      },
      "execution_count": null,
      "outputs": [
        {
          "output_type": "stream",
          "name": "stdout",
          "text": [
            "-0.0001\n",
            "0.0001\n"
          ]
        },
        {
          "output_type": "display_data",
          "data": {
            "text/plain": [
              "<Figure size 1440x360 with 1 Axes>"
            ],
            "image/png": "[encoded data removed]"
          },
          "metadata": {
            "needs_background": "light"
          }
        },
        {
          "output_type": "stream",
          "name": "stdout",
          "text": [
            "g(x)= 1.000088900582341\n",
            "f(x)= 0.9999999999999166\n"
          ]
        }
      ]
    },
    {
      "cell_type": "markdown",
      "source": [
        "**Problema 10**\n",
        "\n",
        "Por el teorema del binomio tenemos que:\n",
        "\\begin{split}\n",
        "(x-1)^7&=x^7-7x^6+21x^5-35x^4+35x^3-21x^2+7x-1\\\\\n",
        "&=(x^6-7x^5+21x^4-35x^3+35x^2-21x+7)x-1\\\\\n",
        "&=((x^5-7x^4+21x^3-35x^2+35x-21)x+7)x-1\\\\\n",
        "&=(((x^4-7x^3+21x^2-35x+35)x-21)x+7)x-1\\\\\n",
        "&=((((x^3-7x^2+21x-35)x+35)x-21)x+7)x-1\\\\\n",
        "&=(((((x^2-7x+21)x-35)x+35)x-21)x+7)x-1\\\\\n",
        "&=((((((x-7)x+21)x-35)x+35)x-21)x+7)x-1\\\\\n",
        "\\end{split}\n",
        "\n",
        "En la gráfica observamos que el algoritmo de Horner acumula mucho menos error que el cálculo usando la expansión del polinomio y no lo anula."
      ],
      "metadata": {
        "id": "TzY4Nx3chpfU"
      }
    },
    {
      "cell_type": "code",
      "source": [
        "a=1-4E-3\n",
        "b=1+4E-3\n",
        "print(a)\n",
        "print(b)\n",
        "x = np.arange(a, b, 4E-3/200)\n",
        "p0= (x-1)**7\n",
        "p1=x**7-7*x**6+21*x**5-35*x**4+35*x**3-21*x**2+7*x-1\n",
        "p2=((((((x-7)*x+21)*x-35)*x+35)*x-21)*x+7)*x-1\n",
        "plt.figure(figsize=(20, 5))\n",
        "plt.plot(x, p0, 'r-',label='Factorizada')\n",
        "plt.plot( x, p1, 'b-',label='Expandida')\n",
        "plt.plot( x, p2, 'g-',label='Horner')\n",
        "legend = plt.legend(loc='upper left', shadow=True, fontsize='x-large')\n",
        "plt.show()"
      ],
      "metadata": {
        "colab": {
          "base_uri": "https://localhost:8080/",
          "height": 366
        },
        "id": "EYyDjiHN2E6T",
        "outputId": "a028a7b4-aa3d-4416-8699-82114d265a2d"
      },
      "execution_count": null,
      "outputs": [
        {
          "output_type": "stream",
          "name": "stdout",
          "text": [
            "0.996\n",
            "1.004\n"
          ]
        },
        {
          "output_type": "display_data",
          "data": {
            "text/plain": [
              "<Figure size 1440x360 with 1 Axes>"
            ],
            "image/png": "[encoded data removed]"
          },
          "metadata": {
            "needs_background": "light"
          }
        }
      ]
    },
    {
      "cell_type": "markdown",
      "source": [
        "**Problema 11**\n",
        "El segundo algoritmo es más fiable puesto que en el primero en el paso en el que y=-p+u se estan restando partes decimales muy cercanas."
      ],
      "metadata": {
        "id": "c53SSKBhl6DB"
      }
    },
    {
      "cell_type": "code",
      "source": [
        "p=1000\n",
        "q=0.0018000000081\n",
        "s=p**2\n",
        "t=s+q\n",
        "u=np.sqrt(t)\n",
        "print(u)\n",
        "y=-p+u\n",
        "print(y)"
      ],
      "metadata": {
        "colab": {
          "base_uri": "https://localhost:8080/"
        },
        "id": "9ns8Agltl87g",
        "outputId": "8a6aa978-f4fd-4e23-dcf4-3c4ec7da97f9"
      },
      "execution_count": null,
      "outputs": [
        {
          "output_type": "stream",
          "name": "stdout",
          "text": [
            "1000.0000009\n",
            "9.000000318337698e-07\n"
          ]
        }
      ]
    },
    {
      "cell_type": "code",
      "source": [
        "p=1000\n",
        "q=0.0018000000081\n",
        "s=p**2\n",
        "t=s+q\n",
        "u=np.sqrt(t)\n",
        "print(u)\n",
        "v=p+u\n",
        "print(v)\n",
        "y=q/v\n",
        "print(y)"
      ],
      "metadata": {
        "colab": {
          "base_uri": "https://localhost:8080/"
        },
        "id": "cEuKTCQNtcCQ",
        "outputId": "8fd86b1c-d3ec-4a5e-e36f-9095bc86e252"
      },
      "execution_count": null,
      "outputs": [
        {
          "output_type": "stream",
          "name": "stdout",
          "text": [
            "1000.0000009\n",
            "2000.0000009\n",
            "9.00000003645e-07\n"
          ]
        }
      ]
    },
    {
      "cell_type": "markdown",
      "source": [
        "**Problema 12**\n",
        "El método .format() agrega los dígitos extra que puede asignar Python a un cálculo, sin embargo como no podemos asegurar una precisión mayor a 16 dígitos decimales en el formato double, los dígitos 14829616256247390992939472198486328125000000 pueden ser erroneos (en este caso sabemos que lo son). Por otra parte, analíticamente $\\frac{1}{3}=\\sqrt\\frac{1}{9}$. Sin embargo, en el siguiente código observamos que Python asigna el mismo número de máquina a ambas expresiones, es decir, esta imprecisión no se debe a un error de redondeo de la operación $\\sqrt()$."
      ],
      "metadata": {
        "id": "UlE4AjgDuFNi"
      }
    },
    {
      "cell_type": "code",
      "source": [
        "x=np.sqrt(1/9)\n",
        "y=1/3\n",
        "print(\"y={0:.60f}\".format(x))\n",
        "print(\"x={0:.60f}\".format(x))\n",
        "\n"
      ],
      "metadata": {
        "colab": {
          "base_uri": "https://localhost:8080/"
        },
        "id": "sm2iDgR99djn",
        "outputId": "ff08b2ef-d11e-460c-82e7-bcfa0736fded"
      },
      "execution_count": null,
      "outputs": [
        {
          "output_type": "stream",
          "name": "stdout",
          "text": [
            "y=0.333333333333333314829616256247390992939472198486328125000000\n",
            "x=0.333333333333333314829616256247390992939472198486328125000000\n"
          ]
        }
      ]
    },
    {
      "cell_type": "markdown",
      "source": [
        "De nuevo, el formato double puede garantizarnos precisión máximo en 16 dígitos."
      ],
      "metadata": {
        "id": "KaezllPq5NhG"
      }
    },
    {
      "cell_type": "code",
      "source": [
        "x=np.sqrt(0.1)\n",
        "print(\"x={0:.60f}\".format(x))"
      ],
      "metadata": {
        "colab": {
          "base_uri": "https://localhost:8080/"
        },
        "id": "fo7NLIYD5NwB",
        "outputId": "11d5fd10-0599-4e4f-df89-6c1419f07b3e"
      },
      "execution_count": null,
      "outputs": [
        {
          "output_type": "stream",
          "name": "stdout",
          "text": [
            "x=0.316227766016837941176476078908308409154415130615234375000000\n"
          ]
        }
      ]
    },
    {
      "cell_type": "markdown",
      "source": [
        "**Problema 13**\n",
        "14829616256247390992939472198486328125000000."
      ],
      "metadata": {
        "id": "JJmUIwbJuIvh"
      }
    },
    {
      "cell_type": "markdown",
      "source": [
        "**numpy. half:** Es un módulo de la librería numpy usado para trabajar con un formato de 16 bits(1 para el signo, 5 para la mantisa, 10 para el exponente). Recordemos que el formato de precisión media de punto flotante es usado en contextos donde no es necesaria una gran precisión numérica (ej, computación gráfica, algoritmos de inteligencia artificial)."
      ],
      "metadata": {
        "id": "e7aYYqDyWi1o"
      }
    },
    {
      "cell_type": "markdown",
      "source": [
        "**numpy.single** Es un módulo de la librería numpy usado para trabajar con un formato de 32 bits(1 para el signo, 8 para la mantisa, 23 para el exponente). Compatible con C float."
      ],
      "metadata": {
        "id": "0aDE4B1-Y7I6"
      }
    },
    {
      "cell_type": "markdown",
      "source": [
        "**numpy.double:** (x=0, /) formato de precisión de 64 bits (1 para el signo, 11 para la mantisa, 52 para el exponente; precisión doble). Compatible con C double."
      ],
      "metadata": {
        "id": "79icrCXVHAie"
      }
    },
    {
      "cell_type": "markdown",
      "source": [
        "**numpy.longdouble:** Formato de precisón extra de 128 bits compatible con C long double."
      ],
      "metadata": {
        "id": "yQhyYwKXHEQO"
      }
    },
    {
      "cell_type": "markdown",
      "source": [
        "**numpy.csingle** Formato para números complejos compuestos por dos números flotantes de precisión simple.(32 bits )"
      ],
      "metadata": {
        "id": "nkp2F579HJub"
      }
    },
    {
      "cell_type": "markdown",
      "source": [
        "**numpy.cdouble** Formato para números complejos compuestos por dos números flotantes de precisión doble.(64 bits )"
      ],
      "metadata": {
        "id": "Vc61MNIeHRH2"
      }
    },
    {
      "cell_type": "markdown",
      "source": [
        "**numpy.clongdouble** Formato para números complejos compuestos por dos números flotantes de precisión extendida (128 bits )."
      ],
      "metadata": {
        "id": "lxcF-TyhHW0Z"
      }
    }
  ]
}