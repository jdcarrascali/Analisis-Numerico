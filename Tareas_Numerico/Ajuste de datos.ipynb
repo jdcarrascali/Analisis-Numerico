{
  "nbformat": 4,
  "nbformat_minor": 0,
  "metadata": {
    "colab": {
      "provenance": [],
      "collapsed_sections": [
        "SOeorsDYav9r",
        "VZjgDrwv4yCs"
      ],
      "include_colab_link": true
    },
    "kernelspec": {
      "name": "python3",
      "display_name": "Python 3"
    },
    "language_info": {
      "name": "python"
    }
  },
  "cells": [
    {
      "cell_type": "markdown",
      "metadata": {
        "id": "view-in-github",
        "colab_type": "text"
      },
      "source": [
        "<a href=\"https://colab.research.google.com/github/jdcarrascali/Numerical-Analysis/blob/main/Ajuste%20de%20datos.ipynb\" target=\"_parent\"><img src=\"https://colab.research.google.com/assets/colab-badge.svg\" alt=\"Open In Colab\"/></a>"
      ]
    },
    {
      "cell_type": "markdown",
      "metadata": {
        "id": "csed2DLm4kDB"
      },
      "source": [
        "\n",
        "#Introducción\n",
        "Para optimizar el valor de los parámetros del modelo creamos una función que calcule el **tamaño** del desajuste a los datos de los posibles modelos. Esta función recibe los datos y valores válidos de parámetros del modelo y retorna la norma del residuo. Podemos usar por ejemplo la medida de desajuste de mínimos cuadrados (norma Euclidiana). Luego usamos una librería de optimización para calcular el valor del parámetro óptimo aproximado.\n",
        "\n",
        "Consideremos el ejemplo siguiente donde tenemos datos del crecimiento de un tumor en ratones.\n",
        "Los datos son tomados (y mas información) se encuentran en:\n",
        "Modeling Cancer Growth with Differential Equations de Jue Wang, Department of Mathematics\n",
        "Union College, Schenectady NY 12308 USA.\n",
        "\n",
        "Para ilustrar el procedimiento, ajustaremos dos modelos:\n",
        "1. Un modelo polinomial de grado uno\n",
        "2. Un modelo polinomial cúbico\n",
        "3. Un modelo de redes neuronales artificiales\n",
        "4. Un modelo de ecuaciones diferenciales (Modelo de von Bertalanffy).\n"
      ]
    },
    {
      "cell_type": "markdown",
      "metadata": {
        "id": "dzBe3Pii4s-m"
      },
      "source": [
        "# Prerrequisitos y datos"
      ]
    },
    {
      "cell_type": "code",
      "metadata": {
        "id": "xWEFRz69iOSZ"
      },
      "source": [
        "import numpy as np\n",
        "import scipy.optimize as op\n",
        "from scipy.integrate import odeint\n",
        "import matplotlib.pyplot as plt"
      ],
      "execution_count": null,
      "outputs": []
    },
    {
      "cell_type": "code",
      "metadata": {
        "id": "_tKRvCmZiUx3"
      },
      "source": [
        "Datos=np.array([[3.46,0.0158],[4.58,0.0264],[5.67,0.0326],[6.64,0.0445], [7.63,\t0.0646],\\\n",
        "[8.41,\t0.0933],[9.32,\t0.1454],[10.27,\t0.2183],[11.19,\t0.2842],[12.39,\t0.4977],[13.42,\t0.6033],\\\n",
        "[15.19,\t0.8441],[16.24\t,1.2163],[17.23,\t1.447],[18.18,\t2.3298],[19.29,\t2.5342],[21.23\t,3.0064],\\\n",
        "[21.99\t,3.4044],[24.33,\t3.2046],[25.58,\t4.5241],[26.43,\t4.3459],[27.44,\t5.1374],[28.43\t,5.5376],\\\n",
        "[30.49\t,4.8946],[31.34,\t5.066],[32.34\t,6.1494],[33.00\t,6.8548],[35.20,\t5.9668],[36.34\t,6.6945],\\\n",
        "[37.29\t,6.6395],[38.50\t,6.8971],[39.67\t,7.2966],[41.37\t,7.2268],[42.58,\t6.8815],[45.39,\t8.0993],\\\n",
        "[46.38\t,7.2112],[48.29,\t7.0694],[49.24\t,7.4971],[50.19,\t6.9974],[51.14,\t6.7219],[52.10,\t7.0523],\\\n",
        "[54.00,\t7.1095],[56.33\t,7.0694],[57.33,\t8.0562],[59.38 ,\t7.2268]])\n",
        "\n",
        "tiempo=Datos[:,0]\n",
        "Volumen=Datos[:,1]"
      ],
      "execution_count": null,
      "outputs": []
    },
    {
      "cell_type": "code",
      "metadata": {
        "colab": {
          "base_uri": "https://localhost:8080/",
          "height": 320
        },
        "id": "3epeoH-wi3-v",
        "outputId": "4940fd1d-ae68-4271-bdf9-ddf41e090a90"
      },
      "source": [
        "plt.figure(figsize=(15,5))\n",
        "plt.scatter(tiempo,Volumen,s=10*Volumen, c=Volumen, alpha=0.8)\n",
        "plt.show()"
      ],
      "execution_count": null,
      "outputs": [
        {
          "output_type": "display_data",
          "data": {
            "text/plain": [
              "<Figure size 1080x360 with 1 Axes>"
            ],
            "image/png": "[encoded data removed]"
          },
          "metadata": {
            "needs_background": "light"
          }
        }
      ]
    },
    {
      "cell_type": "markdown",
      "source": [
        "# Modelo polinomio grado 1\n",
        "El modelo cúbico asumimos que\n",
        "$$\n",
        "V(t) \\approx a+bt\n",
        "$$\n",
        "y queremos estimar $a,b,c$ y $d$.\n",
        "\n",
        "Creamos una función que mida la norma del residuo, o sea, el tamaño del desajuste (o tamaño del residuo) del modelo polinomial cúbico con respecto a los datos usando, por ejemplo, mínimos cuadrados, es decir, la norma euclidiana de la diferencia o residuo."
      ],
      "metadata": {
        "id": "ioiUKuUU1vDx"
      }
    },
    {
      "cell_type": "code",
      "source": [
        "def residuoPL(par,V,tiempo):\n",
        "  a,b=par\n",
        "  Vmodelo=a+b*tiempo\n",
        "#  print(Vmodelo.shape)\n",
        "#  print(V.shape)\n",
        "  res=V-Vmodelo;\n",
        "  nres=np.linalg.norm(res)\n",
        "  #print(nres)\n",
        "  return nres"
      ],
      "metadata": {
        "id": "N8EDoOrr13sI"
      },
      "execution_count": null,
      "outputs": []
    },
    {
      "cell_type": "markdown",
      "source": [
        "Por ejemplo, el desajuste de usar $a=1$ y $b=2$, es defir, aproximar $V(t)≈1+2t$ es $\\approx 424.31$ que es calculado a continuación."
      ],
      "metadata": {
        "id": "pT_M1v2f19h2"
      }
    },
    {
      "cell_type": "code",
      "source": [
        "residuoPL([1,1],Volumen,tiempo)"
      ],
      "metadata": {
        "colab": {
          "base_uri": "https://localhost:8080/"
        },
        "id": "KaO6glY219Ds",
        "outputId": "2b22e361-df91-4314-b01a-57cd134b7a23"
      },
      "execution_count": null,
      "outputs": [
        {
          "output_type": "execute_result",
          "data": {
            "text/plain": [
              "198.3045058785604"
            ]
          },
          "metadata": {},
          "execution_count": 6
        }
      ]
    },
    {
      "cell_type": "markdown",
      "source": [
        "Ahora usamos una librería de optimización para calcular el valor del parámetro óptimo aproximado. Usamos scypy.optimize, en particular el optimizador\n",
        "scypy.optimize.minimize, https://docs.scipy.org/doc/scipy/reference/generated/scipy.optimize.minimize.html. Los argumentos principales de minimize, son la función a minimizar y un valores de los parámetros para iniciar la busqueda del valor óptimo aproximado."
      ],
      "metadata": {
        "id": "ugdyUiOr2Mdr"
      }
    },
    {
      "cell_type": "code",
      "source": [
        "optimoPL=op.minimize(residuoPL,[3,5], args=(Volumen,tiempo),method='Powell')\n",
        "parametro_optimoPL=optimoPL.x\n",
        "print(optimoPL)"
      ],
      "metadata": {
        "colab": {
          "base_uri": "https://localhost:8080/"
        },
        "id": "I2VjNiPZ2Twy",
        "outputId": "876182cd-274e-4423-dc0c-7b9b38672489"
      },
      "execution_count": null,
      "outputs": [
        {
          "output_type": "stream",
          "name": "stdout",
          "text": [
            "   direc: array([[  0.        ,   1.        ],\n",
            "       [108.22064022,  -2.79910979]])\n",
            "     fun: 6.3072431581611825\n",
            " message: 'Optimization terminated successfully.'\n",
            "    nfev: 115\n",
            "     nit: 4\n",
            "  status: 0\n",
            " success: True\n",
            "       x: array([-0.70195909,  0.16773981])\n"
          ]
        }
      ]
    },
    {
      "cell_type": "markdown",
      "source": [
        "El modelo entrenado es $V(t)\\approx -0.70+0.17t$.\n",
        "Después de calcular el valor del parámetro óptimo podemos mostrar el ajuste final de nuestro modelo."
      ],
      "metadata": {
        "id": "byvaPAaD2inA"
      }
    },
    {
      "cell_type": "code",
      "source": [
        "ts=np.linspace(0, 60, 1000)\n",
        "V0=0.0158\n",
        "a,b=parametro_optimoPL\n",
        "VolumenPL=a+b*ts\n",
        "plt.figure(figsize=(15,5))\n",
        "plt.scatter(tiempo,Volumen,s=50, c=Volumen)\n",
        "plt.plot(ts,VolumenPL,linewidth=5)\n",
        "plt.show()"
      ],
      "metadata": {
        "colab": {
          "base_uri": "https://localhost:8080/",
          "height": 320
        },
        "id": "ZqDDmDgp2nBp",
        "outputId": "2b15e248-2f61-4a83-d88b-a6b15a8d1ebe"
      },
      "execution_count": null,
      "outputs": [
        {
          "output_type": "display_data",
          "data": {
            "text/plain": [
              "<Figure size 1080x360 with 1 Axes>"
            ],
            "image/png": "[encoded data removed]"
          },
          "metadata": {
            "needs_background": "light"
          }
        }
      ]
    },
    {
      "cell_type": "markdown",
      "metadata": {
        "id": "1PwlXSnC5d8o"
      },
      "source": [
        "# Modelo polinomio cúbico\n",
        "\n",
        "El modelo cúbico asumimos que\n",
        "$$\n",
        "V(t) \\approx a+bt+ct^2+dt^3\n",
        "$$\n",
        "y queremos estimar $a,b,c$ y $d$.\n",
        "\n",
        "Creamos una función que mida la norma del residuo, o sea, el tamaño del desajuste (o tamaño del residuo) del modelo polinomial cúbico con respecto a los datos usando, por ejemplo, mínimos cuadrados, es decir, la norma euclidiana de la diferencia o residuo."
      ]
    },
    {
      "cell_type": "code",
      "metadata": {
        "id": "wuhDlJZW67ZM"
      },
      "source": [
        "def residuoPC(par,V,tiempo):\n",
        "  a,b,c,d=par\n",
        "  Vmodelo=a+b*tiempo+c*np.power(tiempo,2)+d*np.power(tiempo,3)\n",
        "#  print(Vmodelo.shape)\n",
        "#  print(V.shape)\n",
        "  res=V-Vmodelo;\n",
        "  nres=np.linalg.norm(res)\n",
        "  #print(nres)\n",
        "  return nres"
      ],
      "execution_count": null,
      "outputs": []
    },
    {
      "cell_type": "markdown",
      "metadata": {
        "id": "tc9OSmx3BkSs"
      },
      "source": [
        "Por ejemplo, el desajuste de usar $a=1, b=2, c=3$ y $d=4$ es:"
      ]
    },
    {
      "cell_type": "code",
      "metadata": {
        "colab": {
          "base_uri": "https://localhost:8080/"
        },
        "id": "g-Ce8jlY7Yqi",
        "outputId": "3d494c16-9aac-480e-a3a6-03c56e30a0c6"
      },
      "source": [
        "residuoPC([1,2,3,4],Volumen,tiempo)"
      ],
      "execution_count": null,
      "outputs": [
        {
          "output_type": "execute_result",
          "data": {
            "text/plain": [
              "2097512.575338375"
            ]
          },
          "metadata": {},
          "execution_count": 12
        }
      ]
    },
    {
      "cell_type": "markdown",
      "metadata": {
        "id": "BicC0YhT7ob0"
      },
      "source": [
        "Ahora usamos una librería de optimización para calcular el valor del parámetro óptimo aproximado."
      ]
    },
    {
      "cell_type": "code",
      "metadata": {
        "colab": {
          "base_uri": "https://localhost:8080/"
        },
        "id": "IobufrwZ7tIq",
        "outputId": "9b3a58a2-509a-44e8-f02f-7c5767401580"
      },
      "source": [
        "optimoPC=op.minimize(residuoPC,[1000,1000,1000,1000], args=(Volumen,tiempo),method='Powell')\n",
        "parametro_optimoPC=optimoPC.x\n",
        "print(optimoPC)"
      ],
      "execution_count": null,
      "outputs": [
        {
          "output_type": "stream",
          "name": "stdout",
          "text": [
            "   direc: array([[ 1.42141186e+00, -2.37344482e-01,  8.97094881e-03,\n",
            "        -9.79457168e-05],\n",
            "       [ 4.21654301e+07, -4.44701460e+05, -5.63801620e+03,\n",
            "        -6.75485025e+01],\n",
            "       [-3.19933207e+07,  2.33475157e+06, -1.45548033e+04,\n",
            "        -3.91193299e+02],\n",
            "       [ 5.84683706e-02, -9.81539721e-03,  3.84494547e-04,\n",
            "        -3.95517779e-06]])\n",
            "     fun: 3.2412230682675394\n",
            " message: 'Optimization terminated successfully.'\n",
            "    nfev: 1023\n",
            "     nit: 15\n",
            "  status: 0\n",
            " success: True\n",
            "       x: array([-8.15155963e-01,  5.40991770e-02,  8.36815425e-03, -1.21093056e-04])\n"
          ]
        }
      ]
    },
    {
      "cell_type": "markdown",
      "metadata": {
        "id": "I3KLlBQGCNAX"
      },
      "source": [
        "Después de calcular el valor del parámetro óptimo podemos mostrar el ajuste final de nuestro modelo."
      ]
    },
    {
      "cell_type": "code",
      "metadata": {
        "colab": {
          "base_uri": "https://localhost:8080/",
          "height": 320
        },
        "id": "5Mnl_2B1CSKm",
        "outputId": "30e2f317-3219-49d0-a720-369fb2324731"
      },
      "source": [
        "ts=np.linspace(0, 60, 1000)\n",
        "V0=0.0158\n",
        "a,b,c,d=parametro_optimoPC\n",
        "VolumenPC=a+b*ts+c*np.power(ts,2)+d*np.power(ts,3)\n",
        "plt.figure(figsize=(15,5))\n",
        "plt.scatter(tiempo,Volumen,s=50, c=Volumen)\n",
        "plt.plot(ts,VolumenPC,linewidth=5)\n",
        "plt.show()"
      ],
      "execution_count": null,
      "outputs": [
        {
          "output_type": "display_data",
          "data": {
            "text/plain": [
              "<Figure size 1080x360 with 1 Axes>"
            ],
            "image/png": "[encoded data removed]"
          },
          "metadata": {
            "needs_background": "light"
          }
        }
      ]
    },
    {
      "cell_type": "markdown",
      "source": [
        "# Modelo de redes neuronales artificiales"
      ],
      "metadata": {
        "id": "SOeorsDYav9r"
      }
    },
    {
      "cell_type": "markdown",
      "source": [
        "\n",
        "El modelo cúbico asumimos que\n",
        "$$\n",
        "V(t) \\approx a\\frac{1}{1+e^{bt+ c}}+d\\frac{1}{1+e^{ft+g}}\n",
        "$$\n",
        "y queremos estimar $a,b,c,d,f$ y $g$.\n",
        "\n",
        "Creamos una función que mida la norma del residuo, o sea, el tamaño del desajuste (o tamaño del residuo) del modelo polinomial cúbico con respecto a los datos usando, por ejemplo, mínimos cuadrados, es decir, la norma euclidiana de la diferencia o residuo."
      ],
      "metadata": {
        "id": "avH2Y_rBa1Ir"
      }
    },
    {
      "cell_type": "code",
      "source": [
        "def residuoNN(par,V,tiempo):\n",
        "  a,b,c,d,f,g=par\n",
        "  t=tiempo\n",
        "  Vmodelo=a*( 1/ (1+np.exp(b*t+c)  ))+d*( 1/ (1+np.exp(f*t+g)  ))\n",
        "#  print(Vmodelo.shape)\n",
        "#  print(V.shape)\n",
        "  res=V-Vmodelo;\n",
        "  nres=np.linalg.norm(res)\n",
        "  #print(nres)\n",
        "  return nres"
      ],
      "metadata": {
        "id": "bzyrykyhbUXq"
      },
      "execution_count": null,
      "outputs": []
    },
    {
      "cell_type": "markdown",
      "source": [
        "Por ejemplo, el desajuste de usar $a=1, b=2, c=3$,  $d=4$, $f=1$ y $g=0$ es:"
      ],
      "metadata": {
        "id": "0_mqiGAerPVM"
      }
    },
    {
      "cell_type": "code",
      "source": [
        "residuoNN([1,2,3,4,1,0],Volumen,tiempo)"
      ],
      "metadata": {
        "colab": {
          "base_uri": "https://localhost:8080/"
        },
        "id": "ZxH-QvEOrOcJ",
        "outputId": "4f0a2585-38ad-4842-de62-6631f3760f9a"
      },
      "execution_count": null,
      "outputs": [
        {
          "output_type": "execute_result",
          "data": {
            "text/plain": [
              "34.479958323663645"
            ]
          },
          "metadata": {},
          "execution_count": 18
        }
      ]
    },
    {
      "cell_type": "markdown",
      "source": [
        "Después de calcular el valor del parámetro óptimo podemos mostrar el ajuste final de nuestro modelo."
      ],
      "metadata": {
        "id": "FHI798kTrohq"
      }
    },
    {
      "cell_type": "code",
      "source": [
        "optimoPC=op.minimize(residuoNN,[0.1,.1,.1,.1,1,0], args=(Volumen,tiempo),method='Powell')\n",
        "parametro_optimoPC=optimoPC.x\n",
        "print(optimoPC)"
      ],
      "metadata": {
        "colab": {
          "base_uri": "https://localhost:8080/"
        },
        "id": "3m_f57qfrx5u",
        "outputId": "536b4703-6eed-4df1-ac93-897fe35ecd1c"
      },
      "execution_count": null,
      "outputs": [
        {
          "output_type": "stream",
          "name": "stdout",
          "text": [
            "   direc: array([[ 0.00000000e+00,  0.00000000e+00,  0.00000000e+00,\n",
            "         0.00000000e+00,  0.00000000e+00,  1.00000000e+00],\n",
            "       [ 1.41253084e-01,  2.65388760e-04, -1.14403489e-01,\n",
            "        -1.12066768e+01, -1.00644012e-02,  1.22272193e-01],\n",
            "       [-1.43082977e+00, -2.53651183e-02,  2.47108639e-01,\n",
            "         2.99947902e+01, -5.63664664e-01,  1.47702510e+00],\n",
            "       [ 0.00000000e+00,  0.00000000e+00,  0.00000000e+00,\n",
            "         1.00000000e+00,  0.00000000e+00,  0.00000000e+00],\n",
            "       [ 0.00000000e+00,  0.00000000e+00,  0.00000000e+00,\n",
            "         0.00000000e+00,  1.00000000e+00,  0.00000000e+00],\n",
            "       [ 5.21510055e-02,  8.87300266e-05, -1.42986066e-02,\n",
            "        -1.77484813e+00, -2.08636258e-03,  3.07385737e-02]])\n",
            "     fun: 3.5264010316050522\n",
            " message: 'Optimization terminated successfully.'\n",
            "    nfev: 917\n",
            "     nit: 11\n",
            "  status: 0\n",
            " success: True\n",
            "       x: array([ 8.43875529e+00, -9.55278159e-02,  1.97213303e+00, -6.53385733e+01,\n",
            "        3.18243445e-02,  3.28443135e+00])\n"
          ]
        }
      ]
    },
    {
      "cell_type": "markdown",
      "source": [
        "$$\n",
        "V(t) \\approx 8.43\\frac{1}{1+e^{(-9.5e-02)t+ 1.97}}-65\\frac{1}{1+e^{(3.1e-02)t+3.28}}\n",
        "$$"
      ],
      "metadata": {
        "id": "p79LiD9JCyEG"
      }
    },
    {
      "cell_type": "code",
      "source": [
        "ts=np.linspace(0, 60, 1000)\n",
        "V0=0.0158\n",
        "a,b,c,d,f,g=parametro_optimoPC\n",
        "VolumenNN=a*( 1/ (1+np.exp(b*ts+c)  ))+d*( 1/ (1+np.exp(f*ts+g)  ))\n",
        "plt.figure(figsize=(15,5))\n",
        "plt.scatter(tiempo,Volumen,s=50, c=Volumen)\n",
        "plt.plot(ts,VolumenNN,linewidth=5)\n",
        "plt.show()"
      ],
      "metadata": {
        "colab": {
          "base_uri": "https://localhost:8080/",
          "height": 320
        },
        "id": "y5oISl-_r8KA",
        "outputId": "f0d060d2-a8cd-46e3-a280-0dd62e08702d"
      },
      "execution_count": null,
      "outputs": [
        {
          "output_type": "display_data",
          "data": {
            "text/plain": [
              "<Figure size 1080x360 with 1 Axes>"
            ],
            "image/png": "[encoded data removed]"
          },
          "metadata": {
            "needs_background": "light"
          }
        }
      ]
    },
    {
      "cell_type": "markdown",
      "metadata": {
        "id": "VZjgDrwv4yCs"
      },
      "source": [
        "# Modelo de ecuaciones diferenciales\n",
        "Considere el modelo de ecuaciones diferenciales,\n",
        "$$\n",
        "V'= aV^\\frac{2}{3}-bV,\n",
        "$$\n",
        "con $V_0=V(0)$ dado. La variable $V$ representa o aproxima el volumen del tumor en el tiempo $t$."
      ]
    },
    {
      "cell_type": "code",
      "metadata": {
        "id": "xdTVkBVxmm30"
      },
      "source": [
        "# Modelo de Bertalanffy\n",
        "def modeloBF(V, t, par):\n",
        "  a,b=par\n",
        "  dV=a*np.power(V, 2/3)-b*V;\n",
        "  return dV\n",
        "\n",
        "\n",
        "def residuoBF(par,V,tiempo):\n",
        "  V0=0.0158\n",
        "  VolumenSimulado=odeint(modeloBF, V0, tiempo, args=(par,))\n",
        "  VS=VolumenSimulado.transpose()\n",
        "  res=V-VS;\n",
        "  nres=np.linalg.norm(res)\n",
        "  #print(nres)\n",
        "  return nres"
      ],
      "execution_count": null,
      "outputs": []
    },
    {
      "cell_type": "markdown",
      "metadata": {
        "id": "GtEfgLf-5jdf"
      },
      "source": [
        "La función residuo arriba mide el desajuste (o tamaño del residuo) de la simulación de la EDO con respecto a los datos usando mínimos cuadrados, es decir, la norma euclidiana de la diferencia o residuo.\n",
        "**Asumimos que nuestro modelo de observación mide directamente el tamaño del tumor.  Es decir, el desajuste se mide directamente con la diferencia del modelo contra los datos.**\n",
        "\n",
        "\n",
        "Por ejemplo el desajuste de usar $a=1$ y $b=1$ en el modelo es de:\n"
      ]
    },
    {
      "cell_type": "code",
      "metadata": {
        "colab": {
          "base_uri": "https://localhost:8080/"
        },
        "id": "4SF7o7wDo-Ql",
        "outputId": "0f18e630-2f55-4c88-ecad-cf0935c039d6"
      },
      "source": [
        "residuoBF([1,1],Volumen,tiempo)\n"
      ],
      "execution_count": null,
      "outputs": [
        {
          "output_type": "execute_result",
          "data": {
            "text/plain": [
              "29.11640743560965"
            ]
          },
          "metadata": {},
          "execution_count": 22
        }
      ]
    },
    {
      "cell_type": "markdown",
      "metadata": {
        "id": "aG2s21Z16P7d"
      },
      "source": [
        "Ahora usamos una librería de optimización para calcular el valor del parámetro óptimo aproximado."
      ]
    },
    {
      "cell_type": "code",
      "metadata": {
        "colab": {
          "base_uri": "https://localhost:8080/"
        },
        "id": "zNk1M8F9ptuw",
        "outputId": "ba2f0b3c-7cbb-4904-f410-198e47d6fbe7"
      },
      "source": [
        "optimo=op.minimize(residuoBF,[1,1], args=(Volumen,tiempo), method='Nelder-Mead')\n",
        "parametro_optimo=optimo.x\n",
        "print(optimo)"
      ],
      "execution_count": null,
      "outputs": [
        {
          "output_type": "stream",
          "name": "stdout",
          "text": [
            " final_simplex: (array([[0.40115733, 0.19711753],\n",
            "       [0.40108573, 0.19706832],\n",
            "       [0.40120756, 0.19714372]]), array([3.56902916, 3.5690299 , 3.56903015]))\n",
            "           fun: 3.569029162397135\n",
            "       message: 'Optimization terminated successfully.'\n",
            "          nfev: 94\n",
            "           nit: 49\n",
            "        status: 0\n",
            "       success: True\n",
            "             x: array([0.40115733, 0.19711753])\n"
          ]
        }
      ]
    },
    {
      "cell_type": "markdown",
      "metadata": {
        "id": "y1CKrUEy6dI7"
      },
      "source": [
        "\n",
        "Después de calcular el valor del parámetro óptimo podemos mostrar el ajuste final de nuestro modelo.\n"
      ]
    },
    {
      "cell_type": "code",
      "metadata": {
        "colab": {
          "base_uri": "https://localhost:8080/",
          "height": 320
        },
        "id": "pYNvrkMLrdfp",
        "outputId": "cace7d03-d614-4bca-fd75-da577dd6fbf7"
      },
      "source": [
        "tiempo_simulacion=3.46+np.linspace(0, 80, 1000)\n",
        "V0=0.0158\n",
        "VolumenBF=odeint(modeloBF, V0, tiempo_simulacion, args=(parametro_optimo,))\n",
        "plt.figure(figsize=(15,5))\n",
        "plt.scatter(tiempo,Volumen,s=50, c=Volumen)\n",
        "plt.plot(tiempo_simulacion,VolumenBF,linewidth=5)\n",
        "plt.show()"
      ],
      "execution_count": null,
      "outputs": [
        {
          "output_type": "display_data",
          "data": {
            "text/plain": [
              "<Figure size 1080x360 with 1 Axes>"
            ],
            "image/png": "[encoded data removed]"
          },
          "metadata": {
            "needs_background": "light"
          }
        }
      ]
    },
    {
      "cell_type": "markdown",
      "source": [
        "# Problemas"
      ],
      "metadata": {
        "id": "yyNoeOQb2Em2"
      }
    },
    {
      "cell_type": "markdown",
      "source": [
        "**1.** Considere el modelo polinomial de grado 1 y 3. Proponga un modelo polinomial de grado 4. Escriba las rutinas necesarias para optimizar los valores de los parámetros de este modelo de grado 4. Muestre el ajuste obtenido. Intente con diferentes valores iniciales de los parámetros y seleccione los valores calculados que arrojen un menor valor del residuo. Puede usar listas e índices para la identificación de los parámetros.\n",
        "\n",
        "**2.** Considere ahora el modelo de redes neuronales artificiales presentado arriba. Esta red neuronal artificial tiene una capa y dos neuronas. Agregue una tercera neurona.  Escriba las rutinas necesarias para optimizar los valores de los parámetros de este modelo con tres neuronas. Muestre el ajuste obtenido. Intente con diferentes valores iniciales de los parámetros y seleccione los valores calculados que arrojen un menor valor del residuo. Puede usar listas e índices para la identificación de los parámetros.\n",
        "\n",
        "**3. OPCIONAL** Considerar el modelo de ecuaciones diferenciales (Logistic Growth)\n",
        "$$\n",
        "V'= aV\\left(1-\\frac{V}{b}\\right).\n",
        "$$\n",
        "\n",
        "\n",
        "**4** Construya, para un conjunto de datos seleccionados, un modelo que considere adecuado y ajuste los valores de los parámetros. Es decir, repita el ejercicio arriba para otro conjunto de datos.\n",
        "Puede usar librerías de aprendizaje de máquina, de interpolación o de ajustes diferentes a las mostradas en clase. Por ejemplo, puede usar los datos de la tabla anexa (https://saludata.saludcapital.gov.co/osb/index.php/datos-de-salud/enfermedades-trasmisibles/ocupacion-ucis/).\n",
        "\n",
        "\n",
        "|Fecha |Camas UCI Covid-19|\n",
        "|---|---|\n",
        "|1/01/2022| 222|\n",
        "|2/01/2022| 209|\n",
        "|3/01/2022|217|\n",
        "|4/01/2022| 245|\n",
        "|5/01/2022| 252|\n",
        "|6/01/2022| 278|\n",
        "|7/01/2022| 291|\n",
        "|8/01/2022| 299|\n",
        "|9/01/2022| 302|\n",
        "|10/01/2022| 292|\n",
        "|11/01/2022| 311|\n",
        "|12/01/2022| 306|\n",
        "|13/01/2022| 326|\n",
        "|14/01/2022| 332|\n",
        "|15/01/2022| 368|\n",
        "|16/01/2022| 356|\n",
        "|17/01/2022| 373|\n",
        "|18/01/2022| 397|\n",
        "|19/01/2022| 410|\n",
        "|20/01/2022| 431|\n",
        "\n",
        "Puede usar los modelos vistos en clase y algunos adicionales como\n",
        "\n",
        "\n",
        "$$y=A\\frac{1}{x}+B$$\n",
        "$$y=\\frac{D}{x+C}$$\n",
        "$$y=\\frac{x}{Ax+B}$$\n",
        "$$y=Ce^{Ax}$$\n",
        "$$y=Cx^A$$\n",
        "$$y=(Ax+b)^{-2}$$\n",
        "$$y=Cxe^{-Dx}$$\n",
        "$$y=\\frac{L}{1+Ce^{Ax}}$$\n",
        "\n",
        "entre otros. O intetente modelos de ecuaciones diferenciaqles como:"
      ],
      "metadata": {
        "id": "NXEaWioi2ufg"
      }
    },
    {
      "cell_type": "markdown",
      "source": [
        "**Ejercicio 1**\n"
      ],
      "metadata": {
        "id": "3ZcpLqDKL-Vz"
      }
    },
    {
      "cell_type": "code",
      "source": [
        "Datos=np.array([[3.46,0.0158],[4.58,0.0264],[5.67,0.0326],[6.64,0.0445], [7.63,\t0.0646],\\\n",
        "[8.41,\t0.0933],[9.32,\t0.1454],[10.27,\t0.2183],[11.19,\t0.2842],[12.39,\t0.4977],[13.42,\t0.6033],\\\n",
        "[15.19,\t0.8441],[16.24\t,1.2163],[17.23,\t1.447],[18.18,\t2.3298],[19.29,\t2.5342],[21.23\t,3.0064],\\\n",
        "[21.99\t,3.4044],[24.33,\t3.2046],[25.58,\t4.5241],[26.43,\t4.3459],[27.44,\t5.1374],[28.43\t,5.5376],\\\n",
        "[30.49\t,4.8946],[31.34,\t5.066],[32.34\t,6.1494],[33.00\t,6.8548],[35.20,\t5.9668],[36.34\t,6.6945],\\\n",
        "[37.29\t,6.6395],[38.50\t,6.8971],[39.67\t,7.2966],[41.37\t,7.2268],[42.58,\t6.8815],[45.39,\t8.0993],\\\n",
        "[46.38\t,7.2112],[48.29,\t7.0694],[49.24\t,7.4971],[50.19,\t6.9974],[51.14,\t6.7219],[52.10,\t7.0523],\\\n",
        "[54.00,\t7.1095],[56.33\t,7.0694],[57.33,\t8.0562],[59.38 ,\t7.2268]])\n",
        "\n",
        "tiempo=Datos[:,0]\n",
        "Volumen=Datos[:,1]"
      ],
      "metadata": {
        "id": "5v8cbIZcNSd3"
      },
      "execution_count": null,
      "outputs": []
    },
    {
      "cell_type": "code",
      "source": [
        "def residuoPC(par,V,tiempo):\n",
        "  a,b,c,d,e=par\n",
        "  Vmodelo=a+b*tiempo+c*np.power(tiempo,2)+d*np.power(tiempo,3)+e*np.power(tiempo,4)\n",
        "  #print(Vmodelo.shape)\n",
        "  #print(V.shape)\n",
        "  res=V-Vmodelo;\n",
        "  nres=np.linalg.norm(res)\n",
        "  #print(nres)\n",
        "  return nres"
      ],
      "metadata": {
        "id": "6cj2YLdMP_vc"
      },
      "execution_count": null,
      "outputs": []
    },
    {
      "cell_type": "code",
      "source": [
        "x=[]\n",
        "\n",
        "for i in range(-10000,0,10000):\n",
        "  x.append(residuoPC([1/i,1/i,1/i,1/i,1/i],Volumen, tiempo))\n",
        "    # if len(x)==8:\n",
        "    #   print(i,j)\n",
        "    #   break\n",
        "print(min(x))\n",
        "# for i in range(1,len(x)):\n",
        "#   if x[i]==min(x):\n",
        "#     print(i)\n",
        "\n",
        "\n",
        "\n",
        "\n"
      ],
      "metadata": {
        "colab": {
          "base_uri": "https://localhost:8080/"
        },
        "id": "Og4h5Q7zUP1z",
        "outputId": "dc6db77b-ff35-4678-8cf9-fc31224de886"
      },
      "execution_count": null,
      "outputs": [
        {
          "output_type": "stream",
          "name": "stdout",
          "text": [
            "2791.1740939595015\n"
          ]
        }
      ]
    },
    {
      "cell_type": "code",
      "source": [
        "optimoPC=op.minimize(residuoPC,[.00001,.00001,.00001,.000001,0.00001], args=(Volumen,tiempo),method='Powell')\n",
        "parametro_optimoPC=optimoPC.x\n",
        "print(optimoPC)"
      ],
      "metadata": {
        "colab": {
          "base_uri": "https://localhost:8080/"
        },
        "id": "Q4L5GbUVNKBj",
        "outputId": "b5755f1b-28f6-4c77-a3c6-478c511adfca"
      },
      "execution_count": null,
      "outputs": [
        {
          "output_type": "stream",
          "name": "stdout",
          "text": [
            "   direc: array([[ 0.00000000e+00,  0.00000000e+00,  0.00000000e+00,\n",
            "         0.00000000e+00,  1.00000000e+00],\n",
            "       [ 5.70616518e+00, -8.96269978e-01,  2.56036261e-02,\n",
            "        -3.77885837e-06, -3.68696986e-06],\n",
            "       [-2.15026138e+01,  1.36389810e+00, -3.54443122e-03,\n",
            "        -1.45338677e-04, -2.79896581e-06],\n",
            "       [ 0.00000000e+00,  0.00000000e+00,  0.00000000e+00,\n",
            "         1.00000000e+00,  0.00000000e+00],\n",
            "       [ 1.13724955e-02, -7.82381192e-04,  2.04248239e-05,\n",
            "        -1.64277492e-08, -3.06091628e-09]])\n",
            "     fun: 2.9242721379475665\n",
            " message: 'Optimization terminated successfully.'\n",
            "    nfev: 780\n",
            "     nit: 9\n",
            "  status: 0\n",
            " success: True\n",
            "       x: array([-4.74135997e-01, -3.59791331e-02,  1.48836664e-02, -2.90769296e-04,\n",
            "        1.43428506e-06])\n"
          ]
        }
      ]
    },
    {
      "cell_type": "code",
      "source": [
        "ts=np.linspace(0, 60, 1000)\n",
        "V0=0.0158\n",
        "a,b,c,d,e=parametro_optimoPQ\n",
        "VolumenPC=a+b*ts+c*np.power(ts,2)+d*np.power(ts,3)+e*np.power(ts,4)\n",
        "plt.figure(figsize=(15,5))\n",
        "plt.scatter(tiempo,Volumen,s=50, c=Volumen)\n",
        "plt.plot(ts,VolumenPC,linewidth=5)\n",
        "plt.show()"
      ],
      "metadata": {
        "colab": {
          "base_uri": "https://localhost:8080/",
          "height": 320
        },
        "id": "1KOgEvnENtSb",
        "outputId": "7bb16e71-7b5d-4cf5-d1ee-25844679eeb6"
      },
      "execution_count": null,
      "outputs": [
        {
          "output_type": "display_data",
          "data": {
            "text/plain": [
              "<Figure size 1080x360 with 1 Axes>"
            ],
            "image/png": "[encoded data removed]"
          },
          "metadata": {
            "needs_background": "light"
          }
        }
      ]
    },
    {
      "cell_type": "markdown",
      "source": [
        "**Ejercicico 2**"
      ],
      "metadata": {
        "id": "6l3uYqknt7Yy"
      }
    },
    {
      "cell_type": "code",
      "source": [
        "def residuoNN(par,V,tiempo):\n",
        "  a,b,c,d,f,g,h,i,j=par\n",
        "  t=tiempo\n",
        "  Vmodelo=a*( 1/ (1+np.exp(b*t+c)  ))+d*( 1/ (1+np.exp(f*t+g)))+h*( 1/ (1+np.exp(i*t+j)   ))\n",
        "#  print(Vmodelo.shape)\n",
        "#  print(V.shape)\n",
        "  res=V-Vmodelo\n",
        "  nres=np.linalg.norm(res)\n",
        "  #print(nres)\n",
        "  return nres"
      ],
      "metadata": {
        "id": "b1df7ye9t-kZ"
      },
      "execution_count": null,
      "outputs": []
    },
    {
      "cell_type": "code",
      "source": [
        "optimoPC=op.minimize(residuoNN,[0.0001,.00001,.00001,.00001,0.0001,0.0001,0.0001,0.0001,0.001], args=(Volumen,tiempo),method='Powell')\n",
        "parametro_optimoPC=optimoPC.x\n",
        "print(optimoPC)"
      ],
      "metadata": {
        "colab": {
          "base_uri": "https://localhost:8080/"
        },
        "id": "0Be5DcVivZM_",
        "outputId": "9d62a81e-adee-4f22-8085-87f29f04be03"
      },
      "execution_count": null,
      "outputs": [
        {
          "output_type": "stream",
          "name": "stdout",
          "text": [
            "   direc: array([[ 2.92891864e-02, -5.46164547e-03, -5.46050645e-01,\n",
            "        -5.68954654e-01, -3.15688847e-02,  1.02530915e+00,\n",
            "         9.33125954e-02, -1.12492898e-01,  2.18466899e+00],\n",
            "       [-1.81917404e-03, -4.19158081e-03, -2.69325202e-01,\n",
            "        -3.62761457e-01, -1.00486777e-02,  3.64580796e-01,\n",
            "         5.81619467e-02, -3.25106909e-02,  8.14385480e-01],\n",
            "       [ 0.00000000e+00,  0.00000000e+00,  0.00000000e+00,\n",
            "         0.00000000e+00,  0.00000000e+00,  0.00000000e+00,\n",
            "         0.00000000e+00,  0.00000000e+00,  1.00000000e+00],\n",
            "       [-6.74725917e-02, -2.33302141e-03, -4.25255583e-02,\n",
            "        -1.13992640e-01, -7.23679861e-03,  1.97894092e-01,\n",
            "         4.20515176e-02, -4.64542135e-02,  8.50551926e-01],\n",
            "       [ 0.00000000e+00,  0.00000000e+00,  0.00000000e+00,\n",
            "         0.00000000e+00,  1.00000000e+00,  0.00000000e+00,\n",
            "         0.00000000e+00,  0.00000000e+00,  0.00000000e+00],\n",
            "       [ 5.73701651e-01, -8.80571882e-03,  3.62457933e-01,\n",
            "        -1.43664450e+00,  5.49387384e-02, -6.90804125e-01,\n",
            "        -2.14669699e-01,  6.80457817e-02, -8.67121053e-01],\n",
            "       [ 0.00000000e+00,  0.00000000e+00,  0.00000000e+00,\n",
            "         0.00000000e+00,  0.00000000e+00,  0.00000000e+00,\n",
            "         1.00000000e+00,  0.00000000e+00,  0.00000000e+00],\n",
            "       [ 0.00000000e+00,  0.00000000e+00,  0.00000000e+00,\n",
            "         0.00000000e+00,  0.00000000e+00,  0.00000000e+00,\n",
            "         0.00000000e+00,  1.00000000e+00,  0.00000000e+00],\n",
            "       [ 5.36818129e-03,  4.01116839e-06, -4.38881250e-02,\n",
            "        -1.95931341e-02, -3.01806467e-03,  9.43957124e-02,\n",
            "        -4.13716722e-03, -8.67280485e-03,  8.47702078e-02]])\n",
            "     fun: 2.268539417191703\n",
            " message: 'Optimization terminated successfully.'\n",
            "    nfev: 5499\n",
            "     nit: 51\n",
            "  status: 0\n",
            " success: True\n",
            "       x: array([  7.33717648,  -0.08679951,  -1.97739973,  -5.27155751,\n",
            "         0.21020371,  -5.67869799,  -1.54891773,   0.86692229,\n",
            "       -14.9704669 ])\n"
          ]
        }
      ]
    },
    {
      "cell_type": "code",
      "source": [
        "ts=np.linspace(0, 60, 1000)\n",
        "V0=0.0158\n",
        "a,b,c,d,f,g,h,i,j=parametro_optimoPC\n",
        "VolumenNN=a*( 1/ (1+np.exp(b*ts+c)  ))+d*( 1/ (1+np.exp(f*ts+g)  ))+h*( 1/ (1+np.exp(i*ts+j)   ))\n",
        "plt.figure(figsize=(15,5))\n",
        "plt.scatter(tiempo,Volumen,s=50, c=Volumen)\n",
        "plt.plot(ts,VolumenNN,linewidth=5)\n",
        "plt.show()"
      ],
      "metadata": {
        "colab": {
          "base_uri": "https://localhost:8080/",
          "height": 320
        },
        "id": "5eagiEV5vwA2",
        "outputId": "d872ad59-d1cd-43be-f4d5-92637beca9d3"
      },
      "execution_count": null,
      "outputs": [
        {
          "output_type": "display_data",
          "data": {
            "text/plain": [
              "<Figure size 1080x360 with 1 Axes>"
            ],
            "image/png": "[encoded data removed]"
          },
          "metadata": {
            "needs_background": "light"
          }
        }
      ]
    },
    {
      "cell_type": "code",
      "source": [
        "#Haciendo uso de este bucle se determinó que la mejor elección del punto inicial es cualquier vector que sea cercano a (0,0,0,0,0,0,0,0,0)\n",
        "x=[]\n",
        "\n",
        "for i in range(-10000,0,10000):\n",
        "  x.append(residuoNN([1/i,1/i,1/i,1/i,1/i,1/i,1/i,1/i,1/i],Volumen, tiempo))\n",
        "    # if len(x)==8:\n",
        "    #   print(i,j)\n",
        "    #   break\n",
        "print(min(x))"
      ],
      "metadata": {
        "colab": {
          "base_uri": "https://localhost:8080/"
        },
        "id": "eaniEiE1wLyF",
        "outputId": "29eb0114-178c-4b49-a58c-c2487f619187"
      },
      "execution_count": null,
      "outputs": [
        {
          "output_type": "stream",
          "name": "stdout",
          "text": [
            "34.48066088557146\n"
          ]
        }
      ]
    },
    {
      "cell_type": "markdown",
      "source": [
        "**Ejercicio 4**"
      ],
      "metadata": {
        "id": "3ZFFz_smxu16"
      }
    },
    {
      "cell_type": "code",
      "source": [
        "import pandas as pd\n",
        "\n"
      ],
      "metadata": {
        "id": "nvKN03HgyD6i"
      },
      "execution_count": null,
      "outputs": []
    },
    {
      "cell_type": "code",
      "source": [
        "!pwd\n",
        "#pd.read_csv(\"/content/sample_data/osb_ocupacion_ucis_covid-19_09062022.csv\")\n"
      ],
      "metadata": {
        "colab": {
          "base_uri": "https://localhost:8080/"
        },
        "id": "BnN3Fxrs0fmU",
        "outputId": "682ca6db-599f-46e9-f846-fd881a3a84cf"
      },
      "execution_count": null,
      "outputs": [
        {
          "output_type": "stream",
          "name": "stdout",
          "text": [
            "/content\n"
          ]
        }
      ]
    },
    {
      "cell_type": "code",
      "source": [
        "ls\n"
      ],
      "metadata": {
        "colab": {
          "base_uri": "https://localhost:8080/"
        },
        "id": "6zjGRjF81_e5",
        "outputId": "253cb990-c6e4-49a0-abbd-9323b172d96c"
      },
      "execution_count": null,
      "outputs": [
        {
          "output_type": "stream",
          "name": "stdout",
          "text": [
            "\u001b[0m\u001b[01;32manscombe.json\u001b[0m*                mnist_train_small.csv\n",
            "california_housing_test.csv   osb_ocupacion_ucis_covid-19_09062022.csv\n",
            "california_housing_train.csv  \u001b[01;32mREADME.md\u001b[0m*\n",
            "mnist_test.csv\n"
          ]
        }
      ]
    },
    {
      "cell_type": "markdown",
      "source": [
        "Primero debemos cambiar el formato de las celdas del archivo .csv pues este utiliza puntos para representar unidades de mil.Luego, debemos agregar el archivo a la ubicación /content/sample_data"
      ],
      "metadata": {
        "id": "e8r4R8mQ00cO"
      }
    },
    {
      "cell_type": "markdown",
      "source": [
        "Haremos una comparación del número de camas UCI por día ocupadas por Covid-19 desde el 8 de abril de 2020 hasta el 9 de Junio de 2020, para ello agregaremos una fila adicional a la tabal que cuente el número de días transcurridos."
      ],
      "metadata": {
        "id": "ZdW-Z6gEiBMU"
      }
    },
    {
      "cell_type": "code",
      "source": [
        "df=pd.read_csv('/content/sample_data/osb_ocupacion_ucis_covid-19_09062022.csv', sep=\";\",encoding='latin-1')\n",
        "\n",
        "x=[]\n",
        "for i in range(0,762):\n",
        "  x.append(i)\n",
        "\n",
        "df['Día'] = x\n"
      ],
      "metadata": {
        "id": "V3V6xKuX6GI4"
      },
      "execution_count": null,
      "outputs": []
    },
    {
      "cell_type": "code",
      "source": [
        "df"
      ],
      "metadata": {
        "colab": {
          "base_uri": "https://localhost:8080/",
          "height": 424
        },
        "id": "qqBQA4465--n",
        "outputId": "060bd16e-2ff9-4874-82d8-2be235328a8e"
      },
      "execution_count": null,
      "outputs": [
        {
          "output_type": "execute_result",
          "data": {
            "text/plain": [
              "                                                 Fecha  \\\n",
              "0                                            8/04/2020   \n",
              "1                                            9/04/2020   \n",
              "2                                           10/04/2020   \n",
              "3                                           11/04/2020   \n",
              "4                                           12/04/2020   \n",
              "..                                                 ...   \n",
              "757                                          2/06/2022   \n",
              "758                                          9/06/2022   \n",
              "759                                                NaN   \n",
              "760  Fuente camas ocupadas y camas asignadas: Red p...   \n",
              "761  Fuente camas ocupadas y camas asignadas Aplica...   \n",
              "\n",
              "     Camas UCI ocupadas Covid-19  Total camas UCI COVID 19 reportadas por IPS  \\\n",
              "0                          106.0                                        543.0   \n",
              "1                          136.0                                        608.0   \n",
              "2                          150.0                                        596.0   \n",
              "3                          148.0                                        597.0   \n",
              "4                          178.0                                        576.0   \n",
              "..                           ...                                          ...   \n",
              "757                        180.0                                        379.0   \n",
              "758                        201.0                                        374.0   \n",
              "759                          NaN                                          NaN   \n",
              "760                          NaN                                          NaN   \n",
              "761                          NaN                                          NaN   \n",
              "\n",
              "    Ocupación UCI COVID 19  Día  \n",
              "0                   19,50%    0  \n",
              "1                   22,40%    1  \n",
              "2                   25,20%    2  \n",
              "3                   24,80%    3  \n",
              "4                   30,90%    4  \n",
              "..                     ...  ...  \n",
              "757                 47,49%  757  \n",
              "758                 53,74%  758  \n",
              "759                    NaN  759  \n",
              "760                    NaN  760  \n",
              "761                    NaN  761  \n",
              "\n",
              "[762 rows x 5 columns]"
            ],
            "text/html": [
              "\n",
              "  <div id=\"df-31db5962-1e37-40d0-b56d-db714dcf7ed3\">\n",
              "    <div class=\"colab-df-container\">\n",
              "      <div>\n",
              "<style scoped>\n",
              "    .dataframe tbody tr th:only-of-type {\n",
              "        vertical-align: middle;\n",
              "    }\n",
              "\n",
              "    .dataframe tbody tr th {\n",
              "        vertical-align: top;\n",
              "    }\n",
              "\n",
              "    .dataframe thead th {\n",
              "        text-align: right;\n",
              "    }\n",
              "</style>\n",
              "<table border=\"1\" class=\"dataframe\">\n",
              "  <thead>\n",
              "    <tr style=\"text-align: right;\">\n",
              "      <th></th>\n",
              "      <th>Fecha</th>\n",
              "      <th>Camas UCI ocupadas Covid-19</th>\n",
              "      <th>Total camas UCI COVID 19 reportadas por IPS</th>\n",
              "      <th>Ocupación UCI COVID 19</th>\n",
              "      <th>Día</th>\n",
              "    </tr>\n",
              "  </thead>\n",
              "  <tbody>\n",
              "    <tr>\n",
              "      <th>0</th>\n",
              "      <td>8/04/2020</td>\n",
              "      <td>106.0</td>\n",
              "      <td>543.0</td>\n",
              "      <td>19,50%</td>\n",
              "      <td>0</td>\n",
              "    </tr>\n",
              "    <tr>\n",
              "      <th>1</th>\n",
              "      <td>9/04/2020</td>\n",
              "      <td>136.0</td>\n",
              "      <td>608.0</td>\n",
              "      <td>22,40%</td>\n",
              "      <td>1</td>\n",
              "    </tr>\n",
              "    <tr>\n",
              "      <th>2</th>\n",
              "      <td>10/04/2020</td>\n",
              "      <td>150.0</td>\n",
              "      <td>596.0</td>\n",
              "      <td>25,20%</td>\n",
              "      <td>2</td>\n",
              "    </tr>\n",
              "    <tr>\n",
              "      <th>3</th>\n",
              "      <td>11/04/2020</td>\n",
              "      <td>148.0</td>\n",
              "      <td>597.0</td>\n",
              "      <td>24,80%</td>\n",
              "      <td>3</td>\n",
              "    </tr>\n",
              "    <tr>\n",
              "      <th>4</th>\n",
              "      <td>12/04/2020</td>\n",
              "      <td>178.0</td>\n",
              "      <td>576.0</td>\n",
              "      <td>30,90%</td>\n",
              "      <td>4</td>\n",
              "    </tr>\n",
              "    <tr>\n",
              "      <th>...</th>\n",
              "      <td>...</td>\n",
              "      <td>...</td>\n",
              "      <td>...</td>\n",
              "      <td>...</td>\n",
              "      <td>...</td>\n",
              "    </tr>\n",
              "    <tr>\n",
              "      <th>757</th>\n",
              "      <td>2/06/2022</td>\n",
              "      <td>180.0</td>\n",
              "      <td>379.0</td>\n",
              "      <td>47,49%</td>\n",
              "      <td>757</td>\n",
              "    </tr>\n",
              "    <tr>\n",
              "      <th>758</th>\n",
              "      <td>9/06/2022</td>\n",
              "      <td>201.0</td>\n",
              "      <td>374.0</td>\n",
              "      <td>53,74%</td>\n",
              "      <td>758</td>\n",
              "    </tr>\n",
              "    <tr>\n",
              "      <th>759</th>\n",
              "      <td>NaN</td>\n",
              "      <td>NaN</td>\n",
              "      <td>NaN</td>\n",
              "      <td>NaN</td>\n",
              "      <td>759</td>\n",
              "    </tr>\n",
              "    <tr>\n",
              "      <th>760</th>\n",
              "      <td>Fuente camas ocupadas y camas asignadas: Red p...</td>\n",
              "      <td>NaN</td>\n",
              "      <td>NaN</td>\n",
              "      <td>NaN</td>\n",
              "      <td>760</td>\n",
              "    </tr>\n",
              "    <tr>\n",
              "      <th>761</th>\n",
              "      <td>Fuente camas ocupadas y camas asignadas Aplica...</td>\n",
              "      <td>NaN</td>\n",
              "      <td>NaN</td>\n",
              "      <td>NaN</td>\n",
              "      <td>761</td>\n",
              "    </tr>\n",
              "  </tbody>\n",
              "</table>\n",
              "<p>762 rows × 5 columns</p>\n",
              "</div>\n",
              "      <button class=\"colab-df-convert\" onclick=\"convertToInteractive('df-31db5962-1e37-40d0-b56d-db714dcf7ed3')\"\n",
              "              title=\"Convert this dataframe to an interactive table.\"\n",
              "              style=\"display:none;\">\n",
              "        \n",
              "  <svg xmlns=\"http://www.w3.org/2000/svg\" height=\"24px\"viewBox=\"0 0 24 24\"\n",
              "       width=\"24px\">\n",
              "    <path d=\"M0 0h24v24H0V0z\" fill=\"none\"/>\n",
              "    <path d=\"M18.56 5.44l.94 2.06.94-2.06 2.06-.94-2.06-.94-.94-2.06-.94 2.06-2.06.94zm-11 1L8.5 8.5l.94-2.06 2.06-.94-2.06-.94L8.5 2.5l-.94 2.06-2.06.94zm10 10l.94 2.06.94-2.06 2.06-.94-2.06-.94-.94-2.06-.94 2.06-2.06.94z\"/><path d=\"M17.41 7.96l-1.37-1.37c-.4-.4-.92-.59-1.43-.59-.52 0-1.04.2-1.43.59L10.3 9.45l-7.72 7.72c-.78.78-.78 2.05 0 2.83L4 21.41c.39.39.9.59 1.41.59.51 0 1.02-.2 1.41-.59l7.78-7.78 2.81-2.81c.8-.78.8-2.07 0-2.86zM5.41 20L4 18.59l7.72-7.72 1.47 1.35L5.41 20z\"/>\n",
              "  </svg>\n",
              "      </button>\n",
              "      \n",
              "  <style>\n",
              "    .colab-df-container {\n",
              "      display:flex;\n",
              "      flex-wrap:wrap;\n",
              "      gap: 12px;\n",
              "    }\n",
              "\n",
              "    .colab-df-convert {\n",
              "      background-color: #E8F0FE;\n",
              "      border: none;\n",
              "      border-radius: 50%;\n",
              "      cursor: pointer;\n",
              "      display: none;\n",
              "      fill: #1967D2;\n",
              "      height: 32px;\n",
              "      padding: 0 0 0 0;\n",
              "      width: 32px;\n",
              "    }\n",
              "\n",
              "    .colab-df-convert:hover {\n",
              "      background-color: #E2EBFA;\n",
              "      box-shadow: 0px 1px 2px rgba(60, 64, 67, 0.3), 0px 1px 3px 1px rgba(60, 64, 67, 0.15);\n",
              "      fill: #174EA6;\n",
              "    }\n",
              "\n",
              "    [theme=dark] .colab-df-convert {\n",
              "      background-color: #3B4455;\n",
              "      fill: #D2E3FC;\n",
              "    }\n",
              "\n",
              "    [theme=dark] .colab-df-convert:hover {\n",
              "      background-color: #434B5C;\n",
              "      box-shadow: 0px 1px 3px 1px rgba(0, 0, 0, 0.15);\n",
              "      filter: drop-shadow(0px 1px 2px rgba(0, 0, 0, 0.3));\n",
              "      fill: #FFFFFF;\n",
              "    }\n",
              "  </style>\n",
              "\n",
              "      <script>\n",
              "        const buttonEl =\n",
              "          document.querySelector('#df-31db5962-1e37-40d0-b56d-db714dcf7ed3 button.colab-df-convert');\n",
              "        buttonEl.style.display =\n",
              "          google.colab.kernel.accessAllowed ? 'block' : 'none';\n",
              "\n",
              "        async function convertToInteractive(key) {\n",
              "          const element = document.querySelector('#df-31db5962-1e37-40d0-b56d-db714dcf7ed3');\n",
              "          const dataTable =\n",
              "            await google.colab.kernel.invokeFunction('convertToInteractive',\n",
              "                                                     [key], {});\n",
              "          if (!dataTable) return;\n",
              "\n",
              "          const docLinkHtml = 'Like what you see? Visit the ' +\n",
              "            '<a target=\"_blank\" href=https://colab.research.google.com/notebooks/data_table.ipynb>data table notebook</a>'\n",
              "            + ' to learn more about interactive tables.';\n",
              "          element.innerHTML = '';\n",
              "          dataTable['output_type'] = 'display_data';\n",
              "          await google.colab.output.renderOutput(dataTable, element);\n",
              "          const docLink = document.createElement('div');\n",
              "          docLink.innerHTML = docLinkHtml;\n",
              "          element.appendChild(docLink);\n",
              "        }\n",
              "      </script>\n",
              "    </div>\n",
              "  </div>\n",
              "  "
            ]
          },
          "metadata": {},
          "execution_count": 16
        }
      ]
    },
    {
      "cell_type": "code",
      "source": [
        "df = df.iloc[:-3,[False, True, False, False,True]]"
      ],
      "metadata": {
        "id": "s4xZ37ky8txa"
      },
      "execution_count": null,
      "outputs": []
    },
    {
      "cell_type": "code",
      "source": [
        "Datos=pd.DataFrame(df).to_numpy()\n",
        "print(Datos)\n",
        "tiempo=Datos[:,1]\n",
        "Volumen=Datos[:,0]"
      ],
      "metadata": {
        "colab": {
          "base_uri": "https://localhost:8080/"
        },
        "id": "dp3tL8FX717V",
        "outputId": "28266267-9b9d-46aa-bf7a-7f558f5fef6a"
      },
      "execution_count": null,
      "outputs": [
        {
          "output_type": "stream",
          "name": "stdout",
          "text": [
            "[[106.   0.]\n",
            " [136.   1.]\n",
            " [150.   2.]\n",
            " ...\n",
            " [167. 756.]\n",
            " [180. 757.]\n",
            " [201. 758.]]\n"
          ]
        }
      ]
    },
    {
      "cell_type": "code",
      "source": [
        "plt.figure(figsize=(15,5))\n",
        "plt.scatter(tiempo,Volumen,s=0.03*Volumen, c=Volumen, alpha=6)\n",
        "plt.show()"
      ],
      "metadata": {
        "colab": {
          "base_uri": "https://localhost:8080/",
          "height": 320
        },
        "id": "kKDLu36otb_n",
        "outputId": "78cfe162-994f-41de-ff6a-6b57da4a308c"
      },
      "execution_count": null,
      "outputs": [
        {
          "output_type": "display_data",
          "data": {
            "text/plain": [
              "<Figure size 1080x360 with 1 Axes>"
            ],
            "image/png": "[encoded data removed]"
          },
          "metadata": {
            "needs_background": "light"
          }
        }
      ]
    },
    {
      "cell_type": "code",
      "source": [
        "def residuoNN(par,V,tiempo):\n",
        "  a,b,c,d,f,g,h,i,j,k,l,m,n,o,p,u,w,x=par\n",
        "  t=tiempo\n",
        "  Vmodelo=a*( 1/ (1+np.exp(b*t+c)  ))+d*( 1/ (1+np.exp(f*t+g)))+h*( 1/ (1+np.exp(i*t+j)   ))+k*( 1/ (1+np.exp(l*t+m)   ))+n*( 1/ (1+np.exp(o*t+p)))+u*( 1/ (1+np.exp(w*t+x)))\n",
        "#  print(Vmodelo.shape)\n",
        "#  print(V.shape)\n",
        "  res=V-Vmodelo\n",
        "  nres=np.linalg.norm(res)\n",
        "  #print(nres)\n",
        "  return nres"
      ],
      "metadata": {
        "id": "TM6e82m19ov7"
      },
      "execution_count": null,
      "outputs": []
    },
    {
      "cell_type": "code",
      "source": [
        "optimoPC=op.minimize(residuoNN,[0,0,0,0,0,0,0,0,0,0,0,0,0,0,0,0,0,0], args=(Volumen,tiempo),method='Powell')\n",
        "parametro_optimoPC=optimoPC.x\n",
        "print(optimoPC)"
      ],
      "metadata": {
        "colab": {
          "base_uri": "https://localhost:8080/"
        },
        "id": "brxWHFPI9syI",
        "outputId": "e036538e-3c17-4a10-b686-729edf77ab6f"
      },
      "execution_count": null,
      "outputs": [
        {
          "output_type": "stream",
          "name": "stderr",
          "text": [
            "/usr/local/lib/python3.7/dist-packages/ipykernel_launcher.py:4: RuntimeWarning: overflow encountered in exp\n",
            "  after removing the cwd from sys.path.\n"
          ]
        },
        {
          "output_type": "stream",
          "name": "stdout",
          "text": [
            "   direc: array([[ 3.05826797e+02,  3.48430517e-04, -1.06243199e-01,\n",
            "        -1.00539309e+02,  1.34321597e-03, -1.86009349e-01,\n",
            "        -1.21751052e+02, -2.60847488e-04, -8.49298018e-01,\n",
            "         1.23098040e+02,  2.13179150e-03, -9.32886354e-01,\n",
            "        -4.17496158e+01, -2.83368010e-01,  3.84347030e+00,\n",
            "        -9.74504076e+01,  1.59196651e-02, -4.42420082e+00],\n",
            "       [ 9.33052967e+00,  3.17455714e-04, -1.14523922e-01,\n",
            "        -4.86643831e+02,  1.98568279e-02, -7.66479737e-01,\n",
            "        -1.03252269e+02,  2.58507216e-02, -9.79705947e-01,\n",
            "        -2.61622241e+01,  2.76486316e-02, -1.05062470e+00,\n",
            "        -7.14699592e+00,  2.80562170e-02, -1.07513844e+00,\n",
            "        -2.09310904e+00,  2.81568637e-02, -1.07799366e+00],\n",
            "       [ 9.75050187e+00,  2.65411083e-05,  1.30758971e-01,\n",
            "        -9.07263307e+00, -4.68774530e-04,  6.86462835e-02,\n",
            "         7.37386403e+01,  3.16646389e-04, -9.99608447e-02,\n",
            "        -7.18876603e+00,  2.48082738e-04, -1.64564097e-01,\n",
            "         7.80162543e+00,  4.04074994e-03, -9.77181821e-02,\n",
            "         9.32508464e+01, -7.06982410e-03,  1.81285667e+00],\n",
            "       [ 0.00000000e+00,  0.00000000e+00,  0.00000000e+00,\n",
            "         0.00000000e+00,  0.00000000e+00,  0.00000000e+00,\n",
            "         0.00000000e+00,  0.00000000e+00,  0.00000000e+00,\n",
            "         0.00000000e+00,  0.00000000e+00,  0.00000000e+00,\n",
            "         0.00000000e+00,  0.00000000e+00,  0.00000000e+00,\n",
            "         0.00000000e+00,  0.00000000e+00,  1.00000000e+00],\n",
            "       [ 3.42120900e+01,  7.76625493e-05,  4.02388644e-03,\n",
            "        -2.55770644e+01,  1.98238073e-04, -3.46240900e-02,\n",
            "        -4.78876454e+00,  6.00044889e-04, -2.41426021e-01,\n",
            "         1.80114629e+01,  5.31718337e-04, -2.47662554e-01,\n",
            "        -1.63409028e+00, -9.02547096e-03,  5.71486731e-01,\n",
            "         6.80223237e+00,  3.17556367e-04, -9.05396839e-02],\n",
            "       [ 0.00000000e+00,  0.00000000e+00,  0.00000000e+00,\n",
            "         0.00000000e+00,  0.00000000e+00,  1.00000000e+00,\n",
            "         0.00000000e+00,  0.00000000e+00,  0.00000000e+00,\n",
            "         0.00000000e+00,  0.00000000e+00,  0.00000000e+00,\n",
            "         0.00000000e+00,  0.00000000e+00,  0.00000000e+00,\n",
            "         0.00000000e+00,  0.00000000e+00,  0.00000000e+00],\n",
            "       [ 0.00000000e+00,  0.00000000e+00,  0.00000000e+00,\n",
            "         0.00000000e+00,  0.00000000e+00,  0.00000000e+00,\n",
            "         1.00000000e+00,  0.00000000e+00,  0.00000000e+00,\n",
            "         0.00000000e+00,  0.00000000e+00,  0.00000000e+00,\n",
            "         0.00000000e+00,  0.00000000e+00,  0.00000000e+00,\n",
            "         0.00000000e+00,  0.00000000e+00,  0.00000000e+00],\n",
            "       [ 0.00000000e+00,  0.00000000e+00,  0.00000000e+00,\n",
            "         0.00000000e+00,  0.00000000e+00,  0.00000000e+00,\n",
            "         0.00000000e+00,  1.00000000e+00,  0.00000000e+00,\n",
            "         0.00000000e+00,  0.00000000e+00,  0.00000000e+00,\n",
            "         0.00000000e+00,  0.00000000e+00,  0.00000000e+00,\n",
            "         0.00000000e+00,  0.00000000e+00,  0.00000000e+00],\n",
            "       [ 0.00000000e+00,  0.00000000e+00,  0.00000000e+00,\n",
            "         0.00000000e+00,  0.00000000e+00,  0.00000000e+00,\n",
            "         0.00000000e+00,  0.00000000e+00,  1.00000000e+00,\n",
            "         0.00000000e+00,  0.00000000e+00,  0.00000000e+00,\n",
            "         0.00000000e+00,  0.00000000e+00,  0.00000000e+00,\n",
            "         0.00000000e+00,  0.00000000e+00,  0.00000000e+00],\n",
            "       [ 2.17770045e+02,  1.18065733e-03, -3.58240033e-01,\n",
            "        -2.53577246e+02,  2.81890417e-03, -5.57385945e-01,\n",
            "         6.62767792e+01, -2.72864750e-03, -1.21761833e+00,\n",
            "         1.75840522e+01,  1.25718858e-03, -1.59232539e+00,\n",
            "         9.63372907e-01, -1.74238613e-01,  1.35770521e+01,\n",
            "        -2.67362740e+01,  4.79941835e-02, -5.93663441e+00],\n",
            "       [ 0.00000000e+00,  0.00000000e+00,  0.00000000e+00,\n",
            "         0.00000000e+00,  0.00000000e+00,  0.00000000e+00,\n",
            "         0.00000000e+00,  0.00000000e+00,  0.00000000e+00,\n",
            "         0.00000000e+00,  1.00000000e+00,  0.00000000e+00,\n",
            "         0.00000000e+00,  0.00000000e+00,  0.00000000e+00,\n",
            "         0.00000000e+00,  0.00000000e+00,  0.00000000e+00],\n",
            "       [ 0.00000000e+00,  0.00000000e+00,  0.00000000e+00,\n",
            "         0.00000000e+00,  0.00000000e+00,  0.00000000e+00,\n",
            "         0.00000000e+00,  0.00000000e+00,  0.00000000e+00,\n",
            "         0.00000000e+00,  0.00000000e+00,  1.00000000e+00,\n",
            "         0.00000000e+00,  0.00000000e+00,  0.00000000e+00,\n",
            "         0.00000000e+00,  0.00000000e+00,  0.00000000e+00],\n",
            "       [ 0.00000000e+00,  0.00000000e+00,  0.00000000e+00,\n",
            "         0.00000000e+00,  0.00000000e+00,  0.00000000e+00,\n",
            "         0.00000000e+00,  0.00000000e+00,  0.00000000e+00,\n",
            "         0.00000000e+00,  0.00000000e+00,  0.00000000e+00,\n",
            "         1.00000000e+00,  0.00000000e+00,  0.00000000e+00,\n",
            "         0.00000000e+00,  0.00000000e+00,  0.00000000e+00],\n",
            "       [ 0.00000000e+00,  0.00000000e+00,  0.00000000e+00,\n",
            "         0.00000000e+00,  0.00000000e+00,  0.00000000e+00,\n",
            "         0.00000000e+00,  0.00000000e+00,  0.00000000e+00,\n",
            "         0.00000000e+00,  0.00000000e+00,  0.00000000e+00,\n",
            "         0.00000000e+00,  1.00000000e+00,  0.00000000e+00,\n",
            "         0.00000000e+00,  0.00000000e+00,  0.00000000e+00],\n",
            "       [ 0.00000000e+00,  0.00000000e+00,  0.00000000e+00,\n",
            "         0.00000000e+00,  0.00000000e+00,  0.00000000e+00,\n",
            "         0.00000000e+00,  0.00000000e+00,  0.00000000e+00,\n",
            "         0.00000000e+00,  0.00000000e+00,  0.00000000e+00,\n",
            "         0.00000000e+00,  0.00000000e+00,  1.00000000e+00,\n",
            "         0.00000000e+00,  0.00000000e+00,  0.00000000e+00],\n",
            "       [ 1.99183402e+02,  2.22072295e-04, -6.29459524e-02,\n",
            "        -9.05139427e+01, -6.91850313e-03,  6.51258794e-01,\n",
            "        -2.75400944e+02,  2.44919011e-03, -1.07570062e+00,\n",
            "         1.53961251e+02,  3.02911509e-03, -1.09041974e+00,\n",
            "         4.55412143e+01, -2.16269921e-01,  2.07960009e+00,\n",
            "        -6.62820075e+01,  1.64524356e-02, -4.04638133e+00],\n",
            "       [ 2.01338939e+01,  3.47527660e-05,  1.95778030e-02,\n",
            "        -1.18446744e+01, -9.20081101e-05,  1.26889351e-02,\n",
            "         1.41831403e+01,  2.18226839e-04, -1.09296539e-01,\n",
            "         8.45804192e+00,  2.71296846e-04, -1.29599227e-01,\n",
            "         1.64327555e+00, -1.94381890e-04,  2.24262026e-01,\n",
            "        -1.48611085e+00, -4.82236866e-04,  9.88664622e-02],\n",
            "       [-2.48578462e+01, -4.54189238e-05, -5.08341200e-02,\n",
            "         1.38394916e+01, -5.26997895e-04, -3.17335365e-04,\n",
            "        -2.93786415e+01, -2.05919967e-05,  1.25183466e-02,\n",
            "        -3.56020645e+00, -1.92694581e-04,  1.07480715e-01,\n",
            "        -2.60752161e+00,  6.98465164e-03, -6.80011265e-01,\n",
            "        -1.31492746e+01,  6.62291756e-04, -2.05303081e-01]])\n",
            "     fun: 4532.242516039066\n",
            " message: 'Optimization terminated successfully.'\n",
            "    nfev: 8265\n",
            "     nit: 37\n",
            "  status: 0\n",
            " success: True\n",
            "       x: array([ 5.72274313e+03,  9.07796844e-03, -8.65094686e-01, -3.34274291e+03,\n",
            "        3.11594222e-02, -2.23649365e+00, -2.01445831e+03,  6.18350318e-02,\n",
            "       -2.42458152e+01,  2.23587842e+03,  5.78132100e-02, -2.69505413e+01,\n",
            "        2.66326453e+02, -7.45860198e-01,  6.85339533e+01, -1.12819050e+03,\n",
            "        2.54381941e-01, -6.46122621e+01])\n"
          ]
        }
      ]
    },
    {
      "cell_type": "code",
      "source": [
        "ts=np.linspace(0, 700, 1000)\n",
        "V0=0.0158\n",
        "a,b,c,d,f,g,h,i,j,k,l,m,n,o,p,u,w,x=parametro_optimoPC\n",
        "VolumenNN=a*( 1/ (1+np.exp(b*ts+c)))+d*( 1/ (1+np.exp(f*ts+g)))+h*( 1/ (1+np.exp(i*ts+j)))+k*( 1/ (1+np.exp(l*ts+m)))+n*( 1/ (1+np.exp(o*ts+p)))+u*( 1/ (1+np.exp(w*ts+x)))\n",
        "plt.figure(figsize=(15,5))\n",
        "plt.scatter(tiempo,Volumen,s=50, c=Volumen)\n",
        "plt.plot(ts,VolumenNN,linewidth=5)\n",
        "plt.show()"
      ],
      "metadata": {
        "colab": {
          "base_uri": "https://localhost:8080/",
          "height": 320
        },
        "id": "ZBkNHvl_9yFF",
        "outputId": "c070fa49-5e77-49b8-e28b-4bd798c63fca"
      },
      "execution_count": null,
      "outputs": [
        {
          "output_type": "display_data",
          "data": {
            "text/plain": [
              "<Figure size 1080x360 with 1 Axes>"
            ],
            "image/png": "[encoded data removed]"
          },
          "metadata": {
            "needs_background": "light"
          }
        }
      ]
    },
    {
      "cell_type": "markdown",
      "source": [
        "El modelo de redes neuronales con 6 neuronas fue el que mejor se ajustó a la curva. Tomamos valores muy cercanos a 0 en los parametros de la función a optimizar."
      ],
      "metadata": {
        "id": "f9Gn_oLyk7bK"
      }
    }
  ]
}